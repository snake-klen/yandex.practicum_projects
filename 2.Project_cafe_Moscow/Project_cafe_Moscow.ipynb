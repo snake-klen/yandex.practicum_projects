{
 "cells": [
  {
   "cell_type": "markdown",
   "metadata": {},
   "source": [
    "# Исследования рынка общепита в Москве для принятия решения об открытии нового заведения"
   ]
  },
  {
   "cell_type": "markdown",
   "metadata": {},
   "source": [
    "## Изучение и предобработка данных"
   ]
  },
  {
   "cell_type": "code",
   "execution_count": 1,
   "metadata": {},
   "outputs": [],
   "source": [
    "#Импортируем библиотеки для работы\n",
    "import pandas as pd\n",
    "import seaborn as sns\n",
    "import matplotlib.pyplot as plt"
   ]
  },
  {
   "cell_type": "code",
   "execution_count": 2,
   "metadata": {},
   "outputs": [],
   "source": [
    "#Код для игнорирования предупреждений\n",
    "import warnings\n",
    "warnings.simplefilter(action='ignore', category=FutureWarning)"
   ]
  },
  {
   "cell_type": "code",
   "execution_count": 3,
   "metadata": {
    "scrolled": true
   },
   "outputs": [
    {
     "data": {
      "text/html": [
       "<div>\n",
       "<style scoped>\n",
       "    .dataframe tbody tr th:only-of-type {\n",
       "        vertical-align: middle;\n",
       "    }\n",
       "\n",
       "    .dataframe tbody tr th {\n",
       "        vertical-align: top;\n",
       "    }\n",
       "\n",
       "    .dataframe thead th {\n",
       "        text-align: right;\n",
       "    }\n",
       "</style>\n",
       "<table border=\"1\" class=\"dataframe\">\n",
       "  <thead>\n",
       "    <tr style=\"text-align: right;\">\n",
       "      <th></th>\n",
       "      <th>id</th>\n",
       "      <th>object_name</th>\n",
       "      <th>chain</th>\n",
       "      <th>object_type</th>\n",
       "      <th>address</th>\n",
       "      <th>number</th>\n",
       "    </tr>\n",
       "  </thead>\n",
       "  <tbody>\n",
       "    <tr>\n",
       "      <td>0</td>\n",
       "      <td>151635</td>\n",
       "      <td>СМЕТАНА</td>\n",
       "      <td>нет</td>\n",
       "      <td>кафе</td>\n",
       "      <td>город Москва, улица Егора Абакумова, дом 9</td>\n",
       "      <td>48</td>\n",
       "    </tr>\n",
       "    <tr>\n",
       "      <td>1</td>\n",
       "      <td>77874</td>\n",
       "      <td>Родник</td>\n",
       "      <td>нет</td>\n",
       "      <td>кафе</td>\n",
       "      <td>город Москва, улица Талалихина, дом 2/1, корпус 1</td>\n",
       "      <td>35</td>\n",
       "    </tr>\n",
       "    <tr>\n",
       "      <td>2</td>\n",
       "      <td>24309</td>\n",
       "      <td>Кафе «Академия»</td>\n",
       "      <td>нет</td>\n",
       "      <td>кафе</td>\n",
       "      <td>город Москва, Абельмановская улица, дом 6</td>\n",
       "      <td>95</td>\n",
       "    </tr>\n",
       "    <tr>\n",
       "      <td>3</td>\n",
       "      <td>21894</td>\n",
       "      <td>ПИЦЦЕТОРИЯ</td>\n",
       "      <td>да</td>\n",
       "      <td>кафе</td>\n",
       "      <td>город Москва, Абрамцевская улица, дом 1</td>\n",
       "      <td>40</td>\n",
       "    </tr>\n",
       "    <tr>\n",
       "      <td>4</td>\n",
       "      <td>119365</td>\n",
       "      <td>Кафе «Вишневая метель»</td>\n",
       "      <td>нет</td>\n",
       "      <td>кафе</td>\n",
       "      <td>город Москва, Абрамцевская улица, дом 9, корпус 1</td>\n",
       "      <td>50</td>\n",
       "    </tr>\n",
       "  </tbody>\n",
       "</table>\n",
       "</div>"
      ],
      "text/plain": [
       "       id             object_name chain object_type  \\\n",
       "0  151635                 СМЕТАНА   нет        кафе   \n",
       "1   77874                  Родник   нет        кафе   \n",
       "2   24309         Кафе «Академия»   нет        кафе   \n",
       "3   21894              ПИЦЦЕТОРИЯ    да        кафе   \n",
       "4  119365  Кафе «Вишневая метель»   нет        кафе   \n",
       "\n",
       "                                             address  number  \n",
       "0         город Москва, улица Егора Абакумова, дом 9      48  \n",
       "1  город Москва, улица Талалихина, дом 2/1, корпус 1      35  \n",
       "2          город Москва, Абельмановская улица, дом 6      95  \n",
       "3            город Москва, Абрамцевская улица, дом 1      40  \n",
       "4  город Москва, Абрамцевская улица, дом 9, корпус 1      50  "
      ]
     },
     "execution_count": 3,
     "metadata": {},
     "output_type": "execute_result"
    }
   ],
   "source": [
    "#Загрузим датасет с данными о ресторанах общественного питания Москвы\n",
    "rest_data = pd.read_csv('C:/Anaconda/Project cafe Moscow/rest_data.csv') \n",
    "rest_data.head()"
   ]
  },
  {
   "cell_type": "code",
   "execution_count": 4,
   "metadata": {
    "scrolled": true
   },
   "outputs": [
    {
     "name": "stdout",
     "output_type": "stream",
     "text": [
      "<class 'pandas.core.frame.DataFrame'>\n",
      "RangeIndex: 15366 entries, 0 to 15365\n",
      "Data columns (total 6 columns):\n",
      "id             15366 non-null int64\n",
      "object_name    15366 non-null object\n",
      "chain          15366 non-null object\n",
      "object_type    15366 non-null object\n",
      "address        15366 non-null object\n",
      "number         15366 non-null int64\n",
      "dtypes: int64(2), object(4)\n",
      "memory usage: 720.4+ KB\n"
     ]
    }
   ],
   "source": [
    "#Получим общую информацию о данных\n",
    "rest_data.info()"
   ]
  },
  {
   "cell_type": "markdown",
   "metadata": {},
   "source": [
    "В таблице 15336 записей, пропусков нет, данные содержатся в целочисленном и строковом форматах."
   ]
  },
  {
   "cell_type": "code",
   "execution_count": 5,
   "metadata": {},
   "outputs": [
    {
     "data": {
      "text/plain": [
       "0"
      ]
     },
     "execution_count": 5,
     "metadata": {},
     "output_type": "execute_result"
    }
   ],
   "source": [
    "#Проверим наличие полных дубликатов\n",
    "rest_data.duplicated().sum()"
   ]
  },
  {
   "cell_type": "markdown",
   "metadata": {},
   "source": [
    "Полные дубликаты отсутствуют."
   ]
  },
  {
   "cell_type": "code",
   "execution_count": 6,
   "metadata": {},
   "outputs": [
    {
     "data": {
      "text/plain": [
       "array(['ПИЦЦЕТОРИЯ', 'Брусника', 'Алло Пицца', 'Суши Wok', 'Тануки',\n",
       "       \"Домино'с Пицца\", 'Готика', 'Му-Му', 'Хлеб насущный', 'TAJJ MAHAL',\n",
       "       'ДАНКИН ДОНАТС', 'Вареничная №1', 'ШОКОЛАДНИЦА', 'Теремок',\n",
       "       'Хинкальная', 'Шантимель', 'ТАНУКИ', 'Шоколадница', 'МУ-МУ',\n",
       "       'Хинкальная City', 'КРУЖКА', 'СУШИ ВОК', 'ПРИМАВЕРА', 'Виктория',\n",
       "       'Пиццерия «АКАДЕМИЯ»', 'Чебуречная СССР', 'МАКДОНАЛДС',\n",
       "       'Grand Cru', 'Чайхона №1', 'Панчо Пицца', 'KFC', 'Сабвей',\n",
       "       'ресторан «Якитория»', 'Советские времена', 'Кафе «Андерсон»',\n",
       "       'Кафе «Subway»', 'Ресторан «Макдоналдс»', 'Суши Сет', 'Суши WoK',\n",
       "       'Шоколад', 'Тирольские пироги', 'Гамбринус', 'Пицца Фабрика',\n",
       "       'Subway', 'Кафе «Якитория»', 'Кафе «Тануки»', 'Сити Пицца',\n",
       "       'Кружка', 'Кофе Хаус',\n",
       "       'Кулинарная Лавка Братьев Караваевых Братья Караваевы', 'Суши Вок',\n",
       "       'Прайм', 'Пицца Экспресс', 'Шоколадница Кофе Хаус', 'Николай',\n",
       "       'Якитория', 'МАГНОЛИЯ', 'КОФЕ С СОБОЙ', 'Джаганнат', 'Волконский',\n",
       "       'MosKalyan', 'Гино-но-таки', 'Макдоналдс', 'Тратория Semplice',\n",
       "       'Ньокки', 'Хижина', 'Додо Пицца', 'Крошка Картошка', 'Бургер Кинг',\n",
       "       'Суши WOK', 'Папа Джонс', 'Кондитерская Волконский',\n",
       "       'Бар- буфет «Николай»', 'Ресторан «Тануки»', 'Две палочки',\n",
       "       'Джон Джоли', 'Ваби-Саби', 'Кофемания', 'Простые Вещи',\n",
       "       'Павлин-Мавлин', 'Кафе «Чайхана Тапчан»', 'Штолле', 'Суши сет',\n",
       "       'Кофе с собой', 'Бабай Клаб', 'Андерсон', 'КОФЕМАНИЯ',\n",
       "       'КОФЕ ХАУС. ЭКСПРЕССО И КАПУЧИНО БАР', 'КАКТУС', 'Темпл бар',\n",
       "       'Хлеб&Co', 'Кофе-Бин', 'Французская выпечка',\n",
       "       'Кофейня «Кофе Хаус»', 'Планета Суши', 'Де Марко',\n",
       "       'Ресторан «Илья Муромец»', 'Ресторан «Корчма Тарас Бульба»',\n",
       "       'Кофейня «Шоколадница»', 'Стейк Хаус ГУДМАН', 'ИЛЬ ПАТИО',\n",
       "       'Иль-патио', 'ЯКИТОРИЯ', 'Мюнгер', 'БОТИК ПЕТРА',\n",
       "       'кафе «Папа Джонс»', 'Кафе «Штолле»', 'Чин Чин', 'ПРАВDА Кофе',\n",
       "       'Сити', 'Krispy Creme', 'Prime Прайм стар', 'Азбука Вкуса',\n",
       "       'Ресторан «Якитория»', 'КАФЕ «ШТОЛЛЕ»', 'РЕСТОРАН «ДЖОН ДЖОЛИ»',\n",
       "       'Ресторан «ТАНУКИ»', 'КОФЕ ХАУС', 'РЕСТОРАН «Тануки»', 'ПИВКО',\n",
       "       'Додо пицца', 'Пиццерия «Папа Джонс»', 'Ресторан «Брудер»',\n",
       "       'ПРАЙМ', 'ДЖОН ДЖОЛИ', 'Мимино', 'Кофепорт',\n",
       "       'Кафе «Пицца Фабрика»', 'Прайм стар', 'Цинандали Хинкальная',\n",
       "       'Иль Форно', 'Travelers Coffee', 'Рецептор', 'СушиШоп',\n",
       "       'Кофе-Хаус', 'Баскин Роббинс', 'Барашка', 'КОРЧМА «ТАРАС БУЛЬБА»',\n",
       "       'Кафе «Шоколадница»', 'Пицца Хат', 'Мята Lounge', 'Costa Coffee',\n",
       "       'Илья Муромец', 'Ёрш', 'СтардогS', 'КОРЧМА ТАРАС БУЛЬБА',\n",
       "       'UPSIDE DOWN CAKE', 'Кафе Пекарня Хачапури',\n",
       "       'Домашнее Кафе сеть городских кафе', 'Ресторан Тануки',\n",
       "       'Бар-буфет Николай', 'Добрынинский и партнёры',\n",
       "       'КОФЕЙНЯ «ДЕ МАРКО»', 'Менза', 'Тапчан', 'Колбасофф',\n",
       "       'Крепери де пари', \"Домино'с пицца\", 'БРАВА Коста кофе',\n",
       "       'Старбакс Starbucks', 'АндерСон', 'Венеция', 'Жан Жак', 'Гурмания',\n",
       "       'Кулинарная лавка братьев Караваевых', 'Кафе «Тапчан»',\n",
       "       'Ресторан «Ньокки»', 'Bierloga', 'Штирбирлиц', 'Маки-Маки',\n",
       "       'ХАЧАПУРИ', 'В&В Бургер', 'Прайм Стар', 'Jeffreys coffee',\n",
       "       'Travelers Coffe', 'АКАДЕМИЯ', 'Дабл Би', 'Иль Патио',\n",
       "       'ЗОЛОТАЯ ВОБЛА', 'ТЕРЕМОК', 'Корчма Тарас Бульба', 'АЛЛО ПИЦЦА',\n",
       "       'ПИЛЗНЕР', 'Траттория Примавера', 'ПРАЙМкафе Прайм стар',\n",
       "       \"Пиццерия «Домино'с Пицца»\", 'Кафе «Суши Сет»', 'Коста Кофе',\n",
       "       'СУШИ WOK', 'РЕСТОРАН «ТАНУКИ»', 'Перекресток', 'Starbucks',\n",
       "       'Руккола', 'Иль Патио Планета Суши', 'Кафе «Starbucks»',\n",
       "       'Шантимель (кондитерские)', 'Милано пицца',\n",
       "       'Ресторан «Джон Джоли»', 'Зодиак', 'Ресторан «Ёрш»', 'Торро Гриль',\n",
       "       'ФИТНЕС-БАР «WORLD CLASS»', 'Роллофф', 'Кафе «Кулинарное бюро»',\n",
       "       'БУРГЕР КИНГ', 'Билла', 'УРЮК', 'Темпл Бар', 'Кофейня «Старбакс»',\n",
       "       'Кафе «Кружка»', 'Пицца экспресс', 'Tokyo bay',\n",
       "       'Пиццерия «ПАПА ДЖОНС»', 'КУЛИНАРНОЕ БЮРО', 'Пиппони',\n",
       "       'Пицца Пипони', 'Золотая вобла', 'ДЕТСКОЕ КАФЕ «АНДЕРСОН»',\n",
       "       'Кулинарное бюро', 'КАФЕ «Хлеб насущный»', 'ПИЦЦЕРИЯ «Папа Джонс»',\n",
       "       'КАФЕ «Андерсон»', 'Кулинарное бюро Китчен', 'Сытая Утка',\n",
       "       'Икура Паб', 'Сварня', 'Пиццетория', 'ДЕТСКИЙ КЛУБ «АНДЕРСОН»',\n",
       "       'Пиццерия Пиу дель Чибо',\n",
       "       'Предприятие быстрого обслуживания «Бургер Кинг»',\n",
       "       'Предприятие быстрого обслуживания «Крошка Картошка»',\n",
       "       'Предприятие быстрого обслуживания «Макдоналдс»',\n",
       "       'Предприятие быстрого обслуживания «Теремок»', 'Ичибан Боши',\n",
       "       'Макс Бреннер', 'Бутчер Бизон', 'Магбургер АЗС №16',\n",
       "       'Магазин-кулинария «Суши Сет»', 'Магбургер АЗС №17',\n",
       "       'Кондитерская-пекарня Волконский', 'Му-му', 'IL Forno Иль Форно',\n",
       "       'Хлеб Насущный', 'Кафе «Prime» Прайм стар', 'То Да Сё',\n",
       "       'Пицца Pomodoro', 'Бургер Кинг Burger King',\n",
       "       'Чешская пивная «Козловица»', 'Ресторан Джон Джоли',\n",
       "       'Простые вещи', 'Грабли', 'VietCafe Вьеткафе', 'Оникс',\n",
       "       'Пицца Pomodoro и Суши Дзен', 'Вьеткафе', 'Да Пино',\n",
       "       'Старина Миллер', 'Кафе Рецептор', 'Якитория и Ян Примус',\n",
       "       'СТАРИНА МЮЛЛЕР Старина Миллер', 'Кафе Кофемания', 'Хинкальная №1',\n",
       "       'Пронто', 'Пицца «Паоло»', 'Лепешка', 'Чешская пивная «Пилзнер»',\n",
       "       'ПИРОГИ ШТОЛЛЕ', 'Крепери де Пари', 'Гурман', 'ТЕРРИТОРИЯ ЯСЕНЕВО',\n",
       "       'Сабвей СушиВок', 'Городские автокофейни', 'ВГости. Урюк',\n",
       "       'Порто Мальтезе', 'Мимино Хинкальная', 'Квартира 44',\n",
       "       'Хинкальная КИНТО', 'КОЛБАСОФФ', 'Урюк',\n",
       "       'Американ Сити Пицца ЦЕХ ПО ИЗГОТОВЛЕНИЮ ПИЦЦЫ',\n",
       "       'РЕСТОРАН «Чайхона №1»', 'БАР Азбука Вкуса', 'КАФЕ «Шоколадница»',\n",
       "       'Суп Кафе', 'Ресторан «Florentini»', 'Upside Down Cake',\n",
       "       'Поль Бейкери', 'кафе «Шоколадница»', 'Кафе «Му-Му»',\n",
       "       'GlowSubs Sandwiches', 'Ми Пьяче', 'Кафе «Хинкальная»',\n",
       "       'Закусочная «СушиШоп»', 'Ресторан «Территория»', 'Кафе «KFC»',\n",
       "       'Кафе «Пицца Хат»', 'Пиццерия Донателло',\n",
       "       'Закусочная «Американ Сити Пицца»',\n",
       "       'Предприятие быстрого обслуживания «СушиШоп»',\n",
       "       'Кафе «PRIME» Прайм стар', 'Нияма Пицца Пи', 'Кафе «Ваби-Саби»',\n",
       "       'Кафе «Марукамэ»', 'Кафе Чайхона №1', 'Бир хаус', 'САБВЕЙ',\n",
       "       'Хачапури', 'СПБ', 'Кебаб хаус', 'Прайм-кафе', 'PAUL Поль',\n",
       "       'ВЕНЕЦИЯ', 'ШАШЛЫК-МАШЛЫК', 'ГЕНАЦВАЛИ', 'Территория TIMBIGFAMILY',\n",
       "       'Территория', 'Да Пино (Da Pino)',\n",
       "       'Кулинарная лавка братьев Караваевых Братья Караваевы',\n",
       "       'Ресторан «Золотая Вобла»', 'Кафе PRIME Прайм стар',\n",
       "       'Граци рагацци Зю Кафе', 'Виват-Пицца', 'Ресторан «Вьеткафе»',\n",
       "       'Пироговая Штолле', 'Сабвей Subway', 'Starlite Diner',\n",
       "       'Прайм-кафе Прайм стар', 'ресторан «Брудер»', 'Старбакс', 'ПРОНТО',\n",
       "       'РЕСТОРАН «УРЮК»', 'Krispy Krem', 'ГРАБЛИ', 'Кофе Хаус,Экспресс',\n",
       "       'Ростикс KFC', 'Ресторан «ИЛЬ ПАТИО»', 'Ресторан Маки-Маки',\n",
       "       'КАФЕ «МУ-МУ»', 'Кофейня Шоколадница', 'Кафе Пронто',\n",
       "       'Кафе Якитория', 'Кофетун', 'ТАШИР ПИЦЦА', 'Ресторан Хинкальная',\n",
       "       'Закусочная KFC', 'Елки-Палки', 'Кофейня ШОКОЛАДНИЦА',\n",
       "       'Кафе КОФЕ ТУН', 'Метро К&К', 'Тамаси Суши', 'Burger Club',\n",
       "       'ФАНТОЦЦИ РУС', 'КАФЕ «ЯКИТОРИЯ»', 'Кафе «Урюк» Хивинская чайхона',\n",
       "       'Ресторан «Пронто»', 'Изба', 'Воккер', 'Нияма', 'Ганс и Марта',\n",
       "       'Кафе «Поль Бейкери»', 'Кафе «Сабвей» Старбакс',\n",
       "       'KFC Волгоградский', 'Кофе', 'Ресторан «Чайхона №1»',\n",
       "       'Кафе «Теремок»', 'Ливан-хаус', 'Крошка картошка', 'Лето',\n",
       "       'Кафе «АндерСон»', 'Суши бар «Маки-маки»', 'ЯММИ МИКС', 'Брудер',\n",
       "       'Бургер кинг', 'Баракат', 'Кафе при АЗС', 'Урюк Вавилова',\n",
       "       'SUBWAY', 'Кафе теремок', 'Кулинарное бюро Kitchen',\n",
       "       'МОСКВА - МАКДОНАЛДС', 'ТЕРЕМОК ИНВЕСТ', 'Ресторан«ВьетКафе»',\n",
       "       'НИЯМА', 'Кафе Космик', 'СушиМан', 'Кафе шоколад', 'ЯПОША',\n",
       "       'МАКИ-МАКИ', 'Примавера', 'Кофе тун', 'Барбарис', 'Yogurt Frenzy',\n",
       "       'Ташир пицца', 'Bocconcino', 'ПОМИДОР', 'Дюшес', 'Маки-маки',\n",
       "       'Планета суши', 'Чайхона №1 Бутово', 'Кафе «То Да Сё»',\n",
       "       'кафе «Старбакс»', 'Урожай', 'Ресторан «Ян Примус»', 'ШВАРЦВАЛЬД',\n",
       "       'TUTTI FRUTTI FROZEN YOGURT', 'Данкин Донатс', 'Кафе «Нияма»',\n",
       "       'Кафе «Менза»', 'Ресторан «Джардино Да Пино»', 'Кафе «МЕЛЕНКА»',\n",
       "       'Кафе «Кофейня Старбакс»', 'Ресторан «Колбасофф»',\n",
       "       'КАФЕ МАКДОНАЛДС', 'КАФЕ «Теремок»', 'КАФЕ KFC', 'Сбарро',\n",
       "       'КАФЕ «МАКДОНАЛДС»', 'КАФЕ «Восточный базар»', 'КАФЕ Кофе-Хаус',\n",
       "       'КАФЕ Starbucks', 'РЕСТОРАН «Космик»', 'КАРО', 'ХИНКАЛЬНАЯ',\n",
       "       'ПБО «KFC Покрышкина»', 'кафе «Му-Му»', 'Кофейня «СТАРБАКС КОФЕ»',\n",
       "       'Ресторан «Планета Суши»', 'White Rabbite (Белый кролик)',\n",
       "       'БАКИНСКИЙ БУЛЬВАР', 'Ян Примус', 'Кафе МУ-МУ',\n",
       "       'Кафе «Prime» (Прайм стар)', 'Healthy Food', 'Sushilka',\n",
       "       'Кебаб Хаус', 'Coffeeshop Company', 'Теремок-Инвест',\n",
       "       'Кафе «МАКДОНАЛДС»', 'ИЛЬ ФОРНО', 'Maki Maki',\n",
       "       'РЕСТОРАН«МАКДОНАЛДС»', 'ЧАЙХОНА №1', 'РЕСТОРАН «ЧАЙХОНА №1»',\n",
       "       'КОФЕЙНЯ «ШОКОЛАДНИЦА»', 'АНДЕРСОН', 'КАФЕ «ТЕРЕМОК»',\n",
       "       'СТЕЙК-ХАУС ГУДМАН', 'МЕНЗА', 'Барбекю', 'Обжорный ряд', 'Космик',\n",
       "       'Ресторан «БРУДЕР»', 'Тайм Авеню', 'Братья Караваевы',\n",
       "       'СтардогS и шаурма', 'Wok & Box', 'ПивКо',\n",
       "       'Кафе при АЗС Газпромнефть', 'Старбакс Кофе', 'Бар Боулинг-Космик',\n",
       "       'Академия', 'Ресторан «Темпл Бар»', 'Закусочная «Бургер Кинг»',\n",
       "       'Ресторан «Чайхана Урюк»', 'Прайм Стар кафе',\n",
       "       'Кофе с собой Gate 42', 'Кафе-закусочная «Бургер Кинг»',\n",
       "       'Ресторан «ЯКИТОРИЯ»', 'Кафе «Торнадо»', 'Магбургер', 'КОФЕПОРТ',\n",
       "       'Ресторан «Теремок»', 'Кафе «Макдоналдс»',\n",
       "       'Ресторан «Бакинский бульвар»', 'Бакинский бульвар',\n",
       "       \"Предприятие быстрого обслуживания «Домино'с Пицца»\",\n",
       "       'Кафе «Прайм Стар»', 'Кафе «SUBWAY»',\n",
       "       'Предприятие быстрого обслуживания «Бенто WOK»',\n",
       "       'Предприятие быстрого обслуживания «KFC»', 'Бургер клаб',\n",
       "       'Кафе «Кофе Хаус»', 'Кафе при АЗС «BP»', 'Wokker', 'АРИАНА',\n",
       "       'Кафе «Суши Вок»', 'Кафе «Бургер Кинг»', 'ПАПА ДЖОНС ПИЦЦА',\n",
       "       'Закусочная «Теремок»', 'Закусочная «Крошка Картошка»',\n",
       "       'Ресторан «Иль Патио»', 'Спорт-бар «Космик»', 'Ресторан «Космик»',\n",
       "       'Ресторан японской кухни «Маки-Маки»', 'Детское кафе «Космик»',\n",
       "       'Кафе ПРОНТО', 'Кофейня «Кофе хаус»', 'Ванвок', 'Шикари Иль Патио',\n",
       "       'Кафе «Данкин Донатс»', 'Ресторан «Бургер Кинг»',\n",
       "       'Кафе «Крошка Картошка»', 'Закусочная «KFC»',\n",
       "       'Закусочная «Пицца Хат»', 'Кафе «Costa coffee»', 'Каффе «Wokker»',\n",
       "       'Семейный ресторан «Космик»', 'Кафе Иль Патио «Il Patio»',\n",
       "       'Ресторан «Урюк»', 'Кофейня «Дабл Би»', 'Ресторан KFC',\n",
       "       'Ресторан быстрого питания «Крошка Картошка»', 'кафе «Нияма»',\n",
       "       'Starbucks кофе', 'МИ ПЬЯЧЕ', 'Пражечка',\n",
       "       'Павлин Мавлин Чайхона №1', 'Блинная', 'Correas',\n",
       "       'Мистер Картошка', 'Кафе «Сим-Сим»', 'Кафе «Му-му»',\n",
       "       'Pizengof99 СПБ', 'Меленка', 'Югос', 'Марчеллис',\n",
       "       'Кафе Песто и Митлес', 'Ресторан «Вареничная №1»', 'Молли гвинз',\n",
       "       'ВьетКафе', 'Шоколадница Кофемания', 'Дорогая я перезвоню',\n",
       "       'M Cafe Хинкальная', 'Marrakesh Хинкальная',\n",
       "       'Кофейня Кофемания, пиццерия Бармалини',\n",
       "       'Кофешоп Coffeeshop Company', 'Гудман Гудвин', 'Гудман',\n",
       "       'Torro Grill Торро Гриль', 'Ресторан Торро Гриль',\n",
       "       'Кафе «Старбакс»', 'The Terrace', 'Ваби-саби', 'Бир Хаус Паб',\n",
       "       'CORREAS', 'Вlack Burger Чайхона №1', 'Пончиковое кафе ИКЕА Ikea',\n",
       "       'Ресторан ИКЕА Ikea', 'Black & White', 'Пиццерия «Додо Пицца»',\n",
       "       'Роснефть', 'Upside Down', 'ПБО «KFC»', 'ПБО «Теремок»',\n",
       "       'Starbucks, СТАРБАКС КОФЕ', 'КОФЕЙНЯ «Costa Coffee»',\n",
       "       \"ДОМИНО'С ПИЦЦА\", 'Cookhouse', 'Dunkin Donuts',\n",
       "       'МСК Московская сеть кальянных', 'Братья Караваевых',\n",
       "       'Кафе Бургер Кинг', 'Кафе «ТО ДА СЁ»',\n",
       "       'Предприятие быстрого обслуживания «Магбургер»',\n",
       "       'Кафе «Баскин Роббинс»', 'Ресторан «БУРГЕР КИНГ»',\n",
       "       'Кафе БУРГЕР КИНГ', 'Пицца Паоло', 'COFIX', 'Пикколо', 'Пицца хат',\n",
       "       'Cofix', 'Милти', 'Сеть магазинов «Суши Wok»', 'Васаби',\n",
       "       'Грузинская кухня ЭZО Хинкальная', 'Кафе быстрого питания Му-му',\n",
       "       'Ресторан ТАНУКИ', 'Кафе Суши Wok', 'Хачапури, Одесса -мама',\n",
       "       'TGI FRIDAYS', 'Deli by Prime Прайм-кафе', 'Пицерия «Папа Джонс»',\n",
       "       'HEALTHY Food', 'Дабл Би блэк', 'Азбука вкуса', 'МИМИНО',\n",
       "       'Точка продажи готовой еды Милти',\n",
       "       'Предприятие быстрого обслуживания «ДОДО Пицца»',\n",
       "       'Суши «Маки-Маки»', 'Семейное кафе и кондитерская «Андерсон»',\n",
       "       'Пиццерия Папа Джонс', 'GRAND УРЮК', 'Кафе Волконский пекарня',\n",
       "       'Стардогs', 'Panda Express', 'Кафе «БУРГЕР КИНГ»',\n",
       "       'АВ-Дейли Азбука Вкуса', 'ШАНТИМЕЛЬ', 'Healthy food',\n",
       "       'Ирландский Паб', 'Ресторан «KFC»',\n",
       "       'Кафе мороженного «Tutti Frutti»', 'Кафе «Суши Wok»',\n",
       "       'Бар «Суши Wok»', 'Япоша', 'КУЛИНАРНАЯ ЛАВКА БРАТЬЕВ КАРАВАЕВЫХ',\n",
       "       \"Ресторан «Домино'с Пицца»\", 'Tutti frutti', 'Кафе «Папа Джонс»',\n",
       "       'ПАПА ДЖОНС', 'Кафе Prime Прайм стар Прайм-кафе',\n",
       "       'PRIME Прайм стар Прайм-кафе', 'Суши вок', \"Кафе «Домино'с Пицца»\",\n",
       "       'КАФЕ-ПЕКАРЕЯ «ВОЛКОНСКИЙ»', 'Нияма. Пицца Пи', 'Алло Пицца 2',\n",
       "       'БИСТРО ПРОНТО', 'ШТОЛЛЕ', 'Ливан-Хаус', 'Зю Кафе',\n",
       "       'Восточный базар', 'Сказка', 'Ресторан «Хинкальная»',\n",
       "       'Jeffreys Coffee', 'Ресторан «Пицца Хат»', 'Вкусняшка',\n",
       "       'МагБургер', 'Грузинские каникулы Барбарис', 'Стардогс СтардогS',\n",
       "       'Суши тун, Хруст pizza, Кофе тун', 'Кофе с собой «Кофейня»',\n",
       "       'Пиццерия «Пицца Паоло»', 'Кафе при АЗС Лукойл',\n",
       "       'Лукойл-Центрнефтьпродукт', 'FRIDAYS', 'TGI Fridays', 'Мираторг',\n",
       "       'Закусочная «Баскин Роббинс & Стардогс»', 'Бенто WOK',\n",
       "       'Кафе «Иль Патио»', 'Bubbleology', 'Starbucks Старбакс',\n",
       "       'Бодрый день Кофе с собой', 'ДоДо Пицца', 'ДОДО ПИЦЦА',\n",
       "       'ДОДО Пицца', 'BooBo', 'Кальянная Мята Lounge',\n",
       "       'Кальян-бар «Мята Lounge»', 'Кальян- бар «Мята Lounge»',\n",
       "       'Паб Кружка', 'БРУСНИКА', 'Luciano', 'Пиццерия «Пицца Хат»',\n",
       "       'Лукойл', 'Мята Lounge Шаболовка', 'Кальянная F-lounge', 'МИЛТИ',\n",
       "       'ПРАЙМ СТАР', 'МСК Московская сеть кальянных на Шаболовке',\n",
       "       'Семейное кафе Андерсон',\n",
       "       '«Кафе «Кулинарная лавка братьев Караваевых»»',\n",
       "       'Кафе «Кулинарная лавка братьев Караваевых»',\n",
       "       '«Кафе «Кулинарная лавка братьев Караваевых»',\n",
       "       \"Домино'с Пицца Domino,s Pizza\", 'Чешская пивная ПИЛЗНЕР',\n",
       "       'Beverly Hills Diner', 'Кафе Штолле',\n",
       "       'Предприятие быстрого питания «Крошка Картошка»', 'Florentini',\n",
       "       'Кондитерия Тирольские пироги', 'LAVKALAVKA', 'Хлебница пекарня',\n",
       "       'Кальян-бар MosKalyan', 'Анти-кафе кальянная «MosKalyan»',\n",
       "       'Ботик Петра', 'Советские времена Чебуречная СССР', 'ДоДо пицца',\n",
       "       'Мята Lounge Автозаводская', 'Osteria Mario', 'МЯСОROOB',\n",
       "       'МясоROOB', 'Газпромнефтьцентр', 'ДВЕ ПАЛОЧКИ', 'ХЛЕБ НАСУЩНЫЙ',\n",
       "       'ЯКИТОРИЯ И СПОРТ БАР', 'Японский ресторан «Ваби-Саби»',\n",
       "       'Goodman Гудман', 'PRIME STAR Прайм стар', 'Праймстар',\n",
       "       'CoffeeShop', 'My box', 'Vanwok Ванвок', 'Van Wok Ванвок',\n",
       "       'ББ энд БУРГЕРС В&В Бургер', 'КРОШКА КАРТОШКА',\n",
       "       'Закусочная «СтардогS»', 'Сувлаки', 'Бургер Клаб', 'Суши тун',\n",
       "       'Кофе с Собой', 'Пицца ПИПОНИ', 'Пицца Паоло и Бенто WOK',\n",
       "       'STARBUCKS COFFEE', 'Кофемания Starbucks', 'Movenpick',\n",
       "       'РОСТИКС KFC', 'Fridays KFC', 'Ресторан быстрого питания KFC',\n",
       "       'ВОККЕР', 'Marmalato', 'Предприятие быстрого обслуживания «Милти»',\n",
       "       'Дабл би', 'ДОДО пицца', 'Магазин готовой еды «Милти»',\n",
       "       'Готовые блюда Милти', 'Мята lounge', 'Лаундж-бар «Мята Lounge»',\n",
       "       'Бар Мята Lounge', 'Мята Lounge Октябрьская',\n",
       "       'Кальянная «Мята Lounge»', 'Мята'], dtype=object)"
      ]
     },
     "execution_count": 6,
     "metadata": {},
     "output_type": "execute_result"
    }
   ],
   "source": [
    "#Изучим названия сетевых заведений\n",
    "rest_data[rest_data['chain'] == 'да']['object_name'].unique()"
   ]
  },
  {
   "cell_type": "markdown",
   "metadata": {},
   "source": [
    "Далее в анализе заведений нам необходимо будет считать их количество, группировать, поэтому избавимся от неявных дубликатов."
   ]
  },
  {
   "cell_type": "code",
   "execution_count": 7,
   "metadata": {},
   "outputs": [],
   "source": [
    "#Приведем названия к нижнему регистру\n",
    "rest_data['object_name'] = rest_data['object_name'].str.lower()"
   ]
  },
  {
   "cell_type": "markdown",
   "metadata": {},
   "source": [
    "Напишем функцию для основных сетевых заведений, что бы сократить количество неявных дубликатов из-за разного написания названий."
   ]
  },
  {
   "cell_type": "code",
   "execution_count": 8,
   "metadata": {},
   "outputs": [],
   "source": [
    "#напишем функцию для основных сетевых заведений\n",
    "def new_name(row):\n",
    "    if 'wok' in row or 'вок' in row:\n",
    "        return  'суши wok'\n",
    "    elif 'subway' in row or 'сабвей' in row:\n",
    "        return 'subway'\n",
    "    elif 'макдона' in row or 'mcdonal' in row:\n",
    "        return 'mcdonalds'\n",
    "    elif 'шоколадница' in row:\n",
    "        return 'шоколадница'\n",
    "    elif 'штолле' in row:\n",
    "        return 'штолле'\n",
    "    elif 'kfc' in row:\n",
    "        return 'kfc'\n",
    "    elif 'starbucks' in row or 'старбакс' in row:\n",
    "        return 'starbucks'\n",
    "    elif 'бургер кинг' in row or 'burger king' in row:\n",
    "        return 'burger king'\n",
    "    elif 'теремок' in row:\n",
    "        return 'теремок'\n",
    "    elif 'кофе хаус' in row:\n",
    "        return 'кофе хаус'\n",
    "    elif 'мята lounge' in row:\n",
    "        return 'мята lounge'\n",
    "    \n",
    "    return row"
   ]
  },
  {
   "cell_type": "code",
   "execution_count": 9,
   "metadata": {},
   "outputs": [
    {
     "data": {
      "text/html": [
       "<div>\n",
       "<style scoped>\n",
       "    .dataframe tbody tr th:only-of-type {\n",
       "        vertical-align: middle;\n",
       "    }\n",
       "\n",
       "    .dataframe tbody tr th {\n",
       "        vertical-align: top;\n",
       "    }\n",
       "\n",
       "    .dataframe thead th {\n",
       "        text-align: right;\n",
       "    }\n",
       "</style>\n",
       "<table border=\"1\" class=\"dataframe\">\n",
       "  <thead>\n",
       "    <tr style=\"text-align: right;\">\n",
       "      <th></th>\n",
       "      <th>id</th>\n",
       "      <th>object_name</th>\n",
       "      <th>chain</th>\n",
       "      <th>object_type</th>\n",
       "      <th>address</th>\n",
       "      <th>number</th>\n",
       "    </tr>\n",
       "  </thead>\n",
       "  <tbody>\n",
       "    <tr>\n",
       "      <td>1145</td>\n",
       "      <td>150996</td>\n",
       "      <td>кулинария</td>\n",
       "      <td>нет</td>\n",
       "      <td>магазин (отдел кулинарии)</td>\n",
       "      <td>город Москва, Сходненская улица, дом 44/17</td>\n",
       "      <td>2</td>\n",
       "    </tr>\n",
       "    <tr>\n",
       "      <td>1042</td>\n",
       "      <td>26272</td>\n",
       "      <td>ресторан «золотое время»</td>\n",
       "      <td>нет</td>\n",
       "      <td>ресторан</td>\n",
       "      <td>город Москва, Севанская улица, дом 15, корпус 1</td>\n",
       "      <td>80</td>\n",
       "    </tr>\n",
       "    <tr>\n",
       "      <td>3916</td>\n",
       "      <td>97160</td>\n",
       "      <td>шашлычная</td>\n",
       "      <td>нет</td>\n",
       "      <td>кафе</td>\n",
       "      <td>город Москва, проспект Будённого, дом 32</td>\n",
       "      <td>2</td>\n",
       "    </tr>\n",
       "    <tr>\n",
       "      <td>12257</td>\n",
       "      <td>191190</td>\n",
       "      <td>лукойл</td>\n",
       "      <td>да</td>\n",
       "      <td>кафе</td>\n",
       "      <td>город Москва, поселение Московский, Киевское ш...</td>\n",
       "      <td>17</td>\n",
       "    </tr>\n",
       "    <tr>\n",
       "      <td>4287</td>\n",
       "      <td>20352</td>\n",
       "      <td>бар «терраса»</td>\n",
       "      <td>нет</td>\n",
       "      <td>бар</td>\n",
       "      <td>город Москва, проспект Мира, дом 150</td>\n",
       "      <td>100</td>\n",
       "    </tr>\n",
       "  </tbody>\n",
       "</table>\n",
       "</div>"
      ],
      "text/plain": [
       "           id               object_name chain                object_type  \\\n",
       "1145   150996                 кулинария   нет  магазин (отдел кулинарии)   \n",
       "1042    26272  ресторан «золотое время»   нет                   ресторан   \n",
       "3916    97160                 шашлычная   нет                       кафе   \n",
       "12257  191190                    лукойл    да                       кафе   \n",
       "4287    20352             бар «терраса»   нет                        бар   \n",
       "\n",
       "                                                 address  number  \n",
       "1145          город Москва, Сходненская улица, дом 44/17       2  \n",
       "1042     город Москва, Севанская улица, дом 15, корпус 1      80  \n",
       "3916            город Москва, проспект Будённого, дом 32       2  \n",
       "12257  город Москва, поселение Московский, Киевское ш...      17  \n",
       "4287                город Москва, проспект Мира, дом 150     100  "
      ]
     },
     "execution_count": 9,
     "metadata": {},
     "output_type": "execute_result"
    }
   ],
   "source": [
    "#Перезапишем стобцем с названиями объектов\n",
    "rest_data['object_name'] = rest_data['object_name'].apply(new_name)\n",
    "rest_data.sample(5)"
   ]
  },
  {
   "cell_type": "markdown",
   "metadata": {},
   "source": [
    "`Основной вывод по разделу`"
   ]
  },
  {
   "cell_type": "markdown",
   "metadata": {},
   "source": [
    "В результате первичного знакомства с данными было установлено:\n",
    "- Данные представлены в численных и строковых форматах;\n",
    "- В названиях были разные регистры, присутствовали неявные дубликаты из-за разного написания.\n",
    "\n",
    "Данные были обработаны и теперь готовы для исследовательского анализа данных."
   ]
  },
  {
   "cell_type": "markdown",
   "metadata": {},
   "source": [
    "## Исследовательский анализ данных"
   ]
  },
  {
   "cell_type": "markdown",
   "metadata": {},
   "source": [
    "`Исследуйте соотношение видов объектов общественного питания по количеству. Постройте график.`"
   ]
  },
  {
   "cell_type": "code",
   "execution_count": 12,
   "metadata": {
    "scrolled": true
   },
   "outputs": [
    {
     "data": {
      "text/html": [
       "<div>\n",
       "<style scoped>\n",
       "    .dataframe tbody tr th:only-of-type {\n",
       "        vertical-align: middle;\n",
       "    }\n",
       "\n",
       "    .dataframe tbody tr th {\n",
       "        vertical-align: top;\n",
       "    }\n",
       "\n",
       "    .dataframe thead th {\n",
       "        text-align: right;\n",
       "    }\n",
       "</style>\n",
       "<table border=\"1\" class=\"dataframe\">\n",
       "  <thead>\n",
       "    <tr style=\"text-align: right;\">\n",
       "      <th></th>\n",
       "      <th>object_type</th>\n",
       "      <th>id</th>\n",
       "    </tr>\n",
       "  </thead>\n",
       "  <tbody>\n",
       "    <tr>\n",
       "      <td>3</td>\n",
       "      <td>кафе</td>\n",
       "      <td>6099</td>\n",
       "    </tr>\n",
       "    <tr>\n",
       "      <td>8</td>\n",
       "      <td>столовая</td>\n",
       "      <td>2587</td>\n",
       "    </tr>\n",
       "    <tr>\n",
       "      <td>7</td>\n",
       "      <td>ресторан</td>\n",
       "      <td>2285</td>\n",
       "    </tr>\n",
       "    <tr>\n",
       "      <td>6</td>\n",
       "      <td>предприятие быстрого обслуживания</td>\n",
       "      <td>1923</td>\n",
       "    </tr>\n",
       "    <tr>\n",
       "      <td>0</td>\n",
       "      <td>бар</td>\n",
       "      <td>856</td>\n",
       "    </tr>\n",
       "    <tr>\n",
       "      <td>1</td>\n",
       "      <td>буфет</td>\n",
       "      <td>585</td>\n",
       "    </tr>\n",
       "    <tr>\n",
       "      <td>4</td>\n",
       "      <td>кафетерий</td>\n",
       "      <td>398</td>\n",
       "    </tr>\n",
       "    <tr>\n",
       "      <td>2</td>\n",
       "      <td>закусочная</td>\n",
       "      <td>360</td>\n",
       "    </tr>\n",
       "    <tr>\n",
       "      <td>5</td>\n",
       "      <td>магазин (отдел кулинарии)</td>\n",
       "      <td>273</td>\n",
       "    </tr>\n",
       "  </tbody>\n",
       "</table>\n",
       "</div>"
      ],
      "text/plain": [
       "                         object_type    id\n",
       "3                               кафе  6099\n",
       "8                           столовая  2587\n",
       "7                           ресторан  2285\n",
       "6  предприятие быстрого обслуживания  1923\n",
       "0                                бар   856\n",
       "1                              буфет   585\n",
       "4                          кафетерий   398\n",
       "2                         закусочная   360\n",
       "5          магазин (отдел кулинарии)   273"
      ]
     },
     "execution_count": 12,
     "metadata": {},
     "output_type": "execute_result"
    }
   ],
   "source": [
    "#Создадим сводную таблицу по видам объектов общ питания\n",
    "cafe_type = (\n",
    "    rest_data\n",
    "    .pivot_table(index='object_type', values='id', aggfunc='count')\n",
    "    .reset_index()\n",
    "    .sort_values(by='id', ascending=False)\n",
    ")\n",
    "cafe_type"
   ]
  },
  {
   "cell_type": "code",
   "execution_count": 13,
   "metadata": {},
   "outputs": [
    {
     "data": {
      "image/png": "[encoded data removed]",
      "text/plain": [
       "<Figure size 432x432 with 1 Axes>"
      ]
     },
     "metadata": {
      "needs_background": "light"
     },
     "output_type": "display_data"
    }
   ],
   "source": [
    "#Построим столбчатую диаграмму\n",
    "fig, test = plt.subplots()\n",
    "sns.barplot(x='object_type', y='id', data=cafe_type, palette='hls')\n",
    "\n",
    "test.set_title('Cоотношение видов объектов общественного питания по количеству')\n",
    "test.set_xlabel('Тип объекта')\n",
    "test.set_ylabel('Количество')\n",
    "plt.xticks(rotation=45)\n",
    "fig.set_figheight(6)\n",
    "fig.set_figwidth(6)\n",
    "plt.show()"
   ]
  },
  {
   "cell_type": "markdown",
   "metadata": {},
   "source": [
    "`Основные выводы`"
   ]
  },
  {
   "cell_type": "markdown",
   "metadata": {},
   "source": [
    "- С большим отрывом лидируют категория \"кафе\" - около 6000 заведений;\n",
    "- На втором месте идут \"столовые\", но значительно уступают кафе, около 2500 заведений;\n",
    "- Топ-3 по количеству замыкают рестораны, примерно 2200 заведений;\n",
    "- Меньше всего заведений у кафетериев, закусочных, отделов кулинарии. Можно предположить, что у данных объектов меньше всего заведений ввиду непопулярности таких форматов в настоящее время."
   ]
  },
  {
   "cell_type": "markdown",
   "metadata": {},
   "source": [
    "`Исследуйте соотношение сетевых и несетевых заведений по количеству. Постройте график.`"
   ]
  },
  {
   "cell_type": "code",
   "execution_count": 14,
   "metadata": {},
   "outputs": [
    {
     "data": {
      "text/html": [
       "<div>\n",
       "<style scoped>\n",
       "    .dataframe tbody tr th:only-of-type {\n",
       "        vertical-align: middle;\n",
       "    }\n",
       "\n",
       "    .dataframe tbody tr th {\n",
       "        vertical-align: top;\n",
       "    }\n",
       "\n",
       "    .dataframe thead th {\n",
       "        text-align: right;\n",
       "    }\n",
       "</style>\n",
       "<table border=\"1\" class=\"dataframe\">\n",
       "  <thead>\n",
       "    <tr style=\"text-align: right;\">\n",
       "      <th></th>\n",
       "      <th>chain</th>\n",
       "      <th>id</th>\n",
       "    </tr>\n",
       "  </thead>\n",
       "  <tbody>\n",
       "    <tr>\n",
       "      <td>1</td>\n",
       "      <td>нет</td>\n",
       "      <td>12398</td>\n",
       "    </tr>\n",
       "    <tr>\n",
       "      <td>0</td>\n",
       "      <td>да</td>\n",
       "      <td>2968</td>\n",
       "    </tr>\n",
       "  </tbody>\n",
       "</table>\n",
       "</div>"
      ],
      "text/plain": [
       "  chain     id\n",
       "1   нет  12398\n",
       "0    да   2968"
      ]
     },
     "execution_count": 14,
     "metadata": {},
     "output_type": "execute_result"
    }
   ],
   "source": [
    "#Создадим сводную таблицу по сетевым/несетевым заведениям\n",
    "cafe_chain = (\n",
    "    rest_data\n",
    "    .pivot_table(index='chain', values='id', aggfunc='count')\n",
    "    .reset_index()\n",
    "    .sort_values(by='id', ascending=False)\n",
    ")\n",
    "cafe_chain"
   ]
  },
  {
   "cell_type": "code",
   "execution_count": 15,
   "metadata": {},
   "outputs": [
    {
     "data": {
      "image/png": "[encoded data removed]",
      "text/plain": [
       "<Figure size 432x432 with 1 Axes>"
      ]
     },
     "metadata": {
      "needs_background": "light"
     },
     "output_type": "display_data"
    }
   ],
   "source": [
    "#Построим столбчатую диаграмму\n",
    "fig, test = plt.subplots()\n",
    "sns.barplot(x='chain', y='id', data=cafe_chain, palette='hls')\n",
    "\n",
    "test.set_title('Cоотношение сетевых и несетевых заведений')\n",
    "test.set_xlabel('Тип объекта - сетевой или нет')\n",
    "test.set_ylabel('Количество')\n",
    "fig.set_figheight(6)\n",
    "fig.set_figwidth(6)\n",
    "plt.show()"
   ]
  },
  {
   "cell_type": "markdown",
   "metadata": {},
   "source": [
    "`Основные выводы`"
   ]
  },
  {
   "cell_type": "markdown",
   "metadata": {},
   "source": [
    "С огромным отрывом (примерно 12000 против 3000) превалируют заведения несетевого характера. Сетевые заведения составляют примерно 18% от общего количества объектов общ питания.\\\n",
    "Сейчас достаточно популярны небольшие кафе/кофейни, авторские места. Они могут привлекать клиентов своей уникальностью и нетипичным (если сравнивать с сетевыми заведениями) дизайном интерьеров, меню."
   ]
  },
  {
   "cell_type": "markdown",
   "metadata": {},
   "source": [
    "`Для какого вида объекта общественного питания характерно сетевое распространение?`"
   ]
  },
  {
   "cell_type": "code",
   "execution_count": 16,
   "metadata": {},
   "outputs": [],
   "source": [
    "#напишем функцию для получения целочисленных значений столбца ['chain']\n",
    "def chain_count(row):\n",
    "    if 'да' in row:\n",
    "        return 1\n",
    "    return 0"
   ]
  },
  {
   "cell_type": "code",
   "execution_count": 17,
   "metadata": {},
   "outputs": [
    {
     "data": {
      "text/html": [
       "<div>\n",
       "<style scoped>\n",
       "    .dataframe tbody tr th:only-of-type {\n",
       "        vertical-align: middle;\n",
       "    }\n",
       "\n",
       "    .dataframe tbody tr th {\n",
       "        vertical-align: top;\n",
       "    }\n",
       "\n",
       "    .dataframe thead th {\n",
       "        text-align: right;\n",
       "    }\n",
       "</style>\n",
       "<table border=\"1\" class=\"dataframe\">\n",
       "  <thead>\n",
       "    <tr style=\"text-align: right;\">\n",
       "      <th></th>\n",
       "      <th>id</th>\n",
       "      <th>object_name</th>\n",
       "      <th>chain</th>\n",
       "      <th>object_type</th>\n",
       "      <th>address</th>\n",
       "      <th>number</th>\n",
       "      <th>chain_number</th>\n",
       "    </tr>\n",
       "  </thead>\n",
       "  <tbody>\n",
       "    <tr>\n",
       "      <td>10420</td>\n",
       "      <td>187193</td>\n",
       "      <td>пекарня</td>\n",
       "      <td>нет</td>\n",
       "      <td>магазин (отдел кулинарии)</td>\n",
       "      <td>город Москва, Перовская улица, дом 26, корпус 1</td>\n",
       "      <td>0</td>\n",
       "      <td>0</td>\n",
       "    </tr>\n",
       "    <tr>\n",
       "      <td>15337</td>\n",
       "      <td>208477</td>\n",
       "      <td>милти</td>\n",
       "      <td>да</td>\n",
       "      <td>предприятие быстрого обслуживания</td>\n",
       "      <td>город Москва, 3-й Крутицкий переулок, дом 18</td>\n",
       "      <td>0</td>\n",
       "      <td>1</td>\n",
       "    </tr>\n",
       "    <tr>\n",
       "      <td>7824</td>\n",
       "      <td>125327</td>\n",
       "      <td>кафе мицва</td>\n",
       "      <td>нет</td>\n",
       "      <td>кафе</td>\n",
       "      <td>город Москва, Пятницкая улица, дом 3/4, строен...</td>\n",
       "      <td>49</td>\n",
       "      <td>0</td>\n",
       "    </tr>\n",
       "    <tr>\n",
       "      <td>8300</td>\n",
       "      <td>74893</td>\n",
       "      <td>остерия бьянка</td>\n",
       "      <td>нет</td>\n",
       "      <td>ресторан</td>\n",
       "      <td>город Москва, улица Бутырский Вал, дом 10</td>\n",
       "      <td>98</td>\n",
       "      <td>0</td>\n",
       "    </tr>\n",
       "    <tr>\n",
       "      <td>6421</td>\n",
       "      <td>19757</td>\n",
       "      <td>бар</td>\n",
       "      <td>нет</td>\n",
       "      <td>бар</td>\n",
       "      <td>город Москва, улица Улофа Пальме, дом 5, строе...</td>\n",
       "      <td>12</td>\n",
       "      <td>0</td>\n",
       "    </tr>\n",
       "  </tbody>\n",
       "</table>\n",
       "</div>"
      ],
      "text/plain": [
       "           id     object_name chain                        object_type  \\\n",
       "10420  187193         пекарня   нет          магазин (отдел кулинарии)   \n",
       "15337  208477           милти    да  предприятие быстрого обслуживания   \n",
       "7824   125327      кафе мицва   нет                               кафе   \n",
       "8300    74893  остерия бьянка   нет                           ресторан   \n",
       "6421    19757             бар   нет                                бар   \n",
       "\n",
       "                                                 address  number  chain_number  \n",
       "10420    город Москва, Перовская улица, дом 26, корпус 1       0             0  \n",
       "15337       город Москва, 3-й Крутицкий переулок, дом 18       0             1  \n",
       "7824   город Москва, Пятницкая улица, дом 3/4, строен...      49             0  \n",
       "8300           город Москва, улица Бутырский Вал, дом 10      98             0  \n",
       "6421   город Москва, улица Улофа Пальме, дом 5, строе...      12             0  "
      ]
     },
     "execution_count": 17,
     "metadata": {},
     "output_type": "execute_result"
    }
   ],
   "source": [
    "#Создадим новый столбец, где получим целочисленные значения столбца ['chain']\n",
    "rest_data['chain_number'] = rest_data['chain'].apply(chain_count)\n",
    "rest_data.sample(5)"
   ]
  },
  {
   "cell_type": "code",
   "execution_count": 18,
   "metadata": {},
   "outputs": [
    {
     "data": {
      "text/html": [
       "<div>\n",
       "<style scoped>\n",
       "    .dataframe tbody tr th:only-of-type {\n",
       "        vertical-align: middle;\n",
       "    }\n",
       "\n",
       "    .dataframe tbody tr th {\n",
       "        vertical-align: top;\n",
       "    }\n",
       "\n",
       "    .dataframe thead th {\n",
       "        text-align: right;\n",
       "    }\n",
       "</style>\n",
       "<table border=\"1\" class=\"dataframe\">\n",
       "  <thead>\n",
       "    <tr style=\"text-align: right;\">\n",
       "      <th></th>\n",
       "      <th>chain</th>\n",
       "      <th>no_chain</th>\n",
       "      <th>perc</th>\n",
       "    </tr>\n",
       "    <tr>\n",
       "      <th>object_type</th>\n",
       "      <th></th>\n",
       "      <th></th>\n",
       "      <th></th>\n",
       "    </tr>\n",
       "  </thead>\n",
       "  <tbody>\n",
       "    <tr>\n",
       "      <td>предприятие быстрого обслуживания</td>\n",
       "      <td>791</td>\n",
       "      <td>1923</td>\n",
       "      <td>41.13</td>\n",
       "    </tr>\n",
       "    <tr>\n",
       "      <td>магазин (отдел кулинарии)</td>\n",
       "      <td>78</td>\n",
       "      <td>273</td>\n",
       "      <td>28.57</td>\n",
       "    </tr>\n",
       "    <tr>\n",
       "      <td>ресторан</td>\n",
       "      <td>544</td>\n",
       "      <td>2285</td>\n",
       "      <td>23.81</td>\n",
       "    </tr>\n",
       "    <tr>\n",
       "      <td>кафе</td>\n",
       "      <td>1396</td>\n",
       "      <td>6099</td>\n",
       "      <td>22.89</td>\n",
       "    </tr>\n",
       "    <tr>\n",
       "      <td>закусочная</td>\n",
       "      <td>56</td>\n",
       "      <td>360</td>\n",
       "      <td>15.56</td>\n",
       "    </tr>\n",
       "    <tr>\n",
       "      <td>кафетерий</td>\n",
       "      <td>52</td>\n",
       "      <td>398</td>\n",
       "      <td>13.07</td>\n",
       "    </tr>\n",
       "    <tr>\n",
       "      <td>бар</td>\n",
       "      <td>37</td>\n",
       "      <td>856</td>\n",
       "      <td>4.32</td>\n",
       "    </tr>\n",
       "    <tr>\n",
       "      <td>буфет</td>\n",
       "      <td>11</td>\n",
       "      <td>585</td>\n",
       "      <td>1.88</td>\n",
       "    </tr>\n",
       "    <tr>\n",
       "      <td>столовая</td>\n",
       "      <td>3</td>\n",
       "      <td>2587</td>\n",
       "      <td>0.12</td>\n",
       "    </tr>\n",
       "  </tbody>\n",
       "</table>\n",
       "</div>"
      ],
      "text/plain": [
       "                                   chain  no_chain   perc\n",
       "object_type                                              \n",
       "предприятие быстрого обслуживания    791      1923  41.13\n",
       "магазин (отдел кулинарии)             78       273  28.57\n",
       "ресторан                             544      2285  23.81\n",
       "кафе                                1396      6099  22.89\n",
       "закусочная                            56       360  15.56\n",
       "кафетерий                             52       398  13.07\n",
       "бар                                   37       856   4.32\n",
       "буфет                                 11       585   1.88\n",
       "столовая                               3      2587   0.12"
      ]
     },
     "execution_count": 18,
     "metadata": {},
     "output_type": "execute_result"
    }
   ],
   "source": [
    "#Произведем группировку по объектам питания, посчитаем доли сетевых в общем количестве заведений в категории\n",
    "chain_eat = rest_data.groupby('object_type').agg({'chain_number':['sum', 'count']})\n",
    "chain_eat.columns = ['chain', 'no_chain']\n",
    "chain_eat['perc'] = round(chain_eat['chain']/chain_eat['no_chain'] * 100, 2)\n",
    "chain_eat = chain_eat.sort_values(by='perc', ascending=False)\n",
    "chain_eat"
   ]
  },
  {
   "cell_type": "code",
   "execution_count": 19,
   "metadata": {},
   "outputs": [
    {
     "data": {
      "image/png": "[encoded data removed]",
      "text/plain": [
       "<Figure size 432x432 with 1 Axes>"
      ]
     },
     "metadata": {
      "needs_background": "light"
     },
     "output_type": "display_data"
    }
   ],
   "source": [
    "#Построим столбчатую диаграмму\n",
    "fig, test = plt.subplots()\n",
    "sns.barplot(x=chain_eat.index, y='perc', data=chain_eat, palette='hls')\n",
    "\n",
    "test.set_title('Доли (в %) сетевых заведений в категориях объектов питания')\n",
    "test.set_xlabel('Тип объекта')\n",
    "test.set_ylabel('Количество')\n",
    "plt.xticks(rotation=60)\n",
    "fig.set_figheight(6)\n",
    "fig.set_figwidth(6)\n",
    "plt.show()"
   ]
  },
  {
   "cell_type": "markdown",
   "metadata": {},
   "source": [
    "`Основные выводы`"
   ]
  },
  {
   "cell_type": "markdown",
   "metadata": {},
   "source": [
    "- Самый большой процент сетевых заведений выделяется в сегменте предприятий быстрого обслуживания - 41%;\n",
    "- Так же в топ-3 выходят отделы кулинарии и рестораны;\n",
    "- Меньше всего сетевых заведений в относительном выражении в барах, буфетах, столовых."
   ]
  },
  {
   "cell_type": "markdown",
   "metadata": {},
   "source": [
    "`Что характерно для сетевых заведений: много заведений с небольшим числом посадочных мест в каждом или мало заведений с большим количеством посадочных мест?`"
   ]
  },
  {
   "cell_type": "markdown",
   "metadata": {},
   "source": [
    "Произведем группировку по сетевым ресторанам, что бы получить новую таблицу.\\\n",
    "У каждой сети найдём количество ресторанов и среднее количество посадочных мест."
   ]
  },
  {
   "cell_type": "code",
   "execution_count": 20,
   "metadata": {
    "scrolled": false
   },
   "outputs": [
    {
     "data": {
      "text/html": [
       "<div>\n",
       "<style scoped>\n",
       "    .dataframe tbody tr th:only-of-type {\n",
       "        vertical-align: middle;\n",
       "    }\n",
       "\n",
       "    .dataframe tbody tr th {\n",
       "        vertical-align: top;\n",
       "    }\n",
       "\n",
       "    .dataframe thead th {\n",
       "        text-align: right;\n",
       "    }\n",
       "</style>\n",
       "<table border=\"1\" class=\"dataframe\">\n",
       "  <thead>\n",
       "    <tr style=\"text-align: right;\">\n",
       "      <th></th>\n",
       "      <th>count_rest</th>\n",
       "      <th>mean_seats</th>\n",
       "    </tr>\n",
       "    <tr>\n",
       "      <th>object_name</th>\n",
       "      <th></th>\n",
       "      <th></th>\n",
       "    </tr>\n",
       "  </thead>\n",
       "  <tbody>\n",
       "    <tr>\n",
       "      <td>kfc</td>\n",
       "      <td>188</td>\n",
       "      <td>55.835106</td>\n",
       "    </tr>\n",
       "    <tr>\n",
       "      <td>шоколадница</td>\n",
       "      <td>185</td>\n",
       "      <td>57.648649</td>\n",
       "    </tr>\n",
       "    <tr>\n",
       "      <td>mcdonalds</td>\n",
       "      <td>173</td>\n",
       "      <td>87.017341</td>\n",
       "    </tr>\n",
       "    <tr>\n",
       "      <td>burger king</td>\n",
       "      <td>159</td>\n",
       "      <td>48.144654</td>\n",
       "    </tr>\n",
       "    <tr>\n",
       "      <td>суши wok</td>\n",
       "      <td>115</td>\n",
       "      <td>10.182609</td>\n",
       "    </tr>\n",
       "    <tr>\n",
       "      <td>...</td>\n",
       "      <td>...</td>\n",
       "      <td>...</td>\n",
       "    </tr>\n",
       "    <tr>\n",
       "      <td>кафе «чайхана тапчан»</td>\n",
       "      <td>1</td>\n",
       "      <td>102.000000</td>\n",
       "    </tr>\n",
       "    <tr>\n",
       "      <td>кафе «хлеб насущный»</td>\n",
       "      <td>1</td>\n",
       "      <td>38.000000</td>\n",
       "    </tr>\n",
       "    <tr>\n",
       "      <td>кафе «урюк» хивинская чайхона</td>\n",
       "      <td>1</td>\n",
       "      <td>50.000000</td>\n",
       "    </tr>\n",
       "    <tr>\n",
       "      <td>кафе «торнадо»</td>\n",
       "      <td>1</td>\n",
       "      <td>80.000000</td>\n",
       "    </tr>\n",
       "    <tr>\n",
       "      <td>кофе с собой «кофейня»</td>\n",
       "      <td>1</td>\n",
       "      <td>6.000000</td>\n",
       "    </tr>\n",
       "  </tbody>\n",
       "</table>\n",
       "<p>486 rows × 2 columns</p>\n",
       "</div>"
      ],
      "text/plain": [
       "                               count_rest  mean_seats\n",
       "object_name                                          \n",
       "kfc                                   188   55.835106\n",
       "шоколадница                           185   57.648649\n",
       "mcdonalds                             173   87.017341\n",
       "burger king                           159   48.144654\n",
       "суши wok                              115   10.182609\n",
       "...                                   ...         ...\n",
       "кафе «чайхана тапчан»                   1  102.000000\n",
       "кафе «хлеб насущный»                    1   38.000000\n",
       "кафе «урюк» хивинская чайхона           1   50.000000\n",
       "кафе «торнадо»                          1   80.000000\n",
       "кофе с собой «кофейня»                  1    6.000000\n",
       "\n",
       "[486 rows x 2 columns]"
      ]
     },
     "execution_count": 20,
     "metadata": {},
     "output_type": "execute_result"
    }
   ],
   "source": [
    "#Произведем группировку по сетевым ресторанам\n",
    "rest_chain = (\n",
    "    rest_data\n",
    "    .query('chain_number == 1')\n",
    "    .groupby('object_name')\n",
    "    .agg({'object_name':'count', 'number':'mean'})\n",
    ")\n",
    "rest_chain.columns = ['count_rest', 'mean_seats']\n",
    "rest_chain.sort_values(by='count_rest', ascending=False)"
   ]
  },
  {
   "cell_type": "code",
   "execution_count": 21,
   "metadata": {},
   "outputs": [
    {
     "data": {
      "image/png": "[encoded data removed]",
      "text/plain": [
       "<Figure size 432x432 with 1 Axes>"
      ]
     },
     "metadata": {
      "needs_background": "light"
     },
     "output_type": "display_data"
    }
   ],
   "source": [
    "#Построим точечный график взаимосвязи количества ресторанов в сети от среднего количества посадочных мест\n",
    "fig, test = plt.subplots()\n",
    "sns.scatterplot(x='count_rest', y='mean_seats', data=rest_chain)\n",
    "test.set_title('Точечный график взаимосвязи количества заведений в сети и среднего количества посадочных мест')\n",
    "test.set_xlabel('Количество  заведений в сети')\n",
    "test.set_ylabel('Среднее количество посадочных мест')\n",
    "fig.set_figheight(6)\n",
    "fig.set_figwidth(6)\n",
    "plt.show()"
   ]
  },
  {
   "cell_type": "code",
   "execution_count": 22,
   "metadata": {},
   "outputs": [
    {
     "data": {
      "image/png": "[encoded data removed]",
      "text/plain": [
       "<Figure size 864x432 with 1 Axes>"
      ]
     },
     "metadata": {
      "needs_background": "light"
     },
     "output_type": "display_data"
    }
   ],
   "source": [
    "#Построим гистограмму распределения количества ресторанов в сети\n",
    "plt.figure(figsize=(12,6))\n",
    "ax = sns.histplot(rest_chain['count_rest'], bins=20)\n",
    "plt.title('Гистограмма распределения количества ресторанов в сети')\n",
    "plt.xlabel('Количество ресторанов в сети')\n",
    "plt.ylabel('Количество сетей')\n",
    "plt.show()"
   ]
  },
  {
   "cell_type": "code",
   "execution_count": 23,
   "metadata": {},
   "outputs": [
    {
     "data": {
      "image/png": "[encoded data removed]",
      "text/plain": [
       "<Figure size 864x432 with 1 Axes>"
      ]
     },
     "metadata": {
      "needs_background": "light"
     },
     "output_type": "display_data"
    }
   ],
   "source": [
    "#Построим гистограмму распределения среднего количества мест в сети\n",
    "plt.figure(figsize=(12,6))\n",
    "ax = sns.histplot(rest_chain['mean_seats'], bins=20)\n",
    "plt.title('Гистограмма распределения среднего количества мест в сети')\n",
    "plt.xlabel('Среднее количество мест в сети')\n",
    "plt.ylabel('Количество сетей')\n",
    "plt.show()"
   ]
  },
  {
   "cell_type": "markdown",
   "metadata": {},
   "source": [
    "`Основные выводы`"
   ]
  },
  {
   "cell_type": "markdown",
   "metadata": {},
   "source": [
    "В результате анализа точечного графика взамосвязи количества заведений в сети и среднего количества посадочных мест:\n",
    "- Преобладает большое количество заведений с небольшим количеством посадочных мест. При значениях > 100 посадочных мест на графике количество точек убывает, что говорит о снижающемся количестве заведений;\n",
    "- На графике хорошо видны сети быстрого питания, у которых количество ресторанов > 100. В то же время, у данных ресторанов количество посадочных мест в среднем тоже не более 100;\n",
    "- Есть сети, у которых количество мест равно, либо около 0. Что характерно для быстрого питания (например, точки МакАвто)."
   ]
  },
  {
   "cell_type": "markdown",
   "metadata": {},
   "source": [
    "`Для каждого вида объекта общественного питания опишите среднее количество посадочных мест. Какой вид предоставляет в среднем самое большое количество посадочных мест? Постройте графики.`"
   ]
  },
  {
   "cell_type": "code",
   "execution_count": 24,
   "metadata": {},
   "outputs": [
    {
     "data": {
      "text/html": [
       "<div>\n",
       "<style scoped>\n",
       "    .dataframe tbody tr th:only-of-type {\n",
       "        vertical-align: middle;\n",
       "    }\n",
       "\n",
       "    .dataframe tbody tr th {\n",
       "        vertical-align: top;\n",
       "    }\n",
       "\n",
       "    .dataframe thead th {\n",
       "        text-align: right;\n",
       "    }\n",
       "</style>\n",
       "<table border=\"1\" class=\"dataframe\">\n",
       "  <thead>\n",
       "    <tr style=\"text-align: right;\">\n",
       "      <th></th>\n",
       "      <th>object_type</th>\n",
       "      <th>number</th>\n",
       "    </tr>\n",
       "  </thead>\n",
       "  <tbody>\n",
       "    <tr>\n",
       "      <td>8</td>\n",
       "      <td>столовая</td>\n",
       "      <td>130.25</td>\n",
       "    </tr>\n",
       "    <tr>\n",
       "      <td>7</td>\n",
       "      <td>ресторан</td>\n",
       "      <td>96.83</td>\n",
       "    </tr>\n",
       "    <tr>\n",
       "      <td>1</td>\n",
       "      <td>буфет</td>\n",
       "      <td>51.13</td>\n",
       "    </tr>\n",
       "    <tr>\n",
       "      <td>0</td>\n",
       "      <td>бар</td>\n",
       "      <td>43.49</td>\n",
       "    </tr>\n",
       "    <tr>\n",
       "      <td>3</td>\n",
       "      <td>кафе</td>\n",
       "      <td>39.72</td>\n",
       "    </tr>\n",
       "    <tr>\n",
       "      <td>6</td>\n",
       "      <td>предприятие быстрого обслуживания</td>\n",
       "      <td>20.55</td>\n",
       "    </tr>\n",
       "    <tr>\n",
       "      <td>4</td>\n",
       "      <td>кафетерий</td>\n",
       "      <td>9.12</td>\n",
       "    </tr>\n",
       "    <tr>\n",
       "      <td>2</td>\n",
       "      <td>закусочная</td>\n",
       "      <td>7.61</td>\n",
       "    </tr>\n",
       "    <tr>\n",
       "      <td>5</td>\n",
       "      <td>магазин (отдел кулинарии)</td>\n",
       "      <td>5.59</td>\n",
       "    </tr>\n",
       "  </tbody>\n",
       "</table>\n",
       "</div>"
      ],
      "text/plain": [
       "                         object_type  number\n",
       "8                           столовая  130.25\n",
       "7                           ресторан   96.83\n",
       "1                              буфет   51.13\n",
       "0                                бар   43.49\n",
       "3                               кафе   39.72\n",
       "6  предприятие быстрого обслуживания   20.55\n",
       "4                          кафетерий    9.12\n",
       "2                         закусочная    7.61\n",
       "5          магазин (отдел кулинарии)    5.59"
      ]
     },
     "execution_count": 24,
     "metadata": {},
     "output_type": "execute_result"
    }
   ],
   "source": [
    "#Создадим сводную таблицу по видам объектов общ питания и среднему количесту посадочных мест\n",
    "cafe_seats = (\n",
    "    rest_data\n",
    "    .pivot_table(index='object_type', values='number', aggfunc='mean')\n",
    "    .reset_index()\n",
    "    .sort_values(by='number', ascending=False)\n",
    "    .round(2)\n",
    ")\n",
    "cafe_seats"
   ]
  },
  {
   "cell_type": "code",
   "execution_count": 25,
   "metadata": {},
   "outputs": [
    {
     "data": {
      "image/png": "[encoded data removed]",
      "text/plain": [
       "<Figure size 432x432 with 1 Axes>"
      ]
     },
     "metadata": {
      "needs_background": "light"
     },
     "output_type": "display_data"
    }
   ],
   "source": [
    "#Построим столбчатую диаграмму\n",
    "fig, test = plt.subplots()\n",
    "sns.barplot(x='object_type', y='number', data=cafe_seats, palette='hls')\n",
    "\n",
    "test.set_title('Cреднее количество посадочных мест по видам объектов общ питания')\n",
    "test.set_xlabel('Тип объекта')\n",
    "test.set_ylabel('Количество')\n",
    "plt.xticks(rotation=80)\n",
    "fig.set_figheight(6)\n",
    "fig.set_figwidth(6)\n",
    "plt.show()"
   ]
  },
  {
   "cell_type": "markdown",
   "metadata": {},
   "source": [
    "`Основные выводы`"
   ]
  },
  {
   "cell_type": "markdown",
   "metadata": {},
   "source": [
    "- Самое большое количество посадочных мест представлено в столовых (в среднем около 130);\n",
    "- В топ-3 по среднему количеству посадочных мест входят рестораны (около 97) и буфеты (около 51);\n",
    "- Меньше всего посадочных мест в кафетериях (около 9), закусочные (около 8) и отделы кулинарии (около 6). Малое количество посадочных мест связано с тем, что клиенты в основном берут продукцию с собой, либо быстро употребляют её на месте и уходят."
   ]
  },
  {
   "cell_type": "markdown",
   "metadata": {},
   "source": [
    "`Выделите в отдельный столбец информацию об улице из столбца address`"
   ]
  },
  {
   "cell_type": "markdown",
   "metadata": {},
   "source": [
    "Для выделения информации об улице нам необходимо изучить, какие \"формулировки\" улиц (бульвары, проспекты) встречаются в Москве."
   ]
  },
  {
   "cell_type": "code",
   "execution_count": 26,
   "metadata": {
    "scrolled": false
   },
   "outputs": [
    {
     "data": {
      "text/html": [
       "<div>\n",
       "<style scoped>\n",
       "    .dataframe tbody tr th:only-of-type {\n",
       "        vertical-align: middle;\n",
       "    }\n",
       "\n",
       "    .dataframe tbody tr th {\n",
       "        vertical-align: top;\n",
       "    }\n",
       "\n",
       "    .dataframe thead th {\n",
       "        text-align: right;\n",
       "    }\n",
       "</style>\n",
       "<table border=\"1\" class=\"dataframe\">\n",
       "  <thead>\n",
       "    <tr style=\"text-align: right;\">\n",
       "      <th></th>\n",
       "      <th>id</th>\n",
       "      <th>object_name</th>\n",
       "      <th>chain</th>\n",
       "      <th>object_type</th>\n",
       "      <th>address</th>\n",
       "      <th>number</th>\n",
       "      <th>chain_number</th>\n",
       "    </tr>\n",
       "  </thead>\n",
       "  <tbody>\n",
       "    <tr>\n",
       "      <td>6178</td>\n",
       "      <td>89666</td>\n",
       "      <td>шоколадница</td>\n",
       "      <td>да</td>\n",
       "      <td>кафе</td>\n",
       "      <td>город Москва, Ленинский проспект, дом 109</td>\n",
       "      <td>30</td>\n",
       "      <td>1</td>\n",
       "    </tr>\n",
       "    <tr>\n",
       "      <td>14371</td>\n",
       "      <td>206918</td>\n",
       "      <td>urban cafe</td>\n",
       "      <td>нет</td>\n",
       "      <td>кафе</td>\n",
       "      <td>город Москва, Смоленская площадь, дом 3</td>\n",
       "      <td>10</td>\n",
       "      <td>0</td>\n",
       "    </tr>\n",
       "    <tr>\n",
       "      <td>10279</td>\n",
       "      <td>188529</td>\n",
       "      <td>кафе 24 градуса</td>\n",
       "      <td>нет</td>\n",
       "      <td>кафе</td>\n",
       "      <td>город Москва, улица Добролюбова, дом 20</td>\n",
       "      <td>15</td>\n",
       "      <td>0</td>\n",
       "    </tr>\n",
       "    <tr>\n",
       "      <td>4607</td>\n",
       "      <td>28894</td>\n",
       "      <td>столовая при гоу спец. школе-интернате 20</td>\n",
       "      <td>нет</td>\n",
       "      <td>столовая</td>\n",
       "      <td>город Москва, Новочеркасский бульвар, дом 28</td>\n",
       "      <td>40</td>\n",
       "      <td>0</td>\n",
       "    </tr>\n",
       "    <tr>\n",
       "      <td>8739</td>\n",
       "      <td>145078</td>\n",
       "      <td>сити пицца</td>\n",
       "      <td>да</td>\n",
       "      <td>предприятие быстрого обслуживания</td>\n",
       "      <td>город Москва, город Зеленоград, корпус 2309А</td>\n",
       "      <td>45</td>\n",
       "      <td>1</td>\n",
       "    </tr>\n",
       "    <tr>\n",
       "      <td>11814</td>\n",
       "      <td>175912</td>\n",
       "      <td>lafka bar</td>\n",
       "      <td>нет</td>\n",
       "      <td>кафе</td>\n",
       "      <td>город Москва, поселение Воскресенское, посёлок...</td>\n",
       "      <td>10</td>\n",
       "      <td>0</td>\n",
       "    </tr>\n",
       "    <tr>\n",
       "      <td>12104</td>\n",
       "      <td>190834</td>\n",
       "      <td>додо пицца</td>\n",
       "      <td>да</td>\n",
       "      <td>кафе</td>\n",
       "      <td>город Москва, Тимирязевская улица, дом 11</td>\n",
       "      <td>40</td>\n",
       "      <td>1</td>\n",
       "    </tr>\n",
       "    <tr>\n",
       "      <td>7868</td>\n",
       "      <td>153974</td>\n",
       "      <td>буфет при гбу г. москвы нии скорой помощи им. ...</td>\n",
       "      <td>нет</td>\n",
       "      <td>буфет</td>\n",
       "      <td>город Москва, Большая Сухаревская площадь, дом...</td>\n",
       "      <td>0</td>\n",
       "      <td>0</td>\n",
       "    </tr>\n",
       "    <tr>\n",
       "      <td>2556</td>\n",
       "      <td>76759</td>\n",
       "      <td>спорт-бар «торнадо»</td>\n",
       "      <td>нет</td>\n",
       "      <td>бар</td>\n",
       "      <td>город Москва, Нахимовский проспект, дом 57</td>\n",
       "      <td>50</td>\n",
       "      <td>0</td>\n",
       "    </tr>\n",
       "    <tr>\n",
       "      <td>6424</td>\n",
       "      <td>22898</td>\n",
       "      <td>ресторан «премьер-спорт»</td>\n",
       "      <td>нет</td>\n",
       "      <td>ресторан</td>\n",
       "      <td>город Москва, улица Улофа Пальме, дом 5, строе...</td>\n",
       "      <td>36</td>\n",
       "      <td>0</td>\n",
       "    </tr>\n",
       "    <tr>\n",
       "      <td>2983</td>\n",
       "      <td>26544</td>\n",
       "      <td>стейкс</td>\n",
       "      <td>нет</td>\n",
       "      <td>ресторан</td>\n",
       "      <td>город Москва, Ленинградское шоссе, дом 80, стр...</td>\n",
       "      <td>60</td>\n",
       "      <td>0</td>\n",
       "    </tr>\n",
       "    <tr>\n",
       "      <td>5806</td>\n",
       "      <td>21732</td>\n",
       "      <td>шоколадница</td>\n",
       "      <td>да</td>\n",
       "      <td>кафе</td>\n",
       "      <td>город Москва, Люблинская улица, дом 165, корпус 1</td>\n",
       "      <td>50</td>\n",
       "      <td>1</td>\n",
       "    </tr>\n",
       "    <tr>\n",
       "      <td>9423</td>\n",
       "      <td>168232</td>\n",
       "      <td>кафе</td>\n",
       "      <td>нет</td>\n",
       "      <td>кафе</td>\n",
       "      <td>город Москва, Малая Семёновская улица, дом 28,...</td>\n",
       "      <td>10</td>\n",
       "      <td>0</td>\n",
       "    </tr>\n",
       "    <tr>\n",
       "      <td>4521</td>\n",
       "      <td>28367</td>\n",
       "      <td>фатп</td>\n",
       "      <td>нет</td>\n",
       "      <td>буфет</td>\n",
       "      <td>город Москва, улица Дениса Давыдова, дом 2</td>\n",
       "      <td>70</td>\n",
       "      <td>0</td>\n",
       "    </tr>\n",
       "    <tr>\n",
       "      <td>13123</td>\n",
       "      <td>196085</td>\n",
       "      <td>hookah time</td>\n",
       "      <td>нет</td>\n",
       "      <td>кафе</td>\n",
       "      <td>город Москва, проспект Андропова, дом 13А</td>\n",
       "      <td>15</td>\n",
       "      <td>0</td>\n",
       "    </tr>\n",
       "    <tr>\n",
       "      <td>13789</td>\n",
       "      <td>215097</td>\n",
       "      <td>пекарня</td>\n",
       "      <td>нет</td>\n",
       "      <td>кафе</td>\n",
       "      <td>город Москва, поселение Внуковское, улица Лётч...</td>\n",
       "      <td>1</td>\n",
       "      <td>0</td>\n",
       "    </tr>\n",
       "    <tr>\n",
       "      <td>10510</td>\n",
       "      <td>173865</td>\n",
       "      <td>шаурма</td>\n",
       "      <td>нет</td>\n",
       "      <td>предприятие быстрого обслуживания</td>\n",
       "      <td>город Москва, улица Черняховского, дом 4А</td>\n",
       "      <td>0</td>\n",
       "      <td>0</td>\n",
       "    </tr>\n",
       "    <tr>\n",
       "      <td>10463</td>\n",
       "      <td>185867</td>\n",
       "      <td>ламбик</td>\n",
       "      <td>нет</td>\n",
       "      <td>кафе</td>\n",
       "      <td>город Москва, Страстной бульвар, дом 7, строен...</td>\n",
       "      <td>25</td>\n",
       "      <td>0</td>\n",
       "    </tr>\n",
       "    <tr>\n",
       "      <td>4150</td>\n",
       "      <td>20716</td>\n",
       "      <td>пивной трактир «охота»</td>\n",
       "      <td>нет</td>\n",
       "      <td>бар</td>\n",
       "      <td>город Москва, Нагатинская улица, дом 22, корпус 1</td>\n",
       "      <td>30</td>\n",
       "      <td>0</td>\n",
       "    </tr>\n",
       "    <tr>\n",
       "      <td>1336</td>\n",
       "      <td>148011</td>\n",
       "      <td>кальянная вэйп онлайн</td>\n",
       "      <td>нет</td>\n",
       "      <td>кафе</td>\n",
       "      <td>город Москва, улица Земляной Вал, дом 32</td>\n",
       "      <td>25</td>\n",
       "      <td>0</td>\n",
       "    </tr>\n",
       "    <tr>\n",
       "      <td>11498</td>\n",
       "      <td>180077</td>\n",
       "      <td>донер</td>\n",
       "      <td>нет</td>\n",
       "      <td>предприятие быстрого обслуживания</td>\n",
       "      <td>город Москва, Каширское шоссе, владение 25Б</td>\n",
       "      <td>0</td>\n",
       "      <td>0</td>\n",
       "    </tr>\n",
       "    <tr>\n",
       "      <td>978</td>\n",
       "      <td>137450</td>\n",
       "      <td>пивной бар парка</td>\n",
       "      <td>нет</td>\n",
       "      <td>бар</td>\n",
       "      <td>город Москва, Пятницкая улица, дом 22, строение 1</td>\n",
       "      <td>45</td>\n",
       "      <td>0</td>\n",
       "    </tr>\n",
       "    <tr>\n",
       "      <td>12313</td>\n",
       "      <td>203859</td>\n",
       "      <td>ресторан «choice. healthy social club»</td>\n",
       "      <td>нет</td>\n",
       "      <td>ресторан</td>\n",
       "      <td>город Москва, Малая Никитская улица, дом 16/5</td>\n",
       "      <td>95</td>\n",
       "      <td>0</td>\n",
       "    </tr>\n",
       "    <tr>\n",
       "      <td>7070</td>\n",
       "      <td>69749</td>\n",
       "      <td>тануки</td>\n",
       "      <td>да</td>\n",
       "      <td>ресторан</td>\n",
       "      <td>город Москва, Дмитровское шоссе, дом 108Б, стр...</td>\n",
       "      <td>180</td>\n",
       "      <td>1</td>\n",
       "    </tr>\n",
       "    <tr>\n",
       "      <td>147</td>\n",
       "      <td>144250</td>\n",
       "      <td>subway</td>\n",
       "      <td>да</td>\n",
       "      <td>кафе</td>\n",
       "      <td>город Москва, Валовая улица, дом 6</td>\n",
       "      <td>22</td>\n",
       "      <td>1</td>\n",
       "    </tr>\n",
       "    <tr>\n",
       "      <td>6743</td>\n",
       "      <td>144527</td>\n",
       "      <td>кафе</td>\n",
       "      <td>нет</td>\n",
       "      <td>кафе</td>\n",
       "      <td>город Москва, Волоколамское шоссе, дом 67, стр...</td>\n",
       "      <td>5</td>\n",
       "      <td>0</td>\n",
       "    </tr>\n",
       "    <tr>\n",
       "      <td>438</td>\n",
       "      <td>154690</td>\n",
       "      <td>столовая</td>\n",
       "      <td>нет</td>\n",
       "      <td>столовая</td>\n",
       "      <td>город Москва, Коломенская улица, дом 5</td>\n",
       "      <td>5</td>\n",
       "      <td>0</td>\n",
       "    </tr>\n",
       "    <tr>\n",
       "      <td>11822</td>\n",
       "      <td>186586</td>\n",
       "      <td>кафе шаурма</td>\n",
       "      <td>нет</td>\n",
       "      <td>кафе</td>\n",
       "      <td>город Москва, поселение Сосенское, улица Адмир...</td>\n",
       "      <td>13</td>\n",
       "      <td>0</td>\n",
       "    </tr>\n",
       "    <tr>\n",
       "      <td>12950</td>\n",
       "      <td>202700</td>\n",
       "      <td>кафе у друзей</td>\n",
       "      <td>нет</td>\n",
       "      <td>кафе</td>\n",
       "      <td>город Москва, улица Миклухо-Маклая, дом 18, ко...</td>\n",
       "      <td>38</td>\n",
       "      <td>0</td>\n",
       "    </tr>\n",
       "    <tr>\n",
       "      <td>6331</td>\n",
       "      <td>74944</td>\n",
       "      <td>братья третьяковы</td>\n",
       "      <td>нет</td>\n",
       "      <td>ресторан</td>\n",
       "      <td>город Москва, Лаврушинский переулок, дом 10, с...</td>\n",
       "      <td>200</td>\n",
       "      <td>0</td>\n",
       "    </tr>\n",
       "    <tr>\n",
       "      <td>15343</td>\n",
       "      <td>211767</td>\n",
       "      <td>мята lounge</td>\n",
       "      <td>да</td>\n",
       "      <td>бар</td>\n",
       "      <td>город Москва, Митинская улица, дом 16</td>\n",
       "      <td>5</td>\n",
       "      <td>1</td>\n",
       "    </tr>\n",
       "    <tr>\n",
       "      <td>5496</td>\n",
       "      <td>20653</td>\n",
       "      <td>буфет в автомире</td>\n",
       "      <td>нет</td>\n",
       "      <td>бар</td>\n",
       "      <td>город Москва, Иркутская улица, дом 5/6, строен...</td>\n",
       "      <td>24</td>\n",
       "      <td>0</td>\n",
       "    </tr>\n",
       "    <tr>\n",
       "      <td>5507</td>\n",
       "      <td>151271</td>\n",
       "      <td>столовая ххi века</td>\n",
       "      <td>нет</td>\n",
       "      <td>столовая</td>\n",
       "      <td>город Москва, Тагильская улица, дом 4, строение 5</td>\n",
       "      <td>16</td>\n",
       "      <td>0</td>\n",
       "    </tr>\n",
       "    <tr>\n",
       "      <td>10554</td>\n",
       "      <td>187579</td>\n",
       "      <td>шашлыкоff</td>\n",
       "      <td>нет</td>\n",
       "      <td>бар</td>\n",
       "      <td>город Москва, улица Перерва, дом 56/2</td>\n",
       "      <td>100</td>\n",
       "      <td>0</td>\n",
       "    </tr>\n",
       "    <tr>\n",
       "      <td>1190</td>\n",
       "      <td>22234</td>\n",
       "      <td>кафе юма</td>\n",
       "      <td>нет</td>\n",
       "      <td>кафе</td>\n",
       "      <td>город Москва, Туристская улица, дом 31, корпус 1</td>\n",
       "      <td>104</td>\n",
       "      <td>0</td>\n",
       "    </tr>\n",
       "    <tr>\n",
       "      <td>6122</td>\n",
       "      <td>23899</td>\n",
       "      <td>риф</td>\n",
       "      <td>нет</td>\n",
       "      <td>кафе</td>\n",
       "      <td>город Москва, улица Обручева, дом 13, сооружен...</td>\n",
       "      <td>35</td>\n",
       "      <td>0</td>\n",
       "    </tr>\n",
       "    <tr>\n",
       "      <td>9823</td>\n",
       "      <td>170280</td>\n",
       "      <td>кафе «брусника»</td>\n",
       "      <td>нет</td>\n",
       "      <td>кафе</td>\n",
       "      <td>город Москва, Большая Бронная улица, дом 7</td>\n",
       "      <td>25</td>\n",
       "      <td>0</td>\n",
       "    </tr>\n",
       "    <tr>\n",
       "      <td>1440</td>\n",
       "      <td>24022</td>\n",
       "      <td>бар «джанго»</td>\n",
       "      <td>нет</td>\n",
       "      <td>бар</td>\n",
       "      <td>город Москва, город Зеленоград, корпус 1456</td>\n",
       "      <td>50</td>\n",
       "      <td>0</td>\n",
       "    </tr>\n",
       "    <tr>\n",
       "      <td>2396</td>\n",
       "      <td>20992</td>\n",
       "      <td>столовая фуршет.ру</td>\n",
       "      <td>нет</td>\n",
       "      <td>столовая</td>\n",
       "      <td>город Москва, Гороховский переулок, дом 4</td>\n",
       "      <td>190</td>\n",
       "      <td>0</td>\n",
       "    </tr>\n",
       "    <tr>\n",
       "      <td>11810</td>\n",
       "      <td>180108</td>\n",
       "      <td>amerigos pizza</td>\n",
       "      <td>нет</td>\n",
       "      <td>кафе</td>\n",
       "      <td>город Москва, Краснобогатырская улица, дом 90,...</td>\n",
       "      <td>16</td>\n",
       "      <td>0</td>\n",
       "    </tr>\n",
       "    <tr>\n",
       "      <td>5563</td>\n",
       "      <td>28795</td>\n",
       "      <td>столовая «ооо вито-1»</td>\n",
       "      <td>нет</td>\n",
       "      <td>столовая</td>\n",
       "      <td>город Москва, улица Медведева, дом 6</td>\n",
       "      <td>120</td>\n",
       "      <td>0</td>\n",
       "    </tr>\n",
       "    <tr>\n",
       "      <td>4047</td>\n",
       "      <td>29318</td>\n",
       "      <td>столовая гбоу цо № 943 «школа здоровья»</td>\n",
       "      <td>нет</td>\n",
       "      <td>столовая</td>\n",
       "      <td>город Москва, улица Мусы Джалиля, дом 29, корп...</td>\n",
       "      <td>300</td>\n",
       "      <td>0</td>\n",
       "    </tr>\n",
       "    <tr>\n",
       "      <td>674</td>\n",
       "      <td>23904</td>\n",
       "      <td>бейрут</td>\n",
       "      <td>нет</td>\n",
       "      <td>ресторан</td>\n",
       "      <td>город Москва, улица Миклухо-Маклая, дом 21, ко...</td>\n",
       "      <td>45</td>\n",
       "      <td>0</td>\n",
       "    </tr>\n",
       "    <tr>\n",
       "      <td>11678</td>\n",
       "      <td>182427</td>\n",
       "      <td>кафе «french bistro»</td>\n",
       "      <td>нет</td>\n",
       "      <td>кафе</td>\n",
       "      <td>город Москва, Столярный переулок, дом 3, корпус 2</td>\n",
       "      <td>45</td>\n",
       "      <td>0</td>\n",
       "    </tr>\n",
       "    <tr>\n",
       "      <td>12235</td>\n",
       "      <td>192748</td>\n",
       "      <td>доставка японской кухни banzai sheff</td>\n",
       "      <td>нет</td>\n",
       "      <td>предприятие быстрого обслуживания</td>\n",
       "      <td>город Москва, город Зеленоград, корпус 1455</td>\n",
       "      <td>0</td>\n",
       "      <td>0</td>\n",
       "    </tr>\n",
       "    <tr>\n",
       "      <td>4144</td>\n",
       "      <td>27094</td>\n",
       "      <td>караоке-бар «брюсофф»</td>\n",
       "      <td>нет</td>\n",
       "      <td>бар</td>\n",
       "      <td>город Москва, проспект Андропова, дом 48, стро...</td>\n",
       "      <td>49</td>\n",
       "      <td>0</td>\n",
       "    </tr>\n",
       "    <tr>\n",
       "      <td>3979</td>\n",
       "      <td>29546</td>\n",
       "      <td>при школе 891</td>\n",
       "      <td>нет</td>\n",
       "      <td>столовая</td>\n",
       "      <td>город Москва, улица Молдагуловой, дом 13А</td>\n",
       "      <td>220</td>\n",
       "      <td>0</td>\n",
       "    </tr>\n",
       "    <tr>\n",
       "      <td>5293</td>\n",
       "      <td>91252</td>\n",
       "      <td>mcdonalds</td>\n",
       "      <td>да</td>\n",
       "      <td>ресторан</td>\n",
       "      <td>город Москва, улица Пришвина, дом 22</td>\n",
       "      <td>82</td>\n",
       "      <td>1</td>\n",
       "    </tr>\n",
       "    <tr>\n",
       "      <td>14761</td>\n",
       "      <td>221454</td>\n",
       "      <td>тянем-потянем</td>\n",
       "      <td>нет</td>\n",
       "      <td>кафе</td>\n",
       "      <td>город Москва, Рождественский бульвар, дом 1</td>\n",
       "      <td>0</td>\n",
       "      <td>0</td>\n",
       "    </tr>\n",
       "    <tr>\n",
       "      <td>15106</td>\n",
       "      <td>212270</td>\n",
       "      <td>burger king</td>\n",
       "      <td>да</td>\n",
       "      <td>ресторан</td>\n",
       "      <td>город Москва, проспект Андропова, дом 8</td>\n",
       "      <td>20</td>\n",
       "      <td>1</td>\n",
       "    </tr>\n",
       "    <tr>\n",
       "      <td>13869</td>\n",
       "      <td>220955</td>\n",
       "      <td>очаг mangal house</td>\n",
       "      <td>нет</td>\n",
       "      <td>кафе</td>\n",
       "      <td>город Москва, улица Вавилова, дом 64/1, строен...</td>\n",
       "      <td>4</td>\n",
       "      <td>0</td>\n",
       "    </tr>\n",
       "    <tr>\n",
       "      <td>5631</td>\n",
       "      <td>83865</td>\n",
       "      <td>пекарня</td>\n",
       "      <td>нет</td>\n",
       "      <td>магазин (отдел кулинарии)</td>\n",
       "      <td>город Москва, Электродная улица, дом 2, строен...</td>\n",
       "      <td>6</td>\n",
       "      <td>0</td>\n",
       "    </tr>\n",
       "    <tr>\n",
       "      <td>11894</td>\n",
       "      <td>190501</td>\n",
       "      <td>кафе «андерсон»</td>\n",
       "      <td>да</td>\n",
       "      <td>кафе</td>\n",
       "      <td>город Москва, улица Тюрина, владение 1</td>\n",
       "      <td>60</td>\n",
       "      <td>1</td>\n",
       "    </tr>\n",
       "    <tr>\n",
       "      <td>2461</td>\n",
       "      <td>75084</td>\n",
       "      <td>the cafe</td>\n",
       "      <td>нет</td>\n",
       "      <td>столовая</td>\n",
       "      <td>город Москва, Смольная улица, дом 14</td>\n",
       "      <td>60</td>\n",
       "      <td>0</td>\n",
       "    </tr>\n",
       "    <tr>\n",
       "      <td>3225</td>\n",
       "      <td>27487</td>\n",
       "      <td>гбоу школа № 1598</td>\n",
       "      <td>нет</td>\n",
       "      <td>столовая</td>\n",
       "      <td>город Москва, Камчатская улица, дом 10</td>\n",
       "      <td>230</td>\n",
       "      <td>0</td>\n",
       "    </tr>\n",
       "    <tr>\n",
       "      <td>7611</td>\n",
       "      <td>60430</td>\n",
       "      <td>сварня</td>\n",
       "      <td>да</td>\n",
       "      <td>ресторан</td>\n",
       "      <td>город Москва, улица Красного Маяка, дом 2Б</td>\n",
       "      <td>70</td>\n",
       "      <td>1</td>\n",
       "    </tr>\n",
       "    <tr>\n",
       "      <td>9873</td>\n",
       "      <td>170635</td>\n",
       "      <td>татарские пироги</td>\n",
       "      <td>нет</td>\n",
       "      <td>закусочная</td>\n",
       "      <td>город Москва, улица Руднёвка, дом 5</td>\n",
       "      <td>3</td>\n",
       "      <td>0</td>\n",
       "    </tr>\n",
       "    <tr>\n",
       "      <td>7098</td>\n",
       "      <td>114519</td>\n",
       "      <td>star hit cafe</td>\n",
       "      <td>нет</td>\n",
       "      <td>кафе</td>\n",
       "      <td>город Москва, Ленинградский проспект, дом 31А,...</td>\n",
       "      <td>54</td>\n",
       "      <td>0</td>\n",
       "    </tr>\n",
       "    <tr>\n",
       "      <td>1497</td>\n",
       "      <td>28921</td>\n",
       "      <td>столовая при гоу сош № 1934</td>\n",
       "      <td>нет</td>\n",
       "      <td>столовая</td>\n",
       "      <td>город Москва, Мячковский бульвар, дом 5, корпус 1</td>\n",
       "      <td>160</td>\n",
       "      <td>0</td>\n",
       "    </tr>\n",
       "    <tr>\n",
       "      <td>13328</td>\n",
       "      <td>197227</td>\n",
       "      <td>братья караваевы</td>\n",
       "      <td>да</td>\n",
       "      <td>кафе</td>\n",
       "      <td>город Москва, Тверской бульвар, дом 20, строен...</td>\n",
       "      <td>25</td>\n",
       "      <td>1</td>\n",
       "    </tr>\n",
       "    <tr>\n",
       "      <td>10076</td>\n",
       "      <td>171749</td>\n",
       "      <td>100лоффка</td>\n",
       "      <td>нет</td>\n",
       "      <td>столовая</td>\n",
       "      <td>город Москва, Варшавское шоссе, дом 132, строе...</td>\n",
       "      <td>36</td>\n",
       "      <td>0</td>\n",
       "    </tr>\n",
       "    <tr>\n",
       "      <td>61</td>\n",
       "      <td>21214</td>\n",
       "      <td>столовая</td>\n",
       "      <td>нет</td>\n",
       "      <td>столовая</td>\n",
       "      <td>город Москва, Бабаевская улица, дом 3</td>\n",
       "      <td>90</td>\n",
       "      <td>0</td>\n",
       "    </tr>\n",
       "    <tr>\n",
       "      <td>4055</td>\n",
       "      <td>29024</td>\n",
       "      <td>гбоу школа 544 «кдп»</td>\n",
       "      <td>нет</td>\n",
       "      <td>столовая</td>\n",
       "      <td>город Москва, Шипиловский проезд, дом 73</td>\n",
       "      <td>240</td>\n",
       "      <td>0</td>\n",
       "    </tr>\n",
       "    <tr>\n",
       "      <td>1370</td>\n",
       "      <td>154280</td>\n",
       "      <td>пиво-воды</td>\n",
       "      <td>нет</td>\n",
       "      <td>бар</td>\n",
       "      <td>город Москва, Щёлковское шоссе, дом 85, корпус 1</td>\n",
       "      <td>22</td>\n",
       "      <td>0</td>\n",
       "    </tr>\n",
       "    <tr>\n",
       "      <td>9628</td>\n",
       "      <td>168078</td>\n",
       "      <td>волконский</td>\n",
       "      <td>да</td>\n",
       "      <td>кафе</td>\n",
       "      <td>город Москва, 3-я Тверская-Ямская улица, дом 42/8</td>\n",
       "      <td>26</td>\n",
       "      <td>1</td>\n",
       "    </tr>\n",
       "    <tr>\n",
       "      <td>9077</td>\n",
       "      <td>163097</td>\n",
       "      <td>пицца бар на трофимова</td>\n",
       "      <td>нет</td>\n",
       "      <td>кафе</td>\n",
       "      <td>город Москва, улица Трофимова, дом 16, строение 2</td>\n",
       "      <td>30</td>\n",
       "      <td>0</td>\n",
       "    </tr>\n",
       "    <tr>\n",
       "      <td>14727</td>\n",
       "      <td>212583</td>\n",
       "      <td>right hops</td>\n",
       "      <td>нет</td>\n",
       "      <td>бар</td>\n",
       "      <td>город Москва, 2-я Звенигородская улица, дом 12...</td>\n",
       "      <td>15</td>\n",
       "      <td>0</td>\n",
       "    </tr>\n",
       "    <tr>\n",
       "      <td>13781</td>\n",
       "      <td>214775</td>\n",
       "      <td>пекарня</td>\n",
       "      <td>нет</td>\n",
       "      <td>кафе</td>\n",
       "      <td>город Москва, поселение Внуковское, улица Лётч...</td>\n",
       "      <td>11</td>\n",
       "      <td>0</td>\n",
       "    </tr>\n",
       "    <tr>\n",
       "      <td>5460</td>\n",
       "      <td>80736</td>\n",
       "      <td>ресторан ледо</td>\n",
       "      <td>нет</td>\n",
       "      <td>ресторан</td>\n",
       "      <td>город Москва, улица Конёнкова, дом 5А</td>\n",
       "      <td>98</td>\n",
       "      <td>0</td>\n",
       "    </tr>\n",
       "    <tr>\n",
       "      <td>5916</td>\n",
       "      <td>109997</td>\n",
       "      <td>павильон «кукуруза»</td>\n",
       "      <td>нет</td>\n",
       "      <td>закусочная</td>\n",
       "      <td>город Москва, Люблинская улица, дом 153</td>\n",
       "      <td>2</td>\n",
       "      <td>0</td>\n",
       "    </tr>\n",
       "    <tr>\n",
       "      <td>1524</td>\n",
       "      <td>52584</td>\n",
       "      <td>караоке клуб five</td>\n",
       "      <td>нет</td>\n",
       "      <td>бар</td>\n",
       "      <td>город Москва, улица Перерва, дом 58</td>\n",
       "      <td>55</td>\n",
       "      <td>0</td>\n",
       "    </tr>\n",
       "    <tr>\n",
       "      <td>9586</td>\n",
       "      <td>166219</td>\n",
       "      <td>маэстро рестро</td>\n",
       "      <td>нет</td>\n",
       "      <td>ресторан</td>\n",
       "      <td>город Москва, улица Сретенка, дом 34/1, строен...</td>\n",
       "      <td>20</td>\n",
       "      <td>0</td>\n",
       "    </tr>\n",
       "    <tr>\n",
       "      <td>7050</td>\n",
       "      <td>145232</td>\n",
       "      <td>кафе при азс газпромнефть</td>\n",
       "      <td>да</td>\n",
       "      <td>предприятие быстрого обслуживания</td>\n",
       "      <td>город Москва, улица Дыбенко, дом 9А, строение 1</td>\n",
       "      <td>4</td>\n",
       "      <td>1</td>\n",
       "    </tr>\n",
       "    <tr>\n",
       "      <td>8431</td>\n",
       "      <td>75704</td>\n",
       "      <td>чипсайд</td>\n",
       "      <td>нет</td>\n",
       "      <td>ресторан</td>\n",
       "      <td>город Москва, Лесная улица, дом 9</td>\n",
       "      <td>52</td>\n",
       "      <td>0</td>\n",
       "    </tr>\n",
       "    <tr>\n",
       "      <td>8046</td>\n",
       "      <td>140633</td>\n",
       "      <td>кафе «culinaryon»</td>\n",
       "      <td>нет</td>\n",
       "      <td>кафе</td>\n",
       "      <td>город Москва, Новинский бульвар, дом 31</td>\n",
       "      <td>15</td>\n",
       "      <td>0</td>\n",
       "    </tr>\n",
       "    <tr>\n",
       "      <td>9426</td>\n",
       "      <td>168109</td>\n",
       "      <td>френч кебаб</td>\n",
       "      <td>нет</td>\n",
       "      <td>кафе</td>\n",
       "      <td>город Москва, Нижняя Сыромятническая улица, до...</td>\n",
       "      <td>15</td>\n",
       "      <td>0</td>\n",
       "    </tr>\n",
       "    <tr>\n",
       "      <td>13512</td>\n",
       "      <td>205174</td>\n",
       "      <td>шаурма</td>\n",
       "      <td>нет</td>\n",
       "      <td>закусочная</td>\n",
       "      <td>город Москва, Байкальская улица, дом 31</td>\n",
       "      <td>0</td>\n",
       "      <td>0</td>\n",
       "    </tr>\n",
       "    <tr>\n",
       "      <td>5679</td>\n",
       "      <td>27122</td>\n",
       "      <td>kfc</td>\n",
       "      <td>да</td>\n",
       "      <td>ресторан</td>\n",
       "      <td>город Москва, Большая Семёновская улица, дом 16</td>\n",
       "      <td>25</td>\n",
       "      <td>1</td>\n",
       "    </tr>\n",
       "    <tr>\n",
       "      <td>5620</td>\n",
       "      <td>29233</td>\n",
       "      <td>тандыр</td>\n",
       "      <td>нет</td>\n",
       "      <td>кафе</td>\n",
       "      <td>город Москва, Кетчерская улица, дом 13, строен...</td>\n",
       "      <td>49</td>\n",
       "      <td>0</td>\n",
       "    </tr>\n",
       "    <tr>\n",
       "      <td>2360</td>\n",
       "      <td>22666</td>\n",
       "      <td>гудбиф</td>\n",
       "      <td>нет</td>\n",
       "      <td>кафе</td>\n",
       "      <td>город Москва, Большой Черкасский переулок, дом...</td>\n",
       "      <td>45</td>\n",
       "      <td>0</td>\n",
       "    </tr>\n",
       "    <tr>\n",
       "      <td>13322</td>\n",
       "      <td>203017</td>\n",
       "      <td>алёнка</td>\n",
       "      <td>нет</td>\n",
       "      <td>кафетерий</td>\n",
       "      <td>город Москва, Большая Семёновская улица, дом 17А</td>\n",
       "      <td>10</td>\n",
       "      <td>0</td>\n",
       "    </tr>\n",
       "    <tr>\n",
       "      <td>2435</td>\n",
       "      <td>19789</td>\n",
       "      <td>сло россия</td>\n",
       "      <td>нет</td>\n",
       "      <td>столовая</td>\n",
       "      <td>город Москва, Заводское шоссе, дом 15</td>\n",
       "      <td>10</td>\n",
       "      <td>0</td>\n",
       "    </tr>\n",
       "    <tr>\n",
       "      <td>6215</td>\n",
       "      <td>29099</td>\n",
       "      <td>школьно-базовая столовая</td>\n",
       "      <td>нет</td>\n",
       "      <td>столовая</td>\n",
       "      <td>город Москва, Бартеневская улица, дом 49, корп...</td>\n",
       "      <td>120</td>\n",
       "      <td>0</td>\n",
       "    </tr>\n",
       "    <tr>\n",
       "      <td>5530</td>\n",
       "      <td>71557</td>\n",
       "      <td>ваби-саби</td>\n",
       "      <td>да</td>\n",
       "      <td>кафе</td>\n",
       "      <td>город Москва, Сокольническая площадь, дом 4А</td>\n",
       "      <td>60</td>\n",
       "      <td>1</td>\n",
       "    </tr>\n",
       "    <tr>\n",
       "      <td>14242</td>\n",
       "      <td>206481</td>\n",
       "      <td>пекарня</td>\n",
       "      <td>нет</td>\n",
       "      <td>магазин (отдел кулинарии)</td>\n",
       "      <td>город Москва, Новохохловская улица, дом 12, ст...</td>\n",
       "      <td>0</td>\n",
       "      <td>0</td>\n",
       "    </tr>\n",
       "    <tr>\n",
       "      <td>1395</td>\n",
       "      <td>29229</td>\n",
       "      <td>столовая при полиграфическом колледже</td>\n",
       "      <td>нет</td>\n",
       "      <td>столовая</td>\n",
       "      <td>город Москва, Ярославское шоссе, дом 5</td>\n",
       "      <td>200</td>\n",
       "      <td>0</td>\n",
       "    </tr>\n",
       "    <tr>\n",
       "      <td>8883</td>\n",
       "      <td>155107</td>\n",
       "      <td>хатимаки</td>\n",
       "      <td>нет</td>\n",
       "      <td>кафе</td>\n",
       "      <td>город Московский, Солнечная улица, дом 3А, стр...</td>\n",
       "      <td>18</td>\n",
       "      <td>0</td>\n",
       "    </tr>\n",
       "    <tr>\n",
       "      <td>14381</td>\n",
       "      <td>217657</td>\n",
       "      <td>оманд</td>\n",
       "      <td>нет</td>\n",
       "      <td>кафе</td>\n",
       "      <td>город Москва, Ярцевская улица, дом 25А</td>\n",
       "      <td>25</td>\n",
       "      <td>0</td>\n",
       "    </tr>\n",
       "    <tr>\n",
       "      <td>10804</td>\n",
       "      <td>183071</td>\n",
       "      <td>private lounge</td>\n",
       "      <td>нет</td>\n",
       "      <td>кафе</td>\n",
       "      <td>город Москва, улица Стромынка, дом 11</td>\n",
       "      <td>14</td>\n",
       "      <td>0</td>\n",
       "    </tr>\n",
       "    <tr>\n",
       "      <td>9653</td>\n",
       "      <td>168394</td>\n",
       "      <td>ресторан «scrocchiarella на никитском»</td>\n",
       "      <td>нет</td>\n",
       "      <td>ресторан</td>\n",
       "      <td>город Москва, Никитский бульвар, дом 12</td>\n",
       "      <td>48</td>\n",
       "      <td>0</td>\n",
       "    </tr>\n",
       "    <tr>\n",
       "      <td>14491</td>\n",
       "      <td>220223</td>\n",
       "      <td>кафе наше место трактир</td>\n",
       "      <td>нет</td>\n",
       "      <td>кафе</td>\n",
       "      <td>город Москва, улица Ленинская Слобода, дом 23,...</td>\n",
       "      <td>20</td>\n",
       "      <td>0</td>\n",
       "    </tr>\n",
       "    <tr>\n",
       "      <td>3486</td>\n",
       "      <td>152791</td>\n",
       "      <td>ресторан «бакинский дворик»</td>\n",
       "      <td>нет</td>\n",
       "      <td>ресторан</td>\n",
       "      <td>город Москва, улица Раменки, дом 5</td>\n",
       "      <td>80</td>\n",
       "      <td>0</td>\n",
       "    </tr>\n",
       "    <tr>\n",
       "      <td>5708</td>\n",
       "      <td>71547</td>\n",
       "      <td>березки</td>\n",
       "      <td>нет</td>\n",
       "      <td>кафе</td>\n",
       "      <td>город Москва, Курганская улица, дом 4А</td>\n",
       "      <td>90</td>\n",
       "      <td>0</td>\n",
       "    </tr>\n",
       "    <tr>\n",
       "      <td>4191</td>\n",
       "      <td>20768</td>\n",
       "      <td>шаурма</td>\n",
       "      <td>нет</td>\n",
       "      <td>предприятие быстрого обслуживания</td>\n",
       "      <td>город Москва, Снежная улица, дом 13, корпус 1</td>\n",
       "      <td>1</td>\n",
       "      <td>0</td>\n",
       "    </tr>\n",
       "    <tr>\n",
       "      <td>4478</td>\n",
       "      <td>154580</td>\n",
       "      <td>нордека</td>\n",
       "      <td>нет</td>\n",
       "      <td>ресторан</td>\n",
       "      <td>город Москва, Трубниковский переулок, дом 15, ...</td>\n",
       "      <td>100</td>\n",
       "      <td>0</td>\n",
       "    </tr>\n",
       "    <tr>\n",
       "      <td>5996</td>\n",
       "      <td>69928</td>\n",
       "      <td>якитория</td>\n",
       "      <td>да</td>\n",
       "      <td>ресторан</td>\n",
       "      <td>город Москва, Волгоградский проспект, дом 133,...</td>\n",
       "      <td>90</td>\n",
       "      <td>1</td>\n",
       "    </tr>\n",
       "    <tr>\n",
       "      <td>3762</td>\n",
       "      <td>21368</td>\n",
       "      <td>школа 661</td>\n",
       "      <td>нет</td>\n",
       "      <td>буфет</td>\n",
       "      <td>город Москва, улица Покровка, дом 10, строение 5</td>\n",
       "      <td>33</td>\n",
       "      <td>0</td>\n",
       "    </tr>\n",
       "    <tr>\n",
       "      <td>5544</td>\n",
       "      <td>143095</td>\n",
       "      <td>кайф кормить</td>\n",
       "      <td>нет</td>\n",
       "      <td>столовая</td>\n",
       "      <td>город Москва, улица Богородский Вал, дом 3, ст...</td>\n",
       "      <td>30</td>\n",
       "      <td>0</td>\n",
       "    </tr>\n",
       "    <tr>\n",
       "      <td>12799</td>\n",
       "      <td>196543</td>\n",
       "      <td>выпечка</td>\n",
       "      <td>нет</td>\n",
       "      <td>закусочная</td>\n",
       "      <td>город Москва, улица Кибальчича, дом 2, корпус ...</td>\n",
       "      <td>0</td>\n",
       "      <td>0</td>\n",
       "    </tr>\n",
       "    <tr>\n",
       "      <td>7381</td>\n",
       "      <td>148266</td>\n",
       "      <td>kfc</td>\n",
       "      <td>да</td>\n",
       "      <td>кафе</td>\n",
       "      <td>город Москва, Чертановская улица, дом 1Г</td>\n",
       "      <td>54</td>\n",
       "      <td>1</td>\n",
       "    </tr>\n",
       "  </tbody>\n",
       "</table>\n",
       "</div>"
      ],
      "text/plain": [
       "           id                                        object_name chain  \\\n",
       "6178    89666                                        шоколадница    да   \n",
       "14371  206918                                         urban cafe   нет   \n",
       "10279  188529                                    кафе 24 градуса   нет   \n",
       "4607    28894          столовая при гоу спец. школе-интернате 20   нет   \n",
       "8739   145078                                         сити пицца    да   \n",
       "11814  175912                                          lafka bar   нет   \n",
       "12104  190834                                         додо пицца    да   \n",
       "7868   153974  буфет при гбу г. москвы нии скорой помощи им. ...   нет   \n",
       "2556    76759                                спорт-бар «торнадо»   нет   \n",
       "6424    22898                           ресторан «премьер-спорт»   нет   \n",
       "2983    26544                                             стейкс   нет   \n",
       "5806    21732                                        шоколадница    да   \n",
       "9423   168232                                               кафе   нет   \n",
       "4521    28367                                               фатп   нет   \n",
       "13123  196085                                        hookah time   нет   \n",
       "13789  215097                                            пекарня   нет   \n",
       "10510  173865                                             шаурма   нет   \n",
       "10463  185867                                             ламбик   нет   \n",
       "4150    20716                             пивной трактир «охота»   нет   \n",
       "1336   148011                              кальянная вэйп онлайн   нет   \n",
       "11498  180077                                              донер   нет   \n",
       "978    137450                                   пивной бар парка   нет   \n",
       "12313  203859             ресторан «choice. healthy social club»   нет   \n",
       "7070    69749                                             тануки    да   \n",
       "147    144250                                             subway    да   \n",
       "6743   144527                                               кафе   нет   \n",
       "438    154690                                           столовая   нет   \n",
       "11822  186586                                        кафе шаурма   нет   \n",
       "12950  202700                                      кафе у друзей   нет   \n",
       "6331    74944                                  братья третьяковы   нет   \n",
       "15343  211767                                        мята lounge    да   \n",
       "5496    20653                                   буфет в автомире   нет   \n",
       "5507   151271                                  столовая ххi века   нет   \n",
       "10554  187579                                          шашлыкоff   нет   \n",
       "1190    22234                                           кафе юма   нет   \n",
       "6122    23899                                                риф   нет   \n",
       "9823   170280                                    кафе «брусника»   нет   \n",
       "1440    24022                                       бар «джанго»   нет   \n",
       "2396    20992                                 столовая фуршет.ру   нет   \n",
       "11810  180108                                     amerigos pizza   нет   \n",
       "5563    28795                              столовая «ооо вито-1»   нет   \n",
       "4047    29318            столовая гбоу цо № 943 «школа здоровья»   нет   \n",
       "674     23904                                             бейрут   нет   \n",
       "11678  182427                               кафе «french bistro»   нет   \n",
       "12235  192748               доставка японской кухни banzai sheff   нет   \n",
       "4144    27094                              караоке-бар «брюсофф»   нет   \n",
       "3979    29546                                      при школе 891   нет   \n",
       "5293    91252                                          mcdonalds    да   \n",
       "14761  221454                                      тянем-потянем   нет   \n",
       "15106  212270                                        burger king    да   \n",
       "13869  220955                                  очаг mangal house   нет   \n",
       "5631    83865                                            пекарня   нет   \n",
       "11894  190501                                    кафе «андерсон»    да   \n",
       "2461    75084                                           the cafe   нет   \n",
       "3225    27487                                  гбоу школа № 1598   нет   \n",
       "7611    60430                                             сварня    да   \n",
       "9873   170635                                   татарские пироги   нет   \n",
       "7098   114519                                      star hit cafe   нет   \n",
       "1497    28921                        столовая при гоу сош № 1934   нет   \n",
       "13328  197227                                   братья караваевы    да   \n",
       "10076  171749                                          100лоффка   нет   \n",
       "61      21214                                           столовая   нет   \n",
       "4055    29024                               гбоу школа 544 «кдп»   нет   \n",
       "1370   154280                                          пиво-воды   нет   \n",
       "9628   168078                                         волконский    да   \n",
       "9077   163097                             пицца бар на трофимова   нет   \n",
       "14727  212583                                         right hops   нет   \n",
       "13781  214775                                            пекарня   нет   \n",
       "5460    80736                                      ресторан ледо   нет   \n",
       "5916   109997                                павильон «кукуруза»   нет   \n",
       "1524    52584                                  караоке клуб five   нет   \n",
       "9586   166219                                     маэстро рестро   нет   \n",
       "7050   145232                          кафе при азс газпромнефть    да   \n",
       "8431    75704                                            чипсайд   нет   \n",
       "8046   140633                                  кафе «culinaryon»   нет   \n",
       "9426   168109                                        френч кебаб   нет   \n",
       "13512  205174                                             шаурма   нет   \n",
       "5679    27122                                                kfc    да   \n",
       "5620    29233                                             тандыр   нет   \n",
       "2360    22666                                             гудбиф   нет   \n",
       "13322  203017                                             алёнка   нет   \n",
       "2435    19789                                         сло россия   нет   \n",
       "6215    29099                           школьно-базовая столовая   нет   \n",
       "5530    71557                                          ваби-саби    да   \n",
       "14242  206481                                            пекарня   нет   \n",
       "1395    29229              столовая при полиграфическом колледже   нет   \n",
       "8883   155107                                           хатимаки   нет   \n",
       "14381  217657                                              оманд   нет   \n",
       "10804  183071                                     private lounge   нет   \n",
       "9653   168394             ресторан «scrocchiarella на никитском»   нет   \n",
       "14491  220223                            кафе наше место трактир   нет   \n",
       "3486   152791                        ресторан «бакинский дворик»   нет   \n",
       "5708    71547                                            березки   нет   \n",
       "4191    20768                                             шаурма   нет   \n",
       "4478   154580                                            нордека   нет   \n",
       "5996    69928                                           якитория    да   \n",
       "3762    21368                                          школа 661   нет   \n",
       "5544   143095                                       кайф кормить   нет   \n",
       "12799  196543                                            выпечка   нет   \n",
       "7381   148266                                                kfc    да   \n",
       "\n",
       "                             object_type  \\\n",
       "6178                                кафе   \n",
       "14371                               кафе   \n",
       "10279                               кафе   \n",
       "4607                            столовая   \n",
       "8739   предприятие быстрого обслуживания   \n",
       "11814                               кафе   \n",
       "12104                               кафе   \n",
       "7868                               буфет   \n",
       "2556                                 бар   \n",
       "6424                            ресторан   \n",
       "2983                            ресторан   \n",
       "5806                                кафе   \n",
       "9423                                кафе   \n",
       "4521                               буфет   \n",
       "13123                               кафе   \n",
       "13789                               кафе   \n",
       "10510  предприятие быстрого обслуживания   \n",
       "10463                               кафе   \n",
       "4150                                 бар   \n",
       "1336                                кафе   \n",
       "11498  предприятие быстрого обслуживания   \n",
       "978                                  бар   \n",
       "12313                           ресторан   \n",
       "7070                            ресторан   \n",
       "147                                 кафе   \n",
       "6743                                кафе   \n",
       "438                             столовая   \n",
       "11822                               кафе   \n",
       "12950                               кафе   \n",
       "6331                            ресторан   \n",
       "15343                                бар   \n",
       "5496                                 бар   \n",
       "5507                            столовая   \n",
       "10554                                бар   \n",
       "1190                                кафе   \n",
       "6122                                кафе   \n",
       "9823                                кафе   \n",
       "1440                                 бар   \n",
       "2396                            столовая   \n",
       "11810                               кафе   \n",
       "5563                            столовая   \n",
       "4047                            столовая   \n",
       "674                             ресторан   \n",
       "11678                               кафе   \n",
       "12235  предприятие быстрого обслуживания   \n",
       "4144                                 бар   \n",
       "3979                            столовая   \n",
       "5293                            ресторан   \n",
       "14761                               кафе   \n",
       "15106                           ресторан   \n",
       "13869                               кафе   \n",
       "5631           магазин (отдел кулинарии)   \n",
       "11894                               кафе   \n",
       "2461                            столовая   \n",
       "3225                            столовая   \n",
       "7611                            ресторан   \n",
       "9873                          закусочная   \n",
       "7098                                кафе   \n",
       "1497                            столовая   \n",
       "13328                               кафе   \n",
       "10076                           столовая   \n",
       "61                              столовая   \n",
       "4055                            столовая   \n",
       "1370                                 бар   \n",
       "9628                                кафе   \n",
       "9077                                кафе   \n",
       "14727                                бар   \n",
       "13781                               кафе   \n",
       "5460                            ресторан   \n",
       "5916                          закусочная   \n",
       "1524                                 бар   \n",
       "9586                            ресторан   \n",
       "7050   предприятие быстрого обслуживания   \n",
       "8431                            ресторан   \n",
       "8046                                кафе   \n",
       "9426                                кафе   \n",
       "13512                         закусочная   \n",
       "5679                            ресторан   \n",
       "5620                                кафе   \n",
       "2360                                кафе   \n",
       "13322                          кафетерий   \n",
       "2435                            столовая   \n",
       "6215                            столовая   \n",
       "5530                                кафе   \n",
       "14242          магазин (отдел кулинарии)   \n",
       "1395                            столовая   \n",
       "8883                                кафе   \n",
       "14381                               кафе   \n",
       "10804                               кафе   \n",
       "9653                            ресторан   \n",
       "14491                               кафе   \n",
       "3486                            ресторан   \n",
       "5708                                кафе   \n",
       "4191   предприятие быстрого обслуживания   \n",
       "4478                            ресторан   \n",
       "5996                            ресторан   \n",
       "3762                               буфет   \n",
       "5544                            столовая   \n",
       "12799                         закусочная   \n",
       "7381                                кафе   \n",
       "\n",
       "                                                 address  number  chain_number  \n",
       "6178           город Москва, Ленинский проспект, дом 109      30             1  \n",
       "14371            город Москва, Смоленская площадь, дом 3      10             0  \n",
       "10279            город Москва, улица Добролюбова, дом 20      15             0  \n",
       "4607        город Москва, Новочеркасский бульвар, дом 28      40             0  \n",
       "8739        город Москва, город Зеленоград, корпус 2309А      45             1  \n",
       "11814  город Москва, поселение Воскресенское, посёлок...      10             0  \n",
       "12104          город Москва, Тимирязевская улица, дом 11      40             1  \n",
       "7868   город Москва, Большая Сухаревская площадь, дом...       0             0  \n",
       "2556          город Москва, Нахимовский проспект, дом 57      50             0  \n",
       "6424   город Москва, улица Улофа Пальме, дом 5, строе...      36             0  \n",
       "2983   город Москва, Ленинградское шоссе, дом 80, стр...      60             0  \n",
       "5806   город Москва, Люблинская улица, дом 165, корпус 1      50             1  \n",
       "9423   город Москва, Малая Семёновская улица, дом 28,...      10             0  \n",
       "4521          город Москва, улица Дениса Давыдова, дом 2      70             0  \n",
       "13123          город Москва, проспект Андропова, дом 13А      15             0  \n",
       "13789  город Москва, поселение Внуковское, улица Лётч...       1             0  \n",
       "10510          город Москва, улица Черняховского, дом 4А       0             0  \n",
       "10463  город Москва, Страстной бульвар, дом 7, строен...      25             0  \n",
       "4150   город Москва, Нагатинская улица, дом 22, корпус 1      30             0  \n",
       "1336            город Москва, улица Земляной Вал, дом 32      25             0  \n",
       "11498        город Москва, Каширское шоссе, владение 25Б       0             0  \n",
       "978    город Москва, Пятницкая улица, дом 22, строение 1      45             0  \n",
       "12313      город Москва, Малая Никитская улица, дом 16/5      95             0  \n",
       "7070   город Москва, Дмитровское шоссе, дом 108Б, стр...     180             1  \n",
       "147                   город Москва, Валовая улица, дом 6      22             1  \n",
       "6743   город Москва, Волоколамское шоссе, дом 67, стр...       5             0  \n",
       "438               город Москва, Коломенская улица, дом 5       5             0  \n",
       "11822  город Москва, поселение Сосенское, улица Адмир...      13             0  \n",
       "12950  город Москва, улица Миклухо-Маклая, дом 18, ко...      38             0  \n",
       "6331   город Москва, Лаврушинский переулок, дом 10, с...     200             0  \n",
       "15343              город Москва, Митинская улица, дом 16       5             1  \n",
       "5496   город Москва, Иркутская улица, дом 5/6, строен...      24             0  \n",
       "5507   город Москва, Тагильская улица, дом 4, строение 5      16             0  \n",
       "10554              город Москва, улица Перерва, дом 56/2     100             0  \n",
       "1190    город Москва, Туристская улица, дом 31, корпус 1     104             0  \n",
       "6122   город Москва, улица Обручева, дом 13, сооружен...      35             0  \n",
       "9823          город Москва, Большая Бронная улица, дом 7      25             0  \n",
       "1440         город Москва, город Зеленоград, корпус 1456      50             0  \n",
       "2396           город Москва, Гороховский переулок, дом 4     190             0  \n",
       "11810  город Москва, Краснобогатырская улица, дом 90,...      16             0  \n",
       "5563                город Москва, улица Медведева, дом 6     120             0  \n",
       "4047   город Москва, улица Мусы Джалиля, дом 29, корп...     300             0  \n",
       "674    город Москва, улица Миклухо-Маклая, дом 21, ко...      45             0  \n",
       "11678  город Москва, Столярный переулок, дом 3, корпус 2      45             0  \n",
       "12235        город Москва, город Зеленоград, корпус 1455       0             0  \n",
       "4144   город Москва, проспект Андропова, дом 48, стро...      49             0  \n",
       "3979           город Москва, улица Молдагуловой, дом 13А     220             0  \n",
       "5293                город Москва, улица Пришвина, дом 22      82             1  \n",
       "14761        город Москва, Рождественский бульвар, дом 1       0             0  \n",
       "15106            город Москва, проспект Андропова, дом 8      20             1  \n",
       "13869  город Москва, улица Вавилова, дом 64/1, строен...       4             0  \n",
       "5631   город Москва, Электродная улица, дом 2, строен...       6             0  \n",
       "11894             город Москва, улица Тюрина, владение 1      60             1  \n",
       "2461                город Москва, Смольная улица, дом 14      60             0  \n",
       "3225              город Москва, Камчатская улица, дом 10     230             0  \n",
       "7611          город Москва, улица Красного Маяка, дом 2Б      70             1  \n",
       "9873                 город Москва, улица Руднёвка, дом 5       3             0  \n",
       "7098   город Москва, Ленинградский проспект, дом 31А,...      54             0  \n",
       "1497   город Москва, Мячковский бульвар, дом 5, корпус 1     160             0  \n",
       "13328  город Москва, Тверской бульвар, дом 20, строен...      25             1  \n",
       "10076  город Москва, Варшавское шоссе, дом 132, строе...      36             0  \n",
       "61                 город Москва, Бабаевская улица, дом 3      90             0  \n",
       "4055            город Москва, Шипиловский проезд, дом 73     240             0  \n",
       "1370    город Москва, Щёлковское шоссе, дом 85, корпус 1      22             0  \n",
       "9628   город Москва, 3-я Тверская-Ямская улица, дом 42/8      26             1  \n",
       "9077   город Москва, улица Трофимова, дом 16, строение 2      30             0  \n",
       "14727  город Москва, 2-я Звенигородская улица, дом 12...      15             0  \n",
       "13781  город Москва, поселение Внуковское, улица Лётч...      11             0  \n",
       "5460               город Москва, улица Конёнкова, дом 5А      98             0  \n",
       "5916             город Москва, Люблинская улица, дом 153       2             0  \n",
       "1524                 город Москва, улица Перерва, дом 58      55             0  \n",
       "9586   город Москва, улица Сретенка, дом 34/1, строен...      20             0  \n",
       "7050     город Москва, улица Дыбенко, дом 9А, строение 1       4             1  \n",
       "8431                   город Москва, Лесная улица, дом 9      52             0  \n",
       "8046             город Москва, Новинский бульвар, дом 31      15             0  \n",
       "9426   город Москва, Нижняя Сыромятническая улица, до...      15             0  \n",
       "13512            город Москва, Байкальская улица, дом 31       0             0  \n",
       "5679     город Москва, Большая Семёновская улица, дом 16      25             1  \n",
       "5620   город Москва, Кетчерская улица, дом 13, строен...      49             0  \n",
       "2360   город Москва, Большой Черкасский переулок, дом...      45             0  \n",
       "13322   город Москва, Большая Семёновская улица, дом 17А      10             0  \n",
       "2435               город Москва, Заводское шоссе, дом 15      10             0  \n",
       "6215   город Москва, Бартеневская улица, дом 49, корп...     120             0  \n",
       "5530        город Москва, Сокольническая площадь, дом 4А      60             1  \n",
       "14242  город Москва, Новохохловская улица, дом 12, ст...       0             0  \n",
       "1395              город Москва, Ярославское шоссе, дом 5     200             0  \n",
       "8883   город Московский, Солнечная улица, дом 3А, стр...      18             0  \n",
       "14381             город Москва, Ярцевская улица, дом 25А      25             0  \n",
       "10804              город Москва, улица Стромынка, дом 11      14             0  \n",
       "9653             город Москва, Никитский бульвар, дом 12      48             0  \n",
       "14491  город Москва, улица Ленинская Слобода, дом 23,...      20             0  \n",
       "3486                  город Москва, улица Раменки, дом 5      80             0  \n",
       "5708              город Москва, Курганская улица, дом 4А      90             0  \n",
       "4191       город Москва, Снежная улица, дом 13, корпус 1       1             0  \n",
       "4478   город Москва, Трубниковский переулок, дом 15, ...     100             0  \n",
       "5996   город Москва, Волгоградский проспект, дом 133,...      90             1  \n",
       "3762    город Москва, улица Покровка, дом 10, строение 5      33             0  \n",
       "5544   город Москва, улица Богородский Вал, дом 3, ст...      30             0  \n",
       "12799  город Москва, улица Кибальчича, дом 2, корпус ...       0             0  \n",
       "7381            город Москва, Чертановская улица, дом 1Г      54             1  "
      ]
     },
     "execution_count": 26,
     "metadata": {},
     "output_type": "execute_result"
    }
   ],
   "source": [
    "#Отменим лимит на вывод строк и посмотрим 100 случайных записей\n",
    "pd.set_option('max_rows', None)\n",
    "\n",
    "rest_data.sample(100)"
   ]
  },
  {
   "cell_type": "markdown",
   "metadata": {},
   "source": [
    "Были отмечены основные варианты - переулок, проспект, набережная, площадь, улица, проезд, бульвар, шоссе, тупик.\\\n",
    "Так же встречаются названия городских поселений, других городов (например, Зеленоград).\\\n",
    "Для более корректного выделения названия улицы, напишем функцию."
   ]
  },
  {
   "cell_type": "code",
   "execution_count": 27,
   "metadata": {},
   "outputs": [],
   "source": [
    "#Вернём количество выводимых строк = 10\n",
    "pd.set_option('max_rows', 10)"
   ]
  },
  {
   "cell_type": "code",
   "execution_count": 28,
   "metadata": {
    "scrolled": true
   },
   "outputs": [
    {
     "data": {
      "text/html": [
       "<div>\n",
       "<style scoped>\n",
       "    .dataframe tbody tr th:only-of-type {\n",
       "        vertical-align: middle;\n",
       "    }\n",
       "\n",
       "    .dataframe tbody tr th {\n",
       "        vertical-align: top;\n",
       "    }\n",
       "\n",
       "    .dataframe thead th {\n",
       "        text-align: right;\n",
       "    }\n",
       "</style>\n",
       "<table border=\"1\" class=\"dataframe\">\n",
       "  <thead>\n",
       "    <tr style=\"text-align: right;\">\n",
       "      <th></th>\n",
       "      <th>id</th>\n",
       "      <th>object_name</th>\n",
       "      <th>chain</th>\n",
       "      <th>object_type</th>\n",
       "      <th>address</th>\n",
       "      <th>number</th>\n",
       "      <th>chain_number</th>\n",
       "      <th>street</th>\n",
       "    </tr>\n",
       "  </thead>\n",
       "  <tbody>\n",
       "    <tr>\n",
       "      <td>0</td>\n",
       "      <td>151635</td>\n",
       "      <td>сметана</td>\n",
       "      <td>нет</td>\n",
       "      <td>кафе</td>\n",
       "      <td>город Москва, улица Егора Абакумова, дом 9</td>\n",
       "      <td>48</td>\n",
       "      <td>0</td>\n",
       "      <td>улица Егора Абакумова</td>\n",
       "    </tr>\n",
       "    <tr>\n",
       "      <td>1</td>\n",
       "      <td>77874</td>\n",
       "      <td>родник</td>\n",
       "      <td>нет</td>\n",
       "      <td>кафе</td>\n",
       "      <td>город Москва, улица Талалихина, дом 2/1, корпус 1</td>\n",
       "      <td>35</td>\n",
       "      <td>0</td>\n",
       "      <td>улица Талалихина</td>\n",
       "    </tr>\n",
       "    <tr>\n",
       "      <td>2</td>\n",
       "      <td>24309</td>\n",
       "      <td>кафе «академия»</td>\n",
       "      <td>нет</td>\n",
       "      <td>кафе</td>\n",
       "      <td>город Москва, Абельмановская улица, дом 6</td>\n",
       "      <td>95</td>\n",
       "      <td>0</td>\n",
       "      <td>Абельмановская улица</td>\n",
       "    </tr>\n",
       "    <tr>\n",
       "      <td>3</td>\n",
       "      <td>21894</td>\n",
       "      <td>пиццетория</td>\n",
       "      <td>да</td>\n",
       "      <td>кафе</td>\n",
       "      <td>город Москва, Абрамцевская улица, дом 1</td>\n",
       "      <td>40</td>\n",
       "      <td>1</td>\n",
       "      <td>Абрамцевская улица</td>\n",
       "    </tr>\n",
       "    <tr>\n",
       "      <td>4</td>\n",
       "      <td>119365</td>\n",
       "      <td>кафе «вишневая метель»</td>\n",
       "      <td>нет</td>\n",
       "      <td>кафе</td>\n",
       "      <td>город Москва, Абрамцевская улица, дом 9, корпус 1</td>\n",
       "      <td>50</td>\n",
       "      <td>0</td>\n",
       "      <td>Абрамцевская улица</td>\n",
       "    </tr>\n",
       "  </tbody>\n",
       "</table>\n",
       "</div>"
      ],
      "text/plain": [
       "       id             object_name chain object_type  \\\n",
       "0  151635                 сметана   нет        кафе   \n",
       "1   77874                  родник   нет        кафе   \n",
       "2   24309         кафе «академия»   нет        кафе   \n",
       "3   21894              пиццетория    да        кафе   \n",
       "4  119365  кафе «вишневая метель»   нет        кафе   \n",
       "\n",
       "                                             address  number  chain_number  \\\n",
       "0         город Москва, улица Егора Абакумова, дом 9      48             0   \n",
       "1  город Москва, улица Талалихина, дом 2/1, корпус 1      35             0   \n",
       "2          город Москва, Абельмановская улица, дом 6      95             0   \n",
       "3            город Москва, Абрамцевская улица, дом 1      40             1   \n",
       "4  город Москва, Абрамцевская улица, дом 9, корпус 1      50             0   \n",
       "\n",
       "                  street  \n",
       "0  улица Егора Абакумова  \n",
       "1       улица Талалихина  \n",
       "2   Абельмановская улица  \n",
       "3     Абрамцевская улица  \n",
       "4     Абрамцевская улица  "
      ]
     },
     "execution_count": 28,
     "metadata": {},
     "output_type": "execute_result"
    }
   ],
   "source": [
    "#Создадим список с синонимами улицы\n",
    "street_def = ['переулок', 'проспект', 'набережная', 'площадь', 'улица', 'проезд', 'бульвар', 'шоссе', 'тупик']\n",
    "\n",
    "#Напишем функцию для выделения улицы в отдельный столбец\n",
    "def get_street(row):\n",
    "    for e in row.split(','):\n",
    "        for i in street_def:\n",
    "            if i in e.lower():\n",
    "                return e\n",
    "\n",
    "#Применим функцию к новому столбцу\n",
    "rest_data['street'] = rest_data['address'].apply(get_street)\n",
    "rest_data['street'] = rest_data['street'].str.strip()\n",
    "rest_data.head()"
   ]
  },
  {
   "cell_type": "markdown",
   "metadata": {},
   "source": [
    "Узнаем, сколько пропусков в столбце street. Это названия населенных пунктов, а так же не самые популярные синонимы \"улицы\", которые не попали в список `street_def`."
   ]
  },
  {
   "cell_type": "code",
   "execution_count": 29,
   "metadata": {},
   "outputs": [
    {
     "name": "stdout",
     "output_type": "stream",
     "text": [
      "Всего записей: 15366\n",
      "Пропусков: 446\n",
      "% пропусков: 2.902512039567877\n"
     ]
    }
   ],
   "source": [
    "#Посчитаем количество пропусков в новом столбце street\n",
    "print('Всего записей:', len(rest_data['street']))\n",
    "print('Пропусков:', rest_data['street'].isna().sum())\n",
    "print('% пропусков:', (rest_data['street'].isna().sum()/len(rest_data['street']))*100)"
   ]
  },
  {
   "cell_type": "markdown",
   "metadata": {},
   "source": [
    "`Основные выводы`"
   ]
  },
  {
   "cell_type": "markdown",
   "metadata": {},
   "source": [
    "- Была написана и применена функция для выделения названия улицы;\n",
    "- Названия улиц, которые мы не смогли выделить составляют около 3% от общего количества. Сочтём это допустимой погрешностью."
   ]
  },
  {
   "cell_type": "markdown",
   "metadata": {},
   "source": [
    "`Постройте график топ-10 улиц по количеству объектов общественного питания. Воспользуйтесь внешней информацией и ответьте на вопрос — в каких районах Москвы находятся эти улицы?`"
   ]
  },
  {
   "cell_type": "code",
   "execution_count": 30,
   "metadata": {},
   "outputs": [
    {
     "data": {
      "text/html": [
       "<div>\n",
       "<style scoped>\n",
       "    .dataframe tbody tr th:only-of-type {\n",
       "        vertical-align: middle;\n",
       "    }\n",
       "\n",
       "    .dataframe tbody tr th {\n",
       "        vertical-align: top;\n",
       "    }\n",
       "\n",
       "    .dataframe thead th {\n",
       "        text-align: right;\n",
       "    }\n",
       "</style>\n",
       "<table border=\"1\" class=\"dataframe\">\n",
       "  <thead>\n",
       "    <tr style=\"text-align: right;\">\n",
       "      <th></th>\n",
       "      <th>street</th>\n",
       "      <th>number</th>\n",
       "    </tr>\n",
       "  </thead>\n",
       "  <tbody>\n",
       "    <tr>\n",
       "      <td>0</td>\n",
       "      <td>проспект Мира</td>\n",
       "      <td>204</td>\n",
       "    </tr>\n",
       "    <tr>\n",
       "      <td>1</td>\n",
       "      <td>Профсоюзная улица</td>\n",
       "      <td>183</td>\n",
       "    </tr>\n",
       "    <tr>\n",
       "      <td>2</td>\n",
       "      <td>Ленинградский проспект</td>\n",
       "      <td>173</td>\n",
       "    </tr>\n",
       "    <tr>\n",
       "      <td>3</td>\n",
       "      <td>Пресненская набережная</td>\n",
       "      <td>167</td>\n",
       "    </tr>\n",
       "    <tr>\n",
       "      <td>4</td>\n",
       "      <td>Варшавское шоссе</td>\n",
       "      <td>165</td>\n",
       "    </tr>\n",
       "    <tr>\n",
       "      <td>5</td>\n",
       "      <td>Ленинский проспект</td>\n",
       "      <td>148</td>\n",
       "    </tr>\n",
       "    <tr>\n",
       "      <td>6</td>\n",
       "      <td>проспект Вернадского</td>\n",
       "      <td>132</td>\n",
       "    </tr>\n",
       "    <tr>\n",
       "      <td>7</td>\n",
       "      <td>Кутузовский проспект</td>\n",
       "      <td>114</td>\n",
       "    </tr>\n",
       "    <tr>\n",
       "      <td>8</td>\n",
       "      <td>Каширское шоссе</td>\n",
       "      <td>112</td>\n",
       "    </tr>\n",
       "    <tr>\n",
       "      <td>9</td>\n",
       "      <td>Кировоградская улица</td>\n",
       "      <td>110</td>\n",
       "    </tr>\n",
       "  </tbody>\n",
       "</table>\n",
       "</div>"
      ],
      "text/plain": [
       "                   street  number\n",
       "0           проспект Мира     204\n",
       "1       Профсоюзная улица     183\n",
       "2  Ленинградский проспект     173\n",
       "3  Пресненская набережная     167\n",
       "4        Варшавское шоссе     165\n",
       "5      Ленинский проспект     148\n",
       "6    проспект Вернадского     132\n",
       "7    Кутузовский проспект     114\n",
       "8         Каширское шоссе     112\n",
       "9    Кировоградская улица     110"
      ]
     },
     "execution_count": 30,
     "metadata": {},
     "output_type": "execute_result"
    }
   ],
   "source": [
    "#Получим таблицу с топ-10 улиц по количеству объектов общественного питания\n",
    "top_10_street = (\n",
    "    rest_data\n",
    "    .pivot_table(index='street', values='id', aggfunc='count')\n",
    "    .rename(columns={'id': 'number'})\n",
    "    .sort_values(by='number', ascending=False)\n",
    "    .reset_index()\n",
    "    .head(10)\n",
    ")\n",
    "top_10_street"
   ]
  },
  {
   "cell_type": "code",
   "execution_count": 31,
   "metadata": {
    "scrolled": false
   },
   "outputs": [
    {
     "data": {
      "image/png": "[encoded data removed]",
      "text/plain": [
       "<Figure size 432x432 with 1 Axes>"
      ]
     },
     "metadata": {
      "needs_background": "light"
     },
     "output_type": "display_data"
    }
   ],
   "source": [
    "#Построим столбчатую диаграмму топ-10 улиц\n",
    "fig, test = plt.subplots()\n",
    "sns.barplot(x='street', y='number', data=top_10_street, palette='hls')\n",
    "\n",
    "test.set_title('Топ-10 улиц по количеству объектов общественного питания')\n",
    "test.set_xlabel('Улица')\n",
    "test.set_ylabel('Количество')\n",
    "plt.xticks(rotation=80)\n",
    "fig.set_figheight(6)\n",
    "fig.set_figwidth(6)\n",
    "plt.show()"
   ]
  },
  {
   "cell_type": "markdown",
   "metadata": {},
   "source": [
    "Добавим информацию о районах из внешнего источника с репозитория Dspace. "
   ]
  },
  {
   "cell_type": "code",
   "execution_count": 32,
   "metadata": {},
   "outputs": [
    {
     "name": "stdout",
     "output_type": "stream",
     "text": [
      "<class 'pandas.core.frame.DataFrame'>\n",
      "RangeIndex: 4398 entries, 0 to 4397\n",
      "Data columns (total 4 columns):\n",
      "streetname    4398 non-null object\n",
      "areaid        4398 non-null int64\n",
      "okrug         4398 non-null object\n",
      "area          4398 non-null object\n",
      "dtypes: int64(1), object(3)\n",
      "memory usage: 137.6+ KB\n"
     ]
    }
   ],
   "source": [
    "#Получим датасет о районах из внешнего источника\n",
    "area_info = pd.read_csv('https://frs.noosphere.ru/xmlui/bitstream/handle/20.500.11925/714058/mosgaz-streets.csv')\n",
    "area_info.info()"
   ]
  },
  {
   "cell_type": "markdown",
   "metadata": {},
   "source": [
    "Пропусков в данных нет, находятся в удобных для работы в форматах. Произведем переименования столбца с улицами."
   ]
  },
  {
   "cell_type": "code",
   "execution_count": 33,
   "metadata": {
    "scrolled": true
   },
   "outputs": [
    {
     "data": {
      "text/html": [
       "<div>\n",
       "<style scoped>\n",
       "    .dataframe tbody tr th:only-of-type {\n",
       "        vertical-align: middle;\n",
       "    }\n",
       "\n",
       "    .dataframe tbody tr th {\n",
       "        vertical-align: top;\n",
       "    }\n",
       "\n",
       "    .dataframe thead th {\n",
       "        text-align: right;\n",
       "    }\n",
       "</style>\n",
       "<table border=\"1\" class=\"dataframe\">\n",
       "  <thead>\n",
       "    <tr style=\"text-align: right;\">\n",
       "      <th></th>\n",
       "      <th>street</th>\n",
       "      <th>areaid</th>\n",
       "      <th>okrug</th>\n",
       "      <th>area</th>\n",
       "    </tr>\n",
       "  </thead>\n",
       "  <tbody>\n",
       "    <tr>\n",
       "      <td>0</td>\n",
       "      <td>Выставочный переулок</td>\n",
       "      <td>17</td>\n",
       "      <td>ЦАО</td>\n",
       "      <td>Пресненский район</td>\n",
       "    </tr>\n",
       "    <tr>\n",
       "      <td>1</td>\n",
       "      <td>улица Гашека</td>\n",
       "      <td>17</td>\n",
       "      <td>ЦАО</td>\n",
       "      <td>Пресненский район</td>\n",
       "    </tr>\n",
       "    <tr>\n",
       "      <td>2</td>\n",
       "      <td>Большая Никитская улица</td>\n",
       "      <td>17</td>\n",
       "      <td>ЦАО</td>\n",
       "      <td>Пресненский район</td>\n",
       "    </tr>\n",
       "    <tr>\n",
       "      <td>3</td>\n",
       "      <td>Глубокий переулок</td>\n",
       "      <td>17</td>\n",
       "      <td>ЦАО</td>\n",
       "      <td>Пресненский район</td>\n",
       "    </tr>\n",
       "    <tr>\n",
       "      <td>4</td>\n",
       "      <td>Большой Гнездниковский переулок</td>\n",
       "      <td>17</td>\n",
       "      <td>ЦАО</td>\n",
       "      <td>Пресненский район</td>\n",
       "    </tr>\n",
       "  </tbody>\n",
       "</table>\n",
       "</div>"
      ],
      "text/plain": [
       "                            street  areaid okrug               area\n",
       "0             Выставочный переулок      17   ЦАО  Пресненский район\n",
       "1                     улица Гашека      17   ЦАО  Пресненский район\n",
       "2          Большая Никитская улица      17   ЦАО  Пресненский район\n",
       "3                Глубокий переулок      17   ЦАО  Пресненский район\n",
       "4  Большой Гнездниковский переулок      17   ЦАО  Пресненский район"
      ]
     },
     "execution_count": 33,
     "metadata": {},
     "output_type": "execute_result"
    }
   ],
   "source": [
    "#Переименуем название столбца с улицами\n",
    "area_info = area_info.rename(columns={'streetname': 'street'})\n",
    "area_info.head()"
   ]
  },
  {
   "cell_type": "code",
   "execution_count": 34,
   "metadata": {},
   "outputs": [],
   "source": [
    "#объединим таблицы rest_data с районами\n",
    "street_area = rest_data.merge(area_info[['street', 'area']], on='street', how='left')"
   ]
  },
  {
   "cell_type": "code",
   "execution_count": 35,
   "metadata": {},
   "outputs": [
    {
     "name": "stdout",
     "output_type": "stream",
     "text": [
      "1883\n",
      "1883\n"
     ]
    }
   ],
   "source": [
    "#Проверим количество уникальных улиц до и после присоединения\n",
    "print(len(rest_data['street'].unique()))\n",
    "print(len(street_area['street'].unique()))"
   ]
  },
  {
   "cell_type": "markdown",
   "metadata": {},
   "source": [
    "После присоединения таблицы с районом получилась ситуация, что одна улица может проходить через несколько районов Москвы. Без специальных геосервисов невозможно точно определить, в каком именно районе расположен участок улицы с заведениями.\\\n",
    "Сделаем срез основной таблицы по топ-10 улицам, затем произведём группировку по районам и определим самые плотно заселённые предприятиями общественного питания районы."
   ]
  },
  {
   "cell_type": "code",
   "execution_count": 36,
   "metadata": {},
   "outputs": [
    {
     "data": {
      "text/html": [
       "<div>\n",
       "<style scoped>\n",
       "    .dataframe tbody tr th:only-of-type {\n",
       "        vertical-align: middle;\n",
       "    }\n",
       "\n",
       "    .dataframe tbody tr th {\n",
       "        vertical-align: top;\n",
       "    }\n",
       "\n",
       "    .dataframe thead th {\n",
       "        text-align: right;\n",
       "    }\n",
       "</style>\n",
       "<table border=\"1\" class=\"dataframe\">\n",
       "  <thead>\n",
       "    <tr style=\"text-align: right;\">\n",
       "      <th></th>\n",
       "      <th>area</th>\n",
       "      <th>number</th>\n",
       "    </tr>\n",
       "  </thead>\n",
       "  <tbody>\n",
       "    <tr>\n",
       "      <td>25</td>\n",
       "      <td>Район Теплый Стан</td>\n",
       "      <td>331</td>\n",
       "    </tr>\n",
       "    <tr>\n",
       "      <td>6</td>\n",
       "      <td>Обручевский район</td>\n",
       "      <td>331</td>\n",
       "    </tr>\n",
       "    <tr>\n",
       "      <td>2</td>\n",
       "      <td>Донской район</td>\n",
       "      <td>313</td>\n",
       "    </tr>\n",
       "    <tr>\n",
       "      <td>19</td>\n",
       "      <td>Район Проспект Вернадского</td>\n",
       "      <td>280</td>\n",
       "    </tr>\n",
       "    <tr>\n",
       "      <td>3</td>\n",
       "      <td>Ломоносовский район</td>\n",
       "      <td>280</td>\n",
       "    </tr>\n",
       "    <tr>\n",
       "      <td>26</td>\n",
       "      <td>Район Тропарево-Никулино</td>\n",
       "      <td>280</td>\n",
       "    </tr>\n",
       "    <tr>\n",
       "      <td>11</td>\n",
       "      <td>Район Гагаринский</td>\n",
       "      <td>280</td>\n",
       "    </tr>\n",
       "    <tr>\n",
       "      <td>16</td>\n",
       "      <td>Район Нагатино-Садовники</td>\n",
       "      <td>277</td>\n",
       "    </tr>\n",
       "    <tr>\n",
       "      <td>30</td>\n",
       "      <td>Район Чертаново Центральное</td>\n",
       "      <td>275</td>\n",
       "    </tr>\n",
       "    <tr>\n",
       "      <td>29</td>\n",
       "      <td>Район Чертаново Северное</td>\n",
       "      <td>275</td>\n",
       "    </tr>\n",
       "  </tbody>\n",
       "</table>\n",
       "</div>"
      ],
      "text/plain": [
       "                           area  number\n",
       "25            Район Теплый Стан     331\n",
       "6             Обручевский район     331\n",
       "2                 Донской район     313\n",
       "19   Район Проспект Вернадского     280\n",
       "3           Ломоносовский район     280\n",
       "26     Район Тропарево-Никулино     280\n",
       "11            Район Гагаринский     280\n",
       "16     Район Нагатино-Садовники     277\n",
       "30  Район Чертаново Центральное     275\n",
       "29     Район Чертаново Северное     275"
      ]
     },
     "execution_count": 36,
     "metadata": {},
     "output_type": "execute_result"
    }
   ],
   "source": [
    "#Сделаем срез новой таблицы, что бы остались улицы только из топ-10 по количеству заведений, удалим полные дубликаты\n",
    "top_street_area = street_area[street_area['street'].isin(top_10_street['street'])].drop_duplicates()\n",
    "\n",
    "#Произведём группировку по районам, посчитаем количество заведений в каждом районе\n",
    "top_id_area = (\n",
    "    top_street_area\n",
    "    .groupby('area').agg({'id':'count'})\n",
    "    .rename(columns={'id': 'number'})\n",
    "    .reset_index()\n",
    "    .sort_values(by='number', ascending=False)\n",
    "    .head(10)\n",
    ")\n",
    "top_id_area"
   ]
  },
  {
   "cell_type": "code",
   "execution_count": 37,
   "metadata": {},
   "outputs": [
    {
     "data": {
      "image/png": "[encoded data removed]",
      "text/plain": [
       "<Figure size 432x432 with 1 Axes>"
      ]
     },
     "metadata": {
      "needs_background": "light"
     },
     "output_type": "display_data"
    }
   ],
   "source": [
    "#Построим столбчатую диаграмму топ-10 районов\n",
    "fig, test = plt.subplots()\n",
    "sns.barplot(x='area', y='number', data=top_id_area, palette='hls')\n",
    "\n",
    "test.set_title('Топ-10 райнов по количеству объектов общественного питания')\n",
    "test.set_xlabel('Район')\n",
    "test.set_ylabel('Количество')\n",
    "plt.xticks(rotation=80)\n",
    "fig.set_figheight(6)\n",
    "fig.set_figwidth(6)\n",
    "plt.show()"
   ]
  },
  {
   "cell_type": "markdown",
   "metadata": {},
   "source": [
    "`Основные выводы`"
   ]
  },
  {
   "cell_type": "markdown",
   "metadata": {},
   "source": [
    "- Был получен топ-10 улиц по количеству объектов общественного питания. Самые популярные - проспект Мира, Профсоюзная улица, Ленинградский проспект;\n",
    "- Топ-10 улиц проходят в 37 районах Москвы. Без специальных геосервисов невозможно точно определить, в каком именно районе расположено каждое заведение;\n",
    "- Районы, в которых больше всего заведений - Тёплый стан, Обручевский район, Донской район. Данные районы расположены не в центре города - высокую концетрацию заведений можно объяснить более низкой арендной платой, большой концентрацией людей в спальных районых."
   ]
  },
  {
   "cell_type": "markdown",
   "metadata": {},
   "source": [
    "`Найдите число улиц с одним объектом общественного питания. Воспользуйтесь внешней информацией и ответьте на вопрос — в каких районах Москвы находятся эти улицы?`"
   ]
  },
  {
   "cell_type": "code",
   "execution_count": 38,
   "metadata": {},
   "outputs": [
    {
     "data": {
      "text/html": [
       "<div>\n",
       "<style scoped>\n",
       "    .dataframe tbody tr th:only-of-type {\n",
       "        vertical-align: middle;\n",
       "    }\n",
       "\n",
       "    .dataframe tbody tr th {\n",
       "        vertical-align: top;\n",
       "    }\n",
       "\n",
       "    .dataframe thead th {\n",
       "        text-align: right;\n",
       "    }\n",
       "</style>\n",
       "<table border=\"1\" class=\"dataframe\">\n",
       "  <thead>\n",
       "    <tr style=\"text-align: right;\">\n",
       "      <th></th>\n",
       "      <th>street</th>\n",
       "      <th>number</th>\n",
       "    </tr>\n",
       "  </thead>\n",
       "  <tbody>\n",
       "    <tr>\n",
       "      <td>0</td>\n",
       "      <td>Перовский проезд</td>\n",
       "      <td>1</td>\n",
       "    </tr>\n",
       "    <tr>\n",
       "      <td>1</td>\n",
       "      <td>Изваринская улица</td>\n",
       "      <td>1</td>\n",
       "    </tr>\n",
       "    <tr>\n",
       "      <td>2</td>\n",
       "      <td>Известковый переулок</td>\n",
       "      <td>1</td>\n",
       "    </tr>\n",
       "    <tr>\n",
       "      <td>3</td>\n",
       "      <td>Измайловская площадь</td>\n",
       "      <td>1</td>\n",
       "    </tr>\n",
       "    <tr>\n",
       "      <td>4</td>\n",
       "      <td>переулок Васнецова</td>\n",
       "      <td>1</td>\n",
       "    </tr>\n",
       "    <tr>\n",
       "      <td>...</td>\n",
       "      <td>...</td>\n",
       "      <td>...</td>\n",
       "    </tr>\n",
       "    <tr>\n",
       "      <td>536</td>\n",
       "      <td>улица Лапина</td>\n",
       "      <td>1</td>\n",
       "    </tr>\n",
       "    <tr>\n",
       "      <td>537</td>\n",
       "      <td>улица Кубинка</td>\n",
       "      <td>1</td>\n",
       "    </tr>\n",
       "    <tr>\n",
       "      <td>538</td>\n",
       "      <td>Большая Ширяевская улица</td>\n",
       "      <td>1</td>\n",
       "    </tr>\n",
       "    <tr>\n",
       "      <td>539</td>\n",
       "      <td>Богоявленский переулок</td>\n",
       "      <td>1</td>\n",
       "    </tr>\n",
       "    <tr>\n",
       "      <td>540</td>\n",
       "      <td>улица Красных Зорь</td>\n",
       "      <td>1</td>\n",
       "    </tr>\n",
       "  </tbody>\n",
       "</table>\n",
       "<p>541 rows × 2 columns</p>\n",
       "</div>"
      ],
      "text/plain": [
       "                       street  number\n",
       "0            Перовский проезд       1\n",
       "1           Изваринская улица       1\n",
       "2        Известковый переулок       1\n",
       "3        Измайловская площадь       1\n",
       "4          переулок Васнецова       1\n",
       "..                        ...     ...\n",
       "536              улица Лапина       1\n",
       "537             улица Кубинка       1\n",
       "538  Большая Ширяевская улица       1\n",
       "539    Богоявленский переулок       1\n",
       "540        улица Красных Зорь       1\n",
       "\n",
       "[541 rows x 2 columns]"
      ]
     },
     "execution_count": 38,
     "metadata": {},
     "output_type": "execute_result"
    }
   ],
   "source": [
    "#Получим таблицу c одним объектом общественного питания\n",
    "one_cafe_street = (\n",
    "    rest_data\n",
    "    .pivot_table(index='street', values='id', aggfunc='count')\n",
    "    .rename(columns={'id': 'number'})\n",
    "    .sort_values(by='number', ascending=True)\n",
    "    .reset_index()\n",
    "    .query('number == 1')\n",
    ")\n",
    "one_cafe_street"
   ]
  },
  {
   "cell_type": "code",
   "execution_count": 39,
   "metadata": {
    "scrolled": true
   },
   "outputs": [
    {
     "data": {
      "text/html": [
       "<div>\n",
       "<style scoped>\n",
       "    .dataframe tbody tr th:only-of-type {\n",
       "        vertical-align: middle;\n",
       "    }\n",
       "\n",
       "    .dataframe tbody tr th {\n",
       "        vertical-align: top;\n",
       "    }\n",
       "\n",
       "    .dataframe thead th {\n",
       "        text-align: right;\n",
       "    }\n",
       "</style>\n",
       "<table border=\"1\" class=\"dataframe\">\n",
       "  <thead>\n",
       "    <tr style=\"text-align: right;\">\n",
       "      <th></th>\n",
       "      <th>street</th>\n",
       "      <th>number</th>\n",
       "      <th>area</th>\n",
       "    </tr>\n",
       "  </thead>\n",
       "  <tbody>\n",
       "    <tr>\n",
       "      <td>0</td>\n",
       "      <td>Перовский проезд</td>\n",
       "      <td>1</td>\n",
       "      <td>Район Лефортово</td>\n",
       "    </tr>\n",
       "    <tr>\n",
       "      <td>1</td>\n",
       "      <td>Перовский проезд</td>\n",
       "      <td>1</td>\n",
       "      <td>Нижегородский район</td>\n",
       "    </tr>\n",
       "    <tr>\n",
       "      <td>2</td>\n",
       "      <td>Изваринская улица</td>\n",
       "      <td>1</td>\n",
       "      <td>Район Внуково</td>\n",
       "    </tr>\n",
       "    <tr>\n",
       "      <td>3</td>\n",
       "      <td>Известковый переулок</td>\n",
       "      <td>1</td>\n",
       "      <td>Таганский район</td>\n",
       "    </tr>\n",
       "    <tr>\n",
       "      <td>4</td>\n",
       "      <td>Измайловская площадь</td>\n",
       "      <td>1</td>\n",
       "      <td>Район Измайлово</td>\n",
       "    </tr>\n",
       "    <tr>\n",
       "      <td>...</td>\n",
       "      <td>...</td>\n",
       "      <td>...</td>\n",
       "      <td>...</td>\n",
       "    </tr>\n",
       "    <tr>\n",
       "      <td>582</td>\n",
       "      <td>улица Лапина</td>\n",
       "      <td>1</td>\n",
       "      <td>Район Лефортово</td>\n",
       "    </tr>\n",
       "    <tr>\n",
       "      <td>583</td>\n",
       "      <td>улица Кубинка</td>\n",
       "      <td>1</td>\n",
       "      <td>Можайский Район</td>\n",
       "    </tr>\n",
       "    <tr>\n",
       "      <td>584</td>\n",
       "      <td>Большая Ширяевская улица</td>\n",
       "      <td>1</td>\n",
       "      <td>Район Сокольники</td>\n",
       "    </tr>\n",
       "    <tr>\n",
       "      <td>585</td>\n",
       "      <td>Богоявленский переулок</td>\n",
       "      <td>1</td>\n",
       "      <td>Тверской район</td>\n",
       "    </tr>\n",
       "    <tr>\n",
       "      <td>586</td>\n",
       "      <td>улица Красных Зорь</td>\n",
       "      <td>1</td>\n",
       "      <td>Можайский Район</td>\n",
       "    </tr>\n",
       "  </tbody>\n",
       "</table>\n",
       "<p>587 rows × 3 columns</p>\n",
       "</div>"
      ],
      "text/plain": [
       "                       street  number                 area\n",
       "0            Перовский проезд       1      Район Лефортово\n",
       "1            Перовский проезд       1  Нижегородский район\n",
       "2           Изваринская улица       1        Район Внуково\n",
       "3        Известковый переулок       1      Таганский район\n",
       "4        Измайловская площадь       1      Район Измайлово\n",
       "..                        ...     ...                  ...\n",
       "582              улица Лапина       1      Район Лефортово\n",
       "583             улица Кубинка       1      Можайский Район\n",
       "584  Большая Ширяевская улица       1     Район Сокольники\n",
       "585    Богоявленский переулок       1       Тверской район\n",
       "586        улица Красных Зорь       1      Можайский Район\n",
       "\n",
       "[587 rows x 3 columns]"
      ]
     },
     "execution_count": 39,
     "metadata": {},
     "output_type": "execute_result"
    }
   ],
   "source": [
    "#Объединим таблицу с одним объектом с внешней таблицей с районами\n",
    "one_cafe_merge = one_cafe_street.merge(area_info[['street', 'area']], on='street', how='left')\n",
    "one_cafe_merge"
   ]
  },
  {
   "cell_type": "code",
   "execution_count": 40,
   "metadata": {},
   "outputs": [
    {
     "name": "stdout",
     "output_type": "stream",
     "text": [
      "541\n",
      "541\n"
     ]
    }
   ],
   "source": [
    "#Проверим количество уникальных улиц до и после присоединения\n",
    "print(len(one_cafe_street['street'].unique()))\n",
    "print(len(one_cafe_merge['street'].unique()))"
   ]
  },
  {
   "cell_type": "code",
   "execution_count": 41,
   "metadata": {},
   "outputs": [
    {
     "data": {
      "text/html": [
       "<div>\n",
       "<style scoped>\n",
       "    .dataframe tbody tr th:only-of-type {\n",
       "        vertical-align: middle;\n",
       "    }\n",
       "\n",
       "    .dataframe tbody tr th {\n",
       "        vertical-align: top;\n",
       "    }\n",
       "\n",
       "    .dataframe thead th {\n",
       "        text-align: right;\n",
       "    }\n",
       "</style>\n",
       "<table border=\"1\" class=\"dataframe\">\n",
       "  <thead>\n",
       "    <tr style=\"text-align: right;\">\n",
       "      <th></th>\n",
       "      <th>area</th>\n",
       "      <th>street</th>\n",
       "    </tr>\n",
       "  </thead>\n",
       "  <tbody>\n",
       "    <tr>\n",
       "      <td>94</td>\n",
       "      <td>Таганский район</td>\n",
       "      <td>27</td>\n",
       "    </tr>\n",
       "    <tr>\n",
       "      <td>80</td>\n",
       "      <td>Район Хамовники</td>\n",
       "      <td>26</td>\n",
       "    </tr>\n",
       "    <tr>\n",
       "      <td>3</td>\n",
       "      <td>Басманный район</td>\n",
       "      <td>25</td>\n",
       "    </tr>\n",
       "    <tr>\n",
       "      <td>21</td>\n",
       "      <td>Пресненский район</td>\n",
       "      <td>20</td>\n",
       "    </tr>\n",
       "    <tr>\n",
       "      <td>95</td>\n",
       "      <td>Тверской район</td>\n",
       "      <td>20</td>\n",
       "    </tr>\n",
       "    <tr>\n",
       "      <td>22</td>\n",
       "      <td>Район Арбат</td>\n",
       "      <td>18</td>\n",
       "    </tr>\n",
       "    <tr>\n",
       "      <td>52</td>\n",
       "      <td>Район Марьина роща</td>\n",
       "      <td>18</td>\n",
       "    </tr>\n",
       "    <tr>\n",
       "      <td>13</td>\n",
       "      <td>Мещанский район</td>\n",
       "      <td>16</td>\n",
       "    </tr>\n",
       "    <tr>\n",
       "      <td>34</td>\n",
       "      <td>Район Замоскворечье</td>\n",
       "      <td>14</td>\n",
       "    </tr>\n",
       "    <tr>\n",
       "      <td>48</td>\n",
       "      <td>Район Лефортово</td>\n",
       "      <td>12</td>\n",
       "    </tr>\n",
       "  </tbody>\n",
       "</table>\n",
       "</div>"
      ],
      "text/plain": [
       "                   area  street\n",
       "94      Таганский район      27\n",
       "80      Район Хамовники      26\n",
       "3       Басманный район      25\n",
       "21    Пресненский район      20\n",
       "95       Тверской район      20\n",
       "22          Район Арбат      18\n",
       "52   Район Марьина роща      18\n",
       "13      Мещанский район      16\n",
       "34  Район Замоскворечье      14\n",
       "48      Район Лефортово      12"
      ]
     },
     "execution_count": 41,
     "metadata": {},
     "output_type": "execute_result"
    }
   ],
   "source": [
    "#Произведём группировку по районам\n",
    "one_cafe_group = (\n",
    "    one_cafe_merge\n",
    "    .groupby('area').agg({'street':'count'})\n",
    "    .reset_index()\n",
    "    .sort_values(by='street', ascending=False)\n",
    "    .head(10)\n",
    ")\n",
    "one_cafe_group"
   ]
  },
  {
   "cell_type": "code",
   "execution_count": 42,
   "metadata": {},
   "outputs": [
    {
     "data": {
      "image/png": "[encoded data removed]",
      "text/plain": [
       "<Figure size 432x432 with 1 Axes>"
      ]
     },
     "metadata": {
      "needs_background": "light"
     },
     "output_type": "display_data"
    }
   ],
   "source": [
    "#Построим столбчатую диаграмму топ-10 районов с улицами с одним предприятием\n",
    "fig, test = plt.subplots()\n",
    "sns.barplot(x='area', y='street', data=one_cafe_group, palette='hls')\n",
    "\n",
    "test.set_title('Топ-10 райнов с улицами с одним предприятием')\n",
    "test.set_xlabel('Район')\n",
    "test.set_ylabel('Количество улиц')\n",
    "plt.xticks(rotation=80)\n",
    "fig.set_figheight(6)\n",
    "fig.set_figwidth(6)\n",
    "plt.show()"
   ]
  },
  {
   "cell_type": "markdown",
   "metadata": {},
   "source": [
    "`Основные выводы`"
   ]
  },
  {
   "cell_type": "markdown",
   "metadata": {},
   "source": [
    "- Число улиц с одним объектом общественного питания равняется 541;\n",
    "- Топ-5 районов, в которых больше всего улиц с одним объектом общественного питания - Таганский, Хамовники, Басманный, Пресненский, Тверской. Количество улиц с одним объектом колеблется от 20 до 27;\n",
    "- Данные районы расположены в центральной части города, где должна быть высокая арендная плата, не каждый может позволить платить такую цену;\n",
    "- В центральной части города часто встречаются небольшие улицы и переулки, где может быть одно заведение. Но количество таких маленьких улиц может быть большим в рамках района."
   ]
  },
  {
   "cell_type": "markdown",
   "metadata": {},
   "source": [
    "`Посмотрите на распределение количества посадочных мест для улиц с большим количеством объектов общественного питания. Какие закономерности можно выявить?`"
   ]
  },
  {
   "cell_type": "code",
   "execution_count": 43,
   "metadata": {
    "scrolled": false
   },
   "outputs": [
    {
     "data": {
      "text/html": [
       "<div>\n",
       "<style scoped>\n",
       "    .dataframe tbody tr th:only-of-type {\n",
       "        vertical-align: middle;\n",
       "    }\n",
       "\n",
       "    .dataframe tbody tr th {\n",
       "        vertical-align: top;\n",
       "    }\n",
       "\n",
       "    .dataframe thead th {\n",
       "        text-align: right;\n",
       "    }\n",
       "</style>\n",
       "<table border=\"1\" class=\"dataframe\">\n",
       "  <thead>\n",
       "    <tr style=\"text-align: right;\">\n",
       "      <th></th>\n",
       "      <th>number</th>\n",
       "    </tr>\n",
       "    <tr>\n",
       "      <th>street</th>\n",
       "      <th></th>\n",
       "    </tr>\n",
       "  </thead>\n",
       "  <tbody>\n",
       "    <tr>\n",
       "      <td>Кутузовский проспект</td>\n",
       "      <td>85</td>\n",
       "    </tr>\n",
       "    <tr>\n",
       "      <td>проспект Вернадского</td>\n",
       "      <td>67</td>\n",
       "    </tr>\n",
       "    <tr>\n",
       "      <td>Ленинский проспект</td>\n",
       "      <td>63</td>\n",
       "    </tr>\n",
       "    <tr>\n",
       "      <td>проспект Мира</td>\n",
       "      <td>63</td>\n",
       "    </tr>\n",
       "    <tr>\n",
       "      <td>Кировоградская улица</td>\n",
       "      <td>60</td>\n",
       "    </tr>\n",
       "    <tr>\n",
       "      <td>Каширское шоссе</td>\n",
       "      <td>55</td>\n",
       "    </tr>\n",
       "    <tr>\n",
       "      <td>Варшавское шоссе</td>\n",
       "      <td>52</td>\n",
       "    </tr>\n",
       "    <tr>\n",
       "      <td>Ленинградский проспект</td>\n",
       "      <td>52</td>\n",
       "    </tr>\n",
       "    <tr>\n",
       "      <td>Профсоюзная улица</td>\n",
       "      <td>47</td>\n",
       "    </tr>\n",
       "    <tr>\n",
       "      <td>Пресненская набережная</td>\n",
       "      <td>46</td>\n",
       "    </tr>\n",
       "  </tbody>\n",
       "</table>\n",
       "</div>"
      ],
      "text/plain": [
       "                        number\n",
       "street                        \n",
       "Кутузовский проспект        85\n",
       "проспект Вернадского        67\n",
       "Ленинский проспект          63\n",
       "проспект Мира               63\n",
       "Кировоградская улица        60\n",
       "Каширское шоссе             55\n",
       "Варшавское шоссе            52\n",
       "Ленинградский проспект      52\n",
       "Профсоюзная улица           47\n",
       "Пресненская набережная      46"
      ]
     },
     "execution_count": 43,
     "metadata": {},
     "output_type": "execute_result"
    }
   ],
   "source": [
    "#Произведём группировку улицам и выведем среднее количество посадочных мест\n",
    "streets_seats = (\n",
    "    top_street_area\n",
    "    .groupby('street').agg({'number':'mean'})\n",
    "    .sort_values(by='number', ascending=False)\n",
    "    .round(0)\n",
    "    .astype('int')\n",
    ")\n",
    "streets_seats"
   ]
  },
  {
   "cell_type": "code",
   "execution_count": 44,
   "metadata": {
    "scrolled": true
   },
   "outputs": [
    {
     "data": {
      "text/plain": [
       "count    1508.000000\n",
       "mean       57.965517\n",
       "std        89.955523\n",
       "min         0.000000\n",
       "25%        12.000000\n",
       "50%        38.500000\n",
       "75%        75.000000\n",
       "max      1700.000000\n",
       "Name: number, dtype: float64"
      ]
     },
     "execution_count": 44,
     "metadata": {},
     "output_type": "execute_result"
    }
   ],
   "source": [
    "#Выведем инфо о количестве посадочных мест для среза streets_seats\n",
    "rest_data[rest_data['street'].isin(streets_seats.index)]['number'].describe()"
   ]
  },
  {
   "cell_type": "code",
   "execution_count": 45,
   "metadata": {
    "scrolled": false
   },
   "outputs": [
    {
     "data": {
      "image/png": "[encoded data removed]",
      "text/plain": [
       "<Figure size 864x432 with 1 Axes>"
      ]
     },
     "metadata": {
      "needs_background": "light"
     },
     "output_type": "display_data"
    }
   ],
   "source": [
    "plt.figure(figsize=(12,6))\n",
    "ax = sns.histplot(rest_data[rest_data['street'].isin(streets_seats.index)]['number'], bins=100)\n",
    "plt.title('Гистограмма распределения количества посадочных мест для улиц с большим количеством посадочных мест ')\n",
    "plt.xlabel('Количество посадочных мест')\n",
    "plt.ylabel('Количество заведений')\n",
    "plt.show()"
   ]
  },
  {
   "cell_type": "markdown",
   "metadata": {},
   "source": [
    "`Основные выводы`"
   ]
  },
  {
   "cell_type": "markdown",
   "metadata": {},
   "source": [
    "Для улиц с большим количеством объектов общественного питания характерно:\n",
    "- В среднем в заведениях на этих улицах около 58 посадочных мест;\n",
    "- По гистограмме видно, что много заведений с посадочными местами от 0 и до 50;\n",
    "- Можно предположить, что на этих улицах доминируют предприятия быстрого питания, кафе и бары;\n",
    "- Если анализировать по улицам с большим количеством объектов общественного питания, то в среднем на Кутузовском проспекте - больше всего посадочных мест - 85. Возможно, на этой улице есть рестораны, которые обладают большими залами и большей вместительностью;\n",
    "- Для остальных улиц из списка топ-10 количество посадочных мест в среднем варьируется от 46 (на Пресненской набережной) до 67 (на проспекте Вернадского)."
   ]
  },
  {
   "cell_type": "markdown",
   "metadata": {},
   "source": [
    "`Общий вывод и рекомендации о виде заведения, количестве посадочных мест, а также районе расположения. Прокомментируйте возможность развития сети.`"
   ]
  },
  {
   "cell_type": "markdown",
   "metadata": {},
   "source": [
    "Был проведён анализ данных из открытых источников о заведениях общественного питания в Москве и установлены следующие характеристики:\n",
    "- Из заведений общественного питания больше всего - кафе. Их около 6000 во всём городе;\n",
    "- Сетевые заведения - всего 18% от общего количества предприятий общепита;\n",
    "- Самая большая доля сетевых заведений - в предприятиях быстрого обслуживания (41%);\n",
    "- Для сетевых заведений характерно большое количество заведений с небольшим количеством посадочных мест (от 0 до 100);\n",
    "- В среднем самое большое количество мест (около 130) представлено в столовых;\n",
    "- Самые популярные улицы по количеству объектов общепита - проспект Мира (204), Профсоюзная улица (183), Ленинградский проспект (173). На основе списка с 10 самыми популярными улицами выделены районы, в которых самая высокая конкуренция. Это районы Тёплый стан, Обручевский район, Донской район. Они располагаются в некотором удалении от центра города, так же отчасти это спальные районы с высокой концентрацией людей;\n",
    "- Было выделено 541 улица с одним объектом общепита. Установлены районы с самой высокой концетрацией \"улиц-одиночек\" - это Таганский, Хамовники, Басманный районы. Они располагаются в центре города;\n",
    "- Количество посадочных мест на самых популярных улицах варьируется от 46 (Пресненская набережная) до 85 (Кутузовский проспект). В среднем количество посадочных мест на самых популярных улицах 58."
   ]
  },
  {
   "cell_type": "markdown",
   "metadata": {},
   "source": [
    "Изначальная цель проекта - открыть небольшое кафе, где гостей должны обслуживать роботы.\\\n",
    "Основные рекомендации:\n",
    "- Исходя из анализа данных, среди кафе - самая большая конкуренция (около 6000 предприятий). Стоит искать улицы и районы с более низкой конкуренцией;\n",
    "- Для заведения наиболее оптимальны помещения с количеством посадочных мест около 40. Это самый распространённый формат среди кафе;\n",
    "- Среди районов расположения наиболее привлекательными выглядят центральные (например, Таганский, Хамовники, Басманный). Среди данных районов много улиц с 1 предприятием общепита, что снижает конкуренцию новому предприятию. В то же время, аренда/покупка помещения будет выше, чем в отдалённых от центра районах.\n",
    "\n",
    "Возможности развития сети:\n",
    "- Открытие новых точек на других улицах центральных районов города;\n",
    "- Открытие франшизы кафе;\n",
    "- Разработка мобильного приложения для заказа еды к конкретному времени в кафе;\n",
    "- Организация службы доставки посредством роботов;\n",
    "- Разработка системы лояльности клиентов."
   ]
  },
  {
   "cell_type": "markdown",
   "metadata": {},
   "source": [
    "## Подготовка презентации для инвесторов"
   ]
  },
  {
   "cell_type": "markdown",
   "metadata": {},
   "source": [
    "Презентация: https://drive.google.com/file/d/18mdb38wndSwzdz1AVlSZhKiMwqrO3UPi/view?usp=sharing "
   ]
  },
  {
   "cell_type": "code",
   "execution_count": null,
   "metadata": {},
   "outputs": [],
   "source": []
  }
 ],
 "metadata": {
  "ExecuteTimeLog": [
   {
    "duration": 4,
    "start_time": "2022-03-22T18:06:28.232Z"
   },
   {
    "duration": 254,
    "start_time": "2022-03-22T18:10:52.613Z"
   },
   {
    "duration": 1313,
    "start_time": "2022-03-22T18:22:17.009Z"
   },
   {
    "duration": 60,
    "start_time": "2022-03-22T18:23:34.921Z"
   },
   {
    "duration": 78,
    "start_time": "2022-03-22T18:23:55.841Z"
   },
   {
    "duration": 55,
    "start_time": "2022-03-22T18:24:55.280Z"
   },
   {
    "duration": 15,
    "start_time": "2022-03-22T18:25:31.657Z"
   },
   {
    "duration": 15,
    "start_time": "2022-03-22T18:27:17.962Z"
   },
   {
    "duration": 15,
    "start_time": "2022-03-22T18:27:31.579Z"
   },
   {
    "duration": 97,
    "start_time": "2022-03-22T18:29:12.674Z"
   },
   {
    "duration": 18,
    "start_time": "2022-03-22T18:30:22.787Z"
   },
   {
    "duration": 6,
    "start_time": "2022-03-22T18:32:25.142Z"
   },
   {
    "duration": 10,
    "start_time": "2022-03-22T18:32:35.723Z"
   },
   {
    "duration": 7,
    "start_time": "2022-03-22T18:32:52.622Z"
   },
   {
    "duration": 15,
    "start_time": "2022-03-22T18:33:52.536Z"
   },
   {
    "duration": 18,
    "start_time": "2022-03-22T18:34:23.358Z"
   },
   {
    "duration": 17,
    "start_time": "2022-03-22T18:35:01.323Z"
   },
   {
    "duration": 11,
    "start_time": "2022-03-22T18:35:37.811Z"
   },
   {
    "duration": 9,
    "start_time": "2022-03-22T18:36:37.577Z"
   },
   {
    "duration": 8,
    "start_time": "2022-03-22T18:37:02.320Z"
   },
   {
    "duration": 9,
    "start_time": "2022-03-22T18:37:44.420Z"
   },
   {
    "duration": 5,
    "start_time": "2022-03-22T18:56:02.125Z"
   },
   {
    "duration": 12,
    "start_time": "2022-03-22T18:56:19.301Z"
   },
   {
    "duration": 9,
    "start_time": "2022-03-22T18:56:28.608Z"
   },
   {
    "duration": 12,
    "start_time": "2022-03-22T18:56:48.412Z"
   },
   {
    "duration": 10,
    "start_time": "2022-03-22T19:07:28.973Z"
   },
   {
    "duration": 8,
    "start_time": "2022-03-22T19:07:35.441Z"
   },
   {
    "duration": 8,
    "start_time": "2022-03-22T19:07:39.811Z"
   },
   {
    "duration": 10,
    "start_time": "2022-03-22T19:07:52.280Z"
   },
   {
    "duration": 8,
    "start_time": "2022-03-22T19:08:11.464Z"
   },
   {
    "duration": 373,
    "start_time": "2022-03-22T19:20:47.537Z"
   },
   {
    "duration": 4,
    "start_time": "2022-03-22T19:21:07.628Z"
   },
   {
    "duration": 1053,
    "start_time": "2022-03-22T19:22:28.052Z"
   },
   {
    "duration": 15,
    "start_time": "2022-03-22T19:23:40.746Z"
   },
   {
    "duration": 15,
    "start_time": "2022-03-22T19:23:49.788Z"
   },
   {
    "duration": 13,
    "start_time": "2022-03-22T19:24:06.859Z"
   },
   {
    "duration": 12,
    "start_time": "2022-03-22T19:24:22.990Z"
   },
   {
    "duration": 12,
    "start_time": "2022-03-22T19:24:32.531Z"
   },
   {
    "duration": 17,
    "start_time": "2022-03-22T19:24:49.453Z"
   },
   {
    "duration": 12,
    "start_time": "2022-03-22T19:24:56.069Z"
   },
   {
    "duration": 5,
    "start_time": "2022-03-22T19:26:27.695Z"
   },
   {
    "duration": 1074,
    "start_time": "2022-03-22T19:26:36.976Z"
   },
   {
    "duration": 64,
    "start_time": "2022-03-22T19:26:38.052Z"
   },
   {
    "duration": 25,
    "start_time": "2022-03-22T19:26:38.120Z"
   },
   {
    "duration": 26,
    "start_time": "2022-03-22T19:26:38.146Z"
   },
   {
    "duration": 9,
    "start_time": "2022-03-22T19:26:38.174Z"
   },
   {
    "duration": 10,
    "start_time": "2022-03-22T19:26:38.185Z"
   },
   {
    "duration": 9,
    "start_time": "2022-03-22T19:26:38.197Z"
   },
   {
    "duration": 34,
    "start_time": "2022-03-22T19:26:38.208Z"
   },
   {
    "duration": 14,
    "start_time": "2022-03-22T19:26:38.245Z"
   },
   {
    "duration": 4,
    "start_time": "2022-03-22T19:26:52.077Z"
   },
   {
    "duration": 15,
    "start_time": "2022-03-22T19:26:54.162Z"
   },
   {
    "duration": 13,
    "start_time": "2022-03-22T19:26:55.679Z"
   },
   {
    "duration": 5,
    "start_time": "2022-03-22T19:27:05.883Z"
   },
   {
    "duration": 15,
    "start_time": "2022-03-22T19:27:06.464Z"
   },
   {
    "duration": 11,
    "start_time": "2022-03-22T19:27:07.207Z"
   },
   {
    "duration": 16,
    "start_time": "2022-03-22T19:27:30.718Z"
   },
   {
    "duration": 15,
    "start_time": "2022-03-22T19:28:09.976Z"
   },
   {
    "duration": 23,
    "start_time": "2022-03-22T19:28:24.867Z"
   },
   {
    "duration": 27,
    "start_time": "2022-03-22T19:28:35.330Z"
   },
   {
    "duration": 22,
    "start_time": "2022-03-22T19:28:39.522Z"
   },
   {
    "duration": 34,
    "start_time": "2022-03-22T19:29:15.666Z"
   },
   {
    "duration": 14,
    "start_time": "2022-03-22T19:29:29.963Z"
   },
   {
    "duration": 9,
    "start_time": "2022-03-22T19:29:43.764Z"
   },
   {
    "duration": 9,
    "start_time": "2022-03-22T19:29:48.334Z"
   },
   {
    "duration": 11,
    "start_time": "2022-03-22T19:29:57.887Z"
   },
   {
    "duration": 138,
    "start_time": "2022-03-22T19:30:33.794Z"
   },
   {
    "duration": 10,
    "start_time": "2022-03-22T19:30:40.502Z"
   },
   {
    "duration": 5,
    "start_time": "2022-03-22T19:32:24.260Z"
   },
   {
    "duration": 24,
    "start_time": "2022-03-22T19:32:26.278Z"
   },
   {
    "duration": 9,
    "start_time": "2022-03-22T19:32:29.263Z"
   },
   {
    "duration": 9,
    "start_time": "2022-03-22T19:32:49.209Z"
   },
   {
    "duration": 1168,
    "start_time": "2022-03-22T19:33:07.973Z"
   },
   {
    "duration": 60,
    "start_time": "2022-03-22T19:33:09.144Z"
   },
   {
    "duration": 14,
    "start_time": "2022-03-22T19:33:09.206Z"
   },
   {
    "duration": 18,
    "start_time": "2022-03-22T19:33:09.233Z"
   },
   {
    "duration": 11,
    "start_time": "2022-03-22T19:33:09.253Z"
   },
   {
    "duration": 13,
    "start_time": "2022-03-22T19:33:09.266Z"
   },
   {
    "duration": 12,
    "start_time": "2022-03-22T19:33:09.281Z"
   },
   {
    "duration": 46,
    "start_time": "2022-03-22T19:33:09.295Z"
   },
   {
    "duration": 15,
    "start_time": "2022-03-22T19:43:02.068Z"
   },
   {
    "duration": 93,
    "start_time": "2022-03-22T19:43:43.602Z"
   },
   {
    "duration": 14,
    "start_time": "2022-03-22T19:44:10.914Z"
   },
   {
    "duration": 14,
    "start_time": "2022-03-22T19:45:07.847Z"
   },
   {
    "duration": 14,
    "start_time": "2022-03-22T19:45:21.053Z"
   },
   {
    "duration": 10,
    "start_time": "2022-03-22T19:47:21.913Z"
   },
   {
    "duration": 20,
    "start_time": "2022-03-22T19:49:08.302Z"
   },
   {
    "duration": 17,
    "start_time": "2022-03-22T19:49:35.750Z"
   },
   {
    "duration": 17,
    "start_time": "2022-03-22T19:49:59.540Z"
   },
   {
    "duration": 12,
    "start_time": "2022-03-22T19:50:02.389Z"
   },
   {
    "duration": 12,
    "start_time": "2022-03-22T19:50:55.808Z"
   },
   {
    "duration": 20,
    "start_time": "2022-03-22T19:51:12.436Z"
   },
   {
    "duration": 22,
    "start_time": "2022-03-22T19:51:21.151Z"
   },
   {
    "duration": 29,
    "start_time": "2022-03-22T19:56:19.949Z"
   },
   {
    "duration": 11,
    "start_time": "2022-03-22T19:57:57.006Z"
   },
   {
    "duration": 26,
    "start_time": "2022-03-22T19:58:19.585Z"
   },
   {
    "duration": 15,
    "start_time": "2022-03-22T19:59:31.824Z"
   },
   {
    "duration": 15,
    "start_time": "2022-03-22T19:59:56.684Z"
   },
   {
    "duration": 1184,
    "start_time": "2022-03-22T20:03:21.494Z"
   },
   {
    "duration": 65,
    "start_time": "2022-03-22T20:03:22.681Z"
   },
   {
    "duration": 19,
    "start_time": "2022-03-22T20:03:22.748Z"
   },
   {
    "duration": 18,
    "start_time": "2022-03-22T20:03:22.769Z"
   },
   {
    "duration": 9,
    "start_time": "2022-03-22T20:03:22.789Z"
   },
   {
    "duration": 48,
    "start_time": "2022-03-22T20:03:22.800Z"
   },
   {
    "duration": 5,
    "start_time": "2022-03-22T20:03:22.850Z"
   },
   {
    "duration": 32,
    "start_time": "2022-03-22T20:03:22.858Z"
   },
   {
    "duration": 18,
    "start_time": "2022-03-22T20:03:22.891Z"
   },
   {
    "duration": 136,
    "start_time": "2022-03-22T20:03:22.911Z"
   },
   {
    "duration": 0,
    "start_time": "2022-03-22T20:03:23.049Z"
   },
   {
    "duration": 17,
    "start_time": "2022-03-22T20:03:51.574Z"
   },
   {
    "duration": 1131,
    "start_time": "2022-03-22T20:08:38.327Z"
   },
   {
    "duration": 62,
    "start_time": "2022-03-22T20:08:39.460Z"
   },
   {
    "duration": 17,
    "start_time": "2022-03-22T20:08:39.524Z"
   },
   {
    "duration": 18,
    "start_time": "2022-03-22T20:08:39.543Z"
   },
   {
    "duration": 10,
    "start_time": "2022-03-22T20:08:39.562Z"
   },
   {
    "duration": 11,
    "start_time": "2022-03-22T20:08:39.573Z"
   },
   {
    "duration": 5,
    "start_time": "2022-03-22T20:08:39.586Z"
   },
   {
    "duration": 54,
    "start_time": "2022-03-22T20:08:39.593Z"
   },
   {
    "duration": 15,
    "start_time": "2022-03-22T20:08:39.648Z"
   },
   {
    "duration": 177,
    "start_time": "2022-03-22T20:08:39.666Z"
   },
   {
    "duration": 163,
    "start_time": "2022-03-22T20:09:17.424Z"
   },
   {
    "duration": 253,
    "start_time": "2022-03-22T20:09:23.823Z"
   },
   {
    "duration": 172,
    "start_time": "2022-03-22T20:09:39.286Z"
   },
   {
    "duration": 157,
    "start_time": "2022-03-22T20:11:42.859Z"
   },
   {
    "duration": 170,
    "start_time": "2022-03-22T20:12:00.180Z"
   },
   {
    "duration": 153,
    "start_time": "2022-03-22T20:13:34.534Z"
   },
   {
    "duration": 4,
    "start_time": "2022-03-22T20:14:25.149Z"
   },
   {
    "duration": 153,
    "start_time": "2022-03-22T20:14:53.188Z"
   },
   {
    "duration": 147,
    "start_time": "2022-03-22T20:15:10.547Z"
   },
   {
    "duration": 305,
    "start_time": "2022-03-22T20:15:23.434Z"
   },
   {
    "duration": 233,
    "start_time": "2022-03-22T20:15:38.990Z"
   },
   {
    "duration": 178,
    "start_time": "2022-03-22T20:18:09.033Z"
   },
   {
    "duration": 167,
    "start_time": "2022-03-22T20:18:22.198Z"
   },
   {
    "duration": 166,
    "start_time": "2022-03-22T20:18:27.352Z"
   },
   {
    "duration": 170,
    "start_time": "2022-03-22T20:18:36.212Z"
   },
   {
    "duration": 156,
    "start_time": "2022-03-22T20:18:45.373Z"
   },
   {
    "duration": 1158,
    "start_time": "2022-03-22T20:19:51.408Z"
   },
   {
    "duration": 65,
    "start_time": "2022-03-22T20:19:52.568Z"
   },
   {
    "duration": 13,
    "start_time": "2022-03-22T20:19:52.635Z"
   },
   {
    "duration": 18,
    "start_time": "2022-03-22T20:19:52.651Z"
   },
   {
    "duration": 9,
    "start_time": "2022-03-22T20:19:52.671Z"
   },
   {
    "duration": 13,
    "start_time": "2022-03-22T20:19:52.682Z"
   },
   {
    "duration": 37,
    "start_time": "2022-03-22T20:19:52.696Z"
   },
   {
    "duration": 29,
    "start_time": "2022-03-22T20:19:52.735Z"
   },
   {
    "duration": 17,
    "start_time": "2022-03-22T20:19:52.766Z"
   },
   {
    "duration": 218,
    "start_time": "2022-03-22T20:19:52.786Z"
   },
   {
    "duration": 181,
    "start_time": "2022-03-22T20:21:17.801Z"
   },
   {
    "duration": 1844,
    "start_time": "2022-03-22T20:21:29.206Z"
   },
   {
    "duration": 195,
    "start_time": "2022-03-22T20:21:31.053Z"
   },
   {
    "duration": 19,
    "start_time": "2022-03-22T20:21:31.250Z"
   },
   {
    "duration": 83,
    "start_time": "2022-03-22T20:21:31.272Z"
   },
   {
    "duration": 13,
    "start_time": "2022-03-22T20:21:31.358Z"
   },
   {
    "duration": 72,
    "start_time": "2022-03-22T20:21:31.373Z"
   },
   {
    "duration": 18,
    "start_time": "2022-03-22T20:21:31.447Z"
   },
   {
    "duration": 84,
    "start_time": "2022-03-22T20:21:31.468Z"
   },
   {
    "duration": 22,
    "start_time": "2022-03-22T20:21:31.554Z"
   },
   {
    "duration": 543,
    "start_time": "2022-03-22T20:21:31.634Z"
   },
   {
    "duration": 168,
    "start_time": "2022-03-22T20:21:39.171Z"
   },
   {
    "duration": 262,
    "start_time": "2022-03-22T20:23:59.416Z"
   },
   {
    "duration": 169,
    "start_time": "2022-03-22T20:26:41.438Z"
   },
   {
    "duration": 199,
    "start_time": "2022-03-22T20:26:58.436Z"
   },
   {
    "duration": 193,
    "start_time": "2022-03-22T20:28:58.202Z"
   },
   {
    "duration": 169,
    "start_time": "2022-03-22T20:29:06.690Z"
   },
   {
    "duration": 162,
    "start_time": "2022-03-22T20:29:17.748Z"
   },
   {
    "duration": 265,
    "start_time": "2022-03-22T20:29:24.323Z"
   },
   {
    "duration": 252,
    "start_time": "2022-03-22T20:29:33.101Z"
   },
   {
    "duration": 167,
    "start_time": "2022-03-22T20:34:02.516Z"
   },
   {
    "duration": 165,
    "start_time": "2022-03-22T20:34:13.591Z"
   },
   {
    "duration": 110,
    "start_time": "2022-03-22T20:35:02.193Z"
   },
   {
    "duration": 273,
    "start_time": "2022-03-22T20:35:26.017Z"
   },
   {
    "duration": 97,
    "start_time": "2022-03-22T20:40:05.526Z"
   },
   {
    "duration": 165,
    "start_time": "2022-03-22T20:40:16.577Z"
   },
   {
    "duration": 179,
    "start_time": "2022-03-22T20:40:30.149Z"
   },
   {
    "duration": 210,
    "start_time": "2022-03-22T20:43:46.627Z"
   },
   {
    "duration": 334,
    "start_time": "2022-03-22T20:44:02.302Z"
   },
   {
    "duration": 267,
    "start_time": "2022-03-22T20:44:12.682Z"
   },
   {
    "duration": 13,
    "start_time": "2022-03-22T20:45:14.240Z"
   },
   {
    "duration": 98,
    "start_time": "2022-03-22T20:46:35.942Z"
   },
   {
    "duration": 103,
    "start_time": "2022-03-22T20:46:44.534Z"
   },
   {
    "duration": 100,
    "start_time": "2022-03-22T20:46:50.915Z"
   },
   {
    "duration": 1065,
    "start_time": "2022-03-22T20:49:54.773Z"
   },
   {
    "duration": 61,
    "start_time": "2022-03-22T20:49:55.840Z"
   },
   {
    "duration": 13,
    "start_time": "2022-03-22T20:49:55.902Z"
   },
   {
    "duration": 30,
    "start_time": "2022-03-22T20:49:55.917Z"
   },
   {
    "duration": 9,
    "start_time": "2022-03-22T20:49:55.949Z"
   },
   {
    "duration": 11,
    "start_time": "2022-03-22T20:49:55.959Z"
   },
   {
    "duration": 6,
    "start_time": "2022-03-22T20:49:55.972Z"
   },
   {
    "duration": 25,
    "start_time": "2022-03-22T20:49:55.980Z"
   },
   {
    "duration": 16,
    "start_time": "2022-03-22T20:49:56.032Z"
   },
   {
    "duration": 196,
    "start_time": "2022-03-22T20:49:56.050Z"
   },
   {
    "duration": 1167,
    "start_time": "2022-03-22T20:56:04.087Z"
   },
   {
    "duration": 63,
    "start_time": "2022-03-22T20:56:05.256Z"
   },
   {
    "duration": 21,
    "start_time": "2022-03-22T20:56:05.320Z"
   },
   {
    "duration": 19,
    "start_time": "2022-03-22T20:56:05.343Z"
   },
   {
    "duration": 11,
    "start_time": "2022-03-22T20:56:05.363Z"
   },
   {
    "duration": 13,
    "start_time": "2022-03-22T20:56:05.375Z"
   },
   {
    "duration": 7,
    "start_time": "2022-03-22T20:56:05.390Z"
   },
   {
    "duration": 52,
    "start_time": "2022-03-22T20:56:05.399Z"
   },
   {
    "duration": 18,
    "start_time": "2022-03-22T20:56:05.453Z"
   },
   {
    "duration": 195,
    "start_time": "2022-03-22T20:56:05.473Z"
   },
   {
    "duration": 10,
    "start_time": "2022-03-22T20:56:45.041Z"
   },
   {
    "duration": 9,
    "start_time": "2022-03-22T20:57:24.920Z"
   },
   {
    "duration": 12,
    "start_time": "2022-03-22T20:57:31.660Z"
   },
   {
    "duration": 15,
    "start_time": "2022-03-22T20:58:39.449Z"
   },
   {
    "duration": 111,
    "start_time": "2022-03-22T20:59:36.748Z"
   },
   {
    "duration": 463,
    "start_time": "2022-03-22T21:02:19.401Z"
   },
   {
    "duration": 186,
    "start_time": "2022-03-22T21:03:07.048Z"
   },
   {
    "duration": 425,
    "start_time": "2022-03-22T21:04:18.752Z"
   },
   {
    "duration": 178,
    "start_time": "2022-03-22T21:05:04.916Z"
   },
   {
    "duration": 520,
    "start_time": "2022-03-22T21:05:10.288Z"
   },
   {
    "duration": 505,
    "start_time": "2022-03-22T21:06:51.838Z"
   },
   {
    "duration": 170,
    "start_time": "2022-03-22T21:07:45.959Z"
   },
   {
    "duration": 493,
    "start_time": "2022-03-22T21:13:46.483Z"
   },
   {
    "duration": 44,
    "start_time": "2022-03-23T17:52:26.953Z"
   },
   {
    "duration": 2509,
    "start_time": "2022-03-23T17:52:33.985Z"
   },
   {
    "duration": 126,
    "start_time": "2022-03-23T17:52:36.496Z"
   },
   {
    "duration": 71,
    "start_time": "2022-03-23T17:52:36.624Z"
   },
   {
    "duration": 24,
    "start_time": "2022-03-23T17:52:36.698Z"
   },
   {
    "duration": 66,
    "start_time": "2022-03-23T17:52:36.723Z"
   },
   {
    "duration": 12,
    "start_time": "2022-03-23T17:52:36.790Z"
   },
   {
    "duration": 6,
    "start_time": "2022-03-23T17:52:36.803Z"
   },
   {
    "duration": 72,
    "start_time": "2022-03-23T17:52:36.810Z"
   },
   {
    "duration": 13,
    "start_time": "2022-03-23T17:52:36.884Z"
   },
   {
    "duration": 226,
    "start_time": "2022-03-23T17:52:36.899Z"
   },
   {
    "duration": 14,
    "start_time": "2022-03-23T17:52:37.126Z"
   },
   {
    "duration": 115,
    "start_time": "2022-03-23T17:52:37.142Z"
   },
   {
    "duration": 8,
    "start_time": "2022-03-23T17:52:37.258Z"
   },
   {
    "duration": 21,
    "start_time": "2022-03-23T17:52:37.268Z"
   },
   {
    "duration": 536,
    "start_time": "2022-03-23T17:52:37.290Z"
   },
   {
    "duration": 21,
    "start_time": "2022-03-23T17:54:50.273Z"
   },
   {
    "duration": 16,
    "start_time": "2022-03-23T17:56:46.280Z"
   },
   {
    "duration": 11,
    "start_time": "2022-03-23T17:58:02.977Z"
   },
   {
    "duration": 190,
    "start_time": "2022-03-23T18:02:37.461Z"
   },
   {
    "duration": 3,
    "start_time": "2022-03-23T18:03:08.197Z"
   },
   {
    "duration": 1244,
    "start_time": "2022-03-23T18:03:20.475Z"
   },
   {
    "duration": 64,
    "start_time": "2022-03-23T18:03:21.721Z"
   },
   {
    "duration": 14,
    "start_time": "2022-03-23T18:03:21.787Z"
   },
   {
    "duration": 19,
    "start_time": "2022-03-23T18:03:21.803Z"
   },
   {
    "duration": 10,
    "start_time": "2022-03-23T18:03:21.824Z"
   },
   {
    "duration": 14,
    "start_time": "2022-03-23T18:03:21.835Z"
   },
   {
    "duration": 34,
    "start_time": "2022-03-23T18:03:21.851Z"
   },
   {
    "duration": 40,
    "start_time": "2022-03-23T18:03:21.886Z"
   },
   {
    "duration": 18,
    "start_time": "2022-03-23T18:03:21.928Z"
   },
   {
    "duration": 184,
    "start_time": "2022-03-23T18:03:21.948Z"
   },
   {
    "duration": 14,
    "start_time": "2022-03-23T18:03:22.134Z"
   },
   {
    "duration": 169,
    "start_time": "2022-03-23T18:03:22.150Z"
   },
   {
    "duration": 11,
    "start_time": "2022-03-23T18:03:22.321Z"
   },
   {
    "duration": 4,
    "start_time": "2022-03-23T18:03:22.334Z"
   },
   {
    "duration": 12,
    "start_time": "2022-03-23T18:03:22.340Z"
   },
   {
    "duration": 434,
    "start_time": "2022-03-23T18:03:22.354Z"
   },
   {
    "duration": 7,
    "start_time": "2022-03-23T18:03:49.342Z"
   },
   {
    "duration": 11,
    "start_time": "2022-03-23T18:04:25.349Z"
   },
   {
    "duration": 22,
    "start_time": "2022-03-23T18:04:33.605Z"
   },
   {
    "duration": 4,
    "start_time": "2022-03-23T18:05:13.143Z"
   },
   {
    "duration": 14,
    "start_time": "2022-03-23T18:05:13.915Z"
   },
   {
    "duration": 197,
    "start_time": "2022-03-23T18:08:22.907Z"
   },
   {
    "duration": 4,
    "start_time": "2022-03-23T18:08:28.641Z"
   },
   {
    "duration": 20,
    "start_time": "2022-03-23T18:08:35.196Z"
   },
   {
    "duration": 15,
    "start_time": "2022-03-23T18:09:14.452Z"
   },
   {
    "duration": 19,
    "start_time": "2022-03-23T18:10:07.218Z"
   },
   {
    "duration": 26,
    "start_time": "2022-03-23T18:10:29.986Z"
   },
   {
    "duration": 10,
    "start_time": "2022-03-23T18:11:04.804Z"
   },
   {
    "duration": 3048,
    "start_time": "2022-03-23T18:11:29.023Z"
   },
   {
    "duration": 11,
    "start_time": "2022-03-23T18:14:02.860Z"
   },
   {
    "duration": 11,
    "start_time": "2022-03-23T18:14:30.864Z"
   },
   {
    "duration": 10,
    "start_time": "2022-03-23T18:15:14.530Z"
   },
   {
    "duration": 10,
    "start_time": "2022-03-23T18:15:25.384Z"
   },
   {
    "duration": 4,
    "start_time": "2022-03-23T18:15:39.835Z"
   },
   {
    "duration": 7,
    "start_time": "2022-03-23T18:15:58.327Z"
   },
   {
    "duration": 3,
    "start_time": "2022-03-23T18:18:02.982Z"
   },
   {
    "duration": 894,
    "start_time": "2022-03-23T18:18:50.495Z"
   },
   {
    "duration": 3,
    "start_time": "2022-03-23T18:19:21.231Z"
   },
   {
    "duration": 6,
    "start_time": "2022-03-23T18:19:24.130Z"
   },
   {
    "duration": 16,
    "start_time": "2022-03-23T18:19:32.051Z"
   },
   {
    "duration": 3,
    "start_time": "2022-03-23T18:19:55.315Z"
   },
   {
    "duration": 19,
    "start_time": "2022-03-23T18:19:59.534Z"
   },
   {
    "duration": 26,
    "start_time": "2022-03-23T18:20:19.128Z"
   },
   {
    "duration": 25,
    "start_time": "2022-03-23T18:20:24.989Z"
   },
   {
    "duration": 16,
    "start_time": "2022-03-23T18:20:57.266Z"
   },
   {
    "duration": 16,
    "start_time": "2022-03-23T18:23:07.529Z"
   },
   {
    "duration": 11,
    "start_time": "2022-03-23T18:23:49.050Z"
   },
   {
    "duration": 17,
    "start_time": "2022-03-23T18:24:04.226Z"
   },
   {
    "duration": 12,
    "start_time": "2022-03-23T18:24:36.428Z"
   },
   {
    "duration": 15,
    "start_time": "2022-03-23T18:24:41.679Z"
   },
   {
    "duration": 13,
    "start_time": "2022-03-23T18:25:11.506Z"
   },
   {
    "duration": 23,
    "start_time": "2022-03-23T18:25:16.879Z"
   },
   {
    "duration": 19,
    "start_time": "2022-03-23T18:25:45.028Z"
   },
   {
    "duration": 17,
    "start_time": "2022-03-23T18:26:37.572Z"
   },
   {
    "duration": 18,
    "start_time": "2022-03-23T18:26:41.842Z"
   },
   {
    "duration": 3265,
    "start_time": "2022-03-23T18:29:46.702Z"
   },
   {
    "duration": 19,
    "start_time": "2022-03-23T18:30:34.413Z"
   },
   {
    "duration": 15,
    "start_time": "2022-03-23T18:31:40.189Z"
   },
   {
    "duration": 12,
    "start_time": "2022-03-23T18:32:41.098Z"
   },
   {
    "duration": 15,
    "start_time": "2022-03-23T18:33:34.379Z"
   },
   {
    "duration": 11,
    "start_time": "2022-03-23T18:34:19.377Z"
   },
   {
    "duration": 10,
    "start_time": "2022-03-23T18:34:34.225Z"
   },
   {
    "duration": 14,
    "start_time": "2022-03-23T18:34:40.276Z"
   },
   {
    "duration": 1227,
    "start_time": "2022-03-23T18:34:51.659Z"
   },
   {
    "duration": 67,
    "start_time": "2022-03-23T18:34:52.888Z"
   },
   {
    "duration": 13,
    "start_time": "2022-03-23T18:34:52.957Z"
   },
   {
    "duration": 25,
    "start_time": "2022-03-23T18:34:52.972Z"
   },
   {
    "duration": 8,
    "start_time": "2022-03-23T18:34:52.999Z"
   },
   {
    "duration": 13,
    "start_time": "2022-03-23T18:34:53.009Z"
   },
   {
    "duration": 9,
    "start_time": "2022-03-23T18:34:53.023Z"
   },
   {
    "duration": 27,
    "start_time": "2022-03-23T18:34:53.034Z"
   },
   {
    "duration": 27,
    "start_time": "2022-03-23T18:34:53.062Z"
   },
   {
    "duration": 234,
    "start_time": "2022-03-23T18:34:53.091Z"
   },
   {
    "duration": 71,
    "start_time": "2022-03-23T18:34:53.326Z"
   },
   {
    "duration": 308,
    "start_time": "2022-03-23T18:34:53.399Z"
   },
   {
    "duration": 3,
    "start_time": "2022-03-23T18:34:53.709Z"
   },
   {
    "duration": 79,
    "start_time": "2022-03-23T18:34:53.713Z"
   },
   {
    "duration": 14,
    "start_time": "2022-03-23T18:34:53.793Z"
   },
   {
    "duration": 1307,
    "start_time": "2022-03-23T18:34:53.809Z"
   },
   {
    "duration": 22,
    "start_time": "2022-03-23T18:35:10.335Z"
   },
   {
    "duration": 15,
    "start_time": "2022-03-23T18:35:13.091Z"
   },
   {
    "duration": 15,
    "start_time": "2022-03-23T18:36:08.641Z"
   },
   {
    "duration": 11,
    "start_time": "2022-03-23T18:36:39.995Z"
   },
   {
    "duration": 14,
    "start_time": "2022-03-23T18:38:28.722Z"
   },
   {
    "duration": 10,
    "start_time": "2022-03-23T18:39:10.964Z"
   },
   {
    "duration": 9,
    "start_time": "2022-03-23T18:39:26.247Z"
   },
   {
    "duration": 10,
    "start_time": "2022-03-23T18:39:33.827Z"
   },
   {
    "duration": 13,
    "start_time": "2022-03-23T18:40:28.969Z"
   },
   {
    "duration": 10,
    "start_time": "2022-03-23T18:41:47.146Z"
   },
   {
    "duration": 13,
    "start_time": "2022-03-23T18:41:54.899Z"
   },
   {
    "duration": 92,
    "start_time": "2022-03-23T18:42:12.218Z"
   },
   {
    "duration": 14,
    "start_time": "2022-03-23T18:42:38.022Z"
   },
   {
    "duration": 1123,
    "start_time": "2022-03-23T18:45:49.901Z"
   },
   {
    "duration": 74,
    "start_time": "2022-03-23T18:45:51.026Z"
   },
   {
    "duration": 12,
    "start_time": "2022-03-23T18:45:51.101Z"
   },
   {
    "duration": 20,
    "start_time": "2022-03-23T18:45:51.115Z"
   },
   {
    "duration": 13,
    "start_time": "2022-03-23T18:45:51.136Z"
   },
   {
    "duration": 33,
    "start_time": "2022-03-23T18:45:51.151Z"
   },
   {
    "duration": 10,
    "start_time": "2022-03-23T18:45:51.186Z"
   },
   {
    "duration": 34,
    "start_time": "2022-03-23T18:45:51.197Z"
   },
   {
    "duration": 15,
    "start_time": "2022-03-23T18:45:51.233Z"
   },
   {
    "duration": 194,
    "start_time": "2022-03-23T18:45:51.250Z"
   },
   {
    "duration": 22,
    "start_time": "2022-03-23T18:45:51.446Z"
   },
   {
    "duration": 170,
    "start_time": "2022-03-23T18:45:51.470Z"
   },
   {
    "duration": 3,
    "start_time": "2022-03-23T18:45:51.643Z"
   },
   {
    "duration": 35,
    "start_time": "2022-03-23T18:45:51.648Z"
   },
   {
    "duration": 19,
    "start_time": "2022-03-23T18:45:51.685Z"
   },
   {
    "duration": 675,
    "start_time": "2022-03-23T18:45:51.706Z"
   },
   {
    "duration": 176,
    "start_time": "2022-03-23T18:50:52.501Z"
   },
   {
    "duration": 96,
    "start_time": "2022-03-23T18:51:33.255Z"
   },
   {
    "duration": 116,
    "start_time": "2022-03-23T18:52:02.660Z"
   },
   {
    "duration": 110,
    "start_time": "2022-03-23T18:52:28.808Z"
   },
   {
    "duration": 268,
    "start_time": "2022-03-23T18:55:18.500Z"
   },
   {
    "duration": 14,
    "start_time": "2022-03-23T18:55:37.573Z"
   },
   {
    "duration": 165,
    "start_time": "2022-03-23T18:55:40.670Z"
   },
   {
    "duration": 167,
    "start_time": "2022-03-23T18:56:12.299Z"
   },
   {
    "duration": 192,
    "start_time": "2022-03-23T18:56:20.337Z"
   },
   {
    "duration": 259,
    "start_time": "2022-03-23T18:56:42.580Z"
   },
   {
    "duration": 267,
    "start_time": "2022-03-23T18:57:03.466Z"
   },
   {
    "duration": 15,
    "start_time": "2022-03-23T18:59:12.497Z"
   },
   {
    "duration": 11,
    "start_time": "2022-03-23T19:03:00.249Z"
   },
   {
    "duration": 14,
    "start_time": "2022-03-23T19:04:43.045Z"
   },
   {
    "duration": 15,
    "start_time": "2022-03-23T19:10:11.230Z"
   },
   {
    "duration": 20,
    "start_time": "2022-03-23T19:11:51.295Z"
   },
   {
    "duration": 22,
    "start_time": "2022-03-23T19:12:42.834Z"
   },
   {
    "duration": 215,
    "start_time": "2022-03-23T19:13:42.021Z"
   },
   {
    "duration": 12,
    "start_time": "2022-03-23T19:14:12.302Z"
   },
   {
    "duration": 11,
    "start_time": "2022-03-23T19:14:23.798Z"
   },
   {
    "duration": 16,
    "start_time": "2022-03-23T19:14:28.721Z"
   },
   {
    "duration": 16,
    "start_time": "2022-03-23T19:14:54.412Z"
   },
   {
    "duration": 17,
    "start_time": "2022-03-23T19:15:32.118Z"
   },
   {
    "duration": 863,
    "start_time": "2022-03-23T19:18:05.199Z"
   },
   {
    "duration": 1072,
    "start_time": "2022-03-23T19:18:55.902Z"
   },
   {
    "duration": 961,
    "start_time": "2022-03-23T19:20:38.909Z"
   },
   {
    "duration": 266,
    "start_time": "2022-03-23T19:21:53.465Z"
   },
   {
    "duration": 145,
    "start_time": "2022-03-23T19:22:06.115Z"
   },
   {
    "duration": 183,
    "start_time": "2022-03-23T19:23:45.638Z"
   },
   {
    "duration": 16,
    "start_time": "2022-03-23T19:25:53.325Z"
   },
   {
    "duration": 17,
    "start_time": "2022-03-23T19:28:14.001Z"
   },
   {
    "duration": 137,
    "start_time": "2022-03-23T19:28:15.942Z"
   },
   {
    "duration": 249,
    "start_time": "2022-03-23T19:28:43.382Z"
   },
   {
    "duration": 182,
    "start_time": "2022-03-23T19:31:27.164Z"
   },
   {
    "duration": 174,
    "start_time": "2022-03-23T19:31:45.737Z"
   },
   {
    "duration": 1257,
    "start_time": "2022-03-23T19:32:10.968Z"
   },
   {
    "duration": 1324,
    "start_time": "2022-03-23T19:32:36.977Z"
   },
   {
    "duration": 1546,
    "start_time": "2022-03-23T19:34:59.178Z"
   },
   {
    "duration": 981,
    "start_time": "2022-03-23T19:35:44.768Z"
   },
   {
    "duration": 1731,
    "start_time": "2022-03-23T19:36:27.283Z"
   },
   {
    "duration": 213,
    "start_time": "2022-03-23T19:36:43.722Z"
   },
   {
    "duration": 124,
    "start_time": "2022-03-23T19:40:14.032Z"
   },
   {
    "duration": 143,
    "start_time": "2022-03-23T19:40:38.723Z"
   },
   {
    "duration": 130,
    "start_time": "2022-03-23T19:43:10.001Z"
   },
   {
    "duration": 122,
    "start_time": "2022-03-23T19:43:24.303Z"
   },
   {
    "duration": 210,
    "start_time": "2022-03-23T19:44:21.507Z"
   },
   {
    "duration": 141,
    "start_time": "2022-03-23T19:45:24.638Z"
   },
   {
    "duration": 155,
    "start_time": "2022-03-23T19:45:37.043Z"
   },
   {
    "duration": 157,
    "start_time": "2022-03-23T19:47:19.669Z"
   },
   {
    "duration": 236,
    "start_time": "2022-03-23T20:07:37.286Z"
   },
   {
    "duration": 1171,
    "start_time": "2022-03-23T20:08:39.743Z"
   },
   {
    "duration": 86,
    "start_time": "2022-03-23T20:08:40.916Z"
   },
   {
    "duration": 19,
    "start_time": "2022-03-23T20:08:41.004Z"
   },
   {
    "duration": 17,
    "start_time": "2022-03-23T20:08:41.025Z"
   },
   {
    "duration": 8,
    "start_time": "2022-03-23T20:08:41.043Z"
   },
   {
    "duration": 16,
    "start_time": "2022-03-23T20:08:41.086Z"
   },
   {
    "duration": 8,
    "start_time": "2022-03-23T20:08:41.105Z"
   },
   {
    "duration": 27,
    "start_time": "2022-03-23T20:08:41.115Z"
   },
   {
    "duration": 19,
    "start_time": "2022-03-23T20:08:41.144Z"
   },
   {
    "duration": 199,
    "start_time": "2022-03-23T20:08:41.166Z"
   },
   {
    "duration": 20,
    "start_time": "2022-03-23T20:08:41.367Z"
   },
   {
    "duration": 165,
    "start_time": "2022-03-23T20:08:41.389Z"
   },
   {
    "duration": 3,
    "start_time": "2022-03-23T20:08:41.556Z"
   },
   {
    "duration": 38,
    "start_time": "2022-03-23T20:08:41.561Z"
   },
   {
    "duration": 20,
    "start_time": "2022-03-23T20:08:41.601Z"
   },
   {
    "duration": 265,
    "start_time": "2022-03-23T20:08:41.623Z"
   },
   {
    "duration": 23,
    "start_time": "2022-03-23T20:08:41.890Z"
   },
   {
    "duration": 170,
    "start_time": "2022-03-23T20:08:41.916Z"
   },
   {
    "duration": 150,
    "start_time": "2022-03-23T20:08:42.090Z"
   },
   {
    "duration": 182,
    "start_time": "2022-03-23T20:08:42.242Z"
   },
   {
    "duration": 3,
    "start_time": "2022-03-23T20:09:35.730Z"
   },
   {
    "duration": 1443,
    "start_time": "2022-03-23T20:09:41.261Z"
   },
   {
    "duration": 190,
    "start_time": "2022-03-23T20:09:42.706Z"
   },
   {
    "duration": 16,
    "start_time": "2022-03-23T20:09:42.901Z"
   },
   {
    "duration": 79,
    "start_time": "2022-03-23T20:09:42.919Z"
   },
   {
    "duration": 9,
    "start_time": "2022-03-23T20:09:43.001Z"
   },
   {
    "duration": 10,
    "start_time": "2022-03-23T20:09:43.012Z"
   },
   {
    "duration": 7,
    "start_time": "2022-03-23T20:09:43.023Z"
   },
   {
    "duration": 37,
    "start_time": "2022-03-23T20:09:43.083Z"
   },
   {
    "duration": 69,
    "start_time": "2022-03-23T20:09:43.122Z"
   },
   {
    "duration": 506,
    "start_time": "2022-03-23T20:09:43.194Z"
   },
   {
    "duration": 18,
    "start_time": "2022-03-23T20:09:43.702Z"
   },
   {
    "duration": 270,
    "start_time": "2022-03-23T20:09:43.722Z"
   },
   {
    "duration": 6,
    "start_time": "2022-03-23T20:09:43.993Z"
   },
   {
    "duration": 20,
    "start_time": "2022-03-23T20:09:44.001Z"
   },
   {
    "duration": 72,
    "start_time": "2022-03-23T20:09:44.023Z"
   },
   {
    "duration": 304,
    "start_time": "2022-03-23T20:09:44.099Z"
   },
   {
    "duration": 17,
    "start_time": "2022-03-23T20:09:44.405Z"
   },
   {
    "duration": 171,
    "start_time": "2022-03-23T20:09:44.423Z"
   },
   {
    "duration": 142,
    "start_time": "2022-03-23T20:09:44.596Z"
   },
   {
    "duration": 152,
    "start_time": "2022-03-23T20:09:44.739Z"
   },
   {
    "duration": 1784,
    "start_time": "2022-03-24T15:19:23.105Z"
   },
   {
    "duration": 83,
    "start_time": "2022-03-24T15:19:24.892Z"
   },
   {
    "duration": 21,
    "start_time": "2022-03-24T15:19:24.978Z"
   },
   {
    "duration": 30,
    "start_time": "2022-03-24T15:19:25.002Z"
   },
   {
    "duration": 46,
    "start_time": "2022-03-24T15:19:25.034Z"
   },
   {
    "duration": 16,
    "start_time": "2022-03-24T15:19:25.083Z"
   },
   {
    "duration": 25,
    "start_time": "2022-03-24T15:19:25.101Z"
   },
   {
    "duration": 45,
    "start_time": "2022-03-24T15:19:25.128Z"
   },
   {
    "duration": 22,
    "start_time": "2022-03-24T15:19:25.175Z"
   },
   {
    "duration": 337,
    "start_time": "2022-03-24T15:19:25.201Z"
   },
   {
    "duration": 34,
    "start_time": "2022-03-24T15:19:25.540Z"
   },
   {
    "duration": 200,
    "start_time": "2022-03-24T15:19:25.576Z"
   },
   {
    "duration": 4,
    "start_time": "2022-03-24T15:19:25.778Z"
   },
   {
    "duration": 54,
    "start_time": "2022-03-24T15:19:25.784Z"
   },
   {
    "duration": 35,
    "start_time": "2022-03-24T15:19:25.840Z"
   },
   {
    "duration": 324,
    "start_time": "2022-03-24T15:19:25.878Z"
   },
   {
    "duration": 25,
    "start_time": "2022-03-24T15:19:26.204Z"
   },
   {
    "duration": 322,
    "start_time": "2022-03-24T15:19:26.232Z"
   },
   {
    "duration": 276,
    "start_time": "2022-03-24T15:19:26.556Z"
   },
   {
    "duration": 258,
    "start_time": "2022-03-24T15:19:26.834Z"
   },
   {
    "duration": 22,
    "start_time": "2022-03-24T15:23:04.042Z"
   },
   {
    "duration": 24,
    "start_time": "2022-03-24T15:23:46.199Z"
   },
   {
    "duration": 26,
    "start_time": "2022-03-24T15:24:31.519Z"
   },
   {
    "duration": 273,
    "start_time": "2022-03-24T15:25:33.975Z"
   },
   {
    "duration": 328,
    "start_time": "2022-03-24T15:25:44.644Z"
   },
   {
    "duration": 455,
    "start_time": "2022-03-24T15:25:55.123Z"
   },
   {
    "duration": 392,
    "start_time": "2022-03-24T15:26:12.052Z"
   },
   {
    "duration": 274,
    "start_time": "2022-03-24T15:26:24.799Z"
   },
   {
    "duration": 309,
    "start_time": "2022-03-24T15:26:29.428Z"
   },
   {
    "duration": 2657,
    "start_time": "2022-03-24T15:40:02.005Z"
   },
   {
    "duration": 61,
    "start_time": "2022-03-24T15:41:08.309Z"
   },
   {
    "duration": 78,
    "start_time": "2022-03-24T15:41:15.961Z"
   },
   {
    "duration": 82,
    "start_time": "2022-03-24T15:41:49.596Z"
   },
   {
    "duration": 145,
    "start_time": "2022-03-24T15:42:10.505Z"
   },
   {
    "duration": 69,
    "start_time": "2022-03-24T15:42:18.206Z"
   },
   {
    "duration": 70,
    "start_time": "2022-03-24T15:42:57.363Z"
   },
   {
    "duration": 60,
    "start_time": "2022-03-24T15:43:06.594Z"
   },
   {
    "duration": 73,
    "start_time": "2022-03-24T15:43:20.673Z"
   },
   {
    "duration": 69,
    "start_time": "2022-03-24T15:43:35.959Z"
   },
   {
    "duration": 131,
    "start_time": "2022-03-24T15:43:47.822Z"
   },
   {
    "duration": 66,
    "start_time": "2022-03-24T15:43:58.766Z"
   },
   {
    "duration": 65,
    "start_time": "2022-03-24T15:44:28.236Z"
   },
   {
    "duration": 72,
    "start_time": "2022-03-24T15:44:51.153Z"
   },
   {
    "duration": 76,
    "start_time": "2022-03-24T15:45:04.979Z"
   },
   {
    "duration": 74,
    "start_time": "2022-03-24T15:45:44.562Z"
   },
   {
    "duration": 74,
    "start_time": "2022-03-24T15:46:39.416Z"
   },
   {
    "duration": 163,
    "start_time": "2022-03-24T15:47:02.872Z"
   },
   {
    "duration": 109,
    "start_time": "2022-03-24T15:47:11.082Z"
   },
   {
    "duration": 71,
    "start_time": "2022-03-24T15:47:26.948Z"
   },
   {
    "duration": 61,
    "start_time": "2022-03-24T15:47:32.147Z"
   },
   {
    "duration": 76,
    "start_time": "2022-03-24T15:48:42.363Z"
   },
   {
    "duration": 65,
    "start_time": "2022-03-24T15:49:55.801Z"
   },
   {
    "duration": 177,
    "start_time": "2022-03-24T15:50:29.052Z"
   },
   {
    "duration": 82,
    "start_time": "2022-03-24T15:50:40.019Z"
   },
   {
    "duration": 129,
    "start_time": "2022-03-24T15:50:59.491Z"
   },
   {
    "duration": 68,
    "start_time": "2022-03-24T15:51:14.013Z"
   },
   {
    "duration": 70,
    "start_time": "2022-03-24T15:51:24.713Z"
   },
   {
    "duration": 65,
    "start_time": "2022-03-24T15:51:27.969Z"
   },
   {
    "duration": 137,
    "start_time": "2022-03-24T15:51:43.124Z"
   },
   {
    "duration": 1503,
    "start_time": "2022-03-24T15:51:54.241Z"
   },
   {
    "duration": 80,
    "start_time": "2022-03-24T15:51:55.747Z"
   },
   {
    "duration": 19,
    "start_time": "2022-03-24T15:51:55.829Z"
   },
   {
    "duration": 36,
    "start_time": "2022-03-24T15:51:55.852Z"
   },
   {
    "duration": 13,
    "start_time": "2022-03-24T15:51:55.890Z"
   },
   {
    "duration": 17,
    "start_time": "2022-03-24T15:51:55.905Z"
   },
   {
    "duration": 8,
    "start_time": "2022-03-24T15:51:55.924Z"
   },
   {
    "duration": 47,
    "start_time": "2022-03-24T15:51:55.934Z"
   },
   {
    "duration": 24,
    "start_time": "2022-03-24T15:51:55.983Z"
   },
   {
    "duration": 594,
    "start_time": "2022-03-24T15:51:56.010Z"
   },
   {
    "duration": 70,
    "start_time": "2022-03-24T15:51:56.606Z"
   },
   {
    "duration": 330,
    "start_time": "2022-03-24T15:51:56.678Z"
   },
   {
    "duration": 4,
    "start_time": "2022-03-24T15:51:57.011Z"
   },
   {
    "duration": 25,
    "start_time": "2022-03-24T15:51:57.073Z"
   },
   {
    "duration": 74,
    "start_time": "2022-03-24T15:51:57.101Z"
   },
   {
    "duration": 603,
    "start_time": "2022-03-24T15:51:57.178Z"
   },
   {
    "duration": 25,
    "start_time": "2022-03-24T15:51:57.783Z"
   },
   {
    "duration": 591,
    "start_time": "2022-03-24T15:51:57.810Z"
   },
   {
    "duration": 501,
    "start_time": "2022-03-24T15:51:58.403Z"
   },
   {
    "duration": 315,
    "start_time": "2022-03-24T15:51:58.907Z"
   },
   {
    "duration": 27,
    "start_time": "2022-03-24T15:51:59.224Z"
   },
   {
    "duration": 437,
    "start_time": "2022-03-24T15:51:59.253Z"
   },
   {
    "duration": 208,
    "start_time": "2022-03-24T15:51:59.693Z"
   },
   {
    "duration": 145,
    "start_time": "2022-03-24T15:52:19.983Z"
   },
   {
    "duration": 65,
    "start_time": "2022-03-24T15:52:37.769Z"
   },
   {
    "duration": 72,
    "start_time": "2022-03-24T15:52:46.229Z"
   },
   {
    "duration": 77,
    "start_time": "2022-03-24T15:52:56.429Z"
   },
   {
    "duration": 71,
    "start_time": "2022-03-24T15:53:11.667Z"
   },
   {
    "duration": 80,
    "start_time": "2022-03-24T15:53:15.999Z"
   },
   {
    "duration": 135,
    "start_time": "2022-03-24T15:53:19.160Z"
   },
   {
    "duration": 86,
    "start_time": "2022-03-24T15:53:31.306Z"
   },
   {
    "duration": 106,
    "start_time": "2022-03-24T15:53:48.144Z"
   },
   {
    "duration": 72,
    "start_time": "2022-03-24T15:54:08.771Z"
   },
   {
    "duration": 76,
    "start_time": "2022-03-24T15:54:21.246Z"
   },
   {
    "duration": 8,
    "start_time": "2022-03-24T16:01:32.831Z"
   },
   {
    "duration": 1979,
    "start_time": "2022-03-24T16:05:41.414Z"
   },
   {
    "duration": 185,
    "start_time": "2022-03-24T16:05:43.395Z"
   },
   {
    "duration": 21,
    "start_time": "2022-03-24T16:05:43.582Z"
   },
   {
    "duration": 85,
    "start_time": "2022-03-24T16:05:43.606Z"
   },
   {
    "duration": 15,
    "start_time": "2022-03-24T16:05:43.693Z"
   },
   {
    "duration": 64,
    "start_time": "2022-03-24T16:05:43.710Z"
   },
   {
    "duration": 9,
    "start_time": "2022-03-24T16:05:43.777Z"
   },
   {
    "duration": 86,
    "start_time": "2022-03-24T16:05:43.789Z"
   },
   {
    "duration": 26,
    "start_time": "2022-03-24T16:05:43.877Z"
   },
   {
    "duration": 671,
    "start_time": "2022-03-24T16:05:43.906Z"
   },
   {
    "duration": 28,
    "start_time": "2022-03-24T16:05:44.579Z"
   },
   {
    "duration": 383,
    "start_time": "2022-03-24T16:05:44.610Z"
   },
   {
    "duration": 4,
    "start_time": "2022-03-24T16:05:44.995Z"
   },
   {
    "duration": 80,
    "start_time": "2022-03-24T16:05:45.001Z"
   },
   {
    "duration": 23,
    "start_time": "2022-03-24T16:05:45.083Z"
   },
   {
    "duration": 459,
    "start_time": "2022-03-24T16:05:45.108Z"
   },
   {
    "duration": 26,
    "start_time": "2022-03-24T16:05:45.574Z"
   },
   {
    "duration": 315,
    "start_time": "2022-03-24T16:05:45.603Z"
   },
   {
    "duration": 257,
    "start_time": "2022-03-24T16:05:45.921Z"
   },
   {
    "duration": 259,
    "start_time": "2022-03-24T16:05:46.180Z"
   },
   {
    "duration": 39,
    "start_time": "2022-03-24T16:05:46.441Z"
   },
   {
    "duration": 422,
    "start_time": "2022-03-24T16:05:46.482Z"
   },
   {
    "duration": 4,
    "start_time": "2022-03-24T16:05:46.906Z"
   },
   {
    "duration": 9,
    "start_time": "2022-03-24T16:05:46.912Z"
   },
   {
    "duration": 107,
    "start_time": "2022-03-24T16:05:46.923Z"
   },
   {
    "duration": 102,
    "start_time": "2022-03-24T16:06:03.962Z"
   },
   {
    "duration": 88,
    "start_time": "2022-03-24T16:07:42.071Z"
   },
   {
    "duration": 96,
    "start_time": "2022-03-24T16:08:00.225Z"
   },
   {
    "duration": 94,
    "start_time": "2022-03-24T16:09:20.651Z"
   },
   {
    "duration": 2212,
    "start_time": "2022-03-24T16:09:43.370Z"
   },
   {
    "duration": 131,
    "start_time": "2022-03-24T16:09:45.584Z"
   },
   {
    "duration": 77,
    "start_time": "2022-03-24T16:09:45.718Z"
   },
   {
    "duration": 78,
    "start_time": "2022-03-24T16:09:45.797Z"
   },
   {
    "duration": 14,
    "start_time": "2022-03-24T16:09:45.877Z"
   },
   {
    "duration": 15,
    "start_time": "2022-03-24T16:09:45.893Z"
   },
   {
    "duration": 7,
    "start_time": "2022-03-24T16:09:45.911Z"
   },
   {
    "duration": 33,
    "start_time": "2022-03-24T16:09:45.975Z"
   },
   {
    "duration": 81,
    "start_time": "2022-03-24T16:09:46.010Z"
   },
   {
    "duration": 612,
    "start_time": "2022-03-24T16:09:46.095Z"
   },
   {
    "duration": 68,
    "start_time": "2022-03-24T16:09:46.710Z"
   },
   {
    "duration": 335,
    "start_time": "2022-03-24T16:09:46.781Z"
   },
   {
    "duration": 4,
    "start_time": "2022-03-24T16:09:47.173Z"
   },
   {
    "duration": 25,
    "start_time": "2022-03-24T16:09:47.180Z"
   },
   {
    "duration": 69,
    "start_time": "2022-03-24T16:09:47.207Z"
   },
   {
    "duration": 495,
    "start_time": "2022-03-24T16:09:47.278Z"
   },
   {
    "duration": 26,
    "start_time": "2022-03-24T16:09:47.776Z"
   },
   {
    "duration": 312,
    "start_time": "2022-03-24T16:09:47.804Z"
   },
   {
    "duration": 257,
    "start_time": "2022-03-24T16:09:48.118Z"
   },
   {
    "duration": 254,
    "start_time": "2022-03-24T16:09:48.377Z"
   },
   {
    "duration": 26,
    "start_time": "2022-03-24T16:09:48.633Z"
   },
   {
    "duration": 340,
    "start_time": "2022-03-24T16:09:48.673Z"
   },
   {
    "duration": 3,
    "start_time": "2022-03-24T16:09:49.016Z"
   },
   {
    "duration": 7,
    "start_time": "2022-03-24T16:09:49.021Z"
   },
   {
    "duration": 7,
    "start_time": "2022-03-24T16:09:49.031Z"
   },
   {
    "duration": 93,
    "start_time": "2022-03-24T16:09:49.040Z"
   },
   {
    "duration": 4,
    "start_time": "2022-03-24T16:10:28.508Z"
   },
   {
    "duration": 105,
    "start_time": "2022-03-24T16:10:29.570Z"
   },
   {
    "duration": 1600,
    "start_time": "2022-03-24T16:10:52.359Z"
   },
   {
    "duration": 79,
    "start_time": "2022-03-24T16:10:53.962Z"
   },
   {
    "duration": 33,
    "start_time": "2022-03-24T16:10:54.043Z"
   },
   {
    "duration": 26,
    "start_time": "2022-03-24T16:10:54.079Z"
   },
   {
    "duration": 16,
    "start_time": "2022-03-24T16:10:54.108Z"
   },
   {
    "duration": 18,
    "start_time": "2022-03-24T16:10:54.126Z"
   },
   {
    "duration": 7,
    "start_time": "2022-03-24T16:10:54.147Z"
   },
   {
    "duration": 47,
    "start_time": "2022-03-24T16:10:54.156Z"
   },
   {
    "duration": 25,
    "start_time": "2022-03-24T16:10:54.205Z"
   },
   {
    "duration": 442,
    "start_time": "2022-03-24T16:10:54.232Z"
   },
   {
    "duration": 22,
    "start_time": "2022-03-24T16:10:54.677Z"
   },
   {
    "duration": 216,
    "start_time": "2022-03-24T16:10:54.701Z"
   },
   {
    "duration": 4,
    "start_time": "2022-03-24T16:10:54.919Z"
   },
   {
    "duration": 66,
    "start_time": "2022-03-24T16:10:54.928Z"
   },
   {
    "duration": 78,
    "start_time": "2022-03-24T16:10:54.996Z"
   },
   {
    "duration": 606,
    "start_time": "2022-03-24T16:10:55.077Z"
   },
   {
    "duration": 26,
    "start_time": "2022-03-24T16:10:55.686Z"
   },
   {
    "duration": 603,
    "start_time": "2022-03-24T16:10:55.714Z"
   },
   {
    "duration": 555,
    "start_time": "2022-03-24T16:10:56.319Z"
   },
   {
    "duration": 501,
    "start_time": "2022-03-24T16:10:56.876Z"
   },
   {
    "duration": 27,
    "start_time": "2022-03-24T16:10:57.379Z"
   },
   {
    "duration": 867,
    "start_time": "2022-03-24T16:10:57.409Z"
   },
   {
    "duration": 4,
    "start_time": "2022-03-24T16:10:58.279Z"
   },
   {
    "duration": 6,
    "start_time": "2022-03-24T16:10:58.286Z"
   },
   {
    "duration": 7,
    "start_time": "2022-03-24T16:10:58.294Z"
   },
   {
    "duration": 132,
    "start_time": "2022-03-24T16:10:58.303Z"
   },
   {
    "duration": 86,
    "start_time": "2022-03-24T16:11:09.431Z"
   },
   {
    "duration": 9,
    "start_time": "2022-03-24T16:11:14.835Z"
   },
   {
    "duration": 8,
    "start_time": "2022-03-24T16:11:26.906Z"
   },
   {
    "duration": 2374,
    "start_time": "2022-03-24T16:13:21.639Z"
   },
   {
    "duration": 181,
    "start_time": "2022-03-24T16:13:24.016Z"
   },
   {
    "duration": 74,
    "start_time": "2022-03-24T16:13:24.200Z"
   },
   {
    "duration": 26,
    "start_time": "2022-03-24T16:13:24.277Z"
   },
   {
    "duration": 69,
    "start_time": "2022-03-24T16:13:24.306Z"
   },
   {
    "duration": 15,
    "start_time": "2022-03-24T16:13:24.378Z"
   },
   {
    "duration": 11,
    "start_time": "2022-03-24T16:13:24.396Z"
   },
   {
    "duration": 90,
    "start_time": "2022-03-24T16:13:24.410Z"
   },
   {
    "duration": 82,
    "start_time": "2022-03-24T16:13:24.503Z"
   },
   {
    "duration": 987,
    "start_time": "2022-03-24T16:13:24.591Z"
   },
   {
    "duration": 31,
    "start_time": "2022-03-24T16:13:25.581Z"
   },
   {
    "duration": 461,
    "start_time": "2022-03-24T16:13:25.615Z"
   },
   {
    "duration": 5,
    "start_time": "2022-03-24T16:13:26.078Z"
   },
   {
    "duration": 89,
    "start_time": "2022-03-24T16:13:26.085Z"
   },
   {
    "duration": 23,
    "start_time": "2022-03-24T16:13:26.176Z"
   },
   {
    "duration": 530,
    "start_time": "2022-03-24T16:13:26.202Z"
   },
   {
    "duration": 41,
    "start_time": "2022-03-24T16:13:26.734Z"
   },
   {
    "duration": 305,
    "start_time": "2022-03-24T16:13:26.778Z"
   },
   {
    "duration": 269,
    "start_time": "2022-03-24T16:13:27.085Z"
   },
   {
    "duration": 263,
    "start_time": "2022-03-24T16:13:27.356Z"
   },
   {
    "duration": 27,
    "start_time": "2022-03-24T16:13:27.621Z"
   },
   {
    "duration": 335,
    "start_time": "2022-03-24T16:13:27.650Z"
   },
   {
    "duration": 4,
    "start_time": "2022-03-24T16:13:27.987Z"
   },
   {
    "duration": 18,
    "start_time": "2022-03-24T16:13:27.993Z"
   },
   {
    "duration": 102,
    "start_time": "2022-03-24T16:13:28.013Z"
   },
   {
    "duration": 53,
    "start_time": "2022-03-24T16:13:28.117Z"
   },
   {
    "duration": 4,
    "start_time": "2022-03-24T16:16:24.512Z"
   },
   {
    "duration": 93,
    "start_time": "2022-03-24T16:16:25.227Z"
   },
   {
    "duration": 57,
    "start_time": "2022-03-24T16:16:30.958Z"
   },
   {
    "duration": 301,
    "start_time": "2022-03-24T16:16:32.327Z"
   },
   {
    "duration": 2628,
    "start_time": "2022-03-24T16:19:23.152Z"
   },
   {
    "duration": 213,
    "start_time": "2022-03-24T16:19:25.783Z"
   },
   {
    "duration": 82,
    "start_time": "2022-03-24T16:19:25.999Z"
   },
   {
    "duration": 37,
    "start_time": "2022-03-24T16:19:26.085Z"
   },
   {
    "duration": 20,
    "start_time": "2022-03-24T16:19:26.175Z"
   },
   {
    "duration": 76,
    "start_time": "2022-03-24T16:19:26.198Z"
   },
   {
    "duration": 10,
    "start_time": "2022-03-24T16:19:26.277Z"
   },
   {
    "duration": 112,
    "start_time": "2022-03-24T16:19:26.290Z"
   },
   {
    "duration": 80,
    "start_time": "2022-03-24T16:19:26.405Z"
   },
   {
    "duration": 618,
    "start_time": "2022-03-24T16:19:26.488Z"
   },
   {
    "duration": 76,
    "start_time": "2022-03-24T16:19:27.109Z"
   },
   {
    "duration": 389,
    "start_time": "2022-03-24T16:19:27.187Z"
   },
   {
    "duration": 4,
    "start_time": "2022-03-24T16:19:27.578Z"
   },
   {
    "duration": 28,
    "start_time": "2022-03-24T16:19:27.583Z"
   },
   {
    "duration": 75,
    "start_time": "2022-03-24T16:19:27.614Z"
   },
   {
    "duration": 485,
    "start_time": "2022-03-24T16:19:27.692Z"
   },
   {
    "duration": 25,
    "start_time": "2022-03-24T16:19:28.179Z"
   },
   {
    "duration": 322,
    "start_time": "2022-03-24T16:19:28.207Z"
   },
   {
    "duration": 261,
    "start_time": "2022-03-24T16:19:28.531Z"
   },
   {
    "duration": 263,
    "start_time": "2022-03-24T16:19:28.796Z"
   },
   {
    "duration": 36,
    "start_time": "2022-03-24T16:19:29.062Z"
   },
   {
    "duration": 353,
    "start_time": "2022-03-24T16:19:29.101Z"
   },
   {
    "duration": 16,
    "start_time": "2022-03-24T16:19:29.457Z"
   },
   {
    "duration": 111,
    "start_time": "2022-03-24T16:19:29.476Z"
   },
   {
    "duration": 156,
    "start_time": "2022-03-24T16:19:42.646Z"
   },
   {
    "duration": 236,
    "start_time": "2022-03-24T16:20:52.359Z"
   },
   {
    "duration": 141,
    "start_time": "2022-03-24T16:21:12.024Z"
   },
   {
    "duration": 156,
    "start_time": "2022-03-24T16:21:42.213Z"
   },
   {
    "duration": 94,
    "start_time": "2022-03-24T16:21:56.335Z"
   },
   {
    "duration": 102,
    "start_time": "2022-03-24T16:22:18.050Z"
   },
   {
    "duration": 1836,
    "start_time": "2022-03-24T16:22:57.438Z"
   },
   {
    "duration": 136,
    "start_time": "2022-03-24T16:22:59.277Z"
   },
   {
    "duration": 71,
    "start_time": "2022-03-24T16:22:59.415Z"
   },
   {
    "duration": 27,
    "start_time": "2022-03-24T16:22:59.489Z"
   },
   {
    "duration": 67,
    "start_time": "2022-03-24T16:22:59.518Z"
   },
   {
    "duration": 16,
    "start_time": "2022-03-24T16:22:59.587Z"
   },
   {
    "duration": 10,
    "start_time": "2022-03-24T16:22:59.606Z"
   },
   {
    "duration": 89,
    "start_time": "2022-03-24T16:22:59.618Z"
   },
   {
    "duration": 83,
    "start_time": "2022-03-24T16:22:59.709Z"
   },
   {
    "duration": 614,
    "start_time": "2022-03-24T16:22:59.797Z"
   },
   {
    "duration": 70,
    "start_time": "2022-03-24T16:23:00.414Z"
   },
   {
    "duration": 512,
    "start_time": "2022-03-24T16:23:00.486Z"
   },
   {
    "duration": 5,
    "start_time": "2022-03-24T16:23:01.001Z"
   },
   {
    "duration": 104,
    "start_time": "2022-03-24T16:23:01.009Z"
   },
   {
    "duration": 75,
    "start_time": "2022-03-24T16:23:01.117Z"
   },
   {
    "duration": 680,
    "start_time": "2022-03-24T16:23:01.194Z"
   },
   {
    "duration": 27,
    "start_time": "2022-03-24T16:23:01.877Z"
   },
   {
    "duration": 353,
    "start_time": "2022-03-24T16:23:01.907Z"
   },
   {
    "duration": 295,
    "start_time": "2022-03-24T16:23:02.263Z"
   },
   {
    "duration": 301,
    "start_time": "2022-03-24T16:23:02.561Z"
   },
   {
    "duration": 43,
    "start_time": "2022-03-24T16:23:02.864Z"
   },
   {
    "duration": 336,
    "start_time": "2022-03-24T16:23:02.910Z"
   },
   {
    "duration": 4,
    "start_time": "2022-03-24T16:23:03.249Z"
   },
   {
    "duration": 3615,
    "start_time": "2022-03-24T16:23:03.255Z"
   },
   {
    "duration": 140,
    "start_time": "2022-03-24T16:23:06.873Z"
   },
   {
    "duration": 3,
    "start_time": "2022-03-24T16:24:44.989Z"
   },
   {
    "duration": 23,
    "start_time": "2022-03-24T16:24:46.564Z"
   },
   {
    "duration": 1588,
    "start_time": "2022-03-24T16:25:48.294Z"
   },
   {
    "duration": 125,
    "start_time": "2022-03-24T16:25:49.885Z"
   },
   {
    "duration": 78,
    "start_time": "2022-03-24T16:25:50.013Z"
   },
   {
    "duration": 79,
    "start_time": "2022-03-24T16:25:50.095Z"
   },
   {
    "duration": 14,
    "start_time": "2022-03-24T16:25:50.176Z"
   },
   {
    "duration": 15,
    "start_time": "2022-03-24T16:25:50.192Z"
   },
   {
    "duration": 7,
    "start_time": "2022-03-24T16:25:50.209Z"
   },
   {
    "duration": 34,
    "start_time": "2022-03-24T16:25:50.275Z"
   },
   {
    "duration": 77,
    "start_time": "2022-03-24T16:25:50.311Z"
   },
   {
    "duration": 619,
    "start_time": "2022-03-24T16:25:50.392Z"
   },
   {
    "duration": 74,
    "start_time": "2022-03-24T16:25:51.014Z"
   },
   {
    "duration": 386,
    "start_time": "2022-03-24T16:25:51.090Z"
   },
   {
    "duration": 3,
    "start_time": "2022-03-24T16:25:51.479Z"
   },
   {
    "duration": 90,
    "start_time": "2022-03-24T16:25:51.485Z"
   },
   {
    "duration": 22,
    "start_time": "2022-03-24T16:25:51.578Z"
   },
   {
    "duration": 617,
    "start_time": "2022-03-24T16:25:51.602Z"
   },
   {
    "duration": 25,
    "start_time": "2022-03-24T16:25:52.275Z"
   },
   {
    "duration": 457,
    "start_time": "2022-03-24T16:25:52.302Z"
   },
   {
    "duration": 268,
    "start_time": "2022-03-24T16:25:52.761Z"
   },
   {
    "duration": 258,
    "start_time": "2022-03-24T16:25:53.032Z"
   },
   {
    "duration": 26,
    "start_time": "2022-03-24T16:25:53.292Z"
   },
   {
    "duration": 445,
    "start_time": "2022-03-24T16:25:53.321Z"
   },
   {
    "duration": 5,
    "start_time": "2022-03-24T16:25:53.769Z"
   },
   {
    "duration": 21,
    "start_time": "2022-03-24T16:25:53.776Z"
   },
   {
    "duration": 112,
    "start_time": "2022-03-24T16:25:53.800Z"
   },
   {
    "duration": 15,
    "start_time": "2022-03-24T16:26:33.855Z"
   },
   {
    "duration": 4,
    "start_time": "2022-03-24T16:26:55.405Z"
   },
   {
    "duration": 85,
    "start_time": "2022-03-24T16:26:56.472Z"
   },
   {
    "duration": 23,
    "start_time": "2022-03-24T16:27:03.822Z"
   },
   {
    "duration": 4,
    "start_time": "2022-03-24T16:27:20.607Z"
   },
   {
    "duration": 26,
    "start_time": "2022-03-24T16:27:29.842Z"
   },
   {
    "duration": 3,
    "start_time": "2022-03-24T16:29:43.373Z"
   },
   {
    "duration": 25,
    "start_time": "2022-03-24T16:29:44.135Z"
   },
   {
    "duration": 3,
    "start_time": "2022-03-24T16:29:51.100Z"
   },
   {
    "duration": 22,
    "start_time": "2022-03-24T16:29:51.888Z"
   },
   {
    "duration": 9,
    "start_time": "2022-03-24T16:29:59.372Z"
   },
   {
    "duration": 4306,
    "start_time": "2022-03-24T16:30:00.025Z"
   },
   {
    "duration": 44,
    "start_time": "2022-03-24T16:30:51.143Z"
   },
   {
    "duration": 5,
    "start_time": "2022-03-24T16:32:49.295Z"
   },
   {
    "duration": 23,
    "start_time": "2022-03-24T16:33:11.107Z"
   },
   {
    "duration": 1541,
    "start_time": "2022-03-24T16:33:27.854Z"
   },
   {
    "duration": 89,
    "start_time": "2022-03-24T16:33:29.400Z"
   },
   {
    "duration": 20,
    "start_time": "2022-03-24T16:33:29.492Z"
   },
   {
    "duration": 28,
    "start_time": "2022-03-24T16:33:29.515Z"
   },
   {
    "duration": 18,
    "start_time": "2022-03-24T16:33:29.575Z"
   },
   {
    "duration": 16,
    "start_time": "2022-03-24T16:33:29.597Z"
   },
   {
    "duration": 9,
    "start_time": "2022-03-24T16:33:29.615Z"
   },
   {
    "duration": 72,
    "start_time": "2022-03-24T16:33:29.626Z"
   },
   {
    "duration": 23,
    "start_time": "2022-03-24T16:33:29.700Z"
   },
   {
    "duration": 337,
    "start_time": "2022-03-24T16:33:29.727Z"
   },
   {
    "duration": 29,
    "start_time": "2022-03-24T16:33:30.067Z"
   },
   {
    "duration": 303,
    "start_time": "2022-03-24T16:33:30.099Z"
   },
   {
    "duration": 5,
    "start_time": "2022-03-24T16:33:30.405Z"
   },
   {
    "duration": 43,
    "start_time": "2022-03-24T16:33:30.412Z"
   },
   {
    "duration": 29,
    "start_time": "2022-03-24T16:33:30.458Z"
   },
   {
    "duration": 327,
    "start_time": "2022-03-24T16:33:30.490Z"
   },
   {
    "duration": 26,
    "start_time": "2022-03-24T16:33:30.819Z"
   },
   {
    "duration": 325,
    "start_time": "2022-03-24T16:33:30.848Z"
   },
   {
    "duration": 262,
    "start_time": "2022-03-24T16:33:31.176Z"
   },
   {
    "duration": 261,
    "start_time": "2022-03-24T16:33:31.440Z"
   },
   {
    "duration": 27,
    "start_time": "2022-03-24T16:33:31.704Z"
   },
   {
    "duration": 344,
    "start_time": "2022-03-24T16:33:31.734Z"
   },
   {
    "duration": 4,
    "start_time": "2022-03-24T16:33:32.080Z"
   },
   {
    "duration": 38,
    "start_time": "2022-03-24T16:33:32.086Z"
   },
   {
    "duration": 3,
    "start_time": "2022-03-24T16:33:32.126Z"
   },
   {
    "duration": 55,
    "start_time": "2022-03-24T16:33:32.131Z"
   },
   {
    "duration": 106,
    "start_time": "2022-03-24T16:33:32.188Z"
   },
   {
    "duration": 1876,
    "start_time": "2022-03-24T16:36:12.033Z"
   },
   {
    "duration": 181,
    "start_time": "2022-03-24T16:36:13.912Z"
   },
   {
    "duration": 85,
    "start_time": "2022-03-24T16:36:14.096Z"
   },
   {
    "duration": 36,
    "start_time": "2022-03-24T16:36:14.186Z"
   },
   {
    "duration": 16,
    "start_time": "2022-03-24T16:36:14.275Z"
   },
   {
    "duration": 15,
    "start_time": "2022-03-24T16:36:14.293Z"
   },
   {
    "duration": 7,
    "start_time": "2022-03-24T16:36:14.310Z"
   },
   {
    "duration": 37,
    "start_time": "2022-03-24T16:36:14.375Z"
   },
   {
    "duration": 75,
    "start_time": "2022-03-24T16:36:14.415Z"
   },
   {
    "duration": 911,
    "start_time": "2022-03-24T16:36:14.496Z"
   },
   {
    "duration": 73,
    "start_time": "2022-03-24T16:36:15.409Z"
   },
   {
    "duration": 335,
    "start_time": "2022-03-24T16:36:15.484Z"
   },
   {
    "duration": 54,
    "start_time": "2022-03-24T16:36:15.821Z"
   },
   {
    "duration": 28,
    "start_time": "2022-03-24T16:36:15.877Z"
   },
   {
    "duration": 73,
    "start_time": "2022-03-24T16:36:15.907Z"
   },
   {
    "duration": 600,
    "start_time": "2022-03-24T16:36:15.982Z"
   },
   {
    "duration": 25,
    "start_time": "2022-03-24T16:36:16.585Z"
   },
   {
    "duration": 403,
    "start_time": "2022-03-24T16:36:16.612Z"
   },
   {
    "duration": 264,
    "start_time": "2022-03-24T16:36:17.017Z"
   },
   {
    "duration": 262,
    "start_time": "2022-03-24T16:36:17.283Z"
   },
   {
    "duration": 43,
    "start_time": "2022-03-24T16:36:17.548Z"
   },
   {
    "duration": 314,
    "start_time": "2022-03-24T16:36:17.593Z"
   },
   {
    "duration": 37,
    "start_time": "2022-03-24T16:36:17.909Z"
   },
   {
    "duration": 4,
    "start_time": "2022-03-24T16:36:17.948Z"
   },
   {
    "duration": 37,
    "start_time": "2022-03-24T16:36:17.954Z"
   },
   {
    "duration": 104,
    "start_time": "2022-03-24T16:36:17.994Z"
   },
   {
    "duration": 111,
    "start_time": "2022-03-24T16:37:11.366Z"
   },
   {
    "duration": 132,
    "start_time": "2022-03-24T16:37:22.131Z"
   },
   {
    "duration": 231,
    "start_time": "2022-03-24T16:37:40.528Z"
   },
   {
    "duration": 87,
    "start_time": "2022-03-24T16:37:51.598Z"
   },
   {
    "duration": 88,
    "start_time": "2022-03-24T16:38:26.526Z"
   },
   {
    "duration": 99,
    "start_time": "2022-03-24T16:40:58.983Z"
   },
   {
    "duration": 1552,
    "start_time": "2022-03-24T16:47:59.368Z"
   },
   {
    "duration": 85,
    "start_time": "2022-03-24T16:48:00.922Z"
   },
   {
    "duration": 31,
    "start_time": "2022-03-24T16:48:01.010Z"
   },
   {
    "duration": 56,
    "start_time": "2022-03-24T16:48:01.044Z"
   },
   {
    "duration": 15,
    "start_time": "2022-03-24T16:48:01.105Z"
   },
   {
    "duration": 35,
    "start_time": "2022-03-24T16:48:01.122Z"
   },
   {
    "duration": 20,
    "start_time": "2022-03-24T16:48:01.159Z"
   },
   {
    "duration": 61,
    "start_time": "2022-03-24T16:48:01.181Z"
   },
   {
    "duration": 29,
    "start_time": "2022-03-24T16:48:01.244Z"
   },
   {
    "duration": 406,
    "start_time": "2022-03-24T16:48:01.275Z"
   },
   {
    "duration": 24,
    "start_time": "2022-03-24T16:48:01.684Z"
   },
   {
    "duration": 220,
    "start_time": "2022-03-24T16:48:01.710Z"
   },
   {
    "duration": 3,
    "start_time": "2022-03-24T16:48:01.933Z"
   },
   {
    "duration": 37,
    "start_time": "2022-03-24T16:48:01.941Z"
   },
   {
    "duration": 38,
    "start_time": "2022-03-24T16:48:01.981Z"
   },
   {
    "duration": 334,
    "start_time": "2022-03-24T16:48:02.021Z"
   },
   {
    "duration": 35,
    "start_time": "2022-03-24T16:48:02.357Z"
   },
   {
    "duration": 320,
    "start_time": "2022-03-24T16:48:02.394Z"
   },
   {
    "duration": 267,
    "start_time": "2022-03-24T16:48:02.716Z"
   },
   {
    "duration": 257,
    "start_time": "2022-03-24T16:48:02.985Z"
   },
   {
    "duration": 34,
    "start_time": "2022-03-24T16:48:03.245Z"
   },
   {
    "duration": 331,
    "start_time": "2022-03-24T16:48:03.281Z"
   },
   {
    "duration": 39,
    "start_time": "2022-03-24T16:48:03.614Z"
   },
   {
    "duration": 19,
    "start_time": "2022-03-24T16:48:03.655Z"
   },
   {
    "duration": 134,
    "start_time": "2022-03-24T16:48:03.677Z"
   },
   {
    "duration": 125,
    "start_time": "2022-03-24T16:48:34.729Z"
   },
   {
    "duration": 7,
    "start_time": "2022-03-24T16:49:06.183Z"
   },
   {
    "duration": 172,
    "start_time": "2022-03-24T16:49:18.588Z"
   },
   {
    "duration": 7,
    "start_time": "2022-03-24T16:49:26.809Z"
   },
   {
    "duration": 10,
    "start_time": "2022-03-24T16:49:48.477Z"
   },
   {
    "duration": 9,
    "start_time": "2022-03-24T16:50:58.599Z"
   },
   {
    "duration": 7,
    "start_time": "2022-03-24T16:51:22.754Z"
   },
   {
    "duration": 7,
    "start_time": "2022-03-24T16:51:35.820Z"
   },
   {
    "duration": 11,
    "start_time": "2022-03-24T16:56:27.987Z"
   },
   {
    "duration": 9,
    "start_time": "2022-03-24T16:56:47.406Z"
   },
   {
    "duration": 10,
    "start_time": "2022-03-24T16:56:58.573Z"
   },
   {
    "duration": 1472,
    "start_time": "2022-03-24T16:58:01.318Z"
   },
   {
    "duration": 82,
    "start_time": "2022-03-24T16:58:02.793Z"
   },
   {
    "duration": 21,
    "start_time": "2022-03-24T16:58:02.877Z"
   },
   {
    "duration": 27,
    "start_time": "2022-03-24T16:58:02.902Z"
   },
   {
    "duration": 47,
    "start_time": "2022-03-24T16:58:02.932Z"
   },
   {
    "duration": 17,
    "start_time": "2022-03-24T16:58:02.982Z"
   },
   {
    "duration": 7,
    "start_time": "2022-03-24T16:58:03.001Z"
   },
   {
    "duration": 64,
    "start_time": "2022-03-24T16:58:03.010Z"
   },
   {
    "duration": 23,
    "start_time": "2022-03-24T16:58:03.076Z"
   },
   {
    "duration": 335,
    "start_time": "2022-03-24T16:58:03.103Z"
   },
   {
    "duration": 35,
    "start_time": "2022-03-24T16:58:03.440Z"
   },
   {
    "duration": 199,
    "start_time": "2022-03-24T16:58:03.477Z"
   },
   {
    "duration": 5,
    "start_time": "2022-03-24T16:58:03.678Z"
   },
   {
    "duration": 34,
    "start_time": "2022-03-24T16:58:03.685Z"
   },
   {
    "duration": 21,
    "start_time": "2022-03-24T16:58:03.721Z"
   },
   {
    "duration": 329,
    "start_time": "2022-03-24T16:58:03.744Z"
   },
   {
    "duration": 26,
    "start_time": "2022-03-24T16:58:04.076Z"
   },
   {
    "duration": 319,
    "start_time": "2022-03-24T16:58:04.104Z"
   },
   {
    "duration": 262,
    "start_time": "2022-03-24T16:58:04.425Z"
   },
   {
    "duration": 259,
    "start_time": "2022-03-24T16:58:04.691Z"
   },
   {
    "duration": 37,
    "start_time": "2022-03-24T16:58:04.952Z"
   },
   {
    "duration": 433,
    "start_time": "2022-03-24T16:58:04.991Z"
   },
   {
    "duration": 49,
    "start_time": "2022-03-24T16:58:05.427Z"
   },
   {
    "duration": 7,
    "start_time": "2022-03-24T16:58:05.478Z"
   },
   {
    "duration": 133,
    "start_time": "2022-03-24T16:58:05.487Z"
   },
   {
    "duration": 9,
    "start_time": "2022-03-24T16:58:05.623Z"
   },
   {
    "duration": 1492,
    "start_time": "2022-03-24T18:09:48.707Z"
   },
   {
    "duration": 80,
    "start_time": "2022-03-24T18:09:50.202Z"
   },
   {
    "duration": 20,
    "start_time": "2022-03-24T18:09:50.285Z"
   },
   {
    "duration": 31,
    "start_time": "2022-03-24T18:09:50.308Z"
   },
   {
    "duration": 38,
    "start_time": "2022-03-24T18:09:50.341Z"
   },
   {
    "duration": 16,
    "start_time": "2022-03-24T18:09:50.381Z"
   },
   {
    "duration": 15,
    "start_time": "2022-03-24T18:09:50.399Z"
   },
   {
    "duration": 59,
    "start_time": "2022-03-24T18:09:50.416Z"
   },
   {
    "duration": 24,
    "start_time": "2022-03-24T18:09:50.477Z"
   },
   {
    "duration": 330,
    "start_time": "2022-03-24T18:09:50.506Z"
   },
   {
    "duration": 37,
    "start_time": "2022-03-24T18:09:50.838Z"
   },
   {
    "duration": 196,
    "start_time": "2022-03-24T18:09:50.877Z"
   },
   {
    "duration": 4,
    "start_time": "2022-03-24T18:09:51.075Z"
   },
   {
    "duration": 42,
    "start_time": "2022-03-24T18:09:51.081Z"
   },
   {
    "duration": 23,
    "start_time": "2022-03-24T18:09:51.125Z"
   },
   {
    "duration": 327,
    "start_time": "2022-03-24T18:09:51.150Z"
   },
   {
    "duration": 26,
    "start_time": "2022-03-24T18:09:51.480Z"
   },
   {
    "duration": 320,
    "start_time": "2022-03-24T18:09:51.508Z"
   },
   {
    "duration": 259,
    "start_time": "2022-03-24T18:09:51.830Z"
   },
   {
    "duration": 264,
    "start_time": "2022-03-24T18:09:52.091Z"
   },
   {
    "duration": 37,
    "start_time": "2022-03-24T18:09:52.357Z"
   },
   {
    "duration": 321,
    "start_time": "2022-03-24T18:09:52.396Z"
   },
   {
    "duration": 54,
    "start_time": "2022-03-24T18:09:52.719Z"
   },
   {
    "duration": 4,
    "start_time": "2022-03-24T18:09:52.775Z"
   },
   {
    "duration": 133,
    "start_time": "2022-03-24T18:09:52.781Z"
   },
   {
    "duration": 10,
    "start_time": "2022-03-24T18:09:52.916Z"
   },
   {
    "duration": 19,
    "start_time": "2022-03-24T18:12:25.585Z"
   },
   {
    "duration": 25,
    "start_time": "2022-03-24T18:12:33.387Z"
   },
   {
    "duration": 26,
    "start_time": "2022-03-24T18:13:20.238Z"
   },
   {
    "duration": 26,
    "start_time": "2022-03-24T18:13:36.114Z"
   },
   {
    "duration": 25,
    "start_time": "2022-03-24T18:13:48.349Z"
   },
   {
    "duration": 51740,
    "start_time": "2022-03-24T18:15:12.613Z"
   },
   {
    "duration": 25,
    "start_time": "2022-03-24T18:16:27.619Z"
   },
   {
    "duration": 1582,
    "start_time": "2022-03-24T18:17:46.963Z"
   },
   {
    "duration": 83,
    "start_time": "2022-03-24T18:17:48.548Z"
   },
   {
    "duration": 19,
    "start_time": "2022-03-24T18:17:48.634Z"
   },
   {
    "duration": 42,
    "start_time": "2022-03-24T18:17:48.656Z"
   },
   {
    "duration": 13,
    "start_time": "2022-03-24T18:17:48.700Z"
   },
   {
    "duration": 19,
    "start_time": "2022-03-24T18:17:48.715Z"
   },
   {
    "duration": 37,
    "start_time": "2022-03-24T18:17:48.736Z"
   },
   {
    "duration": 37,
    "start_time": "2022-03-24T18:17:48.776Z"
   },
   {
    "duration": 22,
    "start_time": "2022-03-24T18:17:48.815Z"
   },
   {
    "duration": 338,
    "start_time": "2022-03-24T18:17:48.840Z"
   },
   {
    "duration": 22,
    "start_time": "2022-03-24T18:17:49.180Z"
   },
   {
    "duration": 211,
    "start_time": "2022-03-24T18:17:49.204Z"
   },
   {
    "duration": 3,
    "start_time": "2022-03-24T18:17:49.418Z"
   },
   {
    "duration": 28,
    "start_time": "2022-03-24T18:17:49.423Z"
   },
   {
    "duration": 38,
    "start_time": "2022-03-24T18:17:49.453Z"
   },
   {
    "duration": 327,
    "start_time": "2022-03-24T18:17:49.494Z"
   },
   {
    "duration": 27,
    "start_time": "2022-03-24T18:17:49.824Z"
   },
   {
    "duration": 320,
    "start_time": "2022-03-24T18:17:49.853Z"
   },
   {
    "duration": 265,
    "start_time": "2022-03-24T18:17:50.176Z"
   },
   {
    "duration": 251,
    "start_time": "2022-03-24T18:17:50.443Z"
   },
   {
    "duration": 34,
    "start_time": "2022-03-24T18:17:50.696Z"
   },
   {
    "duration": 373,
    "start_time": "2022-03-24T18:17:50.732Z"
   },
   {
    "duration": 42,
    "start_time": "2022-03-24T18:17:51.108Z"
   },
   {
    "duration": 3,
    "start_time": "2022-03-24T18:17:51.153Z"
   },
   {
    "duration": 142,
    "start_time": "2022-03-24T18:17:51.158Z"
   },
   {
    "duration": 9,
    "start_time": "2022-03-24T18:17:51.302Z"
   },
   {
    "duration": 63,
    "start_time": "2022-03-24T18:17:51.313Z"
   },
   {
    "duration": 1487,
    "start_time": "2022-03-24T18:18:17.387Z"
   },
   {
    "duration": 77,
    "start_time": "2022-03-24T18:18:18.877Z"
   },
   {
    "duration": 27,
    "start_time": "2022-03-24T18:18:18.957Z"
   },
   {
    "duration": 28,
    "start_time": "2022-03-24T18:18:18.987Z"
   },
   {
    "duration": 13,
    "start_time": "2022-03-24T18:18:19.017Z"
   },
   {
    "duration": 46,
    "start_time": "2022-03-24T18:18:19.033Z"
   },
   {
    "duration": 7,
    "start_time": "2022-03-24T18:18:19.081Z"
   },
   {
    "duration": 37,
    "start_time": "2022-03-24T18:18:19.090Z"
   },
   {
    "duration": 56,
    "start_time": "2022-03-24T18:18:19.130Z"
   },
   {
    "duration": 324,
    "start_time": "2022-03-24T18:18:19.191Z"
   },
   {
    "duration": 24,
    "start_time": "2022-03-24T18:18:19.518Z"
   },
   {
    "duration": 212,
    "start_time": "2022-03-24T18:18:19.544Z"
   },
   {
    "duration": 15,
    "start_time": "2022-03-24T18:18:19.759Z"
   },
   {
    "duration": 28,
    "start_time": "2022-03-24T18:18:19.776Z"
   },
   {
    "duration": 21,
    "start_time": "2022-03-24T18:18:19.806Z"
   },
   {
    "duration": 329,
    "start_time": "2022-03-24T18:18:19.830Z"
   },
   {
    "duration": 33,
    "start_time": "2022-03-24T18:18:20.161Z"
   },
   {
    "duration": 313,
    "start_time": "2022-03-24T18:18:20.196Z"
   },
   {
    "duration": 260,
    "start_time": "2022-03-24T18:18:20.511Z"
   },
   {
    "duration": 256,
    "start_time": "2022-03-24T18:18:20.774Z"
   },
   {
    "duration": 43,
    "start_time": "2022-03-24T18:18:21.032Z"
   },
   {
    "duration": 319,
    "start_time": "2022-03-24T18:18:21.078Z"
   },
   {
    "duration": 39,
    "start_time": "2022-03-24T18:18:21.399Z"
   },
   {
    "duration": 5,
    "start_time": "2022-03-24T18:18:21.441Z"
   },
   {
    "duration": 147,
    "start_time": "2022-03-24T18:18:21.448Z"
   },
   {
    "duration": 9,
    "start_time": "2022-03-24T18:18:21.598Z"
   },
   {
    "duration": 26,
    "start_time": "2022-03-24T18:18:21.610Z"
   },
   {
    "duration": 55351,
    "start_time": "2022-03-24T18:18:21.641Z"
   },
   {
    "duration": 27,
    "start_time": "2022-03-24T18:19:41.873Z"
   },
   {
    "duration": 282,
    "start_time": "2022-03-24T18:19:47.996Z"
   },
   {
    "duration": 352,
    "start_time": "2022-03-24T18:20:23.626Z"
   },
   {
    "duration": 1467,
    "start_time": "2022-03-24T18:45:41.324Z"
   },
   {
    "duration": 82,
    "start_time": "2022-03-24T18:45:42.794Z"
   },
   {
    "duration": 20,
    "start_time": "2022-03-24T18:45:42.879Z"
   },
   {
    "duration": 28,
    "start_time": "2022-03-24T18:45:42.903Z"
   },
   {
    "duration": 45,
    "start_time": "2022-03-24T18:45:42.933Z"
   },
   {
    "duration": 15,
    "start_time": "2022-03-24T18:45:42.980Z"
   },
   {
    "duration": 8,
    "start_time": "2022-03-24T18:45:42.998Z"
   },
   {
    "duration": 67,
    "start_time": "2022-03-24T18:45:43.008Z"
   },
   {
    "duration": 21,
    "start_time": "2022-03-24T18:45:43.077Z"
   },
   {
    "duration": 332,
    "start_time": "2022-03-24T18:45:43.103Z"
   },
   {
    "duration": 20,
    "start_time": "2022-03-24T18:45:43.437Z"
   },
   {
    "duration": 203,
    "start_time": "2022-03-24T18:45:43.459Z"
   },
   {
    "duration": 9,
    "start_time": "2022-03-24T18:45:43.664Z"
   },
   {
    "duration": 24,
    "start_time": "2022-03-24T18:45:43.675Z"
   },
   {
    "duration": 23,
    "start_time": "2022-03-24T18:45:43.701Z"
   },
   {
    "duration": 335,
    "start_time": "2022-03-24T18:45:43.726Z"
   },
   {
    "duration": 25,
    "start_time": "2022-03-24T18:45:44.073Z"
   },
   {
    "duration": 313,
    "start_time": "2022-03-24T18:45:44.100Z"
   },
   {
    "duration": 270,
    "start_time": "2022-03-24T18:45:44.416Z"
   },
   {
    "duration": 248,
    "start_time": "2022-03-24T18:45:44.688Z"
   },
   {
    "duration": 37,
    "start_time": "2022-03-24T18:45:44.939Z"
   },
   {
    "duration": 314,
    "start_time": "2022-03-24T18:45:44.978Z"
   },
   {
    "duration": 37,
    "start_time": "2022-03-24T18:45:45.295Z"
   },
   {
    "duration": 7,
    "start_time": "2022-03-24T18:45:45.334Z"
   },
   {
    "duration": 144,
    "start_time": "2022-03-24T18:45:45.342Z"
   },
   {
    "duration": 8,
    "start_time": "2022-03-24T18:45:45.489Z"
   },
   {
    "duration": 28,
    "start_time": "2022-03-24T18:45:45.499Z"
   },
   {
    "duration": 371,
    "start_time": "2022-03-24T18:45:45.533Z"
   },
   {
    "duration": 752,
    "start_time": "2022-03-24T18:51:42.626Z"
   },
   {
    "duration": 201,
    "start_time": "2022-03-24T18:51:54.597Z"
   },
   {
    "duration": 251,
    "start_time": "2022-03-24T18:52:26.524Z"
   },
   {
    "duration": 18,
    "start_time": "2022-03-24T18:52:57.647Z"
   },
   {
    "duration": 18,
    "start_time": "2022-03-24T18:54:51.942Z"
   },
   {
    "duration": 18,
    "start_time": "2022-03-24T18:55:06.020Z"
   },
   {
    "duration": 2174,
    "start_time": "2022-03-24T18:55:11.311Z"
   },
   {
    "duration": 132,
    "start_time": "2022-03-24T18:55:13.488Z"
   },
   {
    "duration": 19,
    "start_time": "2022-03-24T18:55:13.674Z"
   },
   {
    "duration": 83,
    "start_time": "2022-03-24T18:55:13.696Z"
   },
   {
    "duration": 13,
    "start_time": "2022-03-24T18:55:13.781Z"
   },
   {
    "duration": 16,
    "start_time": "2022-03-24T18:55:13.796Z"
   },
   {
    "duration": 60,
    "start_time": "2022-03-24T18:55:13.814Z"
   },
   {
    "duration": 36,
    "start_time": "2022-03-24T18:55:13.878Z"
   },
   {
    "duration": 79,
    "start_time": "2022-03-24T18:55:13.916Z"
   },
   {
    "duration": 679,
    "start_time": "2022-03-24T18:55:13.998Z"
   },
   {
    "duration": 22,
    "start_time": "2022-03-24T18:55:14.679Z"
   },
   {
    "duration": 398,
    "start_time": "2022-03-24T18:55:14.703Z"
   },
   {
    "duration": 5,
    "start_time": "2022-03-24T18:55:15.103Z"
   },
   {
    "duration": 81,
    "start_time": "2022-03-24T18:55:15.110Z"
   },
   {
    "duration": 24,
    "start_time": "2022-03-24T18:55:15.194Z"
   },
   {
    "duration": 345,
    "start_time": "2022-03-24T18:55:15.221Z"
   },
   {
    "duration": 29,
    "start_time": "2022-03-24T18:55:15.569Z"
   },
   {
    "duration": 323,
    "start_time": "2022-03-24T18:55:15.601Z"
   },
   {
    "duration": 268,
    "start_time": "2022-03-24T18:55:15.927Z"
   },
   {
    "duration": 267,
    "start_time": "2022-03-24T18:55:16.198Z"
   },
   {
    "duration": 33,
    "start_time": "2022-03-24T18:55:16.467Z"
   },
   {
    "duration": 401,
    "start_time": "2022-03-24T18:55:16.503Z"
   },
   {
    "duration": 40,
    "start_time": "2022-03-24T18:55:16.907Z"
   },
   {
    "duration": 25,
    "start_time": "2022-03-24T18:55:16.950Z"
   },
   {
    "duration": 135,
    "start_time": "2022-03-24T18:55:16.978Z"
   },
   {
    "duration": 10,
    "start_time": "2022-03-24T18:55:17.116Z"
   },
   {
    "duration": 64,
    "start_time": "2022-03-24T18:55:17.129Z"
   },
   {
    "duration": 538,
    "start_time": "2022-03-24T18:55:17.199Z"
   },
   {
    "duration": 192,
    "start_time": "2022-03-24T18:55:17.739Z"
   },
   {
    "duration": 18,
    "start_time": "2022-03-24T18:55:17.934Z"
   },
   {
    "duration": 13,
    "start_time": "2022-03-24T18:55:23.079Z"
   },
   {
    "duration": 27,
    "start_time": "2022-03-24T18:57:33.776Z"
   },
   {
    "duration": 10,
    "start_time": "2022-03-24T18:58:00.446Z"
   },
   {
    "duration": 22,
    "start_time": "2022-03-24T18:58:23.452Z"
   },
   {
    "duration": 24,
    "start_time": "2022-03-24T18:58:27.604Z"
   },
   {
    "duration": 38,
    "start_time": "2022-03-24T18:58:37.038Z"
   },
   {
    "duration": 145,
    "start_time": "2022-03-24T18:59:02.711Z"
   },
   {
    "duration": 162,
    "start_time": "2022-03-24T18:59:35.143Z"
   },
   {
    "duration": 1411,
    "start_time": "2022-03-24T18:59:54.301Z"
   },
   {
    "duration": 1330,
    "start_time": "2022-03-24T19:00:02.151Z"
   },
   {
    "duration": 1725,
    "start_time": "2022-03-24T19:00:12.087Z"
   },
   {
    "duration": 176,
    "start_time": "2022-03-24T19:00:13.815Z"
   },
   {
    "duration": 19,
    "start_time": "2022-03-24T19:00:13.997Z"
   },
   {
    "duration": 27,
    "start_time": "2022-03-24T19:00:14.075Z"
   },
   {
    "duration": 12,
    "start_time": "2022-03-24T19:00:14.105Z"
   },
   {
    "duration": 71,
    "start_time": "2022-03-24T19:00:14.119Z"
   },
   {
    "duration": 20,
    "start_time": "2022-03-24T19:00:14.192Z"
   },
   {
    "duration": 84,
    "start_time": "2022-03-24T19:00:14.214Z"
   },
   {
    "duration": 76,
    "start_time": "2022-03-24T19:00:14.302Z"
   },
   {
    "duration": 925,
    "start_time": "2022-03-24T19:00:14.380Z"
   },
   {
    "duration": 74,
    "start_time": "2022-03-24T19:00:15.308Z"
   },
   {
    "duration": 516,
    "start_time": "2022-03-24T19:00:15.386Z"
   },
   {
    "duration": 5,
    "start_time": "2022-03-24T19:00:15.905Z"
   },
   {
    "duration": 94,
    "start_time": "2022-03-24T19:00:15.913Z"
   },
   {
    "duration": 85,
    "start_time": "2022-03-24T19:00:16.010Z"
   },
   {
    "duration": 797,
    "start_time": "2022-03-24T19:00:16.098Z"
   },
   {
    "duration": 26,
    "start_time": "2022-03-24T19:00:16.897Z"
   },
   {
    "duration": 348,
    "start_time": "2022-03-24T19:00:16.925Z"
   },
   {
    "duration": 252,
    "start_time": "2022-03-24T19:00:17.276Z"
   },
   {
    "duration": 255,
    "start_time": "2022-03-24T19:00:17.531Z"
   },
   {
    "duration": 28,
    "start_time": "2022-03-24T19:00:17.790Z"
   },
   {
    "duration": 336,
    "start_time": "2022-03-24T19:00:17.820Z"
   },
   {
    "duration": 46,
    "start_time": "2022-03-24T19:00:18.159Z"
   },
   {
    "duration": 25,
    "start_time": "2022-03-24T19:00:18.207Z"
   },
   {
    "duration": 125,
    "start_time": "2022-03-24T19:00:18.235Z"
   },
   {
    "duration": 16,
    "start_time": "2022-03-24T19:00:18.362Z"
   },
   {
    "duration": 39,
    "start_time": "2022-03-24T19:00:18.383Z"
   },
   {
    "duration": 343,
    "start_time": "2022-03-24T19:00:18.424Z"
   },
   {
    "duration": 207,
    "start_time": "2022-03-24T19:00:18.773Z"
   },
   {
    "duration": 14,
    "start_time": "2022-03-24T19:00:18.982Z"
   },
   {
    "duration": 41,
    "start_time": "2022-03-24T19:00:18.998Z"
   },
   {
    "duration": 26,
    "start_time": "2022-03-24T19:00:49.201Z"
   },
   {
    "duration": 25,
    "start_time": "2022-03-24T19:01:01.204Z"
   },
   {
    "duration": 30,
    "start_time": "2022-03-24T19:01:23.422Z"
   },
   {
    "duration": 1955,
    "start_time": "2022-03-24T19:01:30.241Z"
   },
   {
    "duration": 181,
    "start_time": "2022-03-24T19:01:32.199Z"
   },
   {
    "duration": 20,
    "start_time": "2022-03-24T19:01:32.382Z"
   },
   {
    "duration": 82,
    "start_time": "2022-03-24T19:01:32.406Z"
   },
   {
    "duration": 14,
    "start_time": "2022-03-24T19:01:32.490Z"
   },
   {
    "duration": 71,
    "start_time": "2022-03-24T19:01:32.506Z"
   },
   {
    "duration": 7,
    "start_time": "2022-03-24T19:01:32.580Z"
   },
   {
    "duration": 102,
    "start_time": "2022-03-24T19:01:32.590Z"
   },
   {
    "duration": 80,
    "start_time": "2022-03-24T19:01:32.694Z"
   },
   {
    "duration": 924,
    "start_time": "2022-03-24T19:01:32.780Z"
   },
   {
    "duration": 86,
    "start_time": "2022-03-24T19:01:33.707Z"
   },
   {
    "duration": 581,
    "start_time": "2022-03-24T19:01:33.796Z"
   },
   {
    "duration": 5,
    "start_time": "2022-03-24T19:01:34.380Z"
   },
   {
    "duration": 27,
    "start_time": "2022-03-24T19:01:34.387Z"
   },
   {
    "duration": 85,
    "start_time": "2022-03-24T19:01:34.416Z"
   },
   {
    "duration": 792,
    "start_time": "2022-03-24T19:01:34.504Z"
   },
   {
    "duration": 27,
    "start_time": "2022-03-24T19:01:35.300Z"
   },
   {
    "duration": 309,
    "start_time": "2022-03-24T19:01:35.329Z"
   },
   {
    "duration": 261,
    "start_time": "2022-03-24T19:01:35.641Z"
   },
   {
    "duration": 257,
    "start_time": "2022-03-24T19:01:35.904Z"
   },
   {
    "duration": 32,
    "start_time": "2022-03-24T19:01:36.164Z"
   },
   {
    "duration": 330,
    "start_time": "2022-03-24T19:01:36.198Z"
   },
   {
    "duration": 52,
    "start_time": "2022-03-24T19:01:36.530Z"
   },
   {
    "duration": 3,
    "start_time": "2022-03-24T19:01:36.584Z"
   },
   {
    "duration": 140,
    "start_time": "2022-03-24T19:01:36.589Z"
   },
   {
    "duration": 10,
    "start_time": "2022-03-24T19:01:36.732Z"
   },
   {
    "duration": 51,
    "start_time": "2022-03-24T19:01:36.745Z"
   },
   {
    "duration": 371,
    "start_time": "2022-03-24T19:01:36.802Z"
   },
   {
    "duration": 185,
    "start_time": "2022-03-24T19:01:37.176Z"
   },
   {
    "duration": 13,
    "start_time": "2022-03-24T19:01:37.363Z"
   },
   {
    "duration": 35,
    "start_time": "2022-03-24T19:01:37.379Z"
   },
   {
    "duration": 26,
    "start_time": "2022-03-24T19:09:02.873Z"
   },
   {
    "duration": 26,
    "start_time": "2022-03-24T19:09:14.394Z"
   },
   {
    "duration": 1858,
    "start_time": "2022-03-24T19:09:20.326Z"
   },
   {
    "duration": 131,
    "start_time": "2022-03-24T19:09:22.187Z"
   },
   {
    "duration": 21,
    "start_time": "2022-03-24T19:09:22.374Z"
   },
   {
    "duration": 82,
    "start_time": "2022-03-24T19:09:22.398Z"
   },
   {
    "duration": 13,
    "start_time": "2022-03-24T19:09:22.482Z"
   },
   {
    "duration": 21,
    "start_time": "2022-03-24T19:09:22.497Z"
   },
   {
    "duration": 55,
    "start_time": "2022-03-24T19:09:22.520Z"
   },
   {
    "duration": 38,
    "start_time": "2022-03-24T19:09:22.578Z"
   },
   {
    "duration": 96,
    "start_time": "2022-03-24T19:09:22.619Z"
   },
   {
    "duration": 894,
    "start_time": "2022-03-24T19:09:22.721Z"
   },
   {
    "duration": 80,
    "start_time": "2022-03-24T19:09:23.617Z"
   },
   {
    "duration": 508,
    "start_time": "2022-03-24T19:09:23.700Z"
   },
   {
    "duration": 5,
    "start_time": "2022-03-24T19:09:24.211Z"
   },
   {
    "duration": 31,
    "start_time": "2022-03-24T19:09:24.275Z"
   },
   {
    "duration": 75,
    "start_time": "2022-03-24T19:09:24.308Z"
   },
   {
    "duration": 338,
    "start_time": "2022-03-24T19:09:24.386Z"
   },
   {
    "duration": 27,
    "start_time": "2022-03-24T19:09:24.728Z"
   },
   {
    "duration": 299,
    "start_time": "2022-03-24T19:09:24.775Z"
   },
   {
    "duration": 266,
    "start_time": "2022-03-24T19:09:25.076Z"
   },
   {
    "duration": 249,
    "start_time": "2022-03-24T19:09:25.345Z"
   },
   {
    "duration": 35,
    "start_time": "2022-03-24T19:09:25.596Z"
   },
   {
    "duration": 447,
    "start_time": "2022-03-24T19:09:25.634Z"
   },
   {
    "duration": 42,
    "start_time": "2022-03-24T19:09:26.084Z"
   },
   {
    "duration": 4,
    "start_time": "2022-03-24T19:09:26.129Z"
   },
   {
    "duration": 151,
    "start_time": "2022-03-24T19:09:26.135Z"
   },
   {
    "duration": 9,
    "start_time": "2022-03-24T19:09:26.288Z"
   },
   {
    "duration": 28,
    "start_time": "2022-03-24T19:09:26.300Z"
   },
   {
    "duration": 373,
    "start_time": "2022-03-24T19:09:26.332Z"
   },
   {
    "duration": 210,
    "start_time": "2022-03-24T19:09:26.707Z"
   },
   {
    "duration": 13,
    "start_time": "2022-03-24T19:09:26.920Z"
   },
   {
    "duration": 29,
    "start_time": "2022-03-24T19:09:26.935Z"
   },
   {
    "duration": 1689,
    "start_time": "2022-03-24T19:10:58.047Z"
   },
   {
    "duration": 122,
    "start_time": "2022-03-24T19:10:59.740Z"
   },
   {
    "duration": 26,
    "start_time": "2022-03-24T19:10:59.865Z"
   },
   {
    "duration": 28,
    "start_time": "2022-03-24T19:10:59.895Z"
   },
   {
    "duration": 55,
    "start_time": "2022-03-24T19:10:59.926Z"
   },
   {
    "duration": 16,
    "start_time": "2022-03-24T19:10:59.984Z"
   },
   {
    "duration": 13,
    "start_time": "2022-03-24T19:11:00.003Z"
   },
   {
    "duration": 58,
    "start_time": "2022-03-24T19:11:00.018Z"
   },
   {
    "duration": 32,
    "start_time": "2022-03-24T19:11:00.078Z"
   },
   {
    "duration": 510,
    "start_time": "2022-03-24T19:11:00.116Z"
   },
   {
    "duration": 28,
    "start_time": "2022-03-24T19:11:00.629Z"
   },
   {
    "duration": 199,
    "start_time": "2022-03-24T19:11:00.673Z"
   },
   {
    "duration": 5,
    "start_time": "2022-03-24T19:11:00.875Z"
   },
   {
    "duration": 52,
    "start_time": "2022-03-24T19:11:00.882Z"
   },
   {
    "duration": 41,
    "start_time": "2022-03-24T19:11:00.936Z"
   },
   {
    "duration": 363,
    "start_time": "2022-03-24T19:11:00.980Z"
   },
   {
    "duration": 38,
    "start_time": "2022-03-24T19:11:01.346Z"
   },
   {
    "duration": 356,
    "start_time": "2022-03-24T19:11:01.387Z"
   },
   {
    "duration": 328,
    "start_time": "2022-03-24T19:11:01.746Z"
   },
   {
    "duration": 300,
    "start_time": "2022-03-24T19:11:02.077Z"
   },
   {
    "duration": 36,
    "start_time": "2022-03-24T19:11:02.380Z"
   },
   {
    "duration": 347,
    "start_time": "2022-03-24T19:11:02.418Z"
   },
   {
    "duration": 54,
    "start_time": "2022-03-24T19:11:02.767Z"
   },
   {
    "duration": 5,
    "start_time": "2022-03-24T19:11:02.824Z"
   },
   {
    "duration": 169,
    "start_time": "2022-03-24T19:11:02.832Z"
   },
   {
    "duration": 11,
    "start_time": "2022-03-24T19:11:03.004Z"
   },
   {
    "duration": 53,
    "start_time": "2022-03-24T19:11:03.017Z"
   },
   {
    "duration": 471,
    "start_time": "2022-03-24T19:11:03.077Z"
   },
   {
    "duration": 224,
    "start_time": "2022-03-24T19:11:03.550Z"
   },
   {
    "duration": 15,
    "start_time": "2022-03-24T19:11:03.776Z"
   },
   {
    "duration": 59,
    "start_time": "2022-03-24T19:11:03.795Z"
   },
   {
    "duration": 23,
    "start_time": "2022-03-24T19:11:11.335Z"
   },
   {
    "duration": 23,
    "start_time": "2022-03-24T19:11:14.690Z"
   },
   {
    "duration": 22,
    "start_time": "2022-03-24T19:11:22.513Z"
   },
   {
    "duration": 20,
    "start_time": "2022-03-24T19:12:44.141Z"
   },
   {
    "duration": 21,
    "start_time": "2022-03-24T19:12:55.651Z"
   },
   {
    "duration": 20,
    "start_time": "2022-03-24T19:13:00.954Z"
   },
   {
    "duration": 11,
    "start_time": "2022-03-24T19:14:44.460Z"
   },
   {
    "duration": 17,
    "start_time": "2022-03-24T19:14:50.925Z"
   },
   {
    "duration": 17,
    "start_time": "2022-03-24T19:15:02.296Z"
   },
   {
    "duration": 14,
    "start_time": "2022-03-24T19:16:46.422Z"
   },
   {
    "duration": 160,
    "start_time": "2022-03-24T19:17:17.724Z"
   },
   {
    "duration": 14,
    "start_time": "2022-03-24T19:17:44.332Z"
   },
   {
    "duration": 102,
    "start_time": "2022-03-24T19:18:43.032Z"
   },
   {
    "duration": 12,
    "start_time": "2022-03-24T19:18:57.226Z"
   },
   {
    "duration": 18,
    "start_time": "2022-03-24T19:19:12.963Z"
   },
   {
    "duration": 19,
    "start_time": "2022-03-24T19:22:42.764Z"
   },
   {
    "duration": 20,
    "start_time": "2022-03-24T19:28:42.571Z"
   },
   {
    "duration": 24,
    "start_time": "2022-03-24T19:28:56.203Z"
   },
   {
    "duration": 14,
    "start_time": "2022-03-24T19:31:04.005Z"
   },
   {
    "duration": 16,
    "start_time": "2022-03-24T19:31:41.535Z"
   },
   {
    "duration": 34,
    "start_time": "2022-03-24T19:32:31.296Z"
   },
   {
    "duration": 18,
    "start_time": "2022-03-24T19:32:43.594Z"
   },
   {
    "duration": 26,
    "start_time": "2022-03-24T19:34:45.954Z"
   },
   {
    "duration": 16,
    "start_time": "2022-03-24T19:34:52.057Z"
   },
   {
    "duration": 26,
    "start_time": "2022-03-24T19:35:57.330Z"
   },
   {
    "duration": 45,
    "start_time": "2022-03-24T19:36:04.169Z"
   },
   {
    "duration": 2378,
    "start_time": "2022-03-24T19:36:42.507Z"
   },
   {
    "duration": 215,
    "start_time": "2022-03-24T19:36:44.888Z"
   },
   {
    "duration": 80,
    "start_time": "2022-03-24T19:36:45.106Z"
   },
   {
    "duration": 26,
    "start_time": "2022-03-24T19:36:45.189Z"
   },
   {
    "duration": 19,
    "start_time": "2022-03-24T19:36:45.273Z"
   },
   {
    "duration": 82,
    "start_time": "2022-03-24T19:36:45.295Z"
   },
   {
    "duration": 9,
    "start_time": "2022-03-24T19:36:45.380Z"
   },
   {
    "duration": 106,
    "start_time": "2022-03-24T19:36:45.391Z"
   },
   {
    "duration": 84,
    "start_time": "2022-03-24T19:36:45.499Z"
   },
   {
    "duration": 815,
    "start_time": "2022-03-24T19:36:45.587Z"
   },
   {
    "duration": 86,
    "start_time": "2022-03-24T19:36:46.405Z"
   },
   {
    "duration": 284,
    "start_time": "2022-03-24T19:36:46.495Z"
   },
   {
    "duration": 4,
    "start_time": "2022-03-24T19:36:46.781Z"
   },
   {
    "duration": 30,
    "start_time": "2022-03-24T19:36:46.787Z"
   },
   {
    "duration": 26,
    "start_time": "2022-03-24T19:36:46.819Z"
   },
   {
    "duration": 419,
    "start_time": "2022-03-24T19:36:46.875Z"
   },
   {
    "duration": 27,
    "start_time": "2022-03-24T19:36:47.296Z"
   },
   {
    "duration": 324,
    "start_time": "2022-03-24T19:36:47.326Z"
   },
   {
    "duration": 258,
    "start_time": "2022-03-24T19:36:47.652Z"
   },
   {
    "duration": 351,
    "start_time": "2022-03-24T19:36:47.912Z"
   },
   {
    "duration": 42,
    "start_time": "2022-03-24T19:36:48.265Z"
   },
   {
    "duration": 471,
    "start_time": "2022-03-24T19:36:48.309Z"
   },
   {
    "duration": 59,
    "start_time": "2022-03-24T19:36:48.783Z"
   },
   {
    "duration": 4,
    "start_time": "2022-03-24T19:36:48.844Z"
   },
   {
    "duration": 129,
    "start_time": "2022-03-24T19:36:48.875Z"
   },
   {
    "duration": 9,
    "start_time": "2022-03-24T19:36:49.007Z"
   },
   {
    "duration": 27,
    "start_time": "2022-03-24T19:36:49.019Z"
   },
   {
    "duration": 358,
    "start_time": "2022-03-24T19:36:49.074Z"
   },
   {
    "duration": 212,
    "start_time": "2022-03-24T19:36:49.435Z"
   },
   {
    "duration": 19,
    "start_time": "2022-03-24T19:36:49.650Z"
   },
   {
    "duration": 38,
    "start_time": "2022-03-24T19:36:49.672Z"
   },
   {
    "duration": 68,
    "start_time": "2022-03-24T19:36:49.713Z"
   },
   {
    "duration": 24,
    "start_time": "2022-03-24T19:36:49.784Z"
   },
   {
    "duration": 20,
    "start_time": "2022-03-24T19:36:49.810Z"
   },
   {
    "duration": 48,
    "start_time": "2022-03-24T19:37:19.809Z"
   },
   {
    "duration": 45,
    "start_time": "2022-03-24T19:37:29.277Z"
   },
   {
    "duration": 62,
    "start_time": "2022-03-24T19:38:18.865Z"
   },
   {
    "duration": 64,
    "start_time": "2022-03-24T19:38:59.513Z"
   },
   {
    "duration": 53,
    "start_time": "2022-03-24T19:39:14.034Z"
   },
   {
    "duration": 55,
    "start_time": "2022-03-24T19:39:18.664Z"
   },
   {
    "duration": 48,
    "start_time": "2022-03-24T19:39:34.852Z"
   },
   {
    "duration": 47,
    "start_time": "2022-03-24T19:42:04.359Z"
   },
   {
    "duration": 83,
    "start_time": "2022-03-24T19:42:07.925Z"
   },
   {
    "duration": 47,
    "start_time": "2022-03-24T19:42:19.753Z"
   },
   {
    "duration": 83,
    "start_time": "2022-03-24T19:42:25.536Z"
   },
   {
    "duration": 68,
    "start_time": "2022-03-24T19:42:33.912Z"
   },
   {
    "duration": 99,
    "start_time": "2022-03-24T19:44:05.859Z"
   },
   {
    "duration": 114,
    "start_time": "2022-03-24T19:44:12.103Z"
   },
   {
    "duration": 92,
    "start_time": "2022-03-24T19:47:00.040Z"
   },
   {
    "duration": 108,
    "start_time": "2022-03-24T19:47:06.977Z"
   },
   {
    "duration": 74,
    "start_time": "2022-03-24T19:47:49.195Z"
   },
   {
    "duration": 1512,
    "start_time": "2022-03-24T19:47:55.319Z"
   },
   {
    "duration": 83,
    "start_time": "2022-03-24T19:47:56.834Z"
   },
   {
    "duration": 20,
    "start_time": "2022-03-24T19:47:56.919Z"
   },
   {
    "duration": 41,
    "start_time": "2022-03-24T19:47:56.942Z"
   },
   {
    "duration": 14,
    "start_time": "2022-03-24T19:47:56.985Z"
   },
   {
    "duration": 21,
    "start_time": "2022-03-24T19:47:57.002Z"
   },
   {
    "duration": 7,
    "start_time": "2022-03-24T19:47:57.026Z"
   },
   {
    "duration": 42,
    "start_time": "2022-03-24T19:47:57.035Z"
   },
   {
    "duration": 25,
    "start_time": "2022-03-24T19:47:57.079Z"
   },
   {
    "duration": 368,
    "start_time": "2022-03-24T19:47:57.108Z"
   },
   {
    "duration": 22,
    "start_time": "2022-03-24T19:47:57.479Z"
   },
   {
    "duration": 255,
    "start_time": "2022-03-24T19:47:57.503Z"
   },
   {
    "duration": 14,
    "start_time": "2022-03-24T19:47:57.760Z"
   },
   {
    "duration": 24,
    "start_time": "2022-03-24T19:47:57.776Z"
   },
   {
    "duration": 44,
    "start_time": "2022-03-24T19:47:57.802Z"
   },
   {
    "duration": 356,
    "start_time": "2022-03-24T19:47:57.848Z"
   },
   {
    "duration": 71,
    "start_time": "2022-03-24T19:47:58.206Z"
   },
   {
    "duration": 504,
    "start_time": "2022-03-24T19:47:58.279Z"
   },
   {
    "duration": 440,
    "start_time": "2022-03-24T19:47:58.785Z"
   },
   {
    "duration": 480,
    "start_time": "2022-03-24T19:47:59.227Z"
   },
   {
    "duration": 83,
    "start_time": "2022-03-24T19:47:59.710Z"
   },
   {
    "duration": 826,
    "start_time": "2022-03-24T19:47:59.795Z"
   },
   {
    "duration": 38,
    "start_time": "2022-03-24T19:48:00.675Z"
   },
   {
    "duration": 58,
    "start_time": "2022-03-24T19:48:00.716Z"
   },
   {
    "duration": 226,
    "start_time": "2022-03-24T19:48:00.777Z"
   },
   {
    "duration": 13,
    "start_time": "2022-03-24T19:48:01.005Z"
   },
   {
    "duration": 44,
    "start_time": "2022-03-24T19:48:01.075Z"
   },
   {
    "duration": 612,
    "start_time": "2022-03-24T19:48:01.176Z"
   },
   {
    "duration": 211,
    "start_time": "2022-03-24T19:48:01.790Z"
   },
   {
    "duration": 15,
    "start_time": "2022-03-24T19:48:02.003Z"
   },
   {
    "duration": 82,
    "start_time": "2022-03-24T19:48:02.020Z"
   },
   {
    "duration": 123,
    "start_time": "2022-03-24T19:48:02.104Z"
   },
   {
    "duration": 25,
    "start_time": "2022-03-24T19:48:02.229Z"
   },
   {
    "duration": 50,
    "start_time": "2022-03-24T19:48:02.256Z"
   },
   {
    "duration": 1686,
    "start_time": "2022-03-24T19:51:41.123Z"
   },
   {
    "duration": 83,
    "start_time": "2022-03-24T19:51:42.812Z"
   },
   {
    "duration": 20,
    "start_time": "2022-03-24T19:51:42.897Z"
   },
   {
    "duration": 25,
    "start_time": "2022-03-24T19:51:42.920Z"
   },
   {
    "duration": 38,
    "start_time": "2022-03-24T19:51:42.947Z"
   },
   {
    "duration": 15,
    "start_time": "2022-03-24T19:51:42.987Z"
   },
   {
    "duration": 8,
    "start_time": "2022-03-24T19:51:43.004Z"
   },
   {
    "duration": 67,
    "start_time": "2022-03-24T19:51:43.014Z"
   },
   {
    "duration": 22,
    "start_time": "2022-03-24T19:51:43.083Z"
   },
   {
    "duration": 345,
    "start_time": "2022-03-24T19:51:43.109Z"
   },
   {
    "duration": 31,
    "start_time": "2022-03-24T19:51:43.457Z"
   },
   {
    "duration": 198,
    "start_time": "2022-03-24T19:51:43.490Z"
   },
   {
    "duration": 4,
    "start_time": "2022-03-24T19:51:43.690Z"
   },
   {
    "duration": 25,
    "start_time": "2022-03-24T19:51:43.697Z"
   },
   {
    "duration": 54,
    "start_time": "2022-03-24T19:51:43.725Z"
   },
   {
    "duration": 415,
    "start_time": "2022-03-24T19:51:43.782Z"
   },
   {
    "duration": 25,
    "start_time": "2022-03-24T19:51:44.200Z"
   },
   {
    "duration": 341,
    "start_time": "2022-03-24T19:51:44.228Z"
   },
   {
    "duration": 393,
    "start_time": "2022-03-24T19:51:44.573Z"
   },
   {
    "duration": 260,
    "start_time": "2022-03-24T19:51:44.968Z"
   },
   {
    "duration": 47,
    "start_time": "2022-03-24T19:51:45.231Z"
   },
   {
    "duration": 433,
    "start_time": "2022-03-24T19:51:45.281Z"
   },
   {
    "duration": 58,
    "start_time": "2022-03-24T19:51:45.716Z"
   },
   {
    "duration": 4,
    "start_time": "2022-03-24T19:51:45.777Z"
   },
   {
    "duration": 163,
    "start_time": "2022-03-24T19:51:45.784Z"
   },
   {
    "duration": 25,
    "start_time": "2022-03-24T19:51:45.950Z"
   },
   {
    "duration": 33,
    "start_time": "2022-03-24T19:51:45.977Z"
   },
   {
    "duration": 391,
    "start_time": "2022-03-24T19:51:46.015Z"
   },
   {
    "duration": 234,
    "start_time": "2022-03-24T19:51:46.409Z"
   },
   {
    "duration": 13,
    "start_time": "2022-03-24T19:51:46.645Z"
   },
   {
    "duration": 25,
    "start_time": "2022-03-24T19:51:46.660Z"
   },
   {
    "duration": 73,
    "start_time": "2022-03-24T19:51:46.687Z"
   },
   {
    "duration": 33,
    "start_time": "2022-03-24T19:51:46.762Z"
   },
   {
    "duration": 18,
    "start_time": "2022-03-24T19:51:46.797Z"
   },
   {
    "duration": 96,
    "start_time": "2022-03-24T19:52:36.251Z"
   },
   {
    "duration": 226,
    "start_time": "2022-03-24T19:54:12.617Z"
   },
   {
    "duration": 78,
    "start_time": "2022-03-24T19:54:50.127Z"
   },
   {
    "duration": 80,
    "start_time": "2022-03-24T19:55:03.263Z"
   },
   {
    "duration": 42,
    "start_time": "2022-03-24T19:56:42.141Z"
   },
   {
    "duration": 28,
    "start_time": "2022-03-24T19:56:52.612Z"
   },
   {
    "duration": 6,
    "start_time": "2022-03-24T19:57:05.308Z"
   },
   {
    "duration": 88,
    "start_time": "2022-03-24T19:57:24.615Z"
   },
   {
    "duration": 44,
    "start_time": "2022-03-24T20:00:41.127Z"
   },
   {
    "duration": 28,
    "start_time": "2022-03-24T20:01:29.282Z"
   },
   {
    "duration": 29,
    "start_time": "2022-03-24T20:02:19.862Z"
   },
   {
    "duration": 9,
    "start_time": "2022-03-24T20:02:53.304Z"
   },
   {
    "duration": 37,
    "start_time": "2022-03-24T20:03:01.140Z"
   },
   {
    "duration": 27,
    "start_time": "2022-03-24T20:03:17.697Z"
   },
   {
    "duration": 26,
    "start_time": "2022-03-24T20:03:30.458Z"
   },
   {
    "duration": 1505,
    "start_time": "2022-03-24T20:03:43.605Z"
   },
   {
    "duration": 89,
    "start_time": "2022-03-24T20:03:45.113Z"
   },
   {
    "duration": 20,
    "start_time": "2022-03-24T20:03:45.204Z"
   },
   {
    "duration": 48,
    "start_time": "2022-03-24T20:03:45.228Z"
   },
   {
    "duration": 15,
    "start_time": "2022-03-24T20:03:45.279Z"
   },
   {
    "duration": 18,
    "start_time": "2022-03-24T20:03:45.296Z"
   },
   {
    "duration": 9,
    "start_time": "2022-03-24T20:03:45.316Z"
   },
   {
    "duration": 79,
    "start_time": "2022-03-24T20:03:45.327Z"
   },
   {
    "duration": 25,
    "start_time": "2022-03-24T20:03:45.408Z"
   },
   {
    "duration": 341,
    "start_time": "2022-03-24T20:03:45.436Z"
   },
   {
    "duration": 21,
    "start_time": "2022-03-24T20:03:45.779Z"
   },
   {
    "duration": 214,
    "start_time": "2022-03-24T20:03:45.802Z"
   },
   {
    "duration": 3,
    "start_time": "2022-03-24T20:03:46.019Z"
   },
   {
    "duration": 25,
    "start_time": "2022-03-24T20:03:46.025Z"
   },
   {
    "duration": 24,
    "start_time": "2022-03-24T20:03:46.073Z"
   },
   {
    "duration": 342,
    "start_time": "2022-03-24T20:03:46.099Z"
   },
   {
    "duration": 40,
    "start_time": "2022-03-24T20:03:46.444Z"
   },
   {
    "duration": 511,
    "start_time": "2022-03-24T20:03:46.486Z"
   },
   {
    "duration": 514,
    "start_time": "2022-03-24T20:03:47.000Z"
   },
   {
    "duration": 494,
    "start_time": "2022-03-24T20:03:47.517Z"
   },
   {
    "duration": 82,
    "start_time": "2022-03-24T20:03:48.013Z"
   },
   {
    "duration": 708,
    "start_time": "2022-03-24T20:03:48.097Z"
   },
   {
    "duration": 92,
    "start_time": "2022-03-24T20:03:48.808Z"
   },
   {
    "duration": 4,
    "start_time": "2022-03-24T20:03:48.903Z"
   },
   {
    "duration": 473,
    "start_time": "2022-03-24T20:03:48.910Z"
   },
   {
    "duration": 10,
    "start_time": "2022-03-24T20:03:49.385Z"
   },
   {
    "duration": 79,
    "start_time": "2022-03-24T20:03:49.397Z"
   },
   {
    "duration": 483,
    "start_time": "2022-03-24T20:03:49.481Z"
   },
   {
    "duration": 243,
    "start_time": "2022-03-24T20:03:49.974Z"
   },
   {
    "duration": 13,
    "start_time": "2022-03-24T20:03:50.220Z"
   },
   {
    "duration": 9,
    "start_time": "2022-03-24T20:03:50.237Z"
   },
   {
    "duration": 55,
    "start_time": "2022-03-24T20:03:50.248Z"
   },
   {
    "duration": 42,
    "start_time": "2022-03-24T20:03:50.305Z"
   },
   {
    "duration": 53,
    "start_time": "2022-03-24T20:03:50.349Z"
   },
   {
    "duration": 26,
    "start_time": "2022-03-24T20:03:50.404Z"
   },
   {
    "duration": 44,
    "start_time": "2022-03-24T20:03:50.433Z"
   },
   {
    "duration": 12,
    "start_time": "2022-03-24T20:07:51.887Z"
   },
   {
    "duration": 2702,
    "start_time": "2022-03-24T20:07:58.220Z"
   },
   {
    "duration": 171,
    "start_time": "2022-03-24T20:08:00.925Z"
   },
   {
    "duration": 75,
    "start_time": "2022-03-24T20:08:01.099Z"
   },
   {
    "duration": 42,
    "start_time": "2022-03-24T20:08:01.178Z"
   },
   {
    "duration": 19,
    "start_time": "2022-03-24T20:08:01.274Z"
   },
   {
    "duration": 22,
    "start_time": "2022-03-24T20:08:01.295Z"
   },
   {
    "duration": 9,
    "start_time": "2022-03-24T20:08:01.376Z"
   },
   {
    "duration": 112,
    "start_time": "2022-03-24T20:08:01.388Z"
   },
   {
    "duration": 75,
    "start_time": "2022-03-24T20:08:01.503Z"
   },
   {
    "duration": 696,
    "start_time": "2022-03-24T20:08:01.583Z"
   },
   {
    "duration": 22,
    "start_time": "2022-03-24T20:08:02.282Z"
   },
   {
    "duration": 298,
    "start_time": "2022-03-24T20:08:02.307Z"
   },
   {
    "duration": 4,
    "start_time": "2022-03-24T20:08:02.608Z"
   },
   {
    "duration": 28,
    "start_time": "2022-03-24T20:08:02.615Z"
   },
   {
    "duration": 46,
    "start_time": "2022-03-24T20:08:02.645Z"
   },
   {
    "duration": 377,
    "start_time": "2022-03-24T20:08:02.693Z"
   },
   {
    "duration": 30,
    "start_time": "2022-03-24T20:08:03.075Z"
   },
   {
    "duration": 335,
    "start_time": "2022-03-24T20:08:03.108Z"
   },
   {
    "duration": 270,
    "start_time": "2022-03-24T20:08:03.445Z"
   },
   {
    "duration": 271,
    "start_time": "2022-03-24T20:08:03.717Z"
   },
   {
    "duration": 27,
    "start_time": "2022-03-24T20:08:03.990Z"
   },
   {
    "duration": 367,
    "start_time": "2022-03-24T20:08:04.019Z"
   },
   {
    "duration": 38,
    "start_time": "2022-03-24T20:08:04.388Z"
   },
   {
    "duration": 4,
    "start_time": "2022-03-24T20:08:04.429Z"
   },
   {
    "duration": 222,
    "start_time": "2022-03-24T20:08:04.437Z"
   },
   {
    "duration": 18,
    "start_time": "2022-03-24T20:08:04.662Z"
   },
   {
    "duration": 30,
    "start_time": "2022-03-24T20:08:04.683Z"
   },
   {
    "duration": 517,
    "start_time": "2022-03-24T20:08:04.718Z"
   },
   {
    "duration": 206,
    "start_time": "2022-03-24T20:08:05.237Z"
   },
   {
    "duration": 13,
    "start_time": "2022-03-24T20:08:05.446Z"
   },
   {
    "duration": 11,
    "start_time": "2022-03-24T20:08:05.462Z"
   },
   {
    "duration": 41,
    "start_time": "2022-03-24T20:08:05.475Z"
   },
   {
    "duration": 55,
    "start_time": "2022-03-24T20:08:05.518Z"
   },
   {
    "duration": 22,
    "start_time": "2022-03-24T20:08:05.576Z"
   },
   {
    "duration": 15,
    "start_time": "2022-03-24T20:08:26.687Z"
   },
   {
    "duration": 15,
    "start_time": "2022-03-24T20:10:08.365Z"
   },
   {
    "duration": 20,
    "start_time": "2022-03-24T20:10:37.685Z"
   },
   {
    "duration": 1683,
    "start_time": "2022-03-24T20:10:45.254Z"
   },
   {
    "duration": 129,
    "start_time": "2022-03-24T20:10:46.941Z"
   },
   {
    "duration": 29,
    "start_time": "2022-03-24T20:10:47.073Z"
   },
   {
    "duration": 30,
    "start_time": "2022-03-24T20:10:47.106Z"
   },
   {
    "duration": 44,
    "start_time": "2022-03-24T20:10:47.139Z"
   },
   {
    "duration": 17,
    "start_time": "2022-03-24T20:10:47.185Z"
   },
   {
    "duration": 7,
    "start_time": "2022-03-24T20:10:47.205Z"
   },
   {
    "duration": 69,
    "start_time": "2022-03-24T20:10:47.215Z"
   },
   {
    "duration": 24,
    "start_time": "2022-03-24T20:10:47.286Z"
   },
   {
    "duration": 495,
    "start_time": "2022-03-24T20:10:47.316Z"
   },
   {
    "duration": 26,
    "start_time": "2022-03-24T20:10:47.814Z"
   },
   {
    "duration": 230,
    "start_time": "2022-03-24T20:10:47.842Z"
   },
   {
    "duration": 7,
    "start_time": "2022-03-24T20:10:48.075Z"
   },
   {
    "duration": 27,
    "start_time": "2022-03-24T20:10:48.084Z"
   },
   {
    "duration": 60,
    "start_time": "2022-03-24T20:10:48.114Z"
   },
   {
    "duration": 901,
    "start_time": "2022-03-24T20:10:48.177Z"
   },
   {
    "duration": 27,
    "start_time": "2022-03-24T20:10:49.081Z"
   },
   {
    "duration": 891,
    "start_time": "2022-03-24T20:10:49.111Z"
   },
   {
    "duration": 781,
    "start_time": "2022-03-24T20:10:50.004Z"
   },
   {
    "duration": 510,
    "start_time": "2022-03-24T20:10:50.788Z"
   },
   {
    "duration": 90,
    "start_time": "2022-03-24T20:10:51.301Z"
   },
   {
    "duration": 380,
    "start_time": "2022-03-24T20:10:51.394Z"
   },
   {
    "duration": 42,
    "start_time": "2022-03-24T20:10:51.776Z"
   },
   {
    "duration": 4,
    "start_time": "2022-03-24T20:10:51.822Z"
   },
   {
    "duration": 161,
    "start_time": "2022-03-24T20:10:51.829Z"
   },
   {
    "duration": 11,
    "start_time": "2022-03-24T20:10:51.993Z"
   },
   {
    "duration": 30,
    "start_time": "2022-03-24T20:10:52.007Z"
   },
   {
    "duration": 365,
    "start_time": "2022-03-24T20:10:52.075Z"
   },
   {
    "duration": 206,
    "start_time": "2022-03-24T20:10:52.443Z"
   },
   {
    "duration": 14,
    "start_time": "2022-03-24T20:10:52.653Z"
   },
   {
    "duration": 11,
    "start_time": "2022-03-24T20:10:52.671Z"
   },
   {
    "duration": 66,
    "start_time": "2022-03-24T20:10:52.685Z"
   },
   {
    "duration": 51,
    "start_time": "2022-03-24T20:10:52.755Z"
   },
   {
    "duration": 27,
    "start_time": "2022-03-24T20:10:52.809Z"
   },
   {
    "duration": 1631,
    "start_time": "2022-03-24T20:17:47.870Z"
   },
   {
    "duration": 85,
    "start_time": "2022-03-24T20:17:49.504Z"
   },
   {
    "duration": 21,
    "start_time": "2022-03-24T20:17:49.592Z"
   },
   {
    "duration": 55,
    "start_time": "2022-03-24T20:17:49.618Z"
   },
   {
    "duration": 16,
    "start_time": "2022-03-24T20:17:49.676Z"
   },
   {
    "duration": 18,
    "start_time": "2022-03-24T20:17:49.695Z"
   },
   {
    "duration": 20,
    "start_time": "2022-03-24T20:17:49.716Z"
   },
   {
    "duration": 71,
    "start_time": "2022-03-24T20:17:49.738Z"
   },
   {
    "duration": 41,
    "start_time": "2022-03-24T20:17:49.811Z"
   },
   {
    "duration": 329,
    "start_time": "2022-03-24T20:17:49.855Z"
   },
   {
    "duration": 21,
    "start_time": "2022-03-24T20:17:50.186Z"
   },
   {
    "duration": 208,
    "start_time": "2022-03-24T20:17:50.210Z"
   },
   {
    "duration": 4,
    "start_time": "2022-03-24T20:17:50.421Z"
   },
   {
    "duration": 43,
    "start_time": "2022-03-24T20:17:50.427Z"
   },
   {
    "duration": 75,
    "start_time": "2022-03-24T20:17:50.475Z"
   },
   {
    "duration": 324,
    "start_time": "2022-03-24T20:17:50.553Z"
   },
   {
    "duration": 26,
    "start_time": "2022-03-24T20:17:50.880Z"
   },
   {
    "duration": 342,
    "start_time": "2022-03-24T20:17:50.908Z"
   },
   {
    "duration": 264,
    "start_time": "2022-03-24T20:17:51.252Z"
   },
   {
    "duration": 263,
    "start_time": "2022-03-24T20:17:51.519Z"
   },
   {
    "duration": 27,
    "start_time": "2022-03-24T20:17:51.784Z"
   },
   {
    "duration": 348,
    "start_time": "2022-03-24T20:17:51.814Z"
   },
   {
    "duration": 47,
    "start_time": "2022-03-24T20:17:52.164Z"
   },
   {
    "duration": 10,
    "start_time": "2022-03-24T20:17:52.214Z"
   },
   {
    "duration": 152,
    "start_time": "2022-03-24T20:17:52.227Z"
   },
   {
    "duration": 9,
    "start_time": "2022-03-24T20:17:52.382Z"
   },
   {
    "duration": 38,
    "start_time": "2022-03-24T20:17:52.394Z"
   },
   {
    "duration": 371,
    "start_time": "2022-03-24T20:17:52.437Z"
   },
   {
    "duration": 223,
    "start_time": "2022-03-24T20:17:52.810Z"
   },
   {
    "duration": 13,
    "start_time": "2022-03-24T20:17:53.035Z"
   },
   {
    "duration": 28,
    "start_time": "2022-03-24T20:17:53.050Z"
   },
   {
    "duration": 42,
    "start_time": "2022-03-24T20:17:53.081Z"
   },
   {
    "duration": 26,
    "start_time": "2022-03-24T20:20:06.550Z"
   },
   {
    "duration": 30,
    "start_time": "2022-03-24T20:20:47.170Z"
   },
   {
    "duration": 35,
    "start_time": "2022-03-24T20:21:13.595Z"
   },
   {
    "duration": 1542,
    "start_time": "2022-03-24T20:21:40.040Z"
   },
   {
    "duration": 76,
    "start_time": "2022-03-24T20:21:41.585Z"
   },
   {
    "duration": 24,
    "start_time": "2022-03-24T20:21:41.663Z"
   },
   {
    "duration": 26,
    "start_time": "2022-03-24T20:21:41.690Z"
   },
   {
    "duration": 12,
    "start_time": "2022-03-24T20:21:41.718Z"
   },
   {
    "duration": 48,
    "start_time": "2022-03-24T20:21:41.732Z"
   },
   {
    "duration": 12,
    "start_time": "2022-03-24T20:21:41.782Z"
   },
   {
    "duration": 35,
    "start_time": "2022-03-24T20:21:41.796Z"
   },
   {
    "duration": 47,
    "start_time": "2022-03-24T20:21:41.833Z"
   },
   {
    "duration": 326,
    "start_time": "2022-03-24T20:21:41.884Z"
   },
   {
    "duration": 21,
    "start_time": "2022-03-24T20:21:42.212Z"
   },
   {
    "duration": 208,
    "start_time": "2022-03-24T20:21:42.235Z"
   },
   {
    "duration": 4,
    "start_time": "2022-03-24T20:21:42.446Z"
   },
   {
    "duration": 43,
    "start_time": "2022-03-24T20:21:42.453Z"
   },
   {
    "duration": 21,
    "start_time": "2022-03-24T20:21:42.498Z"
   },
   {
    "duration": 320,
    "start_time": "2022-03-24T20:21:42.521Z"
   },
   {
    "duration": 42,
    "start_time": "2022-03-24T20:21:42.843Z"
   },
   {
    "duration": 529,
    "start_time": "2022-03-24T20:21:42.887Z"
   },
   {
    "duration": 442,
    "start_time": "2022-03-24T20:21:43.474Z"
   },
   {
    "duration": 501,
    "start_time": "2022-03-24T20:21:43.918Z"
   },
   {
    "duration": 74,
    "start_time": "2022-03-24T20:21:44.421Z"
   },
   {
    "duration": 613,
    "start_time": "2022-03-24T20:21:44.498Z"
   },
   {
    "duration": 88,
    "start_time": "2022-03-24T20:21:45.113Z"
   },
   {
    "duration": 12,
    "start_time": "2022-03-24T20:21:45.203Z"
   },
   {
    "duration": 265,
    "start_time": "2022-03-24T20:21:45.217Z"
   },
   {
    "duration": 10,
    "start_time": "2022-03-24T20:21:45.484Z"
   },
   {
    "duration": 87,
    "start_time": "2022-03-24T20:21:45.496Z"
   },
   {
    "duration": 695,
    "start_time": "2022-03-24T20:21:45.588Z"
   },
   {
    "duration": 227,
    "start_time": "2022-03-24T20:21:46.285Z"
   },
   {
    "duration": 60,
    "start_time": "2022-03-24T20:21:46.514Z"
   },
   {
    "duration": 27,
    "start_time": "2022-03-24T20:21:46.576Z"
   },
   {
    "duration": 92,
    "start_time": "2022-03-24T20:21:46.606Z"
   },
   {
    "duration": 34,
    "start_time": "2022-03-24T20:26:26.700Z"
   },
   {
    "duration": 36,
    "start_time": "2022-03-24T20:27:27.425Z"
   },
   {
    "duration": 179,
    "start_time": "2022-03-24T20:33:39.790Z"
   },
   {
    "duration": 33,
    "start_time": "2022-03-24T20:33:43.840Z"
   },
   {
    "duration": 32,
    "start_time": "2022-03-24T20:33:52.069Z"
   },
   {
    "duration": 33,
    "start_time": "2022-03-24T20:34:16.692Z"
   },
   {
    "duration": 27,
    "start_time": "2022-03-24T20:35:01.032Z"
   },
   {
    "duration": 1619,
    "start_time": "2022-03-24T20:35:16.884Z"
   },
   {
    "duration": 93,
    "start_time": "2022-03-24T20:35:18.506Z"
   },
   {
    "duration": 23,
    "start_time": "2022-03-24T20:35:18.601Z"
   },
   {
    "duration": 29,
    "start_time": "2022-03-24T20:35:18.627Z"
   },
   {
    "duration": 14,
    "start_time": "2022-03-24T20:35:18.675Z"
   },
   {
    "duration": 20,
    "start_time": "2022-03-24T20:35:18.691Z"
   },
   {
    "duration": 32,
    "start_time": "2022-03-24T20:35:18.713Z"
   },
   {
    "duration": 64,
    "start_time": "2022-03-24T20:35:18.747Z"
   },
   {
    "duration": 25,
    "start_time": "2022-03-24T20:35:18.814Z"
   },
   {
    "duration": 334,
    "start_time": "2022-03-24T20:35:18.844Z"
   },
   {
    "duration": 24,
    "start_time": "2022-03-24T20:35:19.181Z"
   },
   {
    "duration": 214,
    "start_time": "2022-03-24T20:35:19.208Z"
   },
   {
    "duration": 4,
    "start_time": "2022-03-24T20:35:19.424Z"
   },
   {
    "duration": 45,
    "start_time": "2022-03-24T20:35:19.430Z"
   },
   {
    "duration": 23,
    "start_time": "2022-03-24T20:35:19.477Z"
   },
   {
    "duration": 327,
    "start_time": "2022-03-24T20:35:19.502Z"
   },
   {
    "duration": 26,
    "start_time": "2022-03-24T20:35:19.832Z"
   },
   {
    "duration": 301,
    "start_time": "2022-03-24T20:35:19.875Z"
   },
   {
    "duration": 257,
    "start_time": "2022-03-24T20:35:20.178Z"
   },
   {
    "duration": 269,
    "start_time": "2022-03-24T20:35:20.438Z"
   },
   {
    "duration": 27,
    "start_time": "2022-03-24T20:35:20.709Z"
   },
   {
    "duration": 330,
    "start_time": "2022-03-24T20:35:20.738Z"
   },
   {
    "duration": 42,
    "start_time": "2022-03-24T20:35:21.074Z"
   },
   {
    "duration": 7,
    "start_time": "2022-03-24T20:35:21.119Z"
   },
   {
    "duration": 148,
    "start_time": "2022-03-24T20:35:21.128Z"
   },
   {
    "duration": 10,
    "start_time": "2022-03-24T20:35:21.279Z"
   },
   {
    "duration": 35,
    "start_time": "2022-03-24T20:35:21.291Z"
   },
   {
    "duration": 371,
    "start_time": "2022-03-24T20:35:21.330Z"
   },
   {
    "duration": 0,
    "start_time": "2022-03-24T20:35:21.704Z"
   },
   {
    "duration": 1,
    "start_time": "2022-03-24T20:35:21.706Z"
   },
   {
    "duration": 1,
    "start_time": "2022-03-24T20:35:21.708Z"
   },
   {
    "duration": 0,
    "start_time": "2022-03-24T20:35:21.711Z"
   },
   {
    "duration": 1427,
    "start_time": "2022-03-24T20:38:26.076Z"
   },
   {
    "duration": 78,
    "start_time": "2022-03-24T20:38:27.506Z"
   },
   {
    "duration": 19,
    "start_time": "2022-03-24T20:38:27.587Z"
   },
   {
    "duration": 28,
    "start_time": "2022-03-24T20:38:27.610Z"
   },
   {
    "duration": 43,
    "start_time": "2022-03-24T20:38:27.641Z"
   },
   {
    "duration": 18,
    "start_time": "2022-03-24T20:38:27.686Z"
   },
   {
    "duration": 7,
    "start_time": "2022-03-24T20:38:27.706Z"
   },
   {
    "duration": 62,
    "start_time": "2022-03-24T20:38:27.715Z"
   },
   {
    "duration": 22,
    "start_time": "2022-03-24T20:38:27.780Z"
   },
   {
    "duration": 332,
    "start_time": "2022-03-24T20:38:27.806Z"
   },
   {
    "duration": 34,
    "start_time": "2022-03-24T20:38:28.141Z"
   },
   {
    "duration": 201,
    "start_time": "2022-03-24T20:38:28.177Z"
   },
   {
    "duration": 4,
    "start_time": "2022-03-24T20:38:28.380Z"
   },
   {
    "duration": 26,
    "start_time": "2022-03-24T20:38:28.386Z"
   },
   {
    "duration": 23,
    "start_time": "2022-03-24T20:38:28.414Z"
   },
   {
    "duration": 348,
    "start_time": "2022-03-24T20:38:28.440Z"
   },
   {
    "duration": 26,
    "start_time": "2022-03-24T20:38:28.791Z"
   },
   {
    "duration": 327,
    "start_time": "2022-03-24T20:38:28.819Z"
   },
   {
    "duration": 286,
    "start_time": "2022-03-24T20:38:29.149Z"
   },
   {
    "duration": 266,
    "start_time": "2022-03-24T20:38:29.437Z"
   },
   {
    "duration": 27,
    "start_time": "2022-03-24T20:38:29.705Z"
   },
   {
    "duration": 346,
    "start_time": "2022-03-24T20:38:29.734Z"
   },
   {
    "duration": 39,
    "start_time": "2022-03-24T20:38:30.083Z"
   },
   {
    "duration": 4,
    "start_time": "2022-03-24T20:38:30.124Z"
   },
   {
    "duration": 151,
    "start_time": "2022-03-24T20:38:30.131Z"
   },
   {
    "duration": 10,
    "start_time": "2022-03-24T20:38:30.285Z"
   },
   {
    "duration": 42,
    "start_time": "2022-03-24T20:38:30.297Z"
   },
   {
    "duration": 369,
    "start_time": "2022-03-24T20:38:30.344Z"
   },
   {
    "duration": 204,
    "start_time": "2022-03-24T20:38:30.715Z"
   },
   {
    "duration": 14,
    "start_time": "2022-03-24T20:38:30.921Z"
   },
   {
    "duration": 30,
    "start_time": "2022-03-24T20:38:30.938Z"
   },
   {
    "duration": 43,
    "start_time": "2022-03-24T20:38:30.971Z"
   },
   {
    "duration": 1535,
    "start_time": "2022-03-24T20:40:46.674Z"
   },
   {
    "duration": 83,
    "start_time": "2022-03-24T20:40:48.211Z"
   },
   {
    "duration": 20,
    "start_time": "2022-03-24T20:40:48.296Z"
   },
   {
    "duration": 33,
    "start_time": "2022-03-24T20:40:48.319Z"
   },
   {
    "duration": 31,
    "start_time": "2022-03-24T20:40:48.354Z"
   },
   {
    "duration": 15,
    "start_time": "2022-03-24T20:40:48.387Z"
   },
   {
    "duration": 7,
    "start_time": "2022-03-24T20:40:48.404Z"
   },
   {
    "duration": 78,
    "start_time": "2022-03-24T20:40:48.413Z"
   },
   {
    "duration": 22,
    "start_time": "2022-03-24T20:40:48.493Z"
   },
   {
    "duration": 344,
    "start_time": "2022-03-24T20:40:48.521Z"
   },
   {
    "duration": 29,
    "start_time": "2022-03-24T20:40:48.873Z"
   },
   {
    "duration": 295,
    "start_time": "2022-03-24T20:40:48.906Z"
   },
   {
    "duration": 5,
    "start_time": "2022-03-24T20:40:49.203Z"
   },
   {
    "duration": 40,
    "start_time": "2022-03-24T20:40:49.211Z"
   },
   {
    "duration": 22,
    "start_time": "2022-03-24T20:40:49.273Z"
   },
   {
    "duration": 324,
    "start_time": "2022-03-24T20:40:49.297Z"
   },
   {
    "duration": 28,
    "start_time": "2022-03-24T20:40:49.623Z"
   },
   {
    "duration": 325,
    "start_time": "2022-03-24T20:40:49.653Z"
   },
   {
    "duration": 258,
    "start_time": "2022-03-24T20:40:49.981Z"
   },
   {
    "duration": 254,
    "start_time": "2022-03-24T20:40:50.241Z"
   },
   {
    "duration": 27,
    "start_time": "2022-03-24T20:40:50.497Z"
   },
   {
    "duration": 331,
    "start_time": "2022-03-24T20:40:50.527Z"
   },
   {
    "duration": 42,
    "start_time": "2022-03-24T20:40:50.860Z"
   },
   {
    "duration": 18,
    "start_time": "2022-03-24T20:40:50.904Z"
   },
   {
    "duration": 138,
    "start_time": "2022-03-24T20:40:50.925Z"
   },
   {
    "duration": 12,
    "start_time": "2022-03-24T20:40:51.065Z"
   },
   {
    "duration": 35,
    "start_time": "2022-03-24T20:40:51.079Z"
   },
   {
    "duration": 358,
    "start_time": "2022-03-24T20:40:51.119Z"
   },
   {
    "duration": 419,
    "start_time": "2022-03-24T20:40:51.479Z"
   },
   {
    "duration": 12,
    "start_time": "2022-03-24T20:40:51.900Z"
   },
   {
    "duration": 45,
    "start_time": "2022-03-24T20:40:51.915Z"
   },
   {
    "duration": 41,
    "start_time": "2022-03-24T20:40:51.962Z"
   },
   {
    "duration": 33,
    "start_time": "2022-03-24T20:41:36.417Z"
   },
   {
    "duration": 1511,
    "start_time": "2022-03-24T20:42:10.010Z"
   },
   {
    "duration": 84,
    "start_time": "2022-03-24T20:42:11.523Z"
   },
   {
    "duration": 22,
    "start_time": "2022-03-24T20:42:11.609Z"
   },
   {
    "duration": 61,
    "start_time": "2022-03-24T20:42:11.635Z"
   },
   {
    "duration": 19,
    "start_time": "2022-03-24T20:42:11.699Z"
   },
   {
    "duration": 15,
    "start_time": "2022-03-24T20:42:11.720Z"
   },
   {
    "duration": 37,
    "start_time": "2022-03-24T20:42:11.737Z"
   },
   {
    "duration": 50,
    "start_time": "2022-03-24T20:42:11.777Z"
   },
   {
    "duration": 51,
    "start_time": "2022-03-24T20:42:11.831Z"
   },
   {
    "duration": 331,
    "start_time": "2022-03-24T20:42:11.888Z"
   },
   {
    "duration": 23,
    "start_time": "2022-03-24T20:42:12.222Z"
   },
   {
    "duration": 218,
    "start_time": "2022-03-24T20:42:12.247Z"
   },
   {
    "duration": 10,
    "start_time": "2022-03-24T20:42:12.467Z"
   },
   {
    "duration": 28,
    "start_time": "2022-03-24T20:42:12.479Z"
   },
   {
    "duration": 22,
    "start_time": "2022-03-24T20:42:12.510Z"
   },
   {
    "duration": 346,
    "start_time": "2022-03-24T20:42:12.535Z"
   },
   {
    "duration": 26,
    "start_time": "2022-03-24T20:42:12.884Z"
   },
   {
    "duration": 323,
    "start_time": "2022-03-24T20:42:12.912Z"
   },
   {
    "duration": 260,
    "start_time": "2022-03-24T20:42:13.237Z"
   },
   {
    "duration": 260,
    "start_time": "2022-03-24T20:42:13.499Z"
   },
   {
    "duration": 33,
    "start_time": "2022-03-24T20:42:13.761Z"
   },
   {
    "duration": 332,
    "start_time": "2022-03-24T20:42:13.796Z"
   },
   {
    "duration": 52,
    "start_time": "2022-03-24T20:42:14.131Z"
   },
   {
    "duration": 5,
    "start_time": "2022-03-24T20:42:14.185Z"
   },
   {
    "duration": 138,
    "start_time": "2022-03-24T20:42:14.192Z"
   },
   {
    "duration": 10,
    "start_time": "2022-03-24T20:42:14.333Z"
   },
   {
    "duration": 66,
    "start_time": "2022-03-24T20:42:14.346Z"
   },
   {
    "duration": 349,
    "start_time": "2022-03-24T20:42:14.418Z"
   },
   {
    "duration": 185,
    "start_time": "2022-03-24T20:42:14.773Z"
   },
   {
    "duration": 22,
    "start_time": "2022-03-24T20:42:14.962Z"
   },
   {
    "duration": 33,
    "start_time": "2022-03-24T20:42:14.986Z"
   },
   {
    "duration": 59,
    "start_time": "2022-03-24T20:42:15.021Z"
   },
   {
    "duration": 33,
    "start_time": "2022-03-24T20:45:32.971Z"
   },
   {
    "duration": 522,
    "start_time": "2022-03-24T20:48:03.339Z"
   },
   {
    "duration": 14,
    "start_time": "2022-03-24T20:50:09.414Z"
   },
   {
    "duration": 27,
    "start_time": "2022-03-24T20:50:14.197Z"
   },
   {
    "duration": 25,
    "start_time": "2022-03-24T20:50:52.773Z"
   },
   {
    "duration": 168,
    "start_time": "2022-03-24T20:55:33.667Z"
   },
   {
    "duration": 17,
    "start_time": "2022-03-24T20:56:32.386Z"
   },
   {
    "duration": 1483,
    "start_time": "2022-03-24T20:56:50.963Z"
   },
   {
    "duration": 119,
    "start_time": "2022-03-24T20:56:52.449Z"
   },
   {
    "duration": 30,
    "start_time": "2022-03-24T20:56:52.574Z"
   },
   {
    "duration": 37,
    "start_time": "2022-03-24T20:56:52.608Z"
   },
   {
    "duration": 44,
    "start_time": "2022-03-24T20:56:52.647Z"
   },
   {
    "duration": 17,
    "start_time": "2022-03-24T20:56:52.694Z"
   },
   {
    "duration": 9,
    "start_time": "2022-03-24T20:56:52.713Z"
   },
   {
    "duration": 74,
    "start_time": "2022-03-24T20:56:52.726Z"
   },
   {
    "duration": 24,
    "start_time": "2022-03-24T20:56:52.803Z"
   },
   {
    "duration": 390,
    "start_time": "2022-03-24T20:56:52.831Z"
   },
   {
    "duration": 29,
    "start_time": "2022-03-24T20:56:53.276Z"
   },
   {
    "duration": 587,
    "start_time": "2022-03-24T20:56:53.308Z"
   },
   {
    "duration": 4,
    "start_time": "2022-03-24T20:56:53.898Z"
   },
   {
    "duration": 78,
    "start_time": "2022-03-24T20:56:53.904Z"
   },
   {
    "duration": 21,
    "start_time": "2022-03-24T20:56:53.984Z"
   },
   {
    "duration": 609,
    "start_time": "2022-03-24T20:56:54.007Z"
   },
   {
    "duration": 78,
    "start_time": "2022-03-24T20:56:54.618Z"
   },
   {
    "duration": 590,
    "start_time": "2022-03-24T20:56:54.698Z"
   },
   {
    "duration": 496,
    "start_time": "2022-03-24T20:56:55.290Z"
   },
   {
    "duration": 499,
    "start_time": "2022-03-24T20:56:55.788Z"
   },
   {
    "duration": 25,
    "start_time": "2022-03-24T20:56:56.289Z"
   },
   {
    "duration": 600,
    "start_time": "2022-03-24T20:56:56.316Z"
   },
   {
    "duration": 94,
    "start_time": "2022-03-24T20:56:56.918Z"
   },
   {
    "duration": 4,
    "start_time": "2022-03-24T20:56:57.014Z"
   },
   {
    "duration": 329,
    "start_time": "2022-03-24T20:56:57.075Z"
   },
   {
    "duration": 9,
    "start_time": "2022-03-24T20:56:57.407Z"
   },
   {
    "duration": 28,
    "start_time": "2022-03-24T20:56:57.475Z"
   },
   {
    "duration": 688,
    "start_time": "2022-03-24T20:56:57.507Z"
   },
   {
    "duration": 277,
    "start_time": "2022-03-24T20:56:58.197Z"
   },
   {
    "duration": 14,
    "start_time": "2022-03-24T20:56:58.477Z"
   },
   {
    "duration": 80,
    "start_time": "2022-03-24T20:56:58.494Z"
   },
   {
    "duration": 44,
    "start_time": "2022-03-24T20:56:58.576Z"
   },
   {
    "duration": 32,
    "start_time": "2022-03-24T20:56:58.673Z"
   },
   {
    "duration": 79,
    "start_time": "2022-03-24T20:56:58.707Z"
   },
   {
    "duration": 313,
    "start_time": "2022-03-24T20:56:58.789Z"
   },
   {
    "duration": 18,
    "start_time": "2022-03-24T20:57:38.723Z"
   },
   {
    "duration": 7,
    "start_time": "2022-03-24T20:57:46.000Z"
   },
   {
    "duration": 16,
    "start_time": "2022-03-24T20:57:52.083Z"
   },
   {
    "duration": 18,
    "start_time": "2022-03-24T20:58:34.011Z"
   },
   {
    "duration": 14,
    "start_time": "2022-03-24T20:58:43.238Z"
   },
   {
    "duration": 1521,
    "start_time": "2022-03-24T21:02:52.535Z"
   },
   {
    "duration": 81,
    "start_time": "2022-03-24T21:02:54.059Z"
   },
   {
    "duration": 32,
    "start_time": "2022-03-24T21:02:54.144Z"
   },
   {
    "duration": 27,
    "start_time": "2022-03-24T21:02:54.179Z"
   },
   {
    "duration": 16,
    "start_time": "2022-03-24T21:02:54.208Z"
   },
   {
    "duration": 48,
    "start_time": "2022-03-24T21:02:54.227Z"
   },
   {
    "duration": 7,
    "start_time": "2022-03-24T21:02:54.278Z"
   },
   {
    "duration": 37,
    "start_time": "2022-03-24T21:02:54.288Z"
   },
   {
    "duration": 53,
    "start_time": "2022-03-24T21:02:54.328Z"
   },
   {
    "duration": 324,
    "start_time": "2022-03-24T21:02:54.387Z"
   },
   {
    "duration": 20,
    "start_time": "2022-03-24T21:02:54.714Z"
   },
   {
    "duration": 201,
    "start_time": "2022-03-24T21:02:54.736Z"
   },
   {
    "duration": 3,
    "start_time": "2022-03-24T21:02:54.940Z"
   },
   {
    "duration": 39,
    "start_time": "2022-03-24T21:02:54.946Z"
   },
   {
    "duration": 21,
    "start_time": "2022-03-24T21:02:54.988Z"
   },
   {
    "duration": 490,
    "start_time": "2022-03-24T21:02:55.012Z"
   },
   {
    "duration": 79,
    "start_time": "2022-03-24T21:02:55.504Z"
   },
   {
    "duration": 592,
    "start_time": "2022-03-24T21:02:55.585Z"
   },
   {
    "duration": 499,
    "start_time": "2022-03-24T21:02:56.179Z"
   },
   {
    "duration": 493,
    "start_time": "2022-03-24T21:02:56.681Z"
   },
   {
    "duration": 27,
    "start_time": "2022-03-24T21:02:57.176Z"
   },
   {
    "duration": 599,
    "start_time": "2022-03-24T21:02:57.205Z"
   },
   {
    "duration": 90,
    "start_time": "2022-03-24T21:02:57.807Z"
   },
   {
    "duration": 4,
    "start_time": "2022-03-24T21:02:57.900Z"
   },
   {
    "duration": 228,
    "start_time": "2022-03-24T21:02:57.906Z"
   },
   {
    "duration": 10,
    "start_time": "2022-03-24T21:02:58.136Z"
   },
   {
    "duration": 48,
    "start_time": "2022-03-24T21:02:58.148Z"
   },
   {
    "duration": 335,
    "start_time": "2022-03-24T21:02:58.201Z"
   },
   {
    "duration": 547,
    "start_time": "2022-03-24T21:02:58.539Z"
   },
   {
    "duration": 14,
    "start_time": "2022-03-24T21:02:59.088Z"
   },
   {
    "duration": 29,
    "start_time": "2022-03-24T21:02:59.105Z"
   },
   {
    "duration": 63,
    "start_time": "2022-03-24T21:02:59.137Z"
   },
   {
    "duration": 33,
    "start_time": "2022-03-24T21:02:59.202Z"
   },
   {
    "duration": 56,
    "start_time": "2022-03-24T21:02:59.238Z"
   },
   {
    "duration": 14,
    "start_time": "2022-03-24T21:02:59.297Z"
   },
   {
    "duration": 18,
    "start_time": "2022-03-24T21:10:04.497Z"
   },
   {
    "duration": 25,
    "start_time": "2022-03-24T21:13:34.079Z"
   },
   {
    "duration": 16,
    "start_time": "2022-03-24T21:15:13.974Z"
   },
   {
    "duration": 21,
    "start_time": "2022-03-24T21:15:32.675Z"
   },
   {
    "duration": 16,
    "start_time": "2022-03-24T21:16:19.476Z"
   },
   {
    "duration": 20,
    "start_time": "2022-03-24T21:21:31.899Z"
   },
   {
    "duration": 245,
    "start_time": "2022-03-24T21:22:58.071Z"
   },
   {
    "duration": 366,
    "start_time": "2022-03-24T21:23:20.634Z"
   },
   {
    "duration": 267,
    "start_time": "2022-03-24T21:23:42.359Z"
   },
   {
    "duration": 281,
    "start_time": "2022-03-24T21:25:12.062Z"
   },
   {
    "duration": 282,
    "start_time": "2022-03-24T21:25:17.956Z"
   },
   {
    "duration": 150,
    "start_time": "2022-03-24T21:25:34.755Z"
   },
   {
    "duration": 283,
    "start_time": "2022-03-24T21:25:38.803Z"
   },
   {
    "duration": 316,
    "start_time": "2022-03-24T21:30:40.637Z"
   },
   {
    "duration": 286,
    "start_time": "2022-03-24T21:31:58.929Z"
   },
   {
    "duration": 287,
    "start_time": "2022-03-24T21:32:38.658Z"
   },
   {
    "duration": 296,
    "start_time": "2022-03-24T21:32:57.166Z"
   },
   {
    "duration": 1477,
    "start_time": "2022-03-25T16:17:39.254Z"
   },
   {
    "duration": 68,
    "start_time": "2022-03-25T16:17:40.733Z"
   },
   {
    "duration": 12,
    "start_time": "2022-03-25T16:17:40.802Z"
   },
   {
    "duration": 34,
    "start_time": "2022-03-25T16:17:40.817Z"
   },
   {
    "duration": 14,
    "start_time": "2022-03-25T16:17:40.852Z"
   },
   {
    "duration": 24,
    "start_time": "2022-03-25T16:17:40.867Z"
   },
   {
    "duration": 7,
    "start_time": "2022-03-25T16:17:40.892Z"
   },
   {
    "duration": 30,
    "start_time": "2022-03-25T16:17:40.901Z"
   },
   {
    "duration": 42,
    "start_time": "2022-03-25T16:17:40.932Z"
   },
   {
    "duration": 187,
    "start_time": "2022-03-25T16:17:40.977Z"
   },
   {
    "duration": 17,
    "start_time": "2022-03-25T16:17:41.165Z"
   },
   {
    "duration": 114,
    "start_time": "2022-03-25T16:17:41.184Z"
   },
   {
    "duration": 2,
    "start_time": "2022-03-25T16:17:41.300Z"
   },
   {
    "duration": 35,
    "start_time": "2022-03-25T16:17:41.304Z"
   },
   {
    "duration": 19,
    "start_time": "2022-03-25T16:17:41.341Z"
   },
   {
    "duration": 160,
    "start_time": "2022-03-25T16:17:41.362Z"
   },
   {
    "duration": 16,
    "start_time": "2022-03-25T16:17:41.524Z"
   },
   {
    "duration": 159,
    "start_time": "2022-03-25T16:17:41.542Z"
   },
   {
    "duration": 162,
    "start_time": "2022-03-25T16:17:41.703Z"
   },
   {
    "duration": 163,
    "start_time": "2022-03-25T16:17:41.867Z"
   },
   {
    "duration": 15,
    "start_time": "2022-03-25T16:17:42.032Z"
   },
   {
    "duration": 178,
    "start_time": "2022-03-25T16:17:42.049Z"
   },
   {
    "duration": 21,
    "start_time": "2022-03-25T16:17:42.228Z"
   },
   {
    "duration": 21,
    "start_time": "2022-03-25T16:17:42.251Z"
   },
   {
    "duration": 89,
    "start_time": "2022-03-25T16:17:42.274Z"
   },
   {
    "duration": 7,
    "start_time": "2022-03-25T16:17:42.366Z"
   },
   {
    "duration": 37,
    "start_time": "2022-03-25T16:17:42.375Z"
   },
   {
    "duration": 170,
    "start_time": "2022-03-25T16:17:42.416Z"
   },
   {
    "duration": 234,
    "start_time": "2022-03-25T16:17:42.588Z"
   },
   {
    "duration": 7,
    "start_time": "2022-03-25T16:17:42.824Z"
   },
   {
    "duration": 22,
    "start_time": "2022-03-25T16:17:42.833Z"
   },
   {
    "duration": 32,
    "start_time": "2022-03-25T16:17:42.856Z"
   },
   {
    "duration": 17,
    "start_time": "2022-03-25T16:17:42.890Z"
   },
   {
    "duration": 20,
    "start_time": "2022-03-25T16:17:42.908Z"
   },
   {
    "duration": 9,
    "start_time": "2022-03-25T16:17:42.929Z"
   },
   {
    "duration": 18,
    "start_time": "2022-03-25T16:17:42.940Z"
   },
   {
    "duration": 169,
    "start_time": "2022-03-25T16:17:42.959Z"
   },
   {
    "duration": 9,
    "start_time": "2022-03-25T16:19:56.218Z"
   },
   {
    "duration": 15,
    "start_time": "2022-03-25T16:20:04.466Z"
   },
   {
    "duration": 8,
    "start_time": "2022-03-25T16:22:18.162Z"
   },
   {
    "duration": 95,
    "start_time": "2022-03-25T16:22:31.064Z"
   },
   {
    "duration": 8,
    "start_time": "2022-03-25T16:22:51.663Z"
   },
   {
    "duration": 1108,
    "start_time": "2022-03-25T16:23:43.543Z"
   },
   {
    "duration": 71,
    "start_time": "2022-03-25T16:23:44.653Z"
   },
   {
    "duration": 11,
    "start_time": "2022-03-25T16:23:44.725Z"
   },
   {
    "duration": 20,
    "start_time": "2022-03-25T16:23:44.738Z"
   },
   {
    "duration": 8,
    "start_time": "2022-03-25T16:23:44.759Z"
   },
   {
    "duration": 18,
    "start_time": "2022-03-25T16:23:44.769Z"
   },
   {
    "duration": 5,
    "start_time": "2022-03-25T16:23:44.789Z"
   },
   {
    "duration": 26,
    "start_time": "2022-03-25T16:23:44.795Z"
   },
   {
    "duration": 17,
    "start_time": "2022-03-25T16:23:44.822Z"
   },
   {
    "duration": 180,
    "start_time": "2022-03-25T16:23:44.841Z"
   },
   {
    "duration": 13,
    "start_time": "2022-03-25T16:23:45.023Z"
   },
   {
    "duration": 113,
    "start_time": "2022-03-25T16:23:45.038Z"
   },
   {
    "duration": 3,
    "start_time": "2022-03-25T16:23:45.152Z"
   },
   {
    "duration": 26,
    "start_time": "2022-03-25T16:23:45.156Z"
   },
   {
    "duration": 12,
    "start_time": "2022-03-25T16:23:45.183Z"
   },
   {
    "duration": 167,
    "start_time": "2022-03-25T16:23:45.196Z"
   },
   {
    "duration": 27,
    "start_time": "2022-03-25T16:23:45.365Z"
   },
   {
    "duration": 156,
    "start_time": "2022-03-25T16:23:45.394Z"
   },
   {
    "duration": 156,
    "start_time": "2022-03-25T16:23:45.551Z"
   },
   {
    "duration": 154,
    "start_time": "2022-03-25T16:23:45.709Z"
   },
   {
    "duration": 25,
    "start_time": "2022-03-25T16:23:45.865Z"
   },
   {
    "duration": 169,
    "start_time": "2022-03-25T16:23:45.892Z"
   },
   {
    "duration": 28,
    "start_time": "2022-03-25T16:23:46.064Z"
   },
   {
    "duration": 3,
    "start_time": "2022-03-25T16:23:46.094Z"
   },
   {
    "duration": 87,
    "start_time": "2022-03-25T16:23:46.099Z"
   },
   {
    "duration": 6,
    "start_time": "2022-03-25T16:23:46.188Z"
   },
   {
    "duration": 17,
    "start_time": "2022-03-25T16:23:46.195Z"
   },
   {
    "duration": 183,
    "start_time": "2022-03-25T16:23:46.215Z"
   },
   {
    "duration": 227,
    "start_time": "2022-03-25T16:23:46.399Z"
   },
   {
    "duration": 7,
    "start_time": "2022-03-25T16:23:46.628Z"
   },
   {
    "duration": 16,
    "start_time": "2022-03-25T16:23:46.637Z"
   },
   {
    "duration": 23,
    "start_time": "2022-03-25T16:23:46.654Z"
   },
   {
    "duration": 16,
    "start_time": "2022-03-25T16:23:46.679Z"
   },
   {
    "duration": 13,
    "start_time": "2022-03-25T16:23:46.697Z"
   },
   {
    "duration": 8,
    "start_time": "2022-03-25T16:23:46.711Z"
   },
   {
    "duration": 10,
    "start_time": "2022-03-25T16:23:46.720Z"
   },
   {
    "duration": 8,
    "start_time": "2022-03-25T16:23:46.731Z"
   },
   {
    "duration": 184,
    "start_time": "2022-03-25T16:23:46.740Z"
   },
   {
    "duration": 198,
    "start_time": "2022-03-25T16:32:44.221Z"
   },
   {
    "duration": 5,
    "start_time": "2022-03-25T16:33:21.100Z"
   },
   {
    "duration": 159,
    "start_time": "2022-03-25T16:33:35.459Z"
   },
   {
    "duration": 259,
    "start_time": "2022-03-25T16:33:48.982Z"
   },
   {
    "duration": 229,
    "start_time": "2022-03-25T16:36:39.902Z"
   },
   {
    "duration": 150,
    "start_time": "2022-03-25T16:36:58.580Z"
   },
   {
    "duration": 17,
    "start_time": "2022-03-25T16:37:49.187Z"
   },
   {
    "duration": 9,
    "start_time": "2022-03-25T16:38:15.463Z"
   },
   {
    "duration": 166,
    "start_time": "2022-03-25T16:40:16.923Z"
   },
   {
    "duration": 3,
    "start_time": "2022-03-25T16:40:27.662Z"
   },
   {
    "duration": 155,
    "start_time": "2022-03-25T16:40:29.866Z"
   },
   {
    "duration": 1145,
    "start_time": "2022-03-25T16:41:06.317Z"
   },
   {
    "duration": 3,
    "start_time": "2022-03-25T16:41:07.464Z"
   },
   {
    "duration": 62,
    "start_time": "2022-03-25T16:41:07.469Z"
   },
   {
    "duration": 12,
    "start_time": "2022-03-25T16:41:07.533Z"
   },
   {
    "duration": 19,
    "start_time": "2022-03-25T16:41:07.547Z"
   },
   {
    "duration": 17,
    "start_time": "2022-03-25T16:41:07.567Z"
   },
   {
    "duration": 10,
    "start_time": "2022-03-25T16:41:07.586Z"
   },
   {
    "duration": 7,
    "start_time": "2022-03-25T16:41:07.598Z"
   },
   {
    "duration": 22,
    "start_time": "2022-03-25T16:41:07.607Z"
   },
   {
    "duration": 14,
    "start_time": "2022-03-25T16:41:07.632Z"
   },
   {
    "duration": 193,
    "start_time": "2022-03-25T16:41:07.647Z"
   },
   {
    "duration": 13,
    "start_time": "2022-03-25T16:41:07.842Z"
   },
   {
    "duration": 132,
    "start_time": "2022-03-25T16:41:07.856Z"
   },
   {
    "duration": 3,
    "start_time": "2022-03-25T16:41:07.990Z"
   },
   {
    "duration": 23,
    "start_time": "2022-03-25T16:41:07.995Z"
   },
   {
    "duration": 66,
    "start_time": "2022-03-25T16:41:08.020Z"
   },
   {
    "duration": 317,
    "start_time": "2022-03-25T16:41:08.087Z"
   },
   {
    "duration": 16,
    "start_time": "2022-03-25T16:41:08.405Z"
   },
   {
    "duration": 306,
    "start_time": "2022-03-25T16:41:08.422Z"
   },
   {
    "duration": 314,
    "start_time": "2022-03-25T16:41:08.780Z"
   },
   {
    "duration": 312,
    "start_time": "2022-03-25T16:41:09.095Z"
   },
   {
    "duration": 16,
    "start_time": "2022-03-25T16:41:09.408Z"
   },
   {
    "duration": 272,
    "start_time": "2022-03-25T16:41:09.481Z"
   },
   {
    "duration": 28,
    "start_time": "2022-03-25T16:41:09.755Z"
   },
   {
    "duration": 5,
    "start_time": "2022-03-25T16:41:09.784Z"
   },
   {
    "duration": 73,
    "start_time": "2022-03-25T16:41:09.790Z"
   },
   {
    "duration": 19,
    "start_time": "2022-03-25T16:41:09.864Z"
   },
   {
    "duration": 18,
    "start_time": "2022-03-25T16:41:09.886Z"
   },
   {
    "duration": 214,
    "start_time": "2022-03-25T16:41:09.905Z"
   },
   {
    "duration": 276,
    "start_time": "2022-03-25T16:41:10.121Z"
   },
   {
    "duration": 8,
    "start_time": "2022-03-25T16:41:10.398Z"
   },
   {
    "duration": 16,
    "start_time": "2022-03-25T16:41:10.408Z"
   },
   {
    "duration": 25,
    "start_time": "2022-03-25T16:41:10.426Z"
   },
   {
    "duration": 38,
    "start_time": "2022-03-25T16:41:10.453Z"
   },
   {
    "duration": 14,
    "start_time": "2022-03-25T16:41:10.492Z"
   },
   {
    "duration": 9,
    "start_time": "2022-03-25T16:41:10.507Z"
   },
   {
    "duration": 10,
    "start_time": "2022-03-25T16:41:10.518Z"
   },
   {
    "duration": 7,
    "start_time": "2022-03-25T16:41:10.530Z"
   },
   {
    "duration": 180,
    "start_time": "2022-03-25T16:41:10.539Z"
   },
   {
    "duration": 227,
    "start_time": "2022-03-25T16:43:36.708Z"
   },
   {
    "duration": 4,
    "start_time": "2022-03-25T16:43:48.545Z"
   },
   {
    "duration": 149,
    "start_time": "2022-03-25T16:43:51.294Z"
   },
   {
    "duration": 4,
    "start_time": "2022-03-25T16:44:28.323Z"
   },
   {
    "duration": 163,
    "start_time": "2022-03-25T16:44:29.146Z"
   },
   {
    "duration": 145,
    "start_time": "2022-03-25T16:44:47.046Z"
   },
   {
    "duration": 1183,
    "start_time": "2022-03-25T16:45:01.061Z"
   },
   {
    "duration": 2,
    "start_time": "2022-03-25T16:45:02.246Z"
   },
   {
    "duration": 79,
    "start_time": "2022-03-25T16:45:02.250Z"
   },
   {
    "duration": 13,
    "start_time": "2022-03-25T16:45:02.331Z"
   },
   {
    "duration": 20,
    "start_time": "2022-03-25T16:45:02.345Z"
   },
   {
    "duration": 15,
    "start_time": "2022-03-25T16:45:02.367Z"
   },
   {
    "duration": 12,
    "start_time": "2022-03-25T16:45:02.384Z"
   },
   {
    "duration": 6,
    "start_time": "2022-03-25T16:45:02.397Z"
   },
   {
    "duration": 28,
    "start_time": "2022-03-25T16:45:02.404Z"
   },
   {
    "duration": 16,
    "start_time": "2022-03-25T16:45:02.435Z"
   },
   {
    "duration": 197,
    "start_time": "2022-03-25T16:45:02.452Z"
   },
   {
    "duration": 13,
    "start_time": "2022-03-25T16:45:02.651Z"
   },
   {
    "duration": 117,
    "start_time": "2022-03-25T16:45:02.666Z"
   },
   {
    "duration": 3,
    "start_time": "2022-03-25T16:45:02.784Z"
   },
   {
    "duration": 16,
    "start_time": "2022-03-25T16:45:02.789Z"
   },
   {
    "duration": 13,
    "start_time": "2022-03-25T16:45:02.806Z"
   },
   {
    "duration": 187,
    "start_time": "2022-03-25T16:45:02.821Z"
   },
   {
    "duration": 17,
    "start_time": "2022-03-25T16:45:03.009Z"
   },
   {
    "duration": 160,
    "start_time": "2022-03-25T16:45:03.027Z"
   },
   {
    "duration": 157,
    "start_time": "2022-03-25T16:45:03.189Z"
   },
   {
    "duration": 164,
    "start_time": "2022-03-25T16:45:03.348Z"
   },
   {
    "duration": 18,
    "start_time": "2022-03-25T16:45:03.513Z"
   },
   {
    "duration": 170,
    "start_time": "2022-03-25T16:45:03.532Z"
   },
   {
    "duration": 21,
    "start_time": "2022-03-25T16:45:03.703Z"
   },
   {
    "duration": 5,
    "start_time": "2022-03-25T16:45:03.725Z"
   },
   {
    "duration": 89,
    "start_time": "2022-03-25T16:45:03.731Z"
   },
   {
    "duration": 6,
    "start_time": "2022-03-25T16:45:03.821Z"
   },
   {
    "duration": 18,
    "start_time": "2022-03-25T16:45:03.829Z"
   },
   {
    "duration": 188,
    "start_time": "2022-03-25T16:45:03.849Z"
   },
   {
    "duration": 234,
    "start_time": "2022-03-25T16:45:04.039Z"
   },
   {
    "duration": 8,
    "start_time": "2022-03-25T16:45:04.275Z"
   },
   {
    "duration": 22,
    "start_time": "2022-03-25T16:45:04.284Z"
   },
   {
    "duration": 37,
    "start_time": "2022-03-25T16:45:04.308Z"
   },
   {
    "duration": 18,
    "start_time": "2022-03-25T16:45:04.346Z"
   },
   {
    "duration": 17,
    "start_time": "2022-03-25T16:45:04.366Z"
   },
   {
    "duration": 9,
    "start_time": "2022-03-25T16:45:04.384Z"
   },
   {
    "duration": 19,
    "start_time": "2022-03-25T16:45:04.395Z"
   },
   {
    "duration": 34,
    "start_time": "2022-03-25T16:45:04.416Z"
   },
   {
    "duration": 101,
    "start_time": "2022-03-25T16:45:04.452Z"
   },
   {
    "duration": 185,
    "start_time": "2022-03-25T16:45:23.137Z"
   },
   {
    "duration": 153,
    "start_time": "2022-03-25T16:45:42.223Z"
   },
   {
    "duration": 1106,
    "start_time": "2022-03-25T16:45:48.567Z"
   },
   {
    "duration": 3,
    "start_time": "2022-03-25T16:45:49.674Z"
   },
   {
    "duration": 68,
    "start_time": "2022-03-25T16:45:49.680Z"
   },
   {
    "duration": 15,
    "start_time": "2022-03-25T16:45:49.749Z"
   },
   {
    "duration": 19,
    "start_time": "2022-03-25T16:45:49.766Z"
   },
   {
    "duration": 8,
    "start_time": "2022-03-25T16:45:49.787Z"
   },
   {
    "duration": 13,
    "start_time": "2022-03-25T16:45:49.797Z"
   },
   {
    "duration": 8,
    "start_time": "2022-03-25T16:45:49.811Z"
   },
   {
    "duration": 23,
    "start_time": "2022-03-25T16:45:49.820Z"
   },
   {
    "duration": 15,
    "start_time": "2022-03-25T16:45:49.846Z"
   },
   {
    "duration": 169,
    "start_time": "2022-03-25T16:45:49.880Z"
   },
   {
    "duration": 13,
    "start_time": "2022-03-25T16:45:50.050Z"
   },
   {
    "duration": 116,
    "start_time": "2022-03-25T16:45:50.065Z"
   },
   {
    "duration": 3,
    "start_time": "2022-03-25T16:45:50.182Z"
   },
   {
    "duration": 23,
    "start_time": "2022-03-25T16:45:50.186Z"
   },
   {
    "duration": 14,
    "start_time": "2022-03-25T16:45:50.210Z"
   },
   {
    "duration": 171,
    "start_time": "2022-03-25T16:45:50.226Z"
   },
   {
    "duration": 16,
    "start_time": "2022-03-25T16:45:50.398Z"
   },
   {
    "duration": 157,
    "start_time": "2022-03-25T16:45:50.415Z"
   },
   {
    "duration": 162,
    "start_time": "2022-03-25T16:45:50.574Z"
   },
   {
    "duration": 155,
    "start_time": "2022-03-25T16:45:50.737Z"
   },
   {
    "duration": 16,
    "start_time": "2022-03-25T16:45:50.894Z"
   },
   {
    "duration": 191,
    "start_time": "2022-03-25T16:45:50.912Z"
   },
   {
    "duration": 22,
    "start_time": "2022-03-25T16:45:51.105Z"
   },
   {
    "duration": 4,
    "start_time": "2022-03-25T16:45:51.128Z"
   },
   {
    "duration": 89,
    "start_time": "2022-03-25T16:45:51.133Z"
   },
   {
    "duration": 6,
    "start_time": "2022-03-25T16:45:51.223Z"
   },
   {
    "duration": 19,
    "start_time": "2022-03-25T16:45:51.232Z"
   },
   {
    "duration": 194,
    "start_time": "2022-03-25T16:45:51.253Z"
   },
   {
    "duration": 198,
    "start_time": "2022-03-25T16:45:51.448Z"
   },
   {
    "duration": 8,
    "start_time": "2022-03-25T16:45:51.648Z"
   },
   {
    "duration": 17,
    "start_time": "2022-03-25T16:45:51.658Z"
   },
   {
    "duration": 28,
    "start_time": "2022-03-25T16:45:51.676Z"
   },
   {
    "duration": 18,
    "start_time": "2022-03-25T16:45:51.706Z"
   },
   {
    "duration": 13,
    "start_time": "2022-03-25T16:45:51.726Z"
   },
   {
    "duration": 9,
    "start_time": "2022-03-25T16:45:51.740Z"
   },
   {
    "duration": 39,
    "start_time": "2022-03-25T16:45:51.751Z"
   },
   {
    "duration": 10,
    "start_time": "2022-03-25T16:45:51.791Z"
   },
   {
    "duration": 161,
    "start_time": "2022-03-25T16:45:51.802Z"
   },
   {
    "duration": 233,
    "start_time": "2022-03-25T16:52:26.908Z"
   },
   {
    "duration": 157,
    "start_time": "2022-03-25T16:53:01.583Z"
   },
   {
    "duration": 206,
    "start_time": "2022-03-25T16:53:08.535Z"
   },
   {
    "duration": 232,
    "start_time": "2022-03-25T16:53:35.249Z"
   },
   {
    "duration": 380,
    "start_time": "2022-03-25T16:56:13.042Z"
   },
   {
    "duration": 240,
    "start_time": "2022-03-25T16:56:26.744Z"
   },
   {
    "duration": 190,
    "start_time": "2022-03-25T16:57:31.271Z"
   },
   {
    "duration": 9,
    "start_time": "2022-03-25T16:58:37.253Z"
   },
   {
    "duration": 9,
    "start_time": "2022-03-25T16:58:47.632Z"
   },
   {
    "duration": 22,
    "start_time": "2022-03-25T19:14:39.700Z"
   },
   {
    "duration": 267,
    "start_time": "2022-03-25T19:15:08.207Z"
   },
   {
    "duration": 9,
    "start_time": "2022-03-25T19:18:29.410Z"
   },
   {
    "duration": 247,
    "start_time": "2022-03-25T19:19:27.336Z"
   },
   {
    "duration": 10,
    "start_time": "2022-03-25T19:20:10.922Z"
   },
   {
    "duration": 11,
    "start_time": "2022-03-25T19:20:36.299Z"
   },
   {
    "duration": 158,
    "start_time": "2022-03-25T19:20:46.747Z"
   },
   {
    "duration": 13,
    "start_time": "2022-03-25T19:24:17.718Z"
   },
   {
    "duration": 12,
    "start_time": "2022-03-25T19:24:58.009Z"
   },
   {
    "duration": 1181,
    "start_time": "2022-03-25T19:48:09.320Z"
   },
   {
    "duration": 3,
    "start_time": "2022-03-25T19:48:10.503Z"
   },
   {
    "duration": 64,
    "start_time": "2022-03-25T19:48:10.507Z"
   },
   {
    "duration": 19,
    "start_time": "2022-03-25T19:48:10.573Z"
   },
   {
    "duration": 23,
    "start_time": "2022-03-25T19:48:10.594Z"
   },
   {
    "duration": 8,
    "start_time": "2022-03-25T19:48:10.618Z"
   },
   {
    "duration": 9,
    "start_time": "2022-03-25T19:48:10.628Z"
   },
   {
    "duration": 12,
    "start_time": "2022-03-25T19:48:10.639Z"
   },
   {
    "duration": 32,
    "start_time": "2022-03-25T19:48:10.653Z"
   },
   {
    "duration": 14,
    "start_time": "2022-03-25T19:48:10.688Z"
   },
   {
    "duration": 303,
    "start_time": "2022-03-25T19:48:10.703Z"
   },
   {
    "duration": 13,
    "start_time": "2022-03-25T19:48:11.008Z"
   },
   {
    "duration": 205,
    "start_time": "2022-03-25T19:48:11.023Z"
   },
   {
    "duration": 8,
    "start_time": "2022-03-25T19:48:11.281Z"
   },
   {
    "duration": 15,
    "start_time": "2022-03-25T19:48:11.297Z"
   },
   {
    "duration": 13,
    "start_time": "2022-03-25T19:48:11.313Z"
   },
   {
    "duration": 384,
    "start_time": "2022-03-25T19:48:11.327Z"
   },
   {
    "duration": 70,
    "start_time": "2022-03-25T19:48:11.712Z"
   },
   {
    "duration": 321,
    "start_time": "2022-03-25T19:48:11.783Z"
   },
   {
    "duration": 330,
    "start_time": "2022-03-25T19:48:12.106Z"
   },
   {
    "duration": 158,
    "start_time": "2022-03-25T19:48:12.437Z"
   },
   {
    "duration": 16,
    "start_time": "2022-03-25T19:48:12.596Z"
   },
   {
    "duration": 183,
    "start_time": "2022-03-25T19:48:12.613Z"
   },
   {
    "duration": 21,
    "start_time": "2022-03-25T19:48:12.799Z"
   },
   {
    "duration": 4,
    "start_time": "2022-03-25T19:48:12.821Z"
   },
   {
    "duration": 85,
    "start_time": "2022-03-25T19:48:12.826Z"
   },
   {
    "duration": 6,
    "start_time": "2022-03-25T19:48:12.912Z"
   },
   {
    "duration": 17,
    "start_time": "2022-03-25T19:48:12.921Z"
   },
   {
    "duration": 191,
    "start_time": "2022-03-25T19:48:12.940Z"
   },
   {
    "duration": 263,
    "start_time": "2022-03-25T19:48:13.132Z"
   },
   {
    "duration": 9,
    "start_time": "2022-03-25T19:48:13.396Z"
   },
   {
    "duration": 17,
    "start_time": "2022-03-25T19:48:13.406Z"
   },
   {
    "duration": 26,
    "start_time": "2022-03-25T19:48:13.424Z"
   },
   {
    "duration": 202,
    "start_time": "2022-03-25T19:48:13.451Z"
   },
   {
    "duration": 19,
    "start_time": "2022-03-25T19:48:13.654Z"
   },
   {
    "duration": 17,
    "start_time": "2022-03-25T19:48:13.684Z"
   },
   {
    "duration": 9,
    "start_time": "2022-03-25T19:48:13.703Z"
   },
   {
    "duration": 262,
    "start_time": "2022-03-25T19:48:13.714Z"
   },
   {
    "duration": 13,
    "start_time": "2022-03-25T19:48:13.977Z"
   },
   {
    "duration": 17,
    "start_time": "2022-03-25T19:48:13.992Z"
   },
   {
    "duration": 248,
    "start_time": "2022-03-25T19:48:14.011Z"
   },
   {
    "duration": 1078,
    "start_time": "2022-03-26T04:07:28.317Z"
   },
   {
    "duration": 4,
    "start_time": "2022-03-26T04:07:29.397Z"
   },
   {
    "duration": 63,
    "start_time": "2022-03-26T04:07:29.402Z"
   },
   {
    "duration": 12,
    "start_time": "2022-03-26T04:07:29.467Z"
   },
   {
    "duration": 24,
    "start_time": "2022-03-26T04:07:29.482Z"
   },
   {
    "duration": 10,
    "start_time": "2022-03-26T04:07:29.507Z"
   },
   {
    "duration": 11,
    "start_time": "2022-03-26T04:07:29.519Z"
   },
   {
    "duration": 4,
    "start_time": "2022-03-26T04:07:29.532Z"
   },
   {
    "duration": 23,
    "start_time": "2022-03-26T04:07:29.538Z"
   },
   {
    "duration": 42,
    "start_time": "2022-03-26T04:07:29.563Z"
   },
   {
    "duration": 171,
    "start_time": "2022-03-26T04:07:29.606Z"
   },
   {
    "duration": 25,
    "start_time": "2022-03-26T04:07:29.779Z"
   },
   {
    "duration": 102,
    "start_time": "2022-03-26T04:07:29.805Z"
   },
   {
    "duration": 3,
    "start_time": "2022-03-26T04:07:29.910Z"
   },
   {
    "duration": 16,
    "start_time": "2022-03-26T04:07:29.914Z"
   },
   {
    "duration": 14,
    "start_time": "2022-03-26T04:07:29.931Z"
   },
   {
    "duration": 192,
    "start_time": "2022-03-26T04:07:29.947Z"
   },
   {
    "duration": 16,
    "start_time": "2022-03-26T04:07:30.140Z"
   },
   {
    "duration": 168,
    "start_time": "2022-03-26T04:07:30.158Z"
   },
   {
    "duration": 165,
    "start_time": "2022-03-26T04:07:30.327Z"
   },
   {
    "duration": 158,
    "start_time": "2022-03-26T04:07:30.493Z"
   },
   {
    "duration": 17,
    "start_time": "2022-03-26T04:07:30.652Z"
   },
   {
    "duration": 176,
    "start_time": "2022-03-26T04:07:30.670Z"
   },
   {
    "duration": 23,
    "start_time": "2022-03-26T04:07:30.848Z"
   },
   {
    "duration": 20,
    "start_time": "2022-03-26T04:07:30.873Z"
   },
   {
    "duration": 84,
    "start_time": "2022-03-26T04:07:30.895Z"
   },
   {
    "duration": 8,
    "start_time": "2022-03-26T04:07:30.981Z"
   },
   {
    "duration": 31,
    "start_time": "2022-03-26T04:07:30.990Z"
   },
   {
    "duration": 188,
    "start_time": "2022-03-26T04:07:31.022Z"
   },
   {
    "duration": 498,
    "start_time": "2022-03-26T04:07:31.212Z"
   },
   {
    "duration": 9,
    "start_time": "2022-03-26T04:07:31.712Z"
   },
   {
    "duration": 24,
    "start_time": "2022-03-26T04:07:31.723Z"
   },
   {
    "duration": 33,
    "start_time": "2022-03-26T04:07:31.749Z"
   },
   {
    "duration": 205,
    "start_time": "2022-03-26T04:07:31.784Z"
   },
   {
    "duration": 22,
    "start_time": "2022-03-26T04:07:31.991Z"
   },
   {
    "duration": 15,
    "start_time": "2022-03-26T04:07:32.015Z"
   },
   {
    "duration": 20,
    "start_time": "2022-03-26T04:07:32.032Z"
   },
   {
    "duration": 254,
    "start_time": "2022-03-26T04:07:32.054Z"
   },
   {
    "duration": 11,
    "start_time": "2022-03-26T04:07:32.310Z"
   },
   {
    "duration": 24,
    "start_time": "2022-03-26T04:07:32.323Z"
   },
   {
    "duration": 405,
    "start_time": "2022-03-26T04:07:32.352Z"
   },
   {
    "duration": 1276,
    "start_time": "2022-03-26T07:36:42.843Z"
   },
   {
    "duration": 3,
    "start_time": "2022-03-26T07:36:44.121Z"
   },
   {
    "duration": 68,
    "start_time": "2022-03-26T07:36:44.125Z"
   },
   {
    "duration": 15,
    "start_time": "2022-03-26T07:36:44.195Z"
   },
   {
    "duration": 18,
    "start_time": "2022-03-26T07:36:44.211Z"
   },
   {
    "duration": 9,
    "start_time": "2022-03-26T07:36:44.231Z"
   },
   {
    "duration": 11,
    "start_time": "2022-03-26T07:36:44.241Z"
   },
   {
    "duration": 6,
    "start_time": "2022-03-26T07:36:44.253Z"
   },
   {
    "duration": 56,
    "start_time": "2022-03-26T07:36:44.261Z"
   },
   {
    "duration": 16,
    "start_time": "2022-03-26T07:36:44.319Z"
   },
   {
    "duration": 207,
    "start_time": "2022-03-26T07:36:44.337Z"
   },
   {
    "duration": 14,
    "start_time": "2022-03-26T07:36:44.546Z"
   },
   {
    "duration": 134,
    "start_time": "2022-03-26T07:36:44.562Z"
   },
   {
    "duration": 12,
    "start_time": "2022-03-26T07:36:44.698Z"
   },
   {
    "duration": 18,
    "start_time": "2022-03-26T07:36:44.711Z"
   },
   {
    "duration": 14,
    "start_time": "2022-03-26T07:36:44.731Z"
   },
   {
    "duration": 211,
    "start_time": "2022-03-26T07:36:44.747Z"
   },
   {
    "duration": 19,
    "start_time": "2022-03-26T07:36:44.960Z"
   },
   {
    "duration": 199,
    "start_time": "2022-03-26T07:36:44.981Z"
   },
   {
    "duration": 188,
    "start_time": "2022-03-26T07:36:45.182Z"
   },
   {
    "duration": 185,
    "start_time": "2022-03-26T07:36:45.371Z"
   },
   {
    "duration": 18,
    "start_time": "2022-03-26T07:36:45.557Z"
   },
   {
    "duration": 205,
    "start_time": "2022-03-26T07:36:45.576Z"
   },
   {
    "duration": 28,
    "start_time": "2022-03-26T07:36:45.782Z"
   },
   {
    "duration": 6,
    "start_time": "2022-03-26T07:36:45.812Z"
   },
   {
    "duration": 90,
    "start_time": "2022-03-26T07:36:45.820Z"
   },
   {
    "duration": 7,
    "start_time": "2022-03-26T07:36:45.911Z"
   },
   {
    "duration": 20,
    "start_time": "2022-03-26T07:36:45.921Z"
   },
   {
    "duration": 223,
    "start_time": "2022-03-26T07:36:45.942Z"
   },
   {
    "duration": 192,
    "start_time": "2022-03-26T07:36:46.167Z"
   },
   {
    "duration": 8,
    "start_time": "2022-03-26T07:36:46.361Z"
   },
   {
    "duration": 18,
    "start_time": "2022-03-26T07:36:46.371Z"
   },
   {
    "duration": 29,
    "start_time": "2022-03-26T07:36:46.391Z"
   },
   {
    "duration": 204,
    "start_time": "2022-03-26T07:36:46.422Z"
   },
   {
    "duration": 21,
    "start_time": "2022-03-26T07:36:46.627Z"
   },
   {
    "duration": 14,
    "start_time": "2022-03-26T07:36:46.650Z"
   },
   {
    "duration": 10,
    "start_time": "2022-03-26T07:36:46.666Z"
   },
   {
    "duration": 279,
    "start_time": "2022-03-26T07:36:46.677Z"
   },
   {
    "duration": 11,
    "start_time": "2022-03-26T07:36:46.957Z"
   },
   {
    "duration": 9,
    "start_time": "2022-03-26T07:36:46.970Z"
   },
   {
    "duration": 290,
    "start_time": "2022-03-26T07:36:46.981Z"
   },
   {
    "duration": 6,
    "start_time": "2022-03-26T07:37:12.520Z"
   },
   {
    "duration": 13,
    "start_time": "2022-03-26T07:37:41.288Z"
   },
   {
    "duration": 4,
    "start_time": "2022-03-26T07:38:44.858Z"
   },
   {
    "duration": 57,
    "start_time": "2022-03-26T07:40:28.703Z"
   },
   {
    "duration": 2302,
    "start_time": "2022-03-26T10:10:53.611Z"
   },
   {
    "duration": 4,
    "start_time": "2022-03-26T10:10:55.916Z"
   },
   {
    "duration": 97,
    "start_time": "2022-03-26T10:10:55.922Z"
   },
   {
    "duration": 22,
    "start_time": "2022-03-26T10:10:56.022Z"
   },
   {
    "duration": 35,
    "start_time": "2022-03-26T10:10:56.046Z"
   },
   {
    "duration": 16,
    "start_time": "2022-03-26T10:10:56.084Z"
   },
   {
    "duration": 50,
    "start_time": "2022-03-26T10:10:56.102Z"
   },
   {
    "duration": 10,
    "start_time": "2022-03-26T10:10:56.155Z"
   },
   {
    "duration": 35,
    "start_time": "2022-03-26T10:10:56.167Z"
   },
   {
    "duration": 51,
    "start_time": "2022-03-26T10:10:56.206Z"
   },
   {
    "duration": 431,
    "start_time": "2022-03-26T10:10:56.259Z"
   },
   {
    "duration": 26,
    "start_time": "2022-03-26T10:10:56.693Z"
   },
   {
    "duration": 213,
    "start_time": "2022-03-26T10:10:56.722Z"
   },
   {
    "duration": 5,
    "start_time": "2022-03-26T10:10:56.937Z"
   },
   {
    "duration": 28,
    "start_time": "2022-03-26T10:10:56.945Z"
   },
   {
    "duration": 23,
    "start_time": "2022-03-26T10:10:56.975Z"
   },
   {
    "duration": 341,
    "start_time": "2022-03-26T10:10:57.000Z"
   },
   {
    "duration": 27,
    "start_time": "2022-03-26T10:10:57.344Z"
   },
   {
    "duration": 321,
    "start_time": "2022-03-26T10:10:57.374Z"
   },
   {
    "duration": 297,
    "start_time": "2022-03-26T10:10:57.697Z"
   },
   {
    "duration": 385,
    "start_time": "2022-03-26T10:10:57.996Z"
   },
   {
    "duration": 32,
    "start_time": "2022-03-26T10:10:58.384Z"
   },
   {
    "duration": 411,
    "start_time": "2022-03-26T10:10:58.419Z"
   },
   {
    "duration": 45,
    "start_time": "2022-03-26T10:10:58.833Z"
   },
   {
    "duration": 3,
    "start_time": "2022-03-26T10:10:58.881Z"
   },
   {
    "duration": 143,
    "start_time": "2022-03-26T10:10:58.887Z"
   },
   {
    "duration": 19,
    "start_time": "2022-03-26T10:10:59.033Z"
   },
   {
    "duration": 27,
    "start_time": "2022-03-26T10:10:59.058Z"
   },
   {
    "duration": 358,
    "start_time": "2022-03-26T10:10:59.088Z"
   },
   {
    "duration": 234,
    "start_time": "2022-03-26T10:10:59.449Z"
   },
   {
    "duration": 13,
    "start_time": "2022-03-26T10:10:59.685Z"
   },
   {
    "duration": 45,
    "start_time": "2022-03-26T10:10:59.700Z"
   },
   {
    "duration": 41,
    "start_time": "2022-03-26T10:10:59.747Z"
   },
   {
    "duration": 342,
    "start_time": "2022-03-26T10:10:59.791Z"
   },
   {
    "duration": 30,
    "start_time": "2022-03-26T10:11:00.142Z"
   },
   {
    "duration": 23,
    "start_time": "2022-03-26T10:11:00.175Z"
   },
   {
    "duration": 44,
    "start_time": "2022-03-26T10:11:00.201Z"
   },
   {
    "duration": 383,
    "start_time": "2022-03-26T10:11:00.248Z"
   },
   {
    "duration": 12,
    "start_time": "2022-03-26T10:11:00.633Z"
   },
   {
    "duration": 31,
    "start_time": "2022-03-26T10:11:00.647Z"
   },
   {
    "duration": 15,
    "start_time": "2022-03-26T10:11:00.680Z"
   },
   {
    "duration": 506,
    "start_time": "2022-03-26T10:11:00.698Z"
   },
   {
    "duration": 195,
    "start_time": "2022-03-26T10:24:55.761Z"
   },
   {
    "duration": 4,
    "start_time": "2022-03-26T10:25:00.625Z"
   },
   {
    "duration": 5,
    "start_time": "2022-03-26T10:25:20.300Z"
   },
   {
    "duration": 4,
    "start_time": "2022-03-26T10:25:38.068Z"
   },
   {
    "duration": 4,
    "start_time": "2022-03-26T10:25:38.765Z"
   },
   {
    "duration": 4,
    "start_time": "2022-03-26T10:25:50.035Z"
   },
   {
    "duration": 20,
    "start_time": "2022-03-26T10:25:50.985Z"
   },
   {
    "duration": 216,
    "start_time": "2022-03-26T10:26:23.696Z"
   },
   {
    "duration": 4,
    "start_time": "2022-03-26T10:26:58.191Z"
   },
   {
    "duration": 6,
    "start_time": "2022-03-26T10:27:04.384Z"
   },
   {
    "duration": 88,
    "start_time": "2022-03-26T10:27:04.889Z"
   },
   {
    "duration": 4,
    "start_time": "2022-03-26T10:27:46.648Z"
   },
   {
    "duration": 25,
    "start_time": "2022-03-26T10:27:47.398Z"
   },
   {
    "duration": 4,
    "start_time": "2022-03-26T10:28:06.006Z"
   },
   {
    "duration": 60,
    "start_time": "2022-03-26T10:28:06.491Z"
   },
   {
    "duration": 4,
    "start_time": "2022-03-26T10:29:19.476Z"
   },
   {
    "duration": 71,
    "start_time": "2022-03-26T10:29:20.168Z"
   },
   {
    "duration": 195,
    "start_time": "2022-03-26T10:29:55.301Z"
   },
   {
    "duration": 58,
    "start_time": "2022-03-26T10:29:55.952Z"
   },
   {
    "duration": 5,
    "start_time": "2022-03-26T10:30:25.078Z"
   },
   {
    "duration": 59,
    "start_time": "2022-03-26T10:30:28.166Z"
   },
   {
    "duration": 5,
    "start_time": "2022-03-26T10:30:55.529Z"
   },
   {
    "duration": 56,
    "start_time": "2022-03-26T10:30:57.163Z"
   },
   {
    "duration": 4,
    "start_time": "2022-03-26T10:31:14.518Z"
   },
   {
    "duration": 73,
    "start_time": "2022-03-26T10:31:18.606Z"
   },
   {
    "duration": 5,
    "start_time": "2022-03-26T10:31:35.169Z"
   },
   {
    "duration": 70,
    "start_time": "2022-03-26T10:31:35.904Z"
   },
   {
    "duration": 4,
    "start_time": "2022-03-26T10:33:17.220Z"
   },
   {
    "duration": 6,
    "start_time": "2022-03-26T10:36:58.701Z"
   },
   {
    "duration": 143,
    "start_time": "2022-03-26T10:37:06.139Z"
   },
   {
    "duration": 7,
    "start_time": "2022-03-26T10:37:23.009Z"
   },
   {
    "duration": 12,
    "start_time": "2022-03-26T10:37:42.008Z"
   },
   {
    "duration": 9,
    "start_time": "2022-03-26T10:38:27.319Z"
   },
   {
    "duration": 11,
    "start_time": "2022-03-26T10:39:40.465Z"
   },
   {
    "duration": 10,
    "start_time": "2022-03-26T10:39:56.252Z"
   },
   {
    "duration": 10,
    "start_time": "2022-03-26T10:40:57.110Z"
   },
   {
    "duration": 6,
    "start_time": "2022-03-26T10:42:15.246Z"
   },
   {
    "duration": 1544,
    "start_time": "2022-03-26T10:45:28.426Z"
   },
   {
    "duration": 4,
    "start_time": "2022-03-26T10:45:29.972Z"
   },
   {
    "duration": 87,
    "start_time": "2022-03-26T10:45:29.978Z"
   },
   {
    "duration": 19,
    "start_time": "2022-03-26T10:45:30.069Z"
   },
   {
    "duration": 33,
    "start_time": "2022-03-26T10:45:30.090Z"
   },
   {
    "duration": 19,
    "start_time": "2022-03-26T10:45:30.144Z"
   },
   {
    "duration": 42,
    "start_time": "2022-03-26T10:45:30.165Z"
   },
   {
    "duration": 22,
    "start_time": "2022-03-26T10:45:30.210Z"
   },
   {
    "duration": 79,
    "start_time": "2022-03-26T10:45:30.236Z"
   },
   {
    "duration": 5,
    "start_time": "2022-03-26T10:45:30.322Z"
   },
   {
    "duration": 99,
    "start_time": "2022-03-26T10:45:30.330Z"
   },
   {
    "duration": 31,
    "start_time": "2022-03-26T10:45:30.431Z"
   },
   {
    "duration": 320,
    "start_time": "2022-03-26T10:45:30.464Z"
   },
   {
    "duration": 21,
    "start_time": "2022-03-26T10:45:30.786Z"
   },
   {
    "duration": 210,
    "start_time": "2022-03-26T10:45:30.810Z"
   },
   {
    "duration": 4,
    "start_time": "2022-03-26T10:45:31.022Z"
   },
   {
    "duration": 35,
    "start_time": "2022-03-26T10:45:31.044Z"
   },
   {
    "duration": 29,
    "start_time": "2022-03-26T10:45:31.081Z"
   },
   {
    "duration": 323,
    "start_time": "2022-03-26T10:45:31.113Z"
   },
   {
    "duration": 33,
    "start_time": "2022-03-26T10:45:31.438Z"
   },
   {
    "duration": 308,
    "start_time": "2022-03-26T10:45:31.473Z"
   },
   {
    "duration": 303,
    "start_time": "2022-03-26T10:45:31.783Z"
   },
   {
    "duration": 297,
    "start_time": "2022-03-26T10:45:32.088Z"
   },
   {
    "duration": 24,
    "start_time": "2022-03-26T10:45:32.387Z"
   },
   {
    "duration": 335,
    "start_time": "2022-03-26T10:45:32.413Z"
   },
   {
    "duration": 49,
    "start_time": "2022-03-26T10:45:32.750Z"
   },
   {
    "duration": 4,
    "start_time": "2022-03-26T10:45:32.801Z"
   },
   {
    "duration": 126,
    "start_time": "2022-03-26T10:45:32.845Z"
   },
   {
    "duration": 9,
    "start_time": "2022-03-26T10:45:32.973Z"
   },
   {
    "duration": 30,
    "start_time": "2022-03-26T10:45:32.983Z"
   },
   {
    "duration": 355,
    "start_time": "2022-03-26T10:45:33.015Z"
   },
   {
    "duration": 244,
    "start_time": "2022-03-26T10:45:33.372Z"
   },
   {
    "duration": 13,
    "start_time": "2022-03-26T10:45:33.619Z"
   },
   {
    "duration": 31,
    "start_time": "2022-03-26T10:45:33.635Z"
   },
   {
    "duration": 10,
    "start_time": "2022-03-26T10:45:33.668Z"
   },
   {
    "duration": 46,
    "start_time": "2022-03-26T10:45:33.681Z"
   },
   {
    "duration": 332,
    "start_time": "2022-03-26T10:45:33.742Z"
   },
   {
    "duration": 36,
    "start_time": "2022-03-26T10:45:34.076Z"
   },
   {
    "duration": 45,
    "start_time": "2022-03-26T10:45:34.114Z"
   },
   {
    "duration": 7,
    "start_time": "2022-03-26T10:45:34.161Z"
   },
   {
    "duration": 21,
    "start_time": "2022-03-26T10:45:34.171Z"
   },
   {
    "duration": 504,
    "start_time": "2022-03-26T10:45:34.195Z"
   },
   {
    "duration": 8,
    "start_time": "2022-03-26T10:45:34.702Z"
   },
   {
    "duration": 41,
    "start_time": "2022-03-26T10:45:34.713Z"
   },
   {
    "duration": 15,
    "start_time": "2022-03-26T10:45:34.757Z"
   },
   {
    "duration": 484,
    "start_time": "2022-03-26T10:45:34.775Z"
   },
   {
    "duration": 2007,
    "start_time": "2022-03-26T10:47:08.139Z"
   },
   {
    "duration": 4,
    "start_time": "2022-03-26T10:47:10.149Z"
   },
   {
    "duration": 224,
    "start_time": "2022-03-26T10:47:10.156Z"
   },
   {
    "duration": 17,
    "start_time": "2022-03-26T10:47:10.384Z"
   },
   {
    "duration": 47,
    "start_time": "2022-03-26T10:47:10.403Z"
   },
   {
    "duration": 14,
    "start_time": "2022-03-26T10:47:10.453Z"
   },
   {
    "duration": 25,
    "start_time": "2022-03-26T10:47:10.471Z"
   },
   {
    "duration": 9,
    "start_time": "2022-03-26T10:47:10.499Z"
   },
   {
    "duration": 37,
    "start_time": "2022-03-26T10:47:10.543Z"
   },
   {
    "duration": 5,
    "start_time": "2022-03-26T10:47:10.584Z"
   },
   {
    "duration": 81,
    "start_time": "2022-03-26T10:47:10.591Z"
   },
   {
    "duration": 33,
    "start_time": "2022-03-26T10:47:10.675Z"
   },
   {
    "duration": 351,
    "start_time": "2022-03-26T10:47:10.711Z"
   },
   {
    "duration": 22,
    "start_time": "2022-03-26T10:47:11.065Z"
   },
   {
    "duration": 212,
    "start_time": "2022-03-26T10:47:11.090Z"
   },
   {
    "duration": 4,
    "start_time": "2022-03-26T10:47:11.305Z"
   },
   {
    "duration": 44,
    "start_time": "2022-03-26T10:47:11.311Z"
   },
   {
    "duration": 21,
    "start_time": "2022-03-26T10:47:11.358Z"
   },
   {
    "duration": 340,
    "start_time": "2022-03-26T10:47:11.381Z"
   },
   {
    "duration": 36,
    "start_time": "2022-03-26T10:47:11.723Z"
   },
   {
    "duration": 299,
    "start_time": "2022-03-26T10:47:11.761Z"
   },
   {
    "duration": 304,
    "start_time": "2022-03-26T10:47:12.062Z"
   },
   {
    "duration": 385,
    "start_time": "2022-03-26T10:47:12.369Z"
   },
   {
    "duration": 27,
    "start_time": "2022-03-26T10:47:12.757Z"
   },
   {
    "duration": 337,
    "start_time": "2022-03-26T10:47:12.786Z"
   },
   {
    "duration": 48,
    "start_time": "2022-03-26T10:47:13.126Z"
   },
   {
    "duration": 4,
    "start_time": "2022-03-26T10:47:13.177Z"
   },
   {
    "duration": 149,
    "start_time": "2022-03-26T10:47:13.187Z"
   },
   {
    "duration": 12,
    "start_time": "2022-03-26T10:47:13.338Z"
   },
   {
    "duration": 28,
    "start_time": "2022-03-26T10:47:13.353Z"
   },
   {
    "duration": 363,
    "start_time": "2022-03-26T10:47:13.383Z"
   },
   {
    "duration": 224,
    "start_time": "2022-03-26T10:47:13.749Z"
   },
   {
    "duration": 12,
    "start_time": "2022-03-26T10:47:13.976Z"
   },
   {
    "duration": 32,
    "start_time": "2022-03-26T10:47:13.991Z"
   },
   {
    "duration": 18,
    "start_time": "2022-03-26T10:47:14.025Z"
   },
   {
    "duration": 44,
    "start_time": "2022-03-26T10:47:14.046Z"
   },
   {
    "duration": 359,
    "start_time": "2022-03-26T10:47:14.093Z"
   },
   {
    "duration": 30,
    "start_time": "2022-03-26T10:47:14.454Z"
   },
   {
    "duration": 22,
    "start_time": "2022-03-26T10:47:14.487Z"
   },
   {
    "duration": 35,
    "start_time": "2022-03-26T10:47:14.511Z"
   },
   {
    "duration": 23,
    "start_time": "2022-03-26T10:47:14.549Z"
   },
   {
    "duration": 490,
    "start_time": "2022-03-26T10:47:14.575Z"
   },
   {
    "duration": 7,
    "start_time": "2022-03-26T10:47:15.068Z"
   },
   {
    "duration": 26,
    "start_time": "2022-03-26T10:47:15.078Z"
   },
   {
    "duration": 44,
    "start_time": "2022-03-26T10:47:15.106Z"
   },
   {
    "duration": 642,
    "start_time": "2022-03-26T10:47:15.152Z"
   },
   {
    "duration": 1633,
    "start_time": "2022-03-26T10:50:40.210Z"
   },
   {
    "duration": 3,
    "start_time": "2022-03-26T10:50:41.846Z"
   },
   {
    "duration": 98,
    "start_time": "2022-03-26T10:50:41.851Z"
   },
   {
    "duration": 21,
    "start_time": "2022-03-26T10:50:41.952Z"
   },
   {
    "duration": 37,
    "start_time": "2022-03-26T10:50:41.976Z"
   },
   {
    "duration": 18,
    "start_time": "2022-03-26T10:50:42.044Z"
   },
   {
    "duration": 22,
    "start_time": "2022-03-26T10:50:42.064Z"
   },
   {
    "duration": 10,
    "start_time": "2022-03-26T10:50:42.089Z"
   },
   {
    "duration": 66,
    "start_time": "2022-03-26T10:50:42.101Z"
   },
   {
    "duration": 4,
    "start_time": "2022-03-26T10:50:42.172Z"
   },
   {
    "duration": 99,
    "start_time": "2022-03-26T10:50:42.179Z"
   },
   {
    "duration": 27,
    "start_time": "2022-03-26T10:50:42.280Z"
   },
   {
    "duration": 343,
    "start_time": "2022-03-26T10:50:42.310Z"
   },
   {
    "duration": 27,
    "start_time": "2022-03-26T10:50:42.656Z"
   },
   {
    "duration": 211,
    "start_time": "2022-03-26T10:50:42.685Z"
   },
   {
    "duration": 4,
    "start_time": "2022-03-26T10:50:42.898Z"
   },
   {
    "duration": 54,
    "start_time": "2022-03-26T10:50:42.905Z"
   },
   {
    "duration": 27,
    "start_time": "2022-03-26T10:50:42.962Z"
   },
   {
    "duration": 324,
    "start_time": "2022-03-26T10:50:42.991Z"
   },
   {
    "duration": 33,
    "start_time": "2022-03-26T10:50:43.317Z"
   },
   {
    "duration": 308,
    "start_time": "2022-03-26T10:50:43.353Z"
   },
   {
    "duration": 311,
    "start_time": "2022-03-26T10:50:43.663Z"
   },
   {
    "duration": 386,
    "start_time": "2022-03-26T10:50:43.976Z"
   },
   {
    "duration": 28,
    "start_time": "2022-03-26T10:50:44.364Z"
   },
   {
    "duration": 325,
    "start_time": "2022-03-26T10:50:44.394Z"
   },
   {
    "duration": 49,
    "start_time": "2022-03-26T10:50:44.722Z"
   },
   {
    "duration": 14,
    "start_time": "2022-03-26T10:50:44.773Z"
   },
   {
    "duration": 153,
    "start_time": "2022-03-26T10:50:44.794Z"
   },
   {
    "duration": 11,
    "start_time": "2022-03-26T10:50:44.950Z"
   },
   {
    "duration": 32,
    "start_time": "2022-03-26T10:50:44.964Z"
   },
   {
    "duration": 365,
    "start_time": "2022-03-26T10:50:44.999Z"
   },
   {
    "duration": 235,
    "start_time": "2022-03-26T10:50:45.366Z"
   },
   {
    "duration": 13,
    "start_time": "2022-03-26T10:50:45.603Z"
   },
   {
    "duration": 42,
    "start_time": "2022-03-26T10:50:45.618Z"
   },
   {
    "duration": 14,
    "start_time": "2022-03-26T10:50:45.662Z"
   },
   {
    "duration": 49,
    "start_time": "2022-03-26T10:50:45.679Z"
   },
   {
    "duration": 365,
    "start_time": "2022-03-26T10:50:45.731Z"
   },
   {
    "duration": 61,
    "start_time": "2022-03-26T10:50:46.099Z"
   },
   {
    "duration": 29,
    "start_time": "2022-03-26T10:50:46.163Z"
   },
   {
    "duration": 7,
    "start_time": "2022-03-26T10:50:46.194Z"
   },
   {
    "duration": 54,
    "start_time": "2022-03-26T10:50:46.203Z"
   },
   {
    "duration": 438,
    "start_time": "2022-03-26T10:50:46.260Z"
   },
   {
    "duration": 7,
    "start_time": "2022-03-26T10:50:46.700Z"
   },
   {
    "duration": 39,
    "start_time": "2022-03-26T10:50:46.709Z"
   },
   {
    "duration": 13,
    "start_time": "2022-03-26T10:50:46.751Z"
   },
   {
    "duration": 459,
    "start_time": "2022-03-26T10:50:46.766Z"
   },
   {
    "duration": 1713,
    "start_time": "2022-03-26T10:56:11.071Z"
   },
   {
    "duration": 3,
    "start_time": "2022-03-26T10:56:12.787Z"
   },
   {
    "duration": 92,
    "start_time": "2022-03-26T10:56:12.793Z"
   },
   {
    "duration": 19,
    "start_time": "2022-03-26T10:56:12.888Z"
   },
   {
    "duration": 60,
    "start_time": "2022-03-26T10:56:12.909Z"
   },
   {
    "duration": 14,
    "start_time": "2022-03-26T10:56:12.972Z"
   },
   {
    "duration": 17,
    "start_time": "2022-03-26T10:56:12.989Z"
   },
   {
    "duration": 37,
    "start_time": "2022-03-26T10:56:13.008Z"
   },
   {
    "duration": 47,
    "start_time": "2022-03-26T10:56:13.048Z"
   },
   {
    "duration": 4,
    "start_time": "2022-03-26T10:56:13.099Z"
   },
   {
    "duration": 79,
    "start_time": "2022-03-26T10:56:13.105Z"
   },
   {
    "duration": 29,
    "start_time": "2022-03-26T10:56:13.187Z"
   },
   {
    "duration": 444,
    "start_time": "2022-03-26T10:56:13.218Z"
   },
   {
    "duration": 26,
    "start_time": "2022-03-26T10:56:13.664Z"
   },
   {
    "duration": 219,
    "start_time": "2022-03-26T10:56:13.693Z"
   },
   {
    "duration": 4,
    "start_time": "2022-03-26T10:56:13.914Z"
   },
   {
    "duration": 43,
    "start_time": "2022-03-26T10:56:13.920Z"
   },
   {
    "duration": 20,
    "start_time": "2022-03-26T10:56:13.966Z"
   },
   {
    "duration": 335,
    "start_time": "2022-03-26T10:56:13.988Z"
   },
   {
    "duration": 37,
    "start_time": "2022-03-26T10:56:14.326Z"
   },
   {
    "duration": 309,
    "start_time": "2022-03-26T10:56:14.365Z"
   },
   {
    "duration": 309,
    "start_time": "2022-03-26T10:56:14.677Z"
   },
   {
    "duration": 317,
    "start_time": "2022-03-26T10:56:14.988Z"
   },
   {
    "duration": 38,
    "start_time": "2022-03-26T10:56:15.307Z"
   },
   {
    "duration": 323,
    "start_time": "2022-03-26T10:56:15.347Z"
   },
   {
    "duration": 39,
    "start_time": "2022-03-26T10:56:15.675Z"
   },
   {
    "duration": 3,
    "start_time": "2022-03-26T10:56:15.717Z"
   },
   {
    "duration": 171,
    "start_time": "2022-03-26T10:56:15.747Z"
   },
   {
    "duration": 9,
    "start_time": "2022-03-26T10:56:15.920Z"
   },
   {
    "duration": 38,
    "start_time": "2022-03-26T10:56:15.931Z"
   },
   {
    "duration": 376,
    "start_time": "2022-03-26T10:56:15.972Z"
   },
   {
    "duration": 254,
    "start_time": "2022-03-26T10:56:16.353Z"
   },
   {
    "duration": 12,
    "start_time": "2022-03-26T10:56:16.610Z"
   },
   {
    "duration": 25,
    "start_time": "2022-03-26T10:56:16.624Z"
   },
   {
    "duration": 11,
    "start_time": "2022-03-26T10:56:16.652Z"
   },
   {
    "duration": 63,
    "start_time": "2022-03-26T10:56:16.665Z"
   },
   {
    "duration": 353,
    "start_time": "2022-03-26T10:56:16.730Z"
   },
   {
    "duration": 30,
    "start_time": "2022-03-26T10:56:17.085Z"
   },
   {
    "duration": 45,
    "start_time": "2022-03-26T10:56:17.117Z"
   },
   {
    "duration": 7,
    "start_time": "2022-03-26T10:56:17.164Z"
   },
   {
    "duration": 17,
    "start_time": "2022-03-26T10:56:17.173Z"
   },
   {
    "duration": 425,
    "start_time": "2022-03-26T10:56:17.192Z"
   },
   {
    "duration": 39,
    "start_time": "2022-03-26T10:56:17.619Z"
   },
   {
    "duration": 18,
    "start_time": "2022-03-26T10:56:17.660Z"
   },
   {
    "duration": 625,
    "start_time": "2022-03-26T10:56:17.680Z"
   }
  ],
  "kernelspec": {
   "display_name": "Python 3 (ipykernel)",
   "language": "python",
   "name": "python3"
  },
  "language_info": {
   "codemirror_mode": {
    "name": "ipython",
    "version": 3
   },
   "file_extension": ".py",
   "mimetype": "text/x-python",
   "name": "python",
   "nbconvert_exporter": "python",
   "pygments_lexer": "ipython3",
   "version": "3.7.8"
  },
  "toc": {
   "base_numbering": 1,
   "nav_menu": {},
   "number_sections": true,
   "sideBar": true,
   "skip_h1_title": true,
   "title_cell": "Table of Contents",
   "title_sidebar": "Contents",
   "toc_cell": false,
   "toc_position": {
    "height": "calc(100% - 180px)",
    "left": "10px",
    "top": "150px",
    "width": "184px"
   },
   "toc_section_display": true,
   "toc_window_display": false
  }
 },
 "nbformat": 4,
 "nbformat_minor": 2
}
