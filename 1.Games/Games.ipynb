{
 "cells": [
  {
   "cell_type": "markdown",
   "metadata": {},
   "source": [
    "# Сборный проект-1"
   ]
  },
  {
   "cell_type": "markdown",
   "metadata": {},
   "source": [
    "## Общая информация о данных"
   ]
  },
  {
   "cell_type": "markdown",
   "metadata": {},
   "source": [
    "Добавим библиотеки `pandas`, `numpy`, `matplotlib.pyplot`, `stats` для дальнейшей работы и откроем исходный датасет."
   ]
  },
  {
   "cell_type": "code",
   "execution_count": 1,
   "metadata": {},
   "outputs": [],
   "source": [
    "# Добавим библиотеки и откроем файл с данными\n",
    "import pandas as pd\n",
    "import numpy as np\n",
    "import matplotlib.pyplot as plt\n",
    "from scipy import stats as st"
   ]
  },
  {
   "cell_type": "code",
   "execution_count": 2,
   "metadata": {},
   "outputs": [],
   "source": [
    "#Прочитаем датасет\n",
    "data = pd.read_csv('C:/Anaconda/Sborniy 1/games.csv')"
   ]
  },
  {
   "cell_type": "code",
   "execution_count": 3,
   "metadata": {
    "scrolled": true
   },
   "outputs": [
    {
     "name": "stdout",
     "output_type": "stream",
     "text": [
      "<class 'pandas.core.frame.DataFrame'>\n",
      "RangeIndex: 16715 entries, 0 to 16714\n",
      "Data columns (total 11 columns):\n",
      "Name               16713 non-null object\n",
      "Platform           16715 non-null object\n",
      "Year_of_Release    16446 non-null float64\n",
      "Genre              16713 non-null object\n",
      "NA_sales           16715 non-null float64\n",
      "EU_sales           16715 non-null float64\n",
      "JP_sales           16715 non-null float64\n",
      "Other_sales        16715 non-null float64\n",
      "Critic_Score       8137 non-null float64\n",
      "User_Score         10014 non-null object\n",
      "Rating             9949 non-null object\n",
      "dtypes: float64(6), object(5)\n",
      "memory usage: 1.4+ MB\n"
     ]
    },
    {
     "data": {
      "text/html": [
       "<div>\n",
       "<style scoped>\n",
       "    .dataframe tbody tr th:only-of-type {\n",
       "        vertical-align: middle;\n",
       "    }\n",
       "\n",
       "    .dataframe tbody tr th {\n",
       "        vertical-align: top;\n",
       "    }\n",
       "\n",
       "    .dataframe thead th {\n",
       "        text-align: right;\n",
       "    }\n",
       "</style>\n",
       "<table border=\"1\" class=\"dataframe\">\n",
       "  <thead>\n",
       "    <tr style=\"text-align: right;\">\n",
       "      <th></th>\n",
       "      <th>Name</th>\n",
       "      <th>Platform</th>\n",
       "      <th>Year_of_Release</th>\n",
       "      <th>Genre</th>\n",
       "      <th>NA_sales</th>\n",
       "      <th>EU_sales</th>\n",
       "      <th>JP_sales</th>\n",
       "      <th>Other_sales</th>\n",
       "      <th>Critic_Score</th>\n",
       "      <th>User_Score</th>\n",
       "      <th>Rating</th>\n",
       "    </tr>\n",
       "  </thead>\n",
       "  <tbody>\n",
       "    <tr>\n",
       "      <td>14518</td>\n",
       "      <td>Kokoro no Kokoron</td>\n",
       "      <td>DS</td>\n",
       "      <td>2011.0</td>\n",
       "      <td>Misc</td>\n",
       "      <td>0.00</td>\n",
       "      <td>0.00</td>\n",
       "      <td>0.03</td>\n",
       "      <td>0.00</td>\n",
       "      <td>NaN</td>\n",
       "      <td>NaN</td>\n",
       "      <td>NaN</td>\n",
       "    </tr>\n",
       "    <tr>\n",
       "      <td>13570</td>\n",
       "      <td>Disney Planes Fire &amp; Rescue</td>\n",
       "      <td>Wii</td>\n",
       "      <td>2014.0</td>\n",
       "      <td>Action</td>\n",
       "      <td>0.00</td>\n",
       "      <td>0.04</td>\n",
       "      <td>0.00</td>\n",
       "      <td>0.00</td>\n",
       "      <td>NaN</td>\n",
       "      <td>NaN</td>\n",
       "      <td>NaN</td>\n",
       "    </tr>\n",
       "    <tr>\n",
       "      <td>2864</td>\n",
       "      <td>iCarly</td>\n",
       "      <td>DS</td>\n",
       "      <td>2009.0</td>\n",
       "      <td>Adventure</td>\n",
       "      <td>0.66</td>\n",
       "      <td>0.01</td>\n",
       "      <td>0.00</td>\n",
       "      <td>0.05</td>\n",
       "      <td>NaN</td>\n",
       "      <td>8.3</td>\n",
       "      <td>E</td>\n",
       "    </tr>\n",
       "    <tr>\n",
       "      <td>12079</td>\n",
       "      <td>Billy's Boot Camp: Wii de Enjoy Diet!</td>\n",
       "      <td>Wii</td>\n",
       "      <td>2011.0</td>\n",
       "      <td>Sports</td>\n",
       "      <td>0.00</td>\n",
       "      <td>0.00</td>\n",
       "      <td>0.07</td>\n",
       "      <td>0.00</td>\n",
       "      <td>NaN</td>\n",
       "      <td>NaN</td>\n",
       "      <td>NaN</td>\n",
       "    </tr>\n",
       "    <tr>\n",
       "      <td>8194</td>\n",
       "      <td>NFL 2K2</td>\n",
       "      <td>XB</td>\n",
       "      <td>2002.0</td>\n",
       "      <td>Sports</td>\n",
       "      <td>0.13</td>\n",
       "      <td>0.04</td>\n",
       "      <td>0.00</td>\n",
       "      <td>0.01</td>\n",
       "      <td>87.0</td>\n",
       "      <td>tbd</td>\n",
       "      <td>E</td>\n",
       "    </tr>\n",
       "  </tbody>\n",
       "</table>\n",
       "</div>"
      ],
      "text/plain": [
       "                                        Name Platform  Year_of_Release  \\\n",
       "14518                      Kokoro no Kokoron       DS           2011.0   \n",
       "13570            Disney Planes Fire & Rescue      Wii           2014.0   \n",
       "2864                                  iCarly       DS           2009.0   \n",
       "12079  Billy's Boot Camp: Wii de Enjoy Diet!      Wii           2011.0   \n",
       "8194                                 NFL 2K2       XB           2002.0   \n",
       "\n",
       "           Genre  NA_sales  EU_sales  JP_sales  Other_sales  Critic_Score  \\\n",
       "14518       Misc      0.00      0.00      0.03         0.00           NaN   \n",
       "13570     Action      0.00      0.04      0.00         0.00           NaN   \n",
       "2864   Adventure      0.66      0.01      0.00         0.05           NaN   \n",
       "12079     Sports      0.00      0.00      0.07         0.00           NaN   \n",
       "8194      Sports      0.13      0.04      0.00         0.01          87.0   \n",
       "\n",
       "      User_Score Rating  \n",
       "14518        NaN    NaN  \n",
       "13570        NaN    NaN  \n",
       "2864         8.3      E  \n",
       "12079        NaN    NaN  \n",
       "8194         tbd      E  "
      ]
     },
     "execution_count": 3,
     "metadata": {},
     "output_type": "execute_result"
    }
   ],
   "source": [
    "# Получим общую информацию о датасете и выведем 5 первых строк\n",
    "data.info()\n",
    "data.sample(5)"
   ]
  },
  {
   "cell_type": "markdown",
   "metadata": {},
   "source": [
    "В целом датасет представлен 11 столбцами и 16715 строками.\\\n",
    "Данные представленны только в вещественном и строковом форматах.\n",
    "\n",
    "Были обнаружены следующие проблемы:\n",
    "- В данных присутствуют пропуски - столбцы `Name`, `Year_of_Release`, `Genre`, `Critic_Score`, `User_Score`, `Rating`;\n",
    "- Название всех столбцов не приведено к змеиному регистру;\n",
    "- Данные с годом издания хранятся в вещественном типе данных;\n",
    "- Столбец `User_Score` содержит как вещественные, так и строковые данные."
   ]
  },
  {
   "cell_type": "markdown",
   "metadata": {},
   "source": [
    "### Вывод по разделу"
   ]
  },
  {
   "cell_type": "markdown",
   "metadata": {},
   "source": [
    "В ходе общего знакомства с данными была получена информация о датасете. \\\n",
    "Выявленные проблемы - пропуски, названия столбцов не в змеином регистре, перевод в другой тип данных - необходимо устранить."
   ]
  },
  {
   "cell_type": "markdown",
   "metadata": {},
   "source": [
    "## Предобработка данных"
   ]
  },
  {
   "cell_type": "markdown",
   "metadata": {},
   "source": [
    "### Замените названия столбцов (приведите к нижнему регистру)"
   ]
  },
  {
   "cell_type": "code",
   "execution_count": 4,
   "metadata": {},
   "outputs": [],
   "source": [
    "# Приведем названия столбцов к нижнему регистру\n",
    "data.set_axis(\n",
    "    ['name', 'platform', 'year_of_release', 'genre', 'na_sales', 'eu_sales',\\\n",
    "    'jp_sales', 'other_sales', 'critic_score', 'user_score', 'rating'],\\\n",
    "    axis = 'columns',\\\n",
    "    inplace = True\n",
    ")"
   ]
  },
  {
   "cell_type": "code",
   "execution_count": 5,
   "metadata": {},
   "outputs": [
    {
     "data": {
      "text/html": [
       "<div>\n",
       "<style scoped>\n",
       "    .dataframe tbody tr th:only-of-type {\n",
       "        vertical-align: middle;\n",
       "    }\n",
       "\n",
       "    .dataframe tbody tr th {\n",
       "        vertical-align: top;\n",
       "    }\n",
       "\n",
       "    .dataframe thead th {\n",
       "        text-align: right;\n",
       "    }\n",
       "</style>\n",
       "<table border=\"1\" class=\"dataframe\">\n",
       "  <thead>\n",
       "    <tr style=\"text-align: right;\">\n",
       "      <th></th>\n",
       "      <th>name</th>\n",
       "      <th>platform</th>\n",
       "      <th>year_of_release</th>\n",
       "      <th>genre</th>\n",
       "      <th>na_sales</th>\n",
       "      <th>eu_sales</th>\n",
       "      <th>jp_sales</th>\n",
       "      <th>other_sales</th>\n",
       "      <th>critic_score</th>\n",
       "      <th>user_score</th>\n",
       "      <th>rating</th>\n",
       "    </tr>\n",
       "  </thead>\n",
       "  <tbody>\n",
       "    <tr>\n",
       "      <td>0</td>\n",
       "      <td>Wii Sports</td>\n",
       "      <td>Wii</td>\n",
       "      <td>2006.0</td>\n",
       "      <td>Sports</td>\n",
       "      <td>41.36</td>\n",
       "      <td>28.96</td>\n",
       "      <td>3.77</td>\n",
       "      <td>8.45</td>\n",
       "      <td>76.0</td>\n",
       "      <td>8</td>\n",
       "      <td>E</td>\n",
       "    </tr>\n",
       "    <tr>\n",
       "      <td>1</td>\n",
       "      <td>Super Mario Bros.</td>\n",
       "      <td>NES</td>\n",
       "      <td>1985.0</td>\n",
       "      <td>Platform</td>\n",
       "      <td>29.08</td>\n",
       "      <td>3.58</td>\n",
       "      <td>6.81</td>\n",
       "      <td>0.77</td>\n",
       "      <td>NaN</td>\n",
       "      <td>NaN</td>\n",
       "      <td>NaN</td>\n",
       "    </tr>\n",
       "    <tr>\n",
       "      <td>2</td>\n",
       "      <td>Mario Kart Wii</td>\n",
       "      <td>Wii</td>\n",
       "      <td>2008.0</td>\n",
       "      <td>Racing</td>\n",
       "      <td>15.68</td>\n",
       "      <td>12.76</td>\n",
       "      <td>3.79</td>\n",
       "      <td>3.29</td>\n",
       "      <td>82.0</td>\n",
       "      <td>8.3</td>\n",
       "      <td>E</td>\n",
       "    </tr>\n",
       "    <tr>\n",
       "      <td>3</td>\n",
       "      <td>Wii Sports Resort</td>\n",
       "      <td>Wii</td>\n",
       "      <td>2009.0</td>\n",
       "      <td>Sports</td>\n",
       "      <td>15.61</td>\n",
       "      <td>10.93</td>\n",
       "      <td>3.28</td>\n",
       "      <td>2.95</td>\n",
       "      <td>80.0</td>\n",
       "      <td>8</td>\n",
       "      <td>E</td>\n",
       "    </tr>\n",
       "    <tr>\n",
       "      <td>4</td>\n",
       "      <td>Pokemon Red/Pokemon Blue</td>\n",
       "      <td>GB</td>\n",
       "      <td>1996.0</td>\n",
       "      <td>Role-Playing</td>\n",
       "      <td>11.27</td>\n",
       "      <td>8.89</td>\n",
       "      <td>10.22</td>\n",
       "      <td>1.00</td>\n",
       "      <td>NaN</td>\n",
       "      <td>NaN</td>\n",
       "      <td>NaN</td>\n",
       "    </tr>\n",
       "  </tbody>\n",
       "</table>\n",
       "</div>"
      ],
      "text/plain": [
       "                       name platform  year_of_release         genre  na_sales  \\\n",
       "0                Wii Sports      Wii           2006.0        Sports     41.36   \n",
       "1         Super Mario Bros.      NES           1985.0      Platform     29.08   \n",
       "2            Mario Kart Wii      Wii           2008.0        Racing     15.68   \n",
       "3         Wii Sports Resort      Wii           2009.0        Sports     15.61   \n",
       "4  Pokemon Red/Pokemon Blue       GB           1996.0  Role-Playing     11.27   \n",
       "\n",
       "   eu_sales  jp_sales  other_sales  critic_score user_score rating  \n",
       "0     28.96      3.77         8.45          76.0          8      E  \n",
       "1      3.58      6.81         0.77           NaN        NaN    NaN  \n",
       "2     12.76      3.79         3.29          82.0        8.3      E  \n",
       "3     10.93      3.28         2.95          80.0          8      E  \n",
       "4      8.89     10.22         1.00           NaN        NaN    NaN  "
      ]
     },
     "execution_count": 5,
     "metadata": {},
     "output_type": "execute_result"
    }
   ],
   "source": [
    "# Проверим, что названия изменились\n",
    "data.head()"
   ]
  },
  {
   "cell_type": "markdown",
   "metadata": {},
   "source": [
    "#### Вывод по подразделу"
   ]
  },
  {
   "cell_type": "markdown",
   "metadata": {},
   "source": [
    "Названия столбцов приведено к нижнему (змеиному) регистру."
   ]
  },
  {
   "cell_type": "markdown",
   "metadata": {},
   "source": [
    "### Преобразуйте данные в нужные типы. Опишите, в каких столбцах заменили тип данных и почему"
   ]
  },
  {
   "cell_type": "code",
   "execution_count": 6,
   "metadata": {},
   "outputs": [
    {
     "data": {
      "text/plain": [
       "name                object\n",
       "platform            object\n",
       "year_of_release    float64\n",
       "genre               object\n",
       "na_sales           float64\n",
       "eu_sales           float64\n",
       "jp_sales           float64\n",
       "other_sales        float64\n",
       "critic_score       float64\n",
       "user_score          object\n",
       "rating              object\n",
       "dtype: object"
      ]
     },
     "execution_count": 6,
     "metadata": {},
     "output_type": "execute_result"
    }
   ],
   "source": [
    "# Выведем типы данных столбцов\n",
    "data.dtypes"
   ]
  },
  {
   "cell_type": "markdown",
   "metadata": {},
   "source": [
    "Переведём данные в столбцах `year_of_release`, `critic_score` в целочисленный вид."
   ]
  },
  {
   "cell_type": "code",
   "execution_count": 7,
   "metadata": {
    "scrolled": true
   },
   "outputs": [],
   "source": [
    "# Перевод столбцов в Int64\n",
    "data['year_of_release'] = data['year_of_release'].astype('Int64')\n",
    "data['critic_score'] = data['critic_score'].astype('Int64')"
   ]
  },
  {
   "cell_type": "markdown",
   "metadata": {},
   "source": [
    "Столбец `user_score` оценки пользователей, данные хранятся в строковом виде, переведём их в вещественный тип данных.\\\n",
    "Получим уникальные значения."
   ]
  },
  {
   "cell_type": "code",
   "execution_count": 8,
   "metadata": {},
   "outputs": [
    {
     "data": {
      "text/plain": [
       "array(['8', nan, '8.3', '8.5', '6.6', '8.4', '8.6', '7.7', '6.3', '7.4',\n",
       "       '8.2', '9', '7.9', '8.1', '8.7', '7.1', '3.4', '5.3', '4.8', '3.2',\n",
       "       '8.9', '6.4', '7.8', '7.5', '2.6', '7.2', '9.2', '7', '7.3', '4.3',\n",
       "       '7.6', '5.7', '5', '9.1', '6.5', 'tbd', '8.8', '6.9', '9.4', '6.8',\n",
       "       '6.1', '6.7', '5.4', '4', '4.9', '4.5', '9.3', '6.2', '4.2', '6',\n",
       "       '3.7', '4.1', '5.8', '5.6', '5.5', '4.4', '4.6', '5.9', '3.9',\n",
       "       '3.1', '2.9', '5.2', '3.3', '4.7', '5.1', '3.5', '2.5', '1.9', '3',\n",
       "       '2.7', '2.2', '2', '9.5', '2.1', '3.6', '2.8', '1.8', '3.8', '0',\n",
       "       '1.6', '9.6', '2.4', '1.7', '1.1', '0.3', '1.5', '0.7', '1.2',\n",
       "       '2.3', '0.5', '1.3', '0.2', '0.6', '1.4', '0.9', '1', '9.7'],\n",
       "      dtype=object)"
      ]
     },
     "execution_count": 8,
     "metadata": {},
     "output_type": "execute_result"
    }
   ],
   "source": [
    "# Уникальные значения user_score\n",
    "data['user_score'].unique()"
   ]
  },
  {
   "cell_type": "code",
   "execution_count": 9,
   "metadata": {},
   "outputs": [
    {
     "data": {
      "text/plain": [
       "0          8\n",
       "1        NaN\n",
       "2        8.3\n",
       "3          8\n",
       "4        NaN\n",
       "        ... \n",
       "16710    NaN\n",
       "16711    NaN\n",
       "16712    NaN\n",
       "16713    NaN\n",
       "16714    NaN\n",
       "Name: user_score, Length: 16715, dtype: object"
      ]
     },
     "execution_count": 9,
     "metadata": {},
     "output_type": "execute_result"
    }
   ],
   "source": [
    "data.user_score"
   ]
  },
  {
   "cell_type": "markdown",
   "metadata": {},
   "source": [
    "В уникальных значениях получили оценки пользователей, пропуски и одно значение `'tbd'`.\\\n",
    "Значение `tbd` означает - `To Be Determined`- `Рейтинг будет определен`.\\\n",
    "Скорее все, пользователи не провели достаточное количество игр/сессий для определения рейтинга игр.\\\n",
    "Так же можно заметить, что игры с `user_score = tbd` имеют достаточно маленький тираж продаж, относительно других игр.\n",
    "\n",
    "Для перевода столбца `user_score` в вещественный тип данных необходимо заменить значение `tbd`.\\\n",
    "Т.к. мы выяснили, что это означает - рейтинг ещё не определён, заменим `tbd` на `NaN`."
   ]
  },
  {
   "cell_type": "code",
   "execution_count": 10,
   "metadata": {},
   "outputs": [
    {
     "name": "stdout",
     "output_type": "stream",
     "text": [
      "tbd    2424\n",
      "7.8     324\n",
      "8       290\n",
      "8.2     282\n",
      "8.3     254\n",
      "       ... \n",
      "1         2\n",
      "2.3       2\n",
      "0.2       2\n",
      "9.7       1\n",
      "0         1\n",
      "Name: user_score, Length: 96, dtype: int64\n",
      "6701\n",
      "9125\n"
     ]
    }
   ],
   "source": [
    "#Получим уникальные значения и их количество в user_score\n",
    "print(data['user_score'].value_counts().sort_values(ascending = False))\n",
    "\n",
    "#Посчитаем количество пропусков в user_score\n",
    "print(data['user_score'].isna().sum())\n",
    "\n",
    "#Произведём замену 'tbd' на 'nan'\n",
    "data['user_score'] = data['user_score'].replace('tbd', np.nan)\n",
    "\n",
    "#Убедимся, что значения 'tbd' заменено (повторно посчитаем пропуски)\n",
    "print(data['user_score'].isna().sum())\n",
    "\n",
    "#Изменим тип данных в user_score\n",
    "data['user_score'] = data['user_score'].astype('float')"
   ]
  },
  {
   "cell_type": "code",
   "execution_count": 11,
   "metadata": {
    "scrolled": true
   },
   "outputs": [
    {
     "data": {
      "text/plain": [
       "name                object\n",
       "platform            object\n",
       "year_of_release      Int64\n",
       "genre               object\n",
       "na_sales           float64\n",
       "eu_sales           float64\n",
       "jp_sales           float64\n",
       "other_sales        float64\n",
       "critic_score         Int64\n",
       "user_score         float64\n",
       "rating              object\n",
       "dtype: object"
      ]
     },
     "execution_count": 11,
     "metadata": {},
     "output_type": "execute_result"
    }
   ],
   "source": [
    "# Выведем типы данных столбцов\n",
    "data.dtypes"
   ]
  },
  {
   "cell_type": "markdown",
   "metadata": {},
   "source": [
    "Тип данных в столбцах `year_of_release`,`critic_score`,`user_score` изменён."
   ]
  },
  {
   "cell_type": "markdown",
   "metadata": {},
   "source": [
    "#### Вывод по подразделу \n",
    "<a id='tbd'></a>"
   ]
  },
  {
   "cell_type": "markdown",
   "metadata": {},
   "source": [
    "В результате изменения типа данных были преобразованы столбцы - `year_of_release`,`critic_score`,`user_score`.\\\n",
    "Теперь данные содержатся в корректном типе (int и float) и пригодны для дальнейшей работы.\n",
    "\n",
    "Для перевода столбца `user_score` в вещественный тип было необходимо произвести замену значения `tbd`. Т.к. мы пришли к выводу, что это игры, которые не набрали достаточное количество игровых сессий для пользовательской оценки, было решено заменить значения на пропуски `nan`. После замены тип данных в `user_score` был успешно изменен на вещественный.\n"
   ]
  },
  {
   "cell_type": "markdown",
   "metadata": {},
   "source": [
    "### Обработайте пропуски при необходимости"
   ]
  },
  {
   "cell_type": "markdown",
   "metadata": {},
   "source": [
    "Пропуски присутствуют в следующий столбцах - `name`, `year_of_release`, `genre`, `critic_score`, `user_score`, `rating`.\\\n",
    "Посчитаем количество пропусков при помощи цикла."
   ]
  },
  {
   "cell_type": "code",
   "execution_count": 12,
   "metadata": {},
   "outputs": [
    {
     "name": "stdout",
     "output_type": "stream",
     "text": [
      "2\n",
      "269\n",
      "2\n",
      "8578\n",
      "9125\n",
      "6766\n"
     ]
    }
   ],
   "source": [
    "#Подсчёт количества пропусков при помощи цикла\n",
    "col_list = ['name', 'year_of_release', 'genre', 'critic_score', 'user_score', 'rating']\n",
    "for col_name in col_list:\n",
    "    print(len(data[pd.isna(data[col_name])]))"
   ]
  },
  {
   "cell_type": "markdown",
   "metadata": {},
   "source": [
    "В столбцах `name` и `genre` одинаковое количество пропусков - 2. Посмотрим внимательнее эти строки."
   ]
  },
  {
   "cell_type": "code",
   "execution_count": 13,
   "metadata": {},
   "outputs": [
    {
     "data": {
      "text/html": [
       "<div>\n",
       "<style scoped>\n",
       "    .dataframe tbody tr th:only-of-type {\n",
       "        vertical-align: middle;\n",
       "    }\n",
       "\n",
       "    .dataframe tbody tr th {\n",
       "        vertical-align: top;\n",
       "    }\n",
       "\n",
       "    .dataframe thead th {\n",
       "        text-align: right;\n",
       "    }\n",
       "</style>\n",
       "<table border=\"1\" class=\"dataframe\">\n",
       "  <thead>\n",
       "    <tr style=\"text-align: right;\">\n",
       "      <th></th>\n",
       "      <th>name</th>\n",
       "      <th>platform</th>\n",
       "      <th>year_of_release</th>\n",
       "      <th>genre</th>\n",
       "      <th>na_sales</th>\n",
       "      <th>eu_sales</th>\n",
       "      <th>jp_sales</th>\n",
       "      <th>other_sales</th>\n",
       "      <th>critic_score</th>\n",
       "      <th>user_score</th>\n",
       "      <th>rating</th>\n",
       "    </tr>\n",
       "  </thead>\n",
       "  <tbody>\n",
       "    <tr>\n",
       "      <td>659</td>\n",
       "      <td>NaN</td>\n",
       "      <td>GEN</td>\n",
       "      <td>1993</td>\n",
       "      <td>NaN</td>\n",
       "      <td>1.78</td>\n",
       "      <td>0.53</td>\n",
       "      <td>0.00</td>\n",
       "      <td>0.08</td>\n",
       "      <td>NaN</td>\n",
       "      <td>NaN</td>\n",
       "      <td>NaN</td>\n",
       "    </tr>\n",
       "    <tr>\n",
       "      <td>14244</td>\n",
       "      <td>NaN</td>\n",
       "      <td>GEN</td>\n",
       "      <td>1993</td>\n",
       "      <td>NaN</td>\n",
       "      <td>0.00</td>\n",
       "      <td>0.00</td>\n",
       "      <td>0.03</td>\n",
       "      <td>0.00</td>\n",
       "      <td>NaN</td>\n",
       "      <td>NaN</td>\n",
       "      <td>NaN</td>\n",
       "    </tr>\n",
       "  </tbody>\n",
       "</table>\n",
       "</div>"
      ],
      "text/plain": [
       "      name platform  year_of_release genre  na_sales  eu_sales  jp_sales  \\\n",
       "659    NaN      GEN             1993   NaN      1.78      0.53      0.00   \n",
       "14244  NaN      GEN             1993   NaN      0.00      0.00      0.03   \n",
       "\n",
       "       other_sales  critic_score  user_score rating  \n",
       "659           0.08           NaN         NaN    NaN  \n",
       "14244         0.00           NaN         NaN    NaN  "
      ]
     },
     "execution_count": 13,
     "metadata": {},
     "output_type": "execute_result"
    }
   ],
   "source": [
    "#Пропуски в столбце name\n",
    "data[pd.isna(data['name'])]"
   ]
  },
  {
   "cell_type": "markdown",
   "metadata": {},
   "source": [
    "Пропуски в `name` и `genre` в одних строках. Никак нельзя достоверно установить название и жанр.\n",
    "\n",
    "Данные в `year_of_release`, `critic_score` и `user_score` находятся в int и float типе данных, замены на 0 производить некорректно, значения-заглушки изменят тип данных на строковые. Оставим данные столбцы без изменений.\\\n",
    "Есть гипотеза, что в `year_of_release` в названиях некоторых игр указан год издания (нпр. 'All-Star Baseball 2005'), в то же время игра могла выйти в конце предыдущего года, либо в начале следующего года. Так же на разных платформах игра могла выходить в разные года.\n",
    "\n",
    "Пропуски в `rating` достоверно не установить.\n",
    "\n",
    "В столбцах `name`, `genre`, `rating` можно произвести замену пропусков на \"значение-заглушку\" `undefined - не определено`."
   ]
  },
  {
   "cell_type": "code",
   "execution_count": 14,
   "metadata": {},
   "outputs": [
    {
     "name": "stdout",
     "output_type": "stream",
     "text": [
      "<class 'pandas.core.frame.DataFrame'>\n",
      "RangeIndex: 16715 entries, 0 to 16714\n",
      "Data columns (total 11 columns):\n",
      "name               16715 non-null object\n",
      "platform           16715 non-null object\n",
      "year_of_release    16446 non-null Int64\n",
      "genre              16715 non-null object\n",
      "na_sales           16715 non-null float64\n",
      "eu_sales           16715 non-null float64\n",
      "jp_sales           16715 non-null float64\n",
      "other_sales        16715 non-null float64\n",
      "critic_score       8137 non-null Int64\n",
      "user_score         7590 non-null float64\n",
      "rating             16715 non-null object\n",
      "dtypes: Int64(2), float64(5), object(4)\n",
      "memory usage: 1.4+ MB\n"
     ]
    }
   ],
   "source": [
    "#Замена в столбцах на заглушку с помощью цикла\n",
    "fill_list = ['name', 'genre', 'rating']\n",
    "\n",
    "for fill_name in fill_list:\n",
    "    data[fill_name] = data[fill_name].fillna('undefined')\n",
    "    \n",
    "#Проверка замены \n",
    "data.info()"
   ]
  },
  {
   "cell_type": "markdown",
   "metadata": {},
   "source": [
    "После замены в исходном датасете осталось только 3 столбца с пропусками в данных - `year_of_release`, `critic_score` и `user_score`."
   ]
  },
  {
   "cell_type": "markdown",
   "metadata": {},
   "source": [
    "Причины, которые могли привести к пропускам:\n",
    "- Ошибки в сборе и записи данных;\n",
    "- Непопулярные игры или старые игры - можно объяснить пропуски в оценке от критиков и игроков, рейтинге."
   ]
  },
  {
   "cell_type": "markdown",
   "metadata": {},
   "source": [
    "#### Обратите внимание на аббревиатуру 'tbd' в столбце с оценкой пользователей. Отдельно разберите это значение и опишите, как его обработать"
   ]
  },
  {
   "cell_type": "markdown",
   "metadata": {},
   "source": [
    "Аббревиатура `tbd` отдельно разбиралась и описывалась в разделе по изменению типов данных, т.к. из-за этого значения нельзя было поменять тип данных в столбце `user_score` на float. Во избежании повторения, прикреплена гиперссылка [Аббревиатура tbd](#tbd). В итоге, значение `tbd` заменили на пропуски `nan`."
   ]
  },
  {
   "cell_type": "markdown",
   "metadata": {},
   "source": [
    "#### Вывод по подразделу"
   ]
  },
  {
   "cell_type": "markdown",
   "metadata": {},
   "source": [
    "В ходе работы по замене пропусков ни в каких данных нельзя произвести адекватную замену. Было принято решение, в столбцах, где данные содержатся в строков типе заменить пропуски на значениия-заглушки `undefined - не определено`.\n",
    "\n",
    "Где данные представлены в целочисленном и вещественном формате замены пропусков не производились ввиду отсутствия адекватной замены.\n",
    "\n",
    "Аббревиатура `tbd` в столбце означает - `To Be Determined`- `Рейтинг будет определен`.\\\n",
    "Скорее все, пользователи не провели достаточное количество игр/сессий для определения рейтинга игр.\\\n",
    "Значение `tbd` было заменено на `nan`."
   ]
  },
  {
   "cell_type": "markdown",
   "metadata": {},
   "source": [
    "### Посчитайте суммарные продажи во всех регионах и запишите их в отдельный столбец"
   ]
  },
  {
   "cell_type": "code",
   "execution_count": 15,
   "metadata": {},
   "outputs": [],
   "source": [
    "#Посчитаем суммарные продажи во всех регионах\n",
    "data['sales_total'] = data['na_sales'] + data['eu_sales'] + data['jp_sales'] + data['other_sales']"
   ]
  },
  {
   "cell_type": "code",
   "execution_count": 16,
   "metadata": {},
   "outputs": [
    {
     "data": {
      "text/html": [
       "<div>\n",
       "<style scoped>\n",
       "    .dataframe tbody tr th:only-of-type {\n",
       "        vertical-align: middle;\n",
       "    }\n",
       "\n",
       "    .dataframe tbody tr th {\n",
       "        vertical-align: top;\n",
       "    }\n",
       "\n",
       "    .dataframe thead th {\n",
       "        text-align: right;\n",
       "    }\n",
       "</style>\n",
       "<table border=\"1\" class=\"dataframe\">\n",
       "  <thead>\n",
       "    <tr style=\"text-align: right;\">\n",
       "      <th></th>\n",
       "      <th>name</th>\n",
       "      <th>platform</th>\n",
       "      <th>year_of_release</th>\n",
       "      <th>genre</th>\n",
       "      <th>na_sales</th>\n",
       "      <th>eu_sales</th>\n",
       "      <th>jp_sales</th>\n",
       "      <th>other_sales</th>\n",
       "      <th>critic_score</th>\n",
       "      <th>user_score</th>\n",
       "      <th>rating</th>\n",
       "      <th>sales_total</th>\n",
       "    </tr>\n",
       "  </thead>\n",
       "  <tbody>\n",
       "    <tr>\n",
       "      <td>11458</td>\n",
       "      <td>DaGeDar</td>\n",
       "      <td>DS</td>\n",
       "      <td>2011</td>\n",
       "      <td>Action</td>\n",
       "      <td>0.08</td>\n",
       "      <td>0.00</td>\n",
       "      <td>0.00</td>\n",
       "      <td>0.01</td>\n",
       "      <td>NaN</td>\n",
       "      <td>NaN</td>\n",
       "      <td>E</td>\n",
       "      <td>0.09</td>\n",
       "    </tr>\n",
       "    <tr>\n",
       "      <td>5747</td>\n",
       "      <td>KISS Pinball</td>\n",
       "      <td>PS</td>\n",
       "      <td>2001</td>\n",
       "      <td>Action</td>\n",
       "      <td>0.17</td>\n",
       "      <td>0.12</td>\n",
       "      <td>0.00</td>\n",
       "      <td>0.02</td>\n",
       "      <td>26</td>\n",
       "      <td>3.8</td>\n",
       "      <td>T</td>\n",
       "      <td>0.31</td>\n",
       "    </tr>\n",
       "    <tr>\n",
       "      <td>13218</td>\n",
       "      <td>BeatMania IIDX 3rd Style</td>\n",
       "      <td>PS2</td>\n",
       "      <td>2000</td>\n",
       "      <td>Simulation</td>\n",
       "      <td>0.00</td>\n",
       "      <td>0.00</td>\n",
       "      <td>0.05</td>\n",
       "      <td>0.00</td>\n",
       "      <td>NaN</td>\n",
       "      <td>NaN</td>\n",
       "      <td>undefined</td>\n",
       "      <td>0.05</td>\n",
       "    </tr>\n",
       "    <tr>\n",
       "      <td>13443</td>\n",
       "      <td>Wrath Unleashed</td>\n",
       "      <td>XB</td>\n",
       "      <td>2004</td>\n",
       "      <td>Strategy</td>\n",
       "      <td>0.03</td>\n",
       "      <td>0.01</td>\n",
       "      <td>0.00</td>\n",
       "      <td>0.00</td>\n",
       "      <td>69</td>\n",
       "      <td>7.0</td>\n",
       "      <td>T</td>\n",
       "      <td>0.04</td>\n",
       "    </tr>\n",
       "    <tr>\n",
       "      <td>16010</td>\n",
       "      <td>Adventure Time: The Secret of the Nameless</td>\n",
       "      <td>3DS</td>\n",
       "      <td>2014</td>\n",
       "      <td>Adventure</td>\n",
       "      <td>0.01</td>\n",
       "      <td>0.00</td>\n",
       "      <td>0.00</td>\n",
       "      <td>0.00</td>\n",
       "      <td>NaN</td>\n",
       "      <td>NaN</td>\n",
       "      <td>undefined</td>\n",
       "      <td>0.01</td>\n",
       "    </tr>\n",
       "  </tbody>\n",
       "</table>\n",
       "</div>"
      ],
      "text/plain": [
       "                                              name platform  year_of_release  \\\n",
       "11458                                      DaGeDar       DS             2011   \n",
       "5747                                  KISS Pinball       PS             2001   \n",
       "13218                     BeatMania IIDX 3rd Style      PS2             2000   \n",
       "13443                              Wrath Unleashed       XB             2004   \n",
       "16010  Adventure Time: The Secret of the Nameless       3DS             2014   \n",
       "\n",
       "            genre  na_sales  eu_sales  jp_sales  other_sales  critic_score  \\\n",
       "11458      Action      0.08      0.00      0.00         0.01           NaN   \n",
       "5747       Action      0.17      0.12      0.00         0.02            26   \n",
       "13218  Simulation      0.00      0.00      0.05         0.00           NaN   \n",
       "13443    Strategy      0.03      0.01      0.00         0.00            69   \n",
       "16010   Adventure      0.01      0.00      0.00         0.00           NaN   \n",
       "\n",
       "       user_score     rating  sales_total  \n",
       "11458         NaN          E         0.09  \n",
       "5747          3.8          T         0.31  \n",
       "13218         NaN  undefined         0.05  \n",
       "13443         7.0          T         0.04  \n",
       "16010         NaN  undefined         0.01  "
      ]
     },
     "execution_count": 16,
     "metadata": {},
     "output_type": "execute_result"
    }
   ],
   "source": [
    "#Проверим, что столбец с расчётами добавился в таблицу\n",
    "data.sample(5)"
   ]
  },
  {
   "cell_type": "markdown",
   "metadata": {},
   "source": [
    "#### Вывод по подразделу"
   ]
  },
  {
   "cell_type": "markdown",
   "metadata": {},
   "source": [
    "Суммарные продажи во всех регионах посчитаны в столбце `sales_total`."
   ]
  },
  {
   "cell_type": "markdown",
   "metadata": {},
   "source": [
    "### Вывод по предобработке данных"
   ]
  },
  {
   "cell_type": "markdown",
   "metadata": {},
   "source": [
    "В ходе предобработки данных:\n",
    "- Были приведены к нижнему регистру названия столбцов;\n",
    "- Изменены типы даных для дальнейшей работы;\n",
    "- Обработаны пропуски (где это возможно) - было принято решение заменять пропуски значениями-заглушками. Достоверно предположить, чем адекватно заменить пропуски не было установлено. В столбцах с целочисленным и вещественным типами данных пропуски не заменялись;\n",
    "- Значение `tbd` в столбце `user_score` заменено на пропуски `nan`.\n",
    "- Были посчитаны суммарные продажи во всех регионах в новом столбце `sales_total`.\n",
    "\n",
    "Данные готовы к исследовательскому анализу данных."
   ]
  },
  {
   "cell_type": "markdown",
   "metadata": {},
   "source": [
    "## Исследовательский анализ данных"
   ]
  },
  {
   "cell_type": "markdown",
   "metadata": {},
   "source": [
    "В ходе исследовательского анализа данных необходимо выполнить следующие задачи:\n",
    "- Провести анализ, сколько игр выпускалось в различные годы;\n",
    "- Проанализировать, как менялись продажи по платформам. Среди них выделить платформы с наибольшими суммарными продажами. Выделить \"срок жизни\" платформы;\n",
    "- Выделить актуальный период для дальнейшего прогноза;\n",
    "- Выделить, какие платформы лидируют по продажам, растут или падают. Выбрать несколько потенциально прибыльных платформ;\n",
    "- Построить график «ящик с усами» по глобальным продажам игр в разбивке по платформам;\n",
    "- Постройть диаграмму рассеяния и корреляцию между отзывами пользователей и продажами;\n",
    "- Изучить общее распределение игр по жанрам."
   ]
  },
  {
   "cell_type": "markdown",
   "metadata": {},
   "source": [
    "### Посмотрите, сколько игр выпускалось в разные годы. Важны ли данные за все периоды? \n",
    "<a id='actual'></a>"
   ]
  },
  {
   "cell_type": "markdown",
   "metadata": {},
   "source": [
    "Для ответа на вопрос, сколько игр выпускалось в разные годы, сгруппируем данные по столбцу с годом выхода (year_of_release), построим столбчатую диаграмму, а так же диаграмму размаха."
   ]
  },
  {
   "cell_type": "code",
   "execution_count": 17,
   "metadata": {
    "scrolled": false
   },
   "outputs": [
    {
     "data": {
      "image/png": "[encoded data removed]",
      "text/plain": [
       "<Figure size 648x432 with 1 Axes>"
      ]
     },
     "metadata": {
      "needs_background": "light"
     },
     "output_type": "display_data"
    }
   ],
   "source": [
    "#Группировка данных по году выпуска, построение столбчатой диаграммы\n",
    "(\n",
    "    data\n",
    "    .groupby('year_of_release')['year_of_release']\n",
    "    .count()\n",
    "    .plot(\n",
    "        kind='bar',\n",
    "        title='Количество игр по годам',\n",
    "        figsize=(9,6),\n",
    "        grid=True)\n",
    ")\n",
    "plt.xticks(rotation=45)\n",
    "plt.show()"
   ]
  },
  {
   "cell_type": "markdown",
   "metadata": {},
   "source": [
    "На графике представлены значения от 1980 до 2016 года.\\\n",
    "В период с 1980 по 1993 включительно - выходило не более 62 игр.\\\n",
    "Затем рост до максимума примерно 1400 игр в год в 2008-2009 году.\\\n",
    "После плавное падение до 500 игр в 2016."
   ]
  },
  {
   "cell_type": "code",
   "execution_count": 18,
   "metadata": {},
   "outputs": [
    {
     "data": {
      "text/html": [
       "<div>\n",
       "<style scoped>\n",
       "    .dataframe tbody tr th:only-of-type {\n",
       "        vertical-align: middle;\n",
       "    }\n",
       "\n",
       "    .dataframe tbody tr th {\n",
       "        vertical-align: top;\n",
       "    }\n",
       "\n",
       "    .dataframe thead th {\n",
       "        text-align: right;\n",
       "    }\n",
       "</style>\n",
       "<table border=\"1\" class=\"dataframe\">\n",
       "  <thead>\n",
       "    <tr style=\"text-align: right;\">\n",
       "      <th></th>\n",
       "      <th>year_of_release</th>\n",
       "    </tr>\n",
       "    <tr>\n",
       "      <th>year_of_release</th>\n",
       "      <th></th>\n",
       "    </tr>\n",
       "  </thead>\n",
       "  <tbody>\n",
       "    <tr>\n",
       "      <td>1980</td>\n",
       "      <td>9</td>\n",
       "    </tr>\n",
       "    <tr>\n",
       "      <td>1981</td>\n",
       "      <td>46</td>\n",
       "    </tr>\n",
       "    <tr>\n",
       "      <td>1982</td>\n",
       "      <td>36</td>\n",
       "    </tr>\n",
       "    <tr>\n",
       "      <td>1983</td>\n",
       "      <td>17</td>\n",
       "    </tr>\n",
       "    <tr>\n",
       "      <td>1984</td>\n",
       "      <td>14</td>\n",
       "    </tr>\n",
       "    <tr>\n",
       "      <td>1985</td>\n",
       "      <td>14</td>\n",
       "    </tr>\n",
       "    <tr>\n",
       "      <td>1986</td>\n",
       "      <td>21</td>\n",
       "    </tr>\n",
       "    <tr>\n",
       "      <td>1987</td>\n",
       "      <td>16</td>\n",
       "    </tr>\n",
       "    <tr>\n",
       "      <td>1988</td>\n",
       "      <td>15</td>\n",
       "    </tr>\n",
       "    <tr>\n",
       "      <td>1989</td>\n",
       "      <td>17</td>\n",
       "    </tr>\n",
       "    <tr>\n",
       "      <td>1990</td>\n",
       "      <td>16</td>\n",
       "    </tr>\n",
       "    <tr>\n",
       "      <td>1991</td>\n",
       "      <td>41</td>\n",
       "    </tr>\n",
       "    <tr>\n",
       "      <td>1992</td>\n",
       "      <td>43</td>\n",
       "    </tr>\n",
       "    <tr>\n",
       "      <td>1993</td>\n",
       "      <td>62</td>\n",
       "    </tr>\n",
       "    <tr>\n",
       "      <td>1994</td>\n",
       "      <td>121</td>\n",
       "    </tr>\n",
       "    <tr>\n",
       "      <td>1995</td>\n",
       "      <td>219</td>\n",
       "    </tr>\n",
       "    <tr>\n",
       "      <td>1996</td>\n",
       "      <td>263</td>\n",
       "    </tr>\n",
       "    <tr>\n",
       "      <td>1997</td>\n",
       "      <td>289</td>\n",
       "    </tr>\n",
       "    <tr>\n",
       "      <td>1998</td>\n",
       "      <td>379</td>\n",
       "    </tr>\n",
       "    <tr>\n",
       "      <td>1999</td>\n",
       "      <td>338</td>\n",
       "    </tr>\n",
       "    <tr>\n",
       "      <td>2000</td>\n",
       "      <td>350</td>\n",
       "    </tr>\n",
       "    <tr>\n",
       "      <td>2001</td>\n",
       "      <td>482</td>\n",
       "    </tr>\n",
       "    <tr>\n",
       "      <td>2002</td>\n",
       "      <td>829</td>\n",
       "    </tr>\n",
       "    <tr>\n",
       "      <td>2003</td>\n",
       "      <td>775</td>\n",
       "    </tr>\n",
       "    <tr>\n",
       "      <td>2004</td>\n",
       "      <td>762</td>\n",
       "    </tr>\n",
       "    <tr>\n",
       "      <td>2005</td>\n",
       "      <td>939</td>\n",
       "    </tr>\n",
       "    <tr>\n",
       "      <td>2006</td>\n",
       "      <td>1006</td>\n",
       "    </tr>\n",
       "    <tr>\n",
       "      <td>2007</td>\n",
       "      <td>1197</td>\n",
       "    </tr>\n",
       "    <tr>\n",
       "      <td>2008</td>\n",
       "      <td>1427</td>\n",
       "    </tr>\n",
       "    <tr>\n",
       "      <td>2009</td>\n",
       "      <td>1426</td>\n",
       "    </tr>\n",
       "    <tr>\n",
       "      <td>2010</td>\n",
       "      <td>1255</td>\n",
       "    </tr>\n",
       "    <tr>\n",
       "      <td>2011</td>\n",
       "      <td>1136</td>\n",
       "    </tr>\n",
       "    <tr>\n",
       "      <td>2012</td>\n",
       "      <td>653</td>\n",
       "    </tr>\n",
       "    <tr>\n",
       "      <td>2013</td>\n",
       "      <td>544</td>\n",
       "    </tr>\n",
       "    <tr>\n",
       "      <td>2014</td>\n",
       "      <td>581</td>\n",
       "    </tr>\n",
       "    <tr>\n",
       "      <td>2015</td>\n",
       "      <td>606</td>\n",
       "    </tr>\n",
       "    <tr>\n",
       "      <td>2016</td>\n",
       "      <td>502</td>\n",
       "    </tr>\n",
       "  </tbody>\n",
       "</table>\n",
       "</div>"
      ],
      "text/plain": [
       "                 year_of_release\n",
       "year_of_release                 \n",
       "1980                           9\n",
       "1981                          46\n",
       "1982                          36\n",
       "1983                          17\n",
       "1984                          14\n",
       "1985                          14\n",
       "1986                          21\n",
       "1987                          16\n",
       "1988                          15\n",
       "1989                          17\n",
       "1990                          16\n",
       "1991                          41\n",
       "1992                          43\n",
       "1993                          62\n",
       "1994                         121\n",
       "1995                         219\n",
       "1996                         263\n",
       "1997                         289\n",
       "1998                         379\n",
       "1999                         338\n",
       "2000                         350\n",
       "2001                         482\n",
       "2002                         829\n",
       "2003                         775\n",
       "2004                         762\n",
       "2005                         939\n",
       "2006                        1006\n",
       "2007                        1197\n",
       "2008                        1427\n",
       "2009                        1426\n",
       "2010                        1255\n",
       "2011                        1136\n",
       "2012                         653\n",
       "2013                         544\n",
       "2014                         581\n",
       "2015                         606\n",
       "2016                         502"
      ]
     },
     "execution_count": 18,
     "metadata": {},
     "output_type": "execute_result"
    }
   ],
   "source": [
    "#Получим в цифрах количество игр в год\n",
    "(\n",
    "    data\n",
    "    .groupby('year_of_release')\n",
    "    .agg({'year_of_release':'count'})\n",
    ")\n"
   ]
  },
  {
   "cell_type": "markdown",
   "metadata": {},
   "source": [
    "Исходя из численного представления выделяется скачок выпуска игр в 1994 году. Стало 121, до этого было не более 62 игр."
   ]
  },
  {
   "cell_type": "code",
   "execution_count": 19,
   "metadata": {
    "scrolled": false
   },
   "outputs": [
    {
     "data": {
      "image/png": "[encoded data removed]",
      "text/plain": [
       "<Figure size 576x432 with 1 Axes>"
      ]
     },
     "metadata": {
      "needs_background": "light"
     },
     "output_type": "display_data"
    }
   ],
   "source": [
    "#Построим диаграмму размаха по годам выпуска игр\n",
    "data.boxplot(column='year_of_release', figsize=(8,6))\n",
    "plt.show()"
   ]
  },
  {
   "cell_type": "markdown",
   "metadata": {},
   "source": [
    "На диаграмме размаха видно, что значения ниже 1993 года являются выбросами.\\\n",
    "Выше верхней границы нормальных зачений выбросов нет."
   ]
  },
  {
   "cell_type": "markdown",
   "metadata": {},
   "source": [
    "#### Вывод по подразделу"
   ]
  },
  {
   "cell_type": "markdown",
   "metadata": {},
   "source": [
    "В период с 1980 по 2016 год включительно выпускалось различное количество игр в год.\\\n",
    "С 1980 по 1992 - максимум 46 (в 1981).\\\n",
    "Пик приходится на период с 2006 по 2011 - выпускалось больше 1000 игр в год.\n",
    "\n",
    "Считаю, что данные за весь период не важны.\n",
    "Можно оставить выборку с 1993 по 2016 год выпуска."
   ]
  },
  {
   "cell_type": "markdown",
   "metadata": {},
   "source": [
    "### Посмотрите, как менялись продажи по платформам. Выберите платформы с наибольшими суммарными продажами и постройте распределение по годам. За какой характерный срок появляются новые и исчезают старые платформы?"
   ]
  },
  {
   "cell_type": "markdown",
   "metadata": {},
   "source": [
    "Изучим, как меняются продажи по платформам."
   ]
  },
  {
   "cell_type": "code",
   "execution_count": 20,
   "metadata": {
    "scrolled": false
   },
   "outputs": [
    {
     "data": {
      "image/png": "[encoded data removed]",
      "text/plain": [
       "<Figure size 648x432 with 1 Axes>"
      ]
     },
     "metadata": {
      "needs_background": "light"
     },
     "output_type": "display_data"
    }
   ],
   "source": [
    "#Продажи по платформам в динамике\n",
    "(\n",
    "    data\n",
    "    .pivot_table(index='year_of_release', values='sales_total', aggfunc='sum')\n",
    "    .plot(\n",
    "        kind='bar',\n",
    "        title='Динамика продаж игр',\n",
    "        grid=True,\n",
    "        figsize=(9,6)\n",
    "    )\n",
    ")\n",
    "plt.show()"
   ]
  },
  {
   "cell_type": "markdown",
   "metadata": {},
   "source": [
    "Рост продаж по платформам начинается с 1996 года. Активный рост до 2008 (максимум около 660 млн. проданных копий). Затем - устойчивый тренд к снижению. "
   ]
  },
  {
   "cell_type": "markdown",
   "metadata": {},
   "source": [
    "Получим платформы с наибольшими суммарными продажами."
   ]
  },
  {
   "cell_type": "code",
   "execution_count": 21,
   "metadata": {
    "scrolled": false
   },
   "outputs": [
    {
     "data": {
      "image/png": "[encoded data removed]",
      "text/plain": [
       "<Figure size 648x432 with 1 Axes>"
      ]
     },
     "metadata": {
      "needs_background": "light"
     },
     "output_type": "display_data"
    }
   ],
   "source": [
    "#Самые продаваемые платформы\n",
    "(\n",
    "    data\n",
    "    .pivot_table(index='platform', values='sales_total', aggfunc='sum')\n",
    "    .sort_values(by='sales_total', ascending=False)\n",
    "    .plot(\n",
    "        kind='bar',\n",
    "        title='Игровые платформы',\n",
    "        grid=True,\n",
    "        figsize=(9,6)\n",
    "    )\n",
    ")\n",
    "plt.show()"
   ]
  },
  {
   "cell_type": "markdown",
   "metadata": {},
   "source": [
    "Чётко выражены топ-6 платформ.\\\n",
    "Максимальные суммарные продажи выделяются:\n",
    "- PS;\n",
    "- PS2;\n",
    "- PS3;\n",
    "- Wii;\n",
    "- X360;\n",
    "- DS.\\\n",
    "Их суммарные продажи варьируются от 700 млн. до более 1200 млн. проданных копий.\n",
    "    \n",
    "Был получен `топ-6 платформ по продажам`. Построим по ним столбчатые диаграммы продаж по годам."
   ]
  },
  {
   "cell_type": "code",
   "execution_count": 22,
   "metadata": {
    "scrolled": true
   },
   "outputs": [
    {
     "data": {
      "image/png": "[encoded data removed]",
      "text/plain": [
       "<Figure size 432x288 with 1 Axes>"
      ]
     },
     "metadata": {
      "needs_background": "light"
     },
     "output_type": "display_data"
    }
   ],
   "source": [
    "#PS\n",
    "(\n",
    "    data\n",
    "    .query('platform == \"PS\"')\n",
    "    .groupby('year_of_release')\n",
    "    .agg({'sales_total':'sum'})\n",
    "    .plot(\n",
    "        kind='bar',\n",
    "        title='PS',\n",
    "        grid=True,\n",
    "        figsize=(6,4))\n",
    ")\n",
    "plt.show()"
   ]
  },
  {
   "cell_type": "markdown",
   "metadata": {},
   "source": [
    "Продажи отмечаются в течение 10 лет. Пик популярности платформы примерно 5 лет."
   ]
  },
  {
   "cell_type": "code",
   "execution_count": 23,
   "metadata": {
    "scrolled": true
   },
   "outputs": [
    {
     "data": {
      "image/png": "[encoded data removed]",
      "text/plain": [
       "<Figure size 432x288 with 1 Axes>"
      ]
     },
     "metadata": {
      "needs_background": "light"
     },
     "output_type": "display_data"
    }
   ],
   "source": [
    "#PS2\n",
    "(\n",
    "    data\n",
    "    .query('platform == \"PS2\"')\n",
    "    .groupby('year_of_release')\n",
    "    .agg({'sales_total':'sum'})\n",
    "    .plot(\n",
    "        kind='bar',\n",
    "        title='PS2',\n",
    "        grid=True,\n",
    "        figsize=(6,4))\n",
    ")\n",
    "plt.show()"
   ]
  },
  {
   "cell_type": "markdown",
   "metadata": {},
   "source": [
    "Продажи отмечаются в течение 12 лет. Пик популярности примерно 5 лет (с 2001 по 2005), затем падение спроса."
   ]
  },
  {
   "cell_type": "code",
   "execution_count": 24,
   "metadata": {
    "scrolled": true
   },
   "outputs": [
    {
     "data": {
      "image/png": "[encoded data removed]",
      "text/plain": [
       "<Figure size 432x288 with 1 Axes>"
      ]
     },
     "metadata": {
      "needs_background": "light"
     },
     "output_type": "display_data"
    }
   ],
   "source": [
    "#PS3\n",
    "(\n",
    "    data\n",
    "    .query('platform == \"PS3\"')\n",
    "    .groupby('year_of_release')\n",
    "    .agg({'sales_total':'sum'})\n",
    "    .plot(\n",
    "        kind='bar',\n",
    "        title='PS3',\n",
    "        grid=True,\n",
    "        figsize=(6,4))\n",
    ")\n",
    "plt.show()"
   ]
  },
  {
   "cell_type": "markdown",
   "metadata": {},
   "source": [
    "Продажи отмечаются в течение 11 лет. Пик популярности примерно 6 лет (с 2008 по 2013), затем падение спроса."
   ]
  },
  {
   "cell_type": "code",
   "execution_count": 25,
   "metadata": {
    "scrolled": false
   },
   "outputs": [
    {
     "data": {
      "image/png": "[encoded data removed]",
      "text/plain": [
       "<Figure size 432x288 with 1 Axes>"
      ]
     },
     "metadata": {
      "needs_background": "light"
     },
     "output_type": "display_data"
    }
   ],
   "source": [
    "#Wii\n",
    "(\n",
    "    data\n",
    "    .query('platform == \"Wii\"')\n",
    "    .groupby('year_of_release')\n",
    "    .agg({'sales_total':'sum'})\n",
    "    .plot(\n",
    "        kind='bar',\n",
    "        title='Wii',\n",
    "        grid=True,\n",
    "        figsize=(6,4))\n",
    ")\n",
    "plt.show()"
   ]
  },
  {
   "cell_type": "markdown",
   "metadata": {},
   "source": [
    "Продажи отмечаются в течение 11 лет. Пик популярности примерно 5 лет (с 2006 по 2010), затем падение спроса."
   ]
  },
  {
   "cell_type": "code",
   "execution_count": 26,
   "metadata": {
    "scrolled": false
   },
   "outputs": [
    {
     "data": {
      "image/png": "[encoded data removed]",
      "text/plain": [
       "<Figure size 432x288 with 1 Axes>"
      ]
     },
     "metadata": {
      "needs_background": "light"
     },
     "output_type": "display_data"
    }
   ],
   "source": [
    "#X360\n",
    "(\n",
    "    data\n",
    "    .query('platform == \"X360\"')\n",
    "    .groupby('year_of_release')\n",
    "    .agg({'sales_total':'sum'})\n",
    "    .plot(\n",
    "        kind='bar',\n",
    "        title='X360',\n",
    "        grid=True,\n",
    "        figsize=(6,4))\n",
    ")\n",
    "plt.show()"
   ]
  },
  {
   "cell_type": "markdown",
   "metadata": {},
   "source": [
    "Продажи отмечаются в течение 12 лет."
   ]
  },
  {
   "cell_type": "code",
   "execution_count": 27,
   "metadata": {
    "scrolled": true
   },
   "outputs": [
    {
     "data": {
      "image/png": "[encoded data removed]",
      "text/plain": [
       "<Figure size 432x288 with 1 Axes>"
      ]
     },
     "metadata": {
      "needs_background": "light"
     },
     "output_type": "display_data"
    }
   ],
   "source": [
    "#DS\n",
    "(\n",
    "    data\n",
    "    .query('platform == \"DS\"')\n",
    "    .groupby('year_of_release')\n",
    "    .agg({'sales_total':'sum'})\n",
    "    .plot(\n",
    "        kind='bar',\n",
    "        title='DS',\n",
    "        grid=True,\n",
    "        figsize=(6,4))\n",
    ")\n",
    "\n",
    "plt.show()"
   ]
  },
  {
   "cell_type": "markdown",
   "metadata": {},
   "source": [
    "На данных выделяется одна продажа в 1985 году. Будем считать её не существенной и не будем учитывать.\\\n",
    "Рост продаж отмечается примерно в течение первых 5 лет. Затем идёт спад.\\\n",
    "Пик популярности примерно 6 лет (с 2005 по 2010), затем падение спроса.\n",
    "\n",
    "В среднем срок жизни одной платформы составляет примерно 11 лет. "
   ]
  },
  {
   "cell_type": "code",
   "execution_count": 28,
   "metadata": {},
   "outputs": [
    {
     "data": {
      "image/png": "[encoded data removed]",
      "text/plain": [
       "<Figure size 864x648 with 1 Axes>"
      ]
     },
     "metadata": {
      "needs_background": "light"
     },
     "output_type": "display_data"
    }
   ],
   "source": [
    "# Линейный график\n",
    "(\n",
    "    data\n",
    "    .query('platform == \"DS\" | platform == \"X360\" | platform == \"Wii\" | platform == \"PS3\" |\\\n",
    "           platform == \"PS2\" | platform == \"PS\"')\n",
    "    .pivot_table(index=['year_of_release','platform'], values='sales_total', aggfunc='sum')\n",
    "    .unstack('platform')\n",
    "    .plot(\n",
    "        y='sales_total',\n",
    "        title='Продажи по годам',\n",
    "        grid=True,\n",
    "        figsize=(12,9)\n",
    "    )\n",
    ")\n",
    "plt.show()"
   ]
  },
  {
   "cell_type": "markdown",
   "metadata": {},
   "source": [
    "#### Вывод по подразделу"
   ]
  },
  {
   "cell_type": "markdown",
   "metadata": {},
   "source": [
    "По итогу анализа датасета была построена столбчатая диаграмма с суммарными продажами по всем платформам.\\\n",
    "С большим отрывом выделяется топ 6 платформ по продажам игр:\n",
    "- PS;\n",
    "- PS2;\n",
    "- PS3;\n",
    "- Wii;\n",
    "- X360;\n",
    "- DS.\n",
    "\n",
    "В среднем срок жизни одной платформы составляет 11 лет. \\\n",
    "Платформа находится на пике популярности в среднем около 5 лет \\\n",
    "Продажи самой \"старой\" платформы из топа - PS - стартовали с 1994 года."
   ]
  },
  {
   "cell_type": "markdown",
   "metadata": {},
   "source": [
    "### Возьмите данные за соответствующий актуальный период. Актуальный период определите самостоятельно в результате исследования предыдущих вопросов. Основной фактор — эти данные помогут построить прогноз на 2017 год."
   ]
  },
  {
   "cell_type": "markdown",
   "metadata": {},
   "source": [
    "Выделим `актуальный период`.\n",
    "\n",
    "В разделе c расчётом [Количество игр в год](#actual) мы пришли к выводу, что игр до 1993 года выходило мало и эти данные можно отбросить.\n",
    "\n",
    "В анализе самых популярных платформ мы сформировали топ 6. Самая старая платформа из данного топа `PS` стартовала в продажах с 1994 года.\n",
    "\n",
    "Срок жизни одной платформы составляет примерно 11 лет. Первые 5 лет идет рост продаж, затем - постепенное угасание.\n",
    "\n",
    "В среднем пик популярности платформы - 5 лет.\n",
    "\n",
    "Т.к. на основе актуального периода нужно будет построить прогноз на 2017 год, возьмём `актуальный период равный 5 годам`.\n"
   ]
  },
  {
   "cell_type": "markdown",
   "metadata": {},
   "source": [
    "#### Вывод по подразделу"
   ]
  },
  {
   "cell_type": "markdown",
   "metadata": {},
   "source": [
    "На основе вышеуказанных сведений было установлено, что для прогноза на 2017 год актуальный период равен `5 лет (с 2012 по 2016 год).`"
   ]
  },
  {
   "cell_type": "markdown",
   "metadata": {},
   "source": [
    "### Какие платформы лидируют по продажам, растут или падают? Выберите несколько потенциально прибыльных платформ. Не учитывайте в работе данные за предыдущие годы."
   ]
  },
  {
   "cell_type": "markdown",
   "metadata": {},
   "source": [
    "Получим новый срез данных, с учётом выделенного актуального периода и построим линейный график продаж."
   ]
  },
  {
   "cell_type": "code",
   "execution_count": 29,
   "metadata": {},
   "outputs": [],
   "source": [
    "#Выделим актуальный период в data\n",
    "data = data.query('year_of_release >= 2012')"
   ]
  },
  {
   "cell_type": "code",
   "execution_count": 30,
   "metadata": {},
   "outputs": [
    {
     "data": {
      "text/html": [
       "<div>\n",
       "<style scoped>\n",
       "    .dataframe tbody tr th:only-of-type {\n",
       "        vertical-align: middle;\n",
       "    }\n",
       "\n",
       "    .dataframe tbody tr th {\n",
       "        vertical-align: top;\n",
       "    }\n",
       "\n",
       "    .dataframe thead th {\n",
       "        text-align: right;\n",
       "    }\n",
       "</style>\n",
       "<table border=\"1\" class=\"dataframe\">\n",
       "  <thead>\n",
       "    <tr style=\"text-align: right;\">\n",
       "      <th></th>\n",
       "      <th></th>\n",
       "      <th>sales_total</th>\n",
       "    </tr>\n",
       "    <tr>\n",
       "      <th>year_of_release</th>\n",
       "      <th>platform</th>\n",
       "      <th></th>\n",
       "    </tr>\n",
       "  </thead>\n",
       "  <tbody>\n",
       "    <tr>\n",
       "      <td rowspan=\"9\" valign=\"top\">2012</td>\n",
       "      <td>3DS</td>\n",
       "      <td>51.36</td>\n",
       "    </tr>\n",
       "    <tr>\n",
       "      <td>DS</td>\n",
       "      <td>11.01</td>\n",
       "    </tr>\n",
       "    <tr>\n",
       "      <td>PC</td>\n",
       "      <td>23.22</td>\n",
       "    </tr>\n",
       "    <tr>\n",
       "      <td>PS3</td>\n",
       "      <td>107.36</td>\n",
       "    </tr>\n",
       "    <tr>\n",
       "      <td>PSP</td>\n",
       "      <td>7.69</td>\n",
       "    </tr>\n",
       "    <tr>\n",
       "      <td>PSV</td>\n",
       "      <td>16.19</td>\n",
       "    </tr>\n",
       "    <tr>\n",
       "      <td>Wii</td>\n",
       "      <td>21.71</td>\n",
       "    </tr>\n",
       "    <tr>\n",
       "      <td>WiiU</td>\n",
       "      <td>17.56</td>\n",
       "    </tr>\n",
       "    <tr>\n",
       "      <td>X360</td>\n",
       "      <td>99.74</td>\n",
       "    </tr>\n",
       "    <tr>\n",
       "      <td rowspan=\"11\" valign=\"top\">2013</td>\n",
       "      <td>XOne</td>\n",
       "      <td>18.96</td>\n",
       "    </tr>\n",
       "    <tr>\n",
       "      <td>X360</td>\n",
       "      <td>88.58</td>\n",
       "    </tr>\n",
       "    <tr>\n",
       "      <td>WiiU</td>\n",
       "      <td>21.65</td>\n",
       "    </tr>\n",
       "    <tr>\n",
       "      <td>Wii</td>\n",
       "      <td>8.59</td>\n",
       "    </tr>\n",
       "    <tr>\n",
       "      <td>PSV</td>\n",
       "      <td>10.59</td>\n",
       "    </tr>\n",
       "    <tr>\n",
       "      <td>PS3</td>\n",
       "      <td>113.25</td>\n",
       "    </tr>\n",
       "    <tr>\n",
       "      <td>PS4</td>\n",
       "      <td>25.99</td>\n",
       "    </tr>\n",
       "    <tr>\n",
       "      <td>PC</td>\n",
       "      <td>12.38</td>\n",
       "    </tr>\n",
       "    <tr>\n",
       "      <td>DS</td>\n",
       "      <td>1.54</td>\n",
       "    </tr>\n",
       "    <tr>\n",
       "      <td>3DS</td>\n",
       "      <td>56.57</td>\n",
       "    </tr>\n",
       "    <tr>\n",
       "      <td>PSP</td>\n",
       "      <td>3.14</td>\n",
       "    </tr>\n",
       "    <tr>\n",
       "      <td rowspan=\"10\" valign=\"top\">2014</td>\n",
       "      <td>Wii</td>\n",
       "      <td>3.75</td>\n",
       "    </tr>\n",
       "    <tr>\n",
       "      <td>XOne</td>\n",
       "      <td>54.07</td>\n",
       "    </tr>\n",
       "    <tr>\n",
       "      <td>X360</td>\n",
       "      <td>34.74</td>\n",
       "    </tr>\n",
       "    <tr>\n",
       "      <td>WiiU</td>\n",
       "      <td>22.03</td>\n",
       "    </tr>\n",
       "    <tr>\n",
       "      <td>PSV</td>\n",
       "      <td>11.90</td>\n",
       "    </tr>\n",
       "    <tr>\n",
       "      <td>PSP</td>\n",
       "      <td>0.24</td>\n",
       "    </tr>\n",
       "    <tr>\n",
       "      <td>PS4</td>\n",
       "      <td>100.00</td>\n",
       "    </tr>\n",
       "    <tr>\n",
       "      <td>PS3</td>\n",
       "      <td>47.76</td>\n",
       "    </tr>\n",
       "    <tr>\n",
       "      <td>PC</td>\n",
       "      <td>13.28</td>\n",
       "    </tr>\n",
       "    <tr>\n",
       "      <td>3DS</td>\n",
       "      <td>43.76</td>\n",
       "    </tr>\n",
       "    <tr>\n",
       "      <td rowspan=\"10\" valign=\"top\">2015</td>\n",
       "      <td>XOne</td>\n",
       "      <td>60.14</td>\n",
       "    </tr>\n",
       "    <tr>\n",
       "      <td>X360</td>\n",
       "      <td>11.96</td>\n",
       "    </tr>\n",
       "    <tr>\n",
       "      <td>Wii</td>\n",
       "      <td>1.14</td>\n",
       "    </tr>\n",
       "    <tr>\n",
       "      <td>PSV</td>\n",
       "      <td>6.25</td>\n",
       "    </tr>\n",
       "    <tr>\n",
       "      <td>WiiU</td>\n",
       "      <td>16.35</td>\n",
       "    </tr>\n",
       "    <tr>\n",
       "      <td>PS4</td>\n",
       "      <td>118.90</td>\n",
       "    </tr>\n",
       "    <tr>\n",
       "      <td>PS3</td>\n",
       "      <td>16.82</td>\n",
       "    </tr>\n",
       "    <tr>\n",
       "      <td>PC</td>\n",
       "      <td>8.52</td>\n",
       "    </tr>\n",
       "    <tr>\n",
       "      <td>3DS</td>\n",
       "      <td>27.78</td>\n",
       "    </tr>\n",
       "    <tr>\n",
       "      <td>PSP</td>\n",
       "      <td>0.12</td>\n",
       "    </tr>\n",
       "    <tr>\n",
       "      <td rowspan=\"9\" valign=\"top\">2016</td>\n",
       "      <td>X360</td>\n",
       "      <td>1.52</td>\n",
       "    </tr>\n",
       "    <tr>\n",
       "      <td>3DS</td>\n",
       "      <td>15.14</td>\n",
       "    </tr>\n",
       "    <tr>\n",
       "      <td>PC</td>\n",
       "      <td>5.25</td>\n",
       "    </tr>\n",
       "    <tr>\n",
       "      <td>PS3</td>\n",
       "      <td>3.60</td>\n",
       "    </tr>\n",
       "    <tr>\n",
       "      <td>PS4</td>\n",
       "      <td>69.25</td>\n",
       "    </tr>\n",
       "    <tr>\n",
       "      <td>PSV</td>\n",
       "      <td>4.25</td>\n",
       "    </tr>\n",
       "    <tr>\n",
       "      <td>Wii</td>\n",
       "      <td>0.18</td>\n",
       "    </tr>\n",
       "    <tr>\n",
       "      <td>WiiU</td>\n",
       "      <td>4.60</td>\n",
       "    </tr>\n",
       "    <tr>\n",
       "      <td>XOne</td>\n",
       "      <td>26.15</td>\n",
       "    </tr>\n",
       "  </tbody>\n",
       "</table>\n",
       "</div>"
      ],
      "text/plain": [
       "                          sales_total\n",
       "year_of_release platform             \n",
       "2012            3DS             51.36\n",
       "                DS              11.01\n",
       "                PC              23.22\n",
       "                PS3            107.36\n",
       "                PSP              7.69\n",
       "                PSV             16.19\n",
       "                Wii             21.71\n",
       "                WiiU            17.56\n",
       "                X360            99.74\n",
       "2013            XOne            18.96\n",
       "                X360            88.58\n",
       "                WiiU            21.65\n",
       "                Wii              8.59\n",
       "                PSV             10.59\n",
       "                PS3            113.25\n",
       "                PS4             25.99\n",
       "                PC              12.38\n",
       "                DS               1.54\n",
       "                3DS             56.57\n",
       "                PSP              3.14\n",
       "2014            Wii              3.75\n",
       "                XOne            54.07\n",
       "                X360            34.74\n",
       "                WiiU            22.03\n",
       "                PSV             11.90\n",
       "                PSP              0.24\n",
       "                PS4            100.00\n",
       "                PS3             47.76\n",
       "                PC              13.28\n",
       "                3DS             43.76\n",
       "2015            XOne            60.14\n",
       "                X360            11.96\n",
       "                Wii              1.14\n",
       "                PSV              6.25\n",
       "                WiiU            16.35\n",
       "                PS4            118.90\n",
       "                PS3             16.82\n",
       "                PC               8.52\n",
       "                3DS             27.78\n",
       "                PSP              0.12\n",
       "2016            X360             1.52\n",
       "                3DS             15.14\n",
       "                PC               5.25\n",
       "                PS3              3.60\n",
       "                PS4             69.25\n",
       "                PSV              4.25\n",
       "                Wii              0.18\n",
       "                WiiU             4.60\n",
       "                XOne            26.15"
      ]
     },
     "execution_count": 30,
     "metadata": {},
     "output_type": "execute_result"
    }
   ],
   "source": [
    "#Получим таблицу с динамикой\n",
    "(\n",
    "    data\n",
    "    .pivot_table(index=['year_of_release','platform'], values='sales_total', aggfunc='sum')\n",
    "    .sort_values(by='year_of_release', ascending = True)\n",
    "    )\n"
   ]
  },
  {
   "cell_type": "code",
   "execution_count": 31,
   "metadata": {
    "scrolled": false
   },
   "outputs": [
    {
     "data": {
      "image/png": "[encoded data removed]",
      "text/plain": [
       "<Figure size 864x648 with 1 Axes>"
      ]
     },
     "metadata": {
      "needs_background": "light"
     },
     "output_type": "display_data"
    }
   ],
   "source": [
    "#Построим линейный график по платформам\n",
    "(\n",
    "    data\n",
    "    .pivot_table(index=['platform', 'year_of_release'], values='sales_total', aggfunc='sum')\n",
    "    .unstack('platform')\n",
    "    .plot(\n",
    "        y='sales_total',\n",
    "        title='Игровые платформы в актуальном периоде',\n",
    "        grid=True,\n",
    "        figsize=(12,9)\n",
    "    )\n",
    ")\n",
    "plt.show()"
   ]
  },
  {
   "cell_type": "markdown",
   "metadata": {},
   "source": [
    "В актуальном периоде по суммарным продажам лидируют:\n",
    "- PS4 - 314.14 млн. копий;\n",
    "- PS3 - 288.79 млн. копий;\n",
    "- X360 - 236.54 млн. копий;\n",
    "- 3DS - 194.61 млн. копий;\n",
    "- XOne - 159.32 млн. копий.\n",
    "\n",
    "Данный топ платформ хорошо выделяется, т.к. разница между последним из топа XOne (159.32) и первой \"нетоповой\" платформой WiiU (82.19) составляет в 2 раза.\\\n",
    "PS3 и 3DS - популярные в своё время, но уже устаревшие платформы. Продажи игр на данные консоли стремится к 0.\n",
    "\n",
    "На конец актуального периода у всех платформ отмечается спад.\n",
    "\n",
    "Самые популярные платформы на конец актуального периода являются потенциально прибыльными:\n",
    "\n",
    "1) PS4 - 69.25 млн. копий;\\\n",
    "2) XOne - 26.15 млн. копий;\\\n",
    "3) 3DS - 15.14 млн. копий."
   ]
  },
  {
   "cell_type": "markdown",
   "metadata": {},
   "source": [
    "#### Вывод по подразделу"
   ]
  },
  {
   "cell_type": "markdown",
   "metadata": {},
   "source": [
    "Проанализировав данные за актуальный период были получены следующие выводы:\n",
    "- самая продаваемая платформа - PS4 (314.14 млн. копий);\n",
    "- к концу актуального периода на всех платформах наблюдается спад продаж;\n",
    "- **потенциально прибыльными платформами являются:**\\\n",
    "1) PS4 - 69.25 млн. копий;\\\n",
    "2) XOne - 26.15 млн. копий;\\\n",
    "3) 3DS - 15.14 млн. копий."
   ]
  },
  {
   "cell_type": "markdown",
   "metadata": {},
   "source": [
    "### Постройте график «ящик с усами» по глобальным продажам игр в разбивке по платформам. Опишите результат."
   ]
  },
  {
   "cell_type": "markdown",
   "metadata": {},
   "source": [
    "Возьмём топ-3 потенциально прибыльных платформ (PS4, XOne, 3DS) и построим диаграммы разамаха по глобальным продажам игр."
   ]
  },
  {
   "cell_type": "code",
   "execution_count": 32,
   "metadata": {},
   "outputs": [
    {
     "data": {
      "image/png": "[encoded data removed]",
      "text/plain": [
       "<Figure size 432x288 with 3 Axes>"
      ]
     },
     "metadata": {
      "needs_background": "light"
     },
     "output_type": "display_data"
    }
   ],
   "source": [
    "#диаграммы размаха\n",
    "f, (ax1, ax2, ax3) = plt.subplots(1, 3, sharey='col')\n",
    "(\n",
    "    data\n",
    "    .query('platform == \"PS4\"')\n",
    "    .boxplot(\n",
    "        column ='sales_total',\n",
    "        figsize=(8,6),\n",
    "        ax=ax1\n",
    "    )\n",
    ")\n",
    "plt.ylim(0,4)\n",
    "ax1.set_title('PS4')\n",
    "\n",
    "(\n",
    "    data\n",
    "    .query('platform == \"XOne\"')\n",
    "    .boxplot(\n",
    "        column ='sales_total',\n",
    "        figsize=(8,6),\n",
    "        ax=ax2\n",
    "    )\n",
    ")\n",
    "\n",
    "plt.ylim(0,4)\n",
    "ax2.set_title('XOne')\n",
    "\n",
    "(\n",
    "    data\n",
    "    .query('platform == \"3DS\"')\n",
    "    .boxplot(\n",
    "        column ='sales_total',\n",
    "        figsize=(8,6),\n",
    "        ax=ax3\n",
    "    )\n",
    ")\n",
    "plt.ylim(0,2)\n",
    "ax3.set_title('3DS')\n",
    "plt.show()"
   ]
  },
  {
   "cell_type": "markdown",
   "metadata": {},
   "source": [
    "**Опишем диаграмму размаха PS4:**\\\n",
    "Нормальные значения (верхний и нижний ус) - от 0 до 1.75\\\n",
    "Медиана - примерно 0.2\\\n",
    "Межквартильные размах - примерно от 0.1 до 0.75\\\n",
    "Выбросы расположены выше 1.75"
   ]
  },
  {
   "cell_type": "markdown",
   "metadata": {},
   "source": [
    "**Опишем диаграмму размаха XOne:**\\\n",
    "Нормальные значения (верхний и нижний ус) - от 0 до 1.6\\\n",
    "Медиана - примерно 0.2\\\n",
    "Межквартильные размах - примерно от 0.1 до 0.7\\\n",
    "Выбросы расположены выше 1.6"
   ]
  },
  {
   "cell_type": "markdown",
   "metadata": {},
   "source": [
    "**Опишем диаграмму размаха 3DS:**\\\n",
    "Нормальные значения (верхний и нижний ус) - от 0 до 0.74\\\n",
    "Медиана - примерно 0.1\\\n",
    "Межквартильные размах - примерно от 0.05 до 0.3\\\n",
    "Выбросы расположены выше 0.74"
   ]
  },
  {
   "cell_type": "markdown",
   "metadata": {},
   "source": [
    "#### Вывод по подразделу"
   ]
  },
  {
   "cell_type": "markdown",
   "metadata": {},
   "source": [
    "Были построены три диаграммы размаха по самым популярным платформам в актуальном периоде: PS4, XOne, 3DS.\\\n",
    "Характерной особенностью является присутствие выбросов на всех трёх диаграммах выше верхней границы нормальных значений.\\\n",
    "В контексте исследования, выбросы - это самые популярные игры (хиты), с максимальными продажами в несколько млн копий.\\\n",
    "Исходя из значений медианы - большинство игр продаётся в диапазоне 0.1-0.2 млн копий."
   ]
  },
  {
   "cell_type": "markdown",
   "metadata": {},
   "source": [
    "### Посмотрите, как влияют на продажи внутри одной популярной платформы отзывы пользователей и критиков. Постройте диаграмму рассеяния и посчитайте корреляцию между отзывами и продажами. Сформулируйте выводы."
   ]
  },
  {
   "cell_type": "markdown",
   "metadata": {},
   "source": [
    "#### Влияние отзывов критиков на продажи"
   ]
  },
  {
   "cell_type": "markdown",
   "metadata": {},
   "source": [
    "В качестве одной популярной платформы возьмём PS4."
   ]
  },
  {
   "cell_type": "code",
   "execution_count": 33,
   "metadata": {
    "scrolled": false
   },
   "outputs": [
    {
     "data": {
      "image/png": "[encoded data removed]",
      "text/plain": [
       "<Figure size 864x648 with 1 Axes>"
      ]
     },
     "metadata": {
      "needs_background": "light"
     },
     "output_type": "display_data"
    }
   ],
   "source": [
    "#Получим срез с платформой PS4\n",
    "data_ps4 = data.query('platform == \"PS4\"')\n",
    "\n",
    "#Построим диаграмму рассеяния между суммарными продажами и отзывами критиков\n",
    "data_ps4.plot(\n",
    "    kind='scatter',\n",
    "    title='Диграмма рассеяния \"Суммарные продажи - отзывы критиков\"',\n",
    "    x='sales_total',\n",
    "    y='critic_score',\n",
    "    grid=True,\n",
    "    figsize=(12,9)\n",
    ")\n",
    "plt.show()"
   ]
  },
  {
   "cell_type": "code",
   "execution_count": 34,
   "metadata": {},
   "outputs": [
    {
     "data": {
      "text/html": [
       "<div>\n",
       "<style scoped>\n",
       "    .dataframe tbody tr th:only-of-type {\n",
       "        vertical-align: middle;\n",
       "    }\n",
       "\n",
       "    .dataframe tbody tr th {\n",
       "        vertical-align: top;\n",
       "    }\n",
       "\n",
       "    .dataframe thead th {\n",
       "        text-align: right;\n",
       "    }\n",
       "</style>\n",
       "<table border=\"1\" class=\"dataframe\">\n",
       "  <thead>\n",
       "    <tr style=\"text-align: right;\">\n",
       "      <th></th>\n",
       "      <th>critic_score</th>\n",
       "      <th>sales_total</th>\n",
       "    </tr>\n",
       "  </thead>\n",
       "  <tbody>\n",
       "    <tr>\n",
       "      <td>critic_score</td>\n",
       "      <td>1.000000</td>\n",
       "      <td>0.406568</td>\n",
       "    </tr>\n",
       "    <tr>\n",
       "      <td>sales_total</td>\n",
       "      <td>0.406568</td>\n",
       "      <td>1.000000</td>\n",
       "    </tr>\n",
       "  </tbody>\n",
       "</table>\n",
       "</div>"
      ],
      "text/plain": [
       "              critic_score  sales_total\n",
       "critic_score      1.000000     0.406568\n",
       "sales_total       0.406568     1.000000"
      ]
     },
     "execution_count": 34,
     "metadata": {},
     "output_type": "execute_result"
    }
   ],
   "source": [
    "#Посчитаем корреляцию между отзывами критиков и суммарными продажами\n",
    "data_ps4[['critic_score', 'sales_total']].corr()"
   ]
  },
  {
   "cell_type": "markdown",
   "metadata": {},
   "source": [
    "На графике выделяется достаточно большое число значений около нуля по оси суммарных продаж.\\\n",
    "Данные игры могут иметь как низкий, так и высокий рейтинг. Зависимость не прослеживается.\\\n",
    "В то же время, по мере роста суммарных продаж прослеживается рост оценки критиков.\\\n",
    "\n",
    "Для корреляции примем следующие интервалы:\n",
    "- выше 0.5 - сильная связь;\n",
    "- от 0.3 до 0.5 - средняя связь;\n",
    "- от 0 до 0.3 - слабая связь.\n",
    "\n",
    "Это подверждается расчётом корреляции.\\\n",
    "`Значение равно 0.41`, что говорит о средней корреляции."
   ]
  },
  {
   "cell_type": "markdown",
   "metadata": {},
   "source": [
    "#### Влияние отзывов пользователей на продажи"
   ]
  },
  {
   "cell_type": "code",
   "execution_count": 35,
   "metadata": {},
   "outputs": [
    {
     "data": {
      "image/png": "[encoded data removed]",
      "text/plain": [
       "<Figure size 864x648 with 1 Axes>"
      ]
     },
     "metadata": {
      "needs_background": "light"
     },
     "output_type": "display_data"
    }
   ],
   "source": [
    "#Построим диаграмму рассеяния между суммарными продажами и отзывами пользователей\n",
    "data_ps4.plot(\n",
    "    kind='scatter',\n",
    "    title='Диграмма рассеяния \"Суммарные продажи - отзывы критиков\"',\n",
    "    x='sales_total',\n",
    "    y='user_score',\n",
    "    grid=True,\n",
    "    figsize=(12,9)\n",
    ")\n",
    "plt.show()"
   ]
  },
  {
   "cell_type": "code",
   "execution_count": 36,
   "metadata": {},
   "outputs": [
    {
     "data": {
      "text/html": [
       "<div>\n",
       "<style scoped>\n",
       "    .dataframe tbody tr th:only-of-type {\n",
       "        vertical-align: middle;\n",
       "    }\n",
       "\n",
       "    .dataframe tbody tr th {\n",
       "        vertical-align: top;\n",
       "    }\n",
       "\n",
       "    .dataframe thead th {\n",
       "        text-align: right;\n",
       "    }\n",
       "</style>\n",
       "<table border=\"1\" class=\"dataframe\">\n",
       "  <thead>\n",
       "    <tr style=\"text-align: right;\">\n",
       "      <th></th>\n",
       "      <th>user_score</th>\n",
       "      <th>sales_total</th>\n",
       "    </tr>\n",
       "  </thead>\n",
       "  <tbody>\n",
       "    <tr>\n",
       "      <td>user_score</td>\n",
       "      <td>1.000000</td>\n",
       "      <td>-0.031957</td>\n",
       "    </tr>\n",
       "    <tr>\n",
       "      <td>sales_total</td>\n",
       "      <td>-0.031957</td>\n",
       "      <td>1.000000</td>\n",
       "    </tr>\n",
       "  </tbody>\n",
       "</table>\n",
       "</div>"
      ],
      "text/plain": [
       "             user_score  sales_total\n",
       "user_score     1.000000    -0.031957\n",
       "sales_total   -0.031957     1.000000"
      ]
     },
     "execution_count": 36,
     "metadata": {},
     "output_type": "execute_result"
    }
   ],
   "source": [
    "#Посчитаем корреляцию между отзывами пользователей и суммарными продажами\n",
    "data_ps4[['user_score', 'sales_total']].corr()"
   ]
  },
  {
   "cell_type": "markdown",
   "metadata": {},
   "source": [
    "Картина на графике зависимости между пользовательскими оценками и суммарными продажами хаотична.\\\n",
    "Нельзя выделить никакой зависимости.\\\n",
    "Так же это подтверждаётся рассчётом коэфицента корреляции.\\\n",
    "`Значение равно -0.03`, что говорит о практически полном отсутствии взаимосвязи между пользовательски оценками и продажами."
   ]
  },
  {
   "cell_type": "markdown",
   "metadata": {},
   "source": [
    "#### Вывод по подразделу"
   ]
  },
  {
   "cell_type": "markdown",
   "metadata": {},
   "source": [
    "Для исследования зависимостей между оценками (критиков и пользователей) и продажами была выбрана самая популярная платформа в актуальном периоде PS4.\n",
    "\n",
    "В ходе анализа была обнаружена средняя положительная корреляция между оценками критиков и продажами `(0.41)`.\\\n",
    "Корреляция между пользовательскими оценками и продажами равна `(-0.03)`, что говорит о практически полном\n",
    "отсутствии взаимосвязи."
   ]
  },
  {
   "cell_type": "markdown",
   "metadata": {},
   "source": [
    "### Соотнесите выводы с продажами игр на других платформах."
   ]
  },
  {
   "cell_type": "markdown",
   "metadata": {},
   "source": [
    "Полученные выводы о средней зависимости оценок критиков на продажи и отсутствии зависимости оценок пользователей на продажи посчитаем коэфициент корреляции для платформ 3DS, XOne."
   ]
  },
  {
   "cell_type": "code",
   "execution_count": 37,
   "metadata": {
    "scrolled": true
   },
   "outputs": [
    {
     "data": {
      "text/html": [
       "<div>\n",
       "<style scoped>\n",
       "    .dataframe tbody tr th:only-of-type {\n",
       "        vertical-align: middle;\n",
       "    }\n",
       "\n",
       "    .dataframe tbody tr th {\n",
       "        vertical-align: top;\n",
       "    }\n",
       "\n",
       "    .dataframe thead th {\n",
       "        text-align: right;\n",
       "    }\n",
       "</style>\n",
       "<table border=\"1\" class=\"dataframe\">\n",
       "  <thead>\n",
       "    <tr style=\"text-align: right;\">\n",
       "      <th></th>\n",
       "      <th>critic_score</th>\n",
       "      <th>user_score</th>\n",
       "      <th>sales_total</th>\n",
       "    </tr>\n",
       "  </thead>\n",
       "  <tbody>\n",
       "    <tr>\n",
       "      <td>critic_score</td>\n",
       "      <td>1.000000</td>\n",
       "      <td>0.722762</td>\n",
       "      <td>0.320803</td>\n",
       "    </tr>\n",
       "    <tr>\n",
       "      <td>user_score</td>\n",
       "      <td>0.722762</td>\n",
       "      <td>1.000000</td>\n",
       "      <td>0.197583</td>\n",
       "    </tr>\n",
       "    <tr>\n",
       "      <td>sales_total</td>\n",
       "      <td>0.320803</td>\n",
       "      <td>0.197583</td>\n",
       "      <td>1.000000</td>\n",
       "    </tr>\n",
       "  </tbody>\n",
       "</table>\n",
       "</div>"
      ],
      "text/plain": [
       "              critic_score  user_score  sales_total\n",
       "critic_score      1.000000    0.722762     0.320803\n",
       "user_score        0.722762    1.000000     0.197583\n",
       "sales_total       0.320803    0.197583     1.000000"
      ]
     },
     "execution_count": 37,
     "metadata": {},
     "output_type": "execute_result"
    }
   ],
   "source": [
    "#Получим срез с платформой 3DS\n",
    "data_3ds = data.query('platform == \"3DS\"')\n",
    "\n",
    "#Посчитаем корреляцию для платформы 3DS\n",
    "data_3ds[['critic_score', 'user_score', 'sales_total']].corr()"
   ]
  },
  {
   "cell_type": "markdown",
   "metadata": {},
   "source": [
    "Для платформы 3DS при подсчёте коррелции получили:\n",
    "- среднюю связь (0.32) между оценками критиков и продажами;\n",
    "- слабую связь (0.20) между оценками пользователей и продажами."
   ]
  },
  {
   "cell_type": "code",
   "execution_count": 38,
   "metadata": {
    "scrolled": true
   },
   "outputs": [
    {
     "data": {
      "text/html": [
       "<div>\n",
       "<style scoped>\n",
       "    .dataframe tbody tr th:only-of-type {\n",
       "        vertical-align: middle;\n",
       "    }\n",
       "\n",
       "    .dataframe tbody tr th {\n",
       "        vertical-align: top;\n",
       "    }\n",
       "\n",
       "    .dataframe thead th {\n",
       "        text-align: right;\n",
       "    }\n",
       "</style>\n",
       "<table border=\"1\" class=\"dataframe\">\n",
       "  <thead>\n",
       "    <tr style=\"text-align: right;\">\n",
       "      <th></th>\n",
       "      <th>critic_score</th>\n",
       "      <th>user_score</th>\n",
       "      <th>sales_total</th>\n",
       "    </tr>\n",
       "  </thead>\n",
       "  <tbody>\n",
       "    <tr>\n",
       "      <td>critic_score</td>\n",
       "      <td>1.000000</td>\n",
       "      <td>0.472462</td>\n",
       "      <td>0.416998</td>\n",
       "    </tr>\n",
       "    <tr>\n",
       "      <td>user_score</td>\n",
       "      <td>0.472462</td>\n",
       "      <td>1.000000</td>\n",
       "      <td>-0.068925</td>\n",
       "    </tr>\n",
       "    <tr>\n",
       "      <td>sales_total</td>\n",
       "      <td>0.416998</td>\n",
       "      <td>-0.068925</td>\n",
       "      <td>1.000000</td>\n",
       "    </tr>\n",
       "  </tbody>\n",
       "</table>\n",
       "</div>"
      ],
      "text/plain": [
       "              critic_score  user_score  sales_total\n",
       "critic_score      1.000000    0.472462     0.416998\n",
       "user_score        0.472462    1.000000    -0.068925\n",
       "sales_total       0.416998   -0.068925     1.000000"
      ]
     },
     "execution_count": 38,
     "metadata": {},
     "output_type": "execute_result"
    }
   ],
   "source": [
    "#Получим срез с платформой XOne\n",
    "data_xone = data.query('platform == \"XOne\"')\n",
    "\n",
    "#Посчитаем корреляцию для платформы XOne\n",
    "data_xone[['critic_score', 'user_score', 'sales_total']].corr()"
   ]
  },
  {
   "cell_type": "markdown",
   "metadata": {},
   "source": [
    "Для платформы XOne при подсчёте коррелции получили:\n",
    "- среднюю связь (0.42) между оценками критиков и продажами;\n",
    "- слабую связь (-0.07) между оценками пользователей и продажами."
   ]
  },
  {
   "cell_type": "markdown",
   "metadata": {},
   "source": [
    "#### Вывод по подразделу"
   ]
  },
  {
   "cell_type": "markdown",
   "metadata": {},
   "source": [
    "В ходе анализа корреляции по платформам 3DS и XOne в целом были получены идентичные выводы, как и для платформы PS4.\\\n",
    "Существует `средняя связь (от 0.3 до 0.4`) между оценками критиков и продажами.\\\n",
    "`Слабая связь, либо полное отсутствие (от -0.07 до 0.20)` между оценками пользователей и продажами.\n",
    "\n",
    "Картина по коэфициенту корреляции платформы XOne очень похожа на PS4 - значения практически одинаковые.\n",
    "\n",
    "В целом, можно сделать вывод, что есть зависимость между оценками критиков и количеством продаж видеоигр.\\\n",
    "Зависимость продаж от оценок пользователей прослеживается слабо."
   ]
  },
  {
   "cell_type": "markdown",
   "metadata": {},
   "source": [
    "### Посмотрите на общее распределение игр по жанрам. Что можно сказать о самых прибыльных жанрах? Выделяются ли жанры с высокими и низкими продажами?"
   ]
  },
  {
   "cell_type": "markdown",
   "metadata": {},
   "source": [
    "Построим распределение игр по жанрам с помощью столбчатой диаграммы."
   ]
  },
  {
   "cell_type": "code",
   "execution_count": 39,
   "metadata": {
    "scrolled": false
   },
   "outputs": [
    {
     "data": {
      "image/png": "[encoded data removed]",
      "text/plain": [
       "<Figure size 648x432 with 1 Axes>"
      ]
     },
     "metadata": {
      "needs_background": "light"
     },
     "output_type": "display_data"
    }
   ],
   "source": [
    "#Общее распределение игр по жанрам\n",
    "(\n",
    "    data\n",
    "    .groupby('genre')['genre']\n",
    "    .count()\n",
    "    .sort_values(ascending=False)\n",
    "    .plot(\n",
    "        kind='bar',\n",
    "        title='Распределение игр по жанрам',\n",
    "        figsize=(9,6),\n",
    "        grid=True)\n",
    ")\n",
    "plt.xticks(rotation=45)\n",
    "plt.show()"
   ]
  },
  {
   "cell_type": "markdown",
   "metadata": {},
   "source": [
    "С большим отрывом самый популярный жанр - action (боевик) - более 1000 игр;\\\n",
    "Затем идут role-playing (ролевые игры) - около 380 игр;\\\n",
    "И на третьем месте самых популярных - adventure (приключения) - около 300 игр.\n",
    "\n",
    "Меньше всего игр в жанрах puzzle (пазлы), стратегии и симуляторы (меньше 100 в каждом)."
   ]
  },
  {
   "cell_type": "markdown",
   "metadata": {},
   "source": [
    "Построим диаграмму по медианным продажам по жанрам игр."
   ]
  },
  {
   "cell_type": "code",
   "execution_count": 40,
   "metadata": {
    "scrolled": false
   },
   "outputs": [
    {
     "data": {
      "image/png": "[encoded data removed]",
      "text/plain": [
       "<Figure size 648x432 with 1 Axes>"
      ]
     },
     "metadata": {
      "needs_background": "light"
     },
     "output_type": "display_data"
    }
   ],
   "source": [
    "#Продажи игр по жанрам по медиане\n",
    "(\n",
    "    data\n",
    "    .pivot_table(index='genre', values='sales_total', aggfunc='median')\n",
    "    .sort_values(by='sales_total', ascending=False)\n",
    "    .plot(\n",
    "        kind='bar',\n",
    "        title='Продажи игр по жанрам',\n",
    "        grid=True,\n",
    "        figsize=(9,6)\n",
    "    )\n",
    ")\n",
    "plt.show()"
   ]
  },
  {
   "cell_type": "markdown",
   "metadata": {},
   "source": [
    "Самые продаваемые жанры (по медиане):\n",
    "- Шутеры (примерно 0.45 млн);\n",
    "- Спортивные симуляторы (примерно 0.24 млн);\n",
    "- Платформенные игры (примерно 0.21 млн).\n",
    "\n",
    "Наименее продаваемые (по медиане):\n",
    "- Стратегии (примерно 0.08 млн);\n",
    "- Пазлы (примерно 0.04 млн);\n",
    "- Приключения (примерно 0.03 млн)."
   ]
  },
  {
   "cell_type": "markdown",
   "metadata": {},
   "source": [
    "#### Вывод по подразделу"
   ]
  },
  {
   "cell_type": "markdown",
   "metadata": {},
   "source": [
    "В общем распределении игр по жанрам с большим отрывом лидирует `боевики (более 1000 игр)`.\\\n",
    "Самым продаваемым жанром (с заметным отрывом) по медиане является `шутер (0.45 млн копий)`.\\\n",
    "Так же в топ-3 входят `спортивные симуляторы (примерно 0.24 млн)` и `платформенные игры (примерно 0.21 млн)`.\n",
    "\n",
    "Хуже всего продаются `стратегии (примерно 0.08 млн)`, `пазлы (примерно 0.04 млн)`, `приключения (примерно 0.03 млн)`.\\\n",
    "Видимо, эти жанры больше не популярны у пользователей и постепенно сходят на нет."
   ]
  },
  {
   "cell_type": "markdown",
   "metadata": {},
   "source": [
    "### Общий вывод по исследовательскому анализу данных"
   ]
  },
  {
   "cell_type": "markdown",
   "metadata": {},
   "source": [
    "В ходе исследовательского анализа данных были получены основные выводы:\n",
    "- Компьютерные игры начали выпускаться с 1980 года;\n",
    "- Пик по количеству игр в год составляет в районе 1400 в 2008-2009 году;\n",
    "- Максимальные суммарные продажи совпадают с пиком по выпуску игр (2008-2009) и составляют около 660 млн копий;\n",
    "- `Самые популярные платформы:`\\\n",
    "1) PS;\\\n",
    "2) PS2;\\\n",
    "3) PS3;\\\n",
    "4) Wii;\\\n",
    "5) X360;\\\n",
    "6) DS.\n",
    "- `Был определен актуальный период`, необходимый для построения прогноза на следующий год. Он составляет 5 лет (с 2012 по 2016 год);\n",
    "- На текущий момент `потенциально прибыльными платформами` являются:\\\n",
    "1) PS4;\\\n",
    "2) XOne;\\\n",
    "3) 3DS\n",
    "- Было установлено о наличии зависимости между продажами и оценками от критиков;\n",
    "- Выявлены `наиболее распространённые игры` - это боевики, ролевые игры и приключения.\n",
    "- `Наименее распространнённые игры` - это пазлы, стратегии и симуляторы.\n",
    "- `Самые продаваемые жанры (по медиане)`:\\\n",
    "1) Шутеры (примерно 0.45 млн);\\\n",
    "2) Спортивные симуляторы (примерно 0.24 млн);\\\n",
    "3) Платформенные игры (примерно 0.21 млн).\n",
    "\n",
    "- `Наименее продаваемые (по медиане)`:\\\n",
    "1) Стратегии (примерно 0.08 млн);\\\n",
    "2) Пазлы (примерно 0.04 млн);\\\n",
    "3) Приключения (примерно 0.03 млн)."
   ]
  },
  {
   "cell_type": "markdown",
   "metadata": {},
   "source": [
    "## Составьте портрет пользователя каждого региона"
   ]
  },
  {
   "cell_type": "markdown",
   "metadata": {},
   "source": [
    "Для составление портрета пользователя для регионов Северная Америка, Европа, Япония необходимо:\n",
    "- выделить топ-5 самых популярных платформ;\n",
    "- выделить топ-5 самых популярных жанров;\n",
    "- определить, влияет ли рейтинг ESRB на продажи в отдельном регионе."
   ]
  },
  {
   "cell_type": "markdown",
   "metadata": {},
   "source": [
    "### Определите для пользователя каждого региона (NA, EU, JP):"
   ]
  },
  {
   "cell_type": "markdown",
   "metadata": {},
   "source": [
    "#### Северная Америка"
   ]
  },
  {
   "cell_type": "markdown",
   "metadata": {},
   "source": [
    "**Топ-5 самых популярных платформ для Северной Америки.**"
   ]
  },
  {
   "cell_type": "code",
   "execution_count": 41,
   "metadata": {},
   "outputs": [
    {
     "data": {
      "image/png": "[encoded data removed]",
      "text/plain": [
       "<Figure size 432x288 with 1 Axes>"
      ]
     },
     "metadata": {},
     "output_type": "display_data"
    }
   ],
   "source": [
    "#Посчитаем доли от продаж в регионе и добавим в таблицу\n",
    "data['na_share'] = data['na_sales'] / data['na_sales'].sum()\n",
    "\n",
    "#NA топ-5 платформ\n",
    "(\n",
    "    data\n",
    "    .pivot_table(index='platform', values='na_share', aggfunc='sum')\n",
    "    .sort_values(by='na_share', ascending=False)\n",
    "    .head(5)\n",
    "    .plot(kind='pie', y='na_share', grid=True, autopct='%1.2f%%', legend=False)\n",
    ")\n",
    "plt.show()"
   ]
  },
  {
   "cell_type": "markdown",
   "metadata": {},
   "source": [
    "Самая популярная платформа - X360 (доля 23.7 %).\\\n",
    "Продажи PS4 (18.4%), PS3 (17.5%), XOne (15.8%) различаются не очень сильно. Платформа 3DS - самая маленькая по продажам из топ 5.\\\n",
    "Суммарно 5 самых популярных платформ составляют около 80% всех платформ."
   ]
  },
  {
   "cell_type": "markdown",
   "metadata": {},
   "source": [
    "**Топ-5 жанров для Северной Америки**"
   ]
  },
  {
   "cell_type": "code",
   "execution_count": 42,
   "metadata": {},
   "outputs": [
    {
     "data": {
      "image/png": "[encoded data removed]",
      "text/plain": [
       "<Figure size 432x288 with 1 Axes>"
      ]
     },
     "metadata": {},
     "output_type": "display_data"
    }
   ],
   "source": [
    "#NA топ-5 жанров\n",
    "(\n",
    "    data\n",
    "    .pivot_table(index='genre', values='na_share', aggfunc='sum')\n",
    "    .sort_values(by='na_share', ascending=False)\n",
    "    .head(5)\n",
    "    .plot(kind='pie', y='na_share', grid=True, autopct='%1.2f%%', legend=False)\n",
    ")\n",
    "plt.show()"
   ]
  },
  {
   "cell_type": "markdown",
   "metadata": {},
   "source": [
    "Из 5 самых популярных жанров выделяется боевики (30%) и шутеры (24.5%). Суммарно они составляют более 50%  по популярности от всех жанров.\\\n",
    "Так же в топ 5 входят спортивные симуляторы, ролевые игры и жанр misc."
   ]
  },
  {
   "cell_type": "markdown",
   "metadata": {},
   "source": [
    "**Рейтинг ESRB для Северной Америки**\n",
    "\n",
    "Из открытых источников возьмём классификацию рейтинга."
   ]
  },
  {
   "cell_type": "markdown",
   "metadata": {},
   "source": [
    "AO (Adults only 18+) — только для взрослых\\\n",
    "E - everyone - для всех\\\n",
    "M (Mature 17+) — от 17 лет\\\n",
    "T (Teen) — для подростков 13-19 лет\\\n",
    "K-A (Kids to Adults)— для детей и взрослых\\\n",
    "E10+ (Everyone 10+) — для всех старше 10 лет\\\n",
    "EC (Early Childhood) — для детей младшего возраста\\\n",
    "RP (Rating pending) — рейтинг ожидается"
   ]
  },
  {
   "cell_type": "code",
   "execution_count": 43,
   "metadata": {},
   "outputs": [
    {
     "data": {
      "image/png": "[encoded data removed]",
      "text/plain": [
       "<Figure size 432x288 with 1 Axes>"
      ]
     },
     "metadata": {},
     "output_type": "display_data"
    }
   ],
   "source": [
    "#NA ESRB\n",
    "(\n",
    "    data\n",
    "    .pivot_table(index='rating', values='na_share', aggfunc='sum')\n",
    "    .sort_values(by='na_share', ascending=False)\n",
    "    .plot(kind='pie', y='na_share', grid=True, autopct='%1.2f%%', legend=False)\n",
    ")\n",
    "plt.show()"
   ]
  },
  {
   "cell_type": "markdown",
   "metadata": {},
   "source": [
    "На диаграмме представлены 4 значений рейтинга и рейтинг не определён (undefined).\n",
    "\n",
    "Рейтинг ESRB влияет на продажи - самые продаваемыми с рейтингом M (от 17 лет) (39.2%), т.е. для взрослых.\\\n",
    "Наименее продаваемые - игры с рейтингом T - для подростков (11.2%)."
   ]
  },
  {
   "cell_type": "markdown",
   "metadata": {},
   "source": [
    "#### Европа"
   ]
  },
  {
   "cell_type": "markdown",
   "metadata": {},
   "source": [
    "**Топ-5 самых популярных платформ для Европы.**"
   ]
  },
  {
   "cell_type": "code",
   "execution_count": 44,
   "metadata": {},
   "outputs": [
    {
     "data": {
      "image/png": "[encoded data removed]",
      "text/plain": [
       "<Figure size 432x288 with 1 Axes>"
      ]
     },
     "metadata": {},
     "output_type": "display_data"
    }
   ],
   "source": [
    "#Посчитаем доли от продаж в регионе и добавим в таблицу\n",
    "data['eu_share'] = data['eu_sales'] / data['eu_sales'].sum()\n",
    "\n",
    "#EU топ-5 платформ\n",
    "(\n",
    "    data\n",
    "    .pivot_table(index='platform', values='eu_share', aggfunc='sum')\n",
    "    .sort_values(by='eu_share', ascending=False)\n",
    "    .head(5)\n",
    "    .plot(kind='pie', y='eu_share', grid=True, autopct='%1.2f%%', legend=False)\n",
    ")\n",
    "plt.show()"
   ]
  },
  {
   "cell_type": "markdown",
   "metadata": {},
   "source": [
    "Самая популярная платформа - PS4 (28%).\\\n",
    "На втором месте - PS3 (21%). Суммарно две консоли одного семейства охватывают 49% от всех игр - половина рынка.\\\n",
    "Далее, в порядке убывания идут X360 (14.7%), XOne (10.2%), 3DS (8.5%).\\\n",
    "Суммарно топ-5 охватывает более 85% рынка платформ в регионе."
   ]
  },
  {
   "cell_type": "markdown",
   "metadata": {},
   "source": [
    "**Топ-5 жанров для Европы**"
   ]
  },
  {
   "cell_type": "code",
   "execution_count": 45,
   "metadata": {
    "scrolled": true
   },
   "outputs": [
    {
     "data": {
      "image/png": "[encoded data removed]",
      "text/plain": [
       "<Figure size 432x288 with 1 Axes>"
      ]
     },
     "metadata": {},
     "output_type": "display_data"
    }
   ],
   "source": [
    "#EU топ-5 жанров\n",
    "(\n",
    "    data\n",
    "    .pivot_table(index='genre', values='eu_share', aggfunc='sum')\n",
    "    .sort_values(by='eu_share', ascending=False)\n",
    "    .head(5)\n",
    "    .plot(kind='pie', y='eu_share', grid=True, autopct='%1.2f%%', legend=False)\n",
    ")\n",
    "plt.show()"
   ]
  },
  {
   "cell_type": "markdown",
   "metadata": {},
   "source": [
    "Среди жанров самыми популярнымыми являются боевики (31.5%)\\\n",
    "Затем идут шутеры (22.4%)\\\n",
    "Так же в топ-5 входят спортивные симуляторы (13.6%), ролевые игры (9.6%), гонки (5.4%).\n",
    "\n",
    "Суммарно топ-5 охватывает более 80% рынка жанров."
   ]
  },
  {
   "cell_type": "markdown",
   "metadata": {},
   "source": [
    "**Рейтинг ESRB для Европы**"
   ]
  },
  {
   "cell_type": "code",
   "execution_count": 46,
   "metadata": {},
   "outputs": [
    {
     "data": {
      "image/png": "[encoded data removed]",
      "text/plain": [
       "<Figure size 432x288 with 1 Axes>"
      ]
     },
     "metadata": {},
     "output_type": "display_data"
    }
   ],
   "source": [
    "#EU ESRB\n",
    "(\n",
    "    data\n",
    "    .pivot_table(index='rating', values='eu_share', aggfunc='sum')\n",
    "    .sort_values(by='eu_share', ascending=False)\n",
    "    .plot(kind='pie', y='eu_share', grid=True, autopct='%1.2f%%', legend=False)\n",
    ")\n",
    "plt.show()"
   ]
  },
  {
   "cell_type": "markdown",
   "metadata": {},
   "source": [
    "На диаграмме представлены 4 значений рейтинга и рейтинг не определён (undefined).\n",
    "\n",
    "Рейтинг ESRB влияет на продажи - самые продаваемыми с рейтингом M (от 17 лет) (38.3%), т.е. для взрослых.\\\n",
    "Наименее продаваемые - игры с рейтингом T - для подростков (10.5%)."
   ]
  },
  {
   "cell_type": "markdown",
   "metadata": {},
   "source": [
    "#### Япония"
   ]
  },
  {
   "cell_type": "markdown",
   "metadata": {},
   "source": [
    "**Топ-5 самых популярных платформ для Японии.**"
   ]
  },
  {
   "cell_type": "code",
   "execution_count": 47,
   "metadata": {
    "scrolled": true
   },
   "outputs": [
    {
     "data": {
      "image/png": "[encoded data removed]",
      "text/plain": [
       "<Figure size 432x288 with 1 Axes>"
      ]
     },
     "metadata": {},
     "output_type": "display_data"
    }
   ],
   "source": [
    "#Посчитаем доли от продаж в регионе и добавим в таблицу\n",
    "data['jp_share'] = data['jp_sales'] / data['jp_sales'].sum()\n",
    "\n",
    "#JP топ-5 платформ\n",
    "(\n",
    "    data\n",
    "    .pivot_table(index='platform', values='jp_share', aggfunc='sum')\n",
    "    .sort_values(by='jp_share', ascending=False)\n",
    "    .head(5)\n",
    "    .plot(kind='pie', y='jp_share', grid=True, autopct='%1.2f%%', legend=False)\n",
    ")\n",
    "plt.show()"
   ]
  },
  {
   "cell_type": "markdown",
   "metadata": {},
   "source": [
    "Самая популярная платформа в Японии - 3DS (Nintendo) - её доля составляет 45.6% от всего рынка.\\\n",
    "По убыванию популярности следом идут PS3 (18.3%), PSV (11%), PS4 (8.3%), WiiU (6.8%).\n",
    "\n",
    "Выделяется доминирование платформы 3DS."
   ]
  },
  {
   "cell_type": "markdown",
   "metadata": {},
   "source": [
    "**Топ-5 жанров для Японии**"
   ]
  },
  {
   "cell_type": "code",
   "execution_count": 48,
   "metadata": {},
   "outputs": [
    {
     "data": {
      "image/png": "[encoded data removed]",
      "text/plain": [
       "<Figure size 432x288 with 1 Axes>"
      ]
     },
     "metadata": {},
     "output_type": "display_data"
    }
   ],
   "source": [
    "#JP топ-5 жанров\n",
    "(\n",
    "    data\n",
    "    .pivot_table(index='genre', values='jp_share', aggfunc='sum')\n",
    "    .sort_values(by='jp_share', ascending=False)\n",
    "    .head(5)\n",
    "    .plot(kind='pie', y='jp_share', grid=True, autopct='%1.2f%%', legend=False)\n",
    ")\n",
    "plt.show()"
   ]
  },
  {
   "cell_type": "markdown",
   "metadata": {},
   "source": [
    "Топ-5 жанров возглавляют ролевые игры (34%).\\\n",
    "Так же большая доля у боевиков (27.5%).\\\n",
    "Суммарно эти два жанра охватывают больше половины всего рынка (61.5%).\n",
    "\n",
    "Так же в топ-5 жанров представлены misc (6.7%), симуляторы (5.4%), файтинги (5%).\n",
    "\n",
    "Доля топ-5 жанров от всего рынка составляет 79%."
   ]
  },
  {
   "cell_type": "markdown",
   "metadata": {},
   "source": [
    "**Рейтинг ESRB для Японии**"
   ]
  },
  {
   "cell_type": "code",
   "execution_count": 49,
   "metadata": {},
   "outputs": [
    {
     "data": {
      "image/png": "[encoded data removed]",
      "text/plain": [
       "<Figure size 432x288 with 1 Axes>"
      ]
     },
     "metadata": {},
     "output_type": "display_data"
    }
   ],
   "source": [
    "#JP ESRB\n",
    "(\n",
    "    data\n",
    "    .pivot_table(index='rating', values='jp_share', aggfunc='sum')\n",
    "    .sort_values(by='jp_share', ascending=False)\n",
    "    .plot(kind='pie', y='jp_share', grid=True, autopct='%1.2f%%', legend=False)\n",
    ")\n",
    "plt.show()"
   ]
  },
  {
   "cell_type": "markdown",
   "metadata": {},
   "source": [
    "Более половины рынка составляют игры с отсутствующим (undefind) рейтингом (56.5%).\\\n",
    "В целом нельзя выделить какой-то рейтинг, который продавался бы лучше всех, разница в долях небольшая.\\\n",
    "Хуже всех продаются игры с рейтингом E10+ (для всех старше 10 лет)."
   ]
  },
  {
   "cell_type": "markdown",
   "metadata": {},
   "source": [
    "#### Вывод по подразделу"
   ]
  },
  {
   "cell_type": "markdown",
   "metadata": {},
   "source": [
    "По полученным данным можно составить средний портрет пользователя:\n",
    "- `Северная Америка.` Популярны платформы X360, PS4, PS3, XOne. Самые популярные жанры боевики и шутеры. Лучше всего продаются игры с рейтингом M (для взрослых).\n",
    "\n",
    "- `Европа.` Популярны платформы серии PS (3 и 4). Самые популярные жанры боевики и шутеры. Лучше всего продаются игры с рейтингом M (для взрослых).\n",
    "\n",
    "- `Япония.` Популярна платформа 3DS. Самые популярные жанры ролевые игры и боевики. Рейтинг практически не влияет на продажи. Хуже всего продаются игры с рейтигом E10+ (для всех старше 10 лет).\n",
    "\n",
    "В целом, портрет пользователя из Северной Америки и Европы очень похож. Возможно, это сказывается близость культур. Портрет для пользователя из Японии сильно отличается - популярны другие платформы и жанры игр."
   ]
  },
  {
   "cell_type": "markdown",
   "metadata": {},
   "source": [
    "## Проверьте гипотезы"
   ]
  },
  {
   "cell_type": "markdown",
   "metadata": {},
   "source": [
    "### Средние пользовательские рейтинги платформ Xbox One и PC одинаковые"
   ]
  },
  {
   "cell_type": "markdown",
   "metadata": {},
   "source": [
    "Алгоритм проверки гипотезы начнём с формирования нулевой гипотезы Н0 и альтернативной гипотезы Н1.\n",
    "Н0 всегда формируется так, что бы использовать знак равенства.\n",
    "\n",
    "`Нулевая гипотеза Н0` - средняя пользовательские рейтинги платформ Xbox One и PC равны;\\\n",
    "`Альтернативная гипотеза Н1` - средняя пользовательские рейтинги платформ Xbox One и PC не равны.\n",
    "\n",
    "Перед проверкой гипотез визуализируем распределения выборок с помощью гистрограммы."
   ]
  },
  {
   "cell_type": "code",
   "execution_count": 50,
   "metadata": {},
   "outputs": [
    {
     "data": {
      "image/png": "[encoded data removed]",
      "text/plain": [
       "<Figure size 432x288 with 1 Axes>"
      ]
     },
     "metadata": {
      "needs_background": "light"
     },
     "output_type": "display_data"
    }
   ],
   "source": [
    "#Получим срез по XOne и построим распределение\n",
    "data.query('platform == \"XOne\"')['user_score'].hist(bins=20)\n",
    "plt.title('Гистограмма распределения пользовательских оценок игр на платформе XOne')\n",
    "plt.show()"
   ]
  },
  {
   "cell_type": "markdown",
   "metadata": {},
   "source": [
    "Распределение похоже на нормальное, со скошенностью влево."
   ]
  },
  {
   "cell_type": "code",
   "execution_count": 51,
   "metadata": {},
   "outputs": [
    {
     "data": {
      "image/png": "[encoded data removed]",
      "text/plain": [
       "<Figure size 432x288 with 1 Axes>"
      ]
     },
     "metadata": {
      "needs_background": "light"
     },
     "output_type": "display_data"
    }
   ],
   "source": [
    "#Получим срез по PC и построим распределение\n",
    "data.query('platform == \"PC\"')['user_score'].hist(bins=20)\n",
    "plt.title('Гистограмма распределения пользовательских оценок игр на платформе PC')\n",
    "plt.show()"
   ]
  },
  {
   "cell_type": "markdown",
   "metadata": {},
   "source": [
    "Распределение похоже на нормальное, со скошенностью влево."
   ]
  },
  {
   "cell_type": "markdown",
   "metadata": {},
   "source": [
    "Для проверки гипотезы о равенстве среднего двух совокупностей применим метод `scipy.stats.ttest_ind()`.\\\n",
    "Уровень значимости (alpha) зададим = 5%.\\\n",
    "Выборки не схожи по параметрам, скорее всего дисперсии различны, зададим параметр `equal_var = False`."
   ]
  },
  {
   "cell_type": "code",
   "execution_count": 52,
   "metadata": {},
   "outputs": [
    {
     "name": "stdout",
     "output_type": "stream",
     "text": [
      "p-значение:  0.5489537965134426\n",
      "Не получилось отвергнуть нулевую гипотезу\n"
     ]
    }
   ],
   "source": [
    "#Дисперсии выборок не равны, зададим параметр equal_var = False\n",
    "alpha = .05\n",
    "\n",
    "results = st.ttest_ind(\n",
    "    data.query('platform == \"XOne\"')['user_score'], \n",
    "    data.query('platform == \"PC\"')['user_score'],\n",
    "    equal_var = False,\n",
    "    nan_policy='omit'\n",
    ")\n",
    "\n",
    "print('p-значение: ', results.pvalue)\n",
    "\n",
    "if results.pvalue < alpha:\n",
    "    print(\"Отвергаем нулевую гипотезу\")\n",
    "else:\n",
    "    print(\"Не получилось отвергнуть нулевую гипотезу\")"
   ]
  },
  {
   "cell_type": "markdown",
   "metadata": {},
   "source": [
    "#### Вывод по подразделу"
   ]
  },
  {
   "cell_type": "markdown",
   "metadata": {},
   "source": [
    "Не получилось отвергнуть H0. `P-value = 0.55`.\\\n",
    "В результате есть основания пологать, основная гипотеза верна - средние пользовательские рейтинги платформ Xbox One и PC одинаковые."
   ]
  },
  {
   "cell_type": "markdown",
   "metadata": {},
   "source": [
    "### Средние пользовательские рейтинги жанров Action (англ. «действие», экшен-игры) и Sports (англ. «спортивные соревнования») разные."
   ]
  },
  {
   "cell_type": "markdown",
   "metadata": {},
   "source": [
    "`Нулевая гипотеза Н0` - средняя пользовательские рейтинги жанров Action и Sports равны;\\\n",
    "`Альтернативная гипотеза Н1` - средняя пользовательские рейтинги жанров Action и Sports не равны.\n",
    "\n",
    "Перед проверкой гипотез визуализируем распределения выборок с помощью гистрограммы."
   ]
  },
  {
   "cell_type": "code",
   "execution_count": 53,
   "metadata": {
    "scrolled": true
   },
   "outputs": [
    {
     "data": {
      "image/png": "[encoded data removed]",
      "text/plain": [
       "<Figure size 432x288 with 1 Axes>"
      ]
     },
     "metadata": {
      "needs_background": "light"
     },
     "output_type": "display_data"
    }
   ],
   "source": [
    "#Получим срез по Action и построим распределение\n",
    "data.query('genre == \"Action\"')['user_score'].hist(bins=15)\n",
    "plt.title('Гистограмма распределения пользовательских оценок игр в жанре Action')\n",
    "plt.show()"
   ]
  },
  {
   "cell_type": "markdown",
   "metadata": {},
   "source": [
    "Пик значений в районе 8. Распределение напоминает на нормальное со скошенностью влево."
   ]
  },
  {
   "cell_type": "code",
   "execution_count": 54,
   "metadata": {},
   "outputs": [
    {
     "data": {
      "image/png": "[encoded data removed]",
      "text/plain": [
       "<Figure size 432x288 with 1 Axes>"
      ]
     },
     "metadata": {
      "needs_background": "light"
     },
     "output_type": "display_data"
    }
   ],
   "source": [
    "#Получим срез по Sports и построим распределение\n",
    "data.query('genre == \"Sports\"')['user_score'].hist(bins=15)\n",
    "plt.title('Гистограмма распределения пользовательских оценок игр в жанре Sports')\n",
    "plt.show()"
   ]
  },
  {
   "cell_type": "markdown",
   "metadata": {},
   "source": [
    "Выделяется пик в районе 6. Распределение не похоже на нормальное."
   ]
  },
  {
   "cell_type": "markdown",
   "metadata": {},
   "source": [
    "Уровень значимости (alpha) зададим = 5%.\\\n",
    "Выборки не схожи по параметрам, скорее всего дисперсии различны, зададим параметр `equal_var = False`."
   ]
  },
  {
   "cell_type": "code",
   "execution_count": 55,
   "metadata": {},
   "outputs": [
    {
     "name": "stdout",
     "output_type": "stream",
     "text": [
      "p-значение:  4.2430777657264175e-20\n",
      "Отвергаем нулевую гипотезу\n"
     ]
    }
   ],
   "source": [
    "#Дисперсии выборок не равны, зададим параметр equal_var = False\n",
    "alpha = .05\n",
    "\n",
    "results = st.ttest_ind(\n",
    "    data.query('genre == \"Action\"')['user_score'], \n",
    "    data.query('genre == \"Sports\"')['user_score'],\n",
    "    equal_var = False,\n",
    "    nan_policy='omit'\n",
    ")\n",
    "\n",
    "print('p-значение: ', results.pvalue)\n",
    "\n",
    "if results.pvalue < alpha:\n",
    "    print(\"Отвергаем нулевую гипотезу\")\n",
    "else:\n",
    "    print(\"Не получилось отвергнуть нулевую гипотезу\")"
   ]
  },
  {
   "cell_type": "markdown",
   "metadata": {},
   "source": [
    "#### Вывод по подразделу"
   ]
  },
  {
   "cell_type": "markdown",
   "metadata": {},
   "source": [
    "Отвергаем Н0. `P-value = <5%`.\\\n",
    "В результате есть основания пологать, основная гипотеза верна - cредние пользовательские рейтинги жанров Action и Sports разные."
   ]
  },
  {
   "cell_type": "markdown",
   "metadata": {},
   "source": [
    "### Общий вывод по разделу"
   ]
  },
  {
   "cell_type": "markdown",
   "metadata": {},
   "source": [
    "В результате проведения t-теста были изучены две гипотезы.\n",
    "\n",
    "1) Гипотеза о том, что средние пользовательские рейтинги платформ Xbox One и PC одинаковые подтвердилась.\\\n",
    "2) Гипотеза о том, что средние пользовательские рейтинги жанров Action и Sports разные так же подтвердилась.\n",
    "\n",
    "В каждой из гипотез имеется 2 генеральные (независимые) совокупностей. Поэтому, для проверки гипотез о равенстве среднего двух совокупностей в исследовании применяли метод `scipy.stats.ttest_ind()`."
   ]
  },
  {
   "cell_type": "markdown",
   "metadata": {},
   "source": [
    "## Общий вывод"
   ]
  },
  {
   "cell_type": "markdown",
   "metadata": {},
   "source": [
    "В результате исследования был проведен анализ данных о компьютерных играх по 2016 год. \n",
    "\n",
    "Была выполнена предобработка данных, получены значения, необходимые для анализа данных.\n",
    "\n",
    "В ходе исследователького анализа данных было выявлено несколько важных закономерностей:\n",
    "1) Выявлен актуальный период для анализа и прогноза - с 2012 по 2016 год;\\\n",
    "2) Потенциально прибыльные платформы в будущем - PS4, XOne, 3DS;\\\n",
    "3) Установлено, что на продажи игр влияет оценки критиков и практически не влияют оценки пользователей;\\\n",
    "4) Самыми продаваевыми играми по жанрам являются боевики (около 430 млн копий), шутеры (около 300 млн копий), ролевые игры (около 200 млн копий).\\\n",
    "5) Определены портреты пользователей для разных регионов. В целом портрет пользователей из Северной Америки и Европы похож друг на друга, но сильно отличается от пользователя в Японии. Это говорит о том, в зависимости от региона нужно учитывать его особенности (самая популярная площадка, жанр игры, рейтинг ESRB).\n",
    "\n",
    "С помощью статистических методов были проверены 2 гипотезы:\n",
    "1) Средние пользовательские рейтинги платформ Xbox One и PC одинаковые;\\\n",
    "2) Средние пользовательские рейтинги жанров Action и Sports разные.\\\n",
    "Есть все основания утрвеждать, что обе гипотезы верны.\n",
    "\n",
    "**Основная цель исследования - выявить определяющие успешность игры закономерности.**\n",
    "\n",
    "Факторы, влияющие на успешность игры:\n",
    "- платформа, на которую она выпускается;\n",
    "- жанр игры;\n",
    "- оценки профессиональных критиков.\n",
    "\n",
    "Это универсальные факторы, которые необходимо учитывать в любом регионе. В то же время, в анализе данных была установлена региональная специфика. Например, рейтинг ESRB практически не влияет на продажи только в Японии.\n",
    "\n",
    "Так же, в разных регионах нужно делать ставку на разных платформах и жанрах игр.\n",
    "\n",
    "В Японии потенциально успешными будут игры в жанрах ролевые игры и боевики на платформе 3DS.\n",
    "\n",
    "В Северной Америке и в Европе пользоваться успехом будут игры в жанрах боевики и шутеры на платформах XBox (разных поколений) и PS (разных поколений), с рейтингом ESRB для взрослых."
   ]
  },
  {
   "cell_type": "code",
   "execution_count": null,
   "metadata": {},
   "outputs": [],
   "source": []
  }
 ],
 "metadata": {
  "ExecuteTimeLog": [
   {
    "duration": 981,
    "start_time": "2022-01-17T19:17:15.812Z"
   },
   {
    "duration": 20,
    "start_time": "2022-01-17T19:17:23.805Z"
   },
   {
    "duration": 9,
    "start_time": "2022-01-17T19:17:35.531Z"
   },
   {
    "duration": 9,
    "start_time": "2022-01-17T19:18:23.171Z"
   },
   {
    "duration": 18,
    "start_time": "2022-01-17T19:19:41.912Z"
   },
   {
    "duration": 10,
    "start_time": "2022-01-17T19:24:24.763Z"
   },
   {
    "duration": 17,
    "start_time": "2022-01-17T19:25:24.454Z"
   },
   {
    "duration": 17,
    "start_time": "2022-01-17T19:29:17.283Z"
   },
   {
    "duration": 17,
    "start_time": "2022-01-17T19:29:47.992Z"
   },
   {
    "duration": 4,
    "start_time": "2022-01-17T19:36:57.404Z"
   },
   {
    "duration": 3,
    "start_time": "2022-01-17T19:41:12.706Z"
   },
   {
    "duration": 10,
    "start_time": "2022-01-17T19:41:29.697Z"
   },
   {
    "duration": 11,
    "start_time": "2022-01-17T19:44:26.402Z"
   },
   {
    "duration": 8,
    "start_time": "2022-01-17T19:44:31.251Z"
   },
   {
    "duration": 7,
    "start_time": "2022-01-17T19:47:38.562Z"
   },
   {
    "duration": 496,
    "start_time": "2022-01-17T19:49:30.421Z"
   },
   {
    "duration": 6,
    "start_time": "2022-01-17T19:49:53.004Z"
   },
   {
    "duration": 10,
    "start_time": "2022-01-17T19:50:47.924Z"
   },
   {
    "duration": 13,
    "start_time": "2022-01-17T19:51:29.742Z"
   },
   {
    "duration": 7,
    "start_time": "2022-01-17T19:51:43.278Z"
   },
   {
    "duration": 1287,
    "start_time": "2022-01-17T19:51:49.778Z"
   },
   {
    "duration": 9,
    "start_time": "2022-01-17T19:51:55.802Z"
   },
   {
    "duration": 5,
    "start_time": "2022-01-17T19:52:09.687Z"
   },
   {
    "duration": 5,
    "start_time": "2022-01-17T19:52:38.608Z"
   },
   {
    "duration": 5,
    "start_time": "2022-01-17T19:53:43.197Z"
   },
   {
    "duration": 10,
    "start_time": "2022-01-17T19:53:54.977Z"
   },
   {
    "duration": 7,
    "start_time": "2022-01-17T19:55:36.474Z"
   },
   {
    "duration": 7,
    "start_time": "2022-01-17T19:58:12.519Z"
   },
   {
    "duration": 61,
    "start_time": "2022-01-17T19:58:34.766Z"
   },
   {
    "duration": 64,
    "start_time": "2022-01-17T19:58:42.540Z"
   },
   {
    "duration": 1411,
    "start_time": "2022-01-17T19:58:49.806Z"
   },
   {
    "duration": 6,
    "start_time": "2022-01-17T19:59:04.848Z"
   },
   {
    "duration": 195,
    "start_time": "2022-01-17T20:04:11.412Z"
   },
   {
    "duration": 9,
    "start_time": "2022-01-17T20:05:12.984Z"
   },
   {
    "duration": 7,
    "start_time": "2022-01-17T20:06:10.273Z"
   },
   {
    "duration": 7,
    "start_time": "2022-01-17T20:06:44.077Z"
   },
   {
    "duration": 7,
    "start_time": "2022-01-17T20:06:51.949Z"
   },
   {
    "duration": 15,
    "start_time": "2022-01-17T20:08:55.021Z"
   },
   {
    "duration": 14,
    "start_time": "2022-01-17T20:09:28.418Z"
   },
   {
    "duration": 13,
    "start_time": "2022-01-17T20:09:37.923Z"
   },
   {
    "duration": 188,
    "start_time": "2022-01-17T20:09:47.011Z"
   },
   {
    "duration": 8,
    "start_time": "2022-01-17T20:09:53.539Z"
   },
   {
    "duration": 7,
    "start_time": "2022-01-17T20:10:11.707Z"
   },
   {
    "duration": 1365,
    "start_time": "2022-01-17T20:11:02.812Z"
   },
   {
    "duration": 6,
    "start_time": "2022-01-17T20:11:06.464Z"
   },
   {
    "duration": 1021,
    "start_time": "2022-01-17T20:13:17.071Z"
   },
   {
    "duration": 22,
    "start_time": "2022-01-17T20:13:18.093Z"
   },
   {
    "duration": 4,
    "start_time": "2022-01-17T20:13:18.116Z"
   },
   {
    "duration": 14,
    "start_time": "2022-01-17T20:13:18.121Z"
   },
   {
    "duration": 9,
    "start_time": "2022-01-17T20:13:18.137Z"
   },
   {
    "duration": 7,
    "start_time": "2022-01-17T20:13:18.148Z"
   },
   {
    "duration": 8,
    "start_time": "2022-01-17T20:13:31.669Z"
   },
   {
    "duration": 8,
    "start_time": "2022-01-17T20:13:44.884Z"
   },
   {
    "duration": 7,
    "start_time": "2022-01-17T20:13:52.249Z"
   },
   {
    "duration": 10,
    "start_time": "2022-01-17T20:14:00.316Z"
   },
   {
    "duration": 9,
    "start_time": "2022-01-17T20:40:18.440Z"
   },
   {
    "duration": 7,
    "start_time": "2022-01-17T20:40:19.665Z"
   },
   {
    "duration": 973,
    "start_time": "2022-01-17T20:40:59.133Z"
   },
   {
    "duration": 21,
    "start_time": "2022-01-17T20:41:00.108Z"
   },
   {
    "duration": 3,
    "start_time": "2022-01-17T20:41:00.131Z"
   },
   {
    "duration": 13,
    "start_time": "2022-01-17T20:41:00.136Z"
   },
   {
    "duration": 11,
    "start_time": "2022-01-17T20:41:00.151Z"
   },
   {
    "duration": 934,
    "start_time": "2022-01-17T20:42:51.268Z"
   },
   {
    "duration": 24,
    "start_time": "2022-01-17T20:42:52.203Z"
   },
   {
    "duration": 4,
    "start_time": "2022-01-17T20:42:52.228Z"
   },
   {
    "duration": 12,
    "start_time": "2022-01-17T20:42:52.234Z"
   },
   {
    "duration": 12,
    "start_time": "2022-01-17T20:42:52.247Z"
   },
   {
    "duration": 971,
    "start_time": "2022-01-18T14:21:45.577Z"
   },
   {
    "duration": 19,
    "start_time": "2022-01-18T14:21:46.550Z"
   },
   {
    "duration": 3,
    "start_time": "2022-01-18T14:21:46.571Z"
   },
   {
    "duration": 15,
    "start_time": "2022-01-18T14:21:46.575Z"
   },
   {
    "duration": 7,
    "start_time": "2022-01-18T14:21:46.591Z"
   },
   {
    "duration": 6,
    "start_time": "2022-01-18T14:22:00.695Z"
   },
   {
    "duration": 1535,
    "start_time": "2022-01-18T17:12:09.498Z"
   },
   {
    "duration": 34,
    "start_time": "2022-01-18T17:12:11.036Z"
   },
   {
    "duration": 6,
    "start_time": "2022-01-18T17:12:11.075Z"
   },
   {
    "duration": 30,
    "start_time": "2022-01-18T17:12:11.085Z"
   },
   {
    "duration": 12,
    "start_time": "2022-01-18T17:12:11.118Z"
   },
   {
    "duration": 16,
    "start_time": "2022-01-18T17:13:29.258Z"
   },
   {
    "duration": 33,
    "start_time": "2022-01-18T17:13:39.060Z"
   },
   {
    "duration": 7,
    "start_time": "2022-01-18T17:15:31.593Z"
   },
   {
    "duration": 7,
    "start_time": "2022-01-18T17:15:51.850Z"
   },
   {
    "duration": 40,
    "start_time": "2022-01-18T17:16:50.334Z"
   },
   {
    "duration": 38,
    "start_time": "2022-01-18T17:17:12.199Z"
   },
   {
    "duration": 16,
    "start_time": "2022-01-18T17:17:22.373Z"
   },
   {
    "duration": 45,
    "start_time": "2022-01-18T17:17:35.418Z"
   },
   {
    "duration": 9,
    "start_time": "2022-01-18T17:17:49.639Z"
   },
   {
    "duration": 9,
    "start_time": "2022-01-18T17:18:42.325Z"
   },
   {
    "duration": 13,
    "start_time": "2022-01-18T17:18:57.830Z"
   },
   {
    "duration": 1489,
    "start_time": "2022-01-18T17:19:26.996Z"
   },
   {
    "duration": 37,
    "start_time": "2022-01-18T17:19:28.488Z"
   },
   {
    "duration": 6,
    "start_time": "2022-01-18T17:19:28.529Z"
   },
   {
    "duration": 50,
    "start_time": "2022-01-18T17:19:28.539Z"
   },
   {
    "duration": 11,
    "start_time": "2022-01-18T17:19:28.592Z"
   },
   {
    "duration": 17,
    "start_time": "2022-01-18T17:19:28.606Z"
   },
   {
    "duration": 46,
    "start_time": "2022-01-18T17:19:28.625Z"
   },
   {
    "duration": 8,
    "start_time": "2022-01-18T17:20:18.199Z"
   },
   {
    "duration": 7,
    "start_time": "2022-01-18T17:20:58.117Z"
   },
   {
    "duration": 8,
    "start_time": "2022-01-18T17:21:01.248Z"
   },
   {
    "duration": 15,
    "start_time": "2022-01-18T17:21:08.756Z"
   },
   {
    "duration": 421,
    "start_time": "2022-01-18T17:21:16.976Z"
   },
   {
    "duration": 268,
    "start_time": "2022-01-18T17:21:21.799Z"
   },
   {
    "duration": 7,
    "start_time": "2022-01-18T17:21:28.716Z"
   },
   {
    "duration": 5,
    "start_time": "2022-01-18T17:22:01.714Z"
   },
   {
    "duration": 14,
    "start_time": "2022-01-18T17:22:38.381Z"
   },
   {
    "duration": 19,
    "start_time": "2022-01-18T17:22:46.523Z"
   },
   {
    "duration": 7,
    "start_time": "2022-01-18T17:24:40.133Z"
   },
   {
    "duration": 32,
    "start_time": "2022-01-18T17:28:28.313Z"
   },
   {
    "duration": 32,
    "start_time": "2022-01-18T17:29:08.661Z"
   },
   {
    "duration": 33,
    "start_time": "2022-01-18T17:29:30.430Z"
   },
   {
    "duration": 38,
    "start_time": "2022-01-18T17:30:57.275Z"
   },
   {
    "duration": 36,
    "start_time": "2022-01-18T17:31:32.495Z"
   },
   {
    "duration": 11,
    "start_time": "2022-01-18T17:32:03.250Z"
   },
   {
    "duration": 130,
    "start_time": "2022-01-18T17:32:32.793Z"
   },
   {
    "duration": 10,
    "start_time": "2022-01-18T17:32:38.032Z"
   },
   {
    "duration": 10,
    "start_time": "2022-01-18T17:32:54.586Z"
   },
   {
    "duration": 31,
    "start_time": "2022-01-18T17:33:11.630Z"
   },
   {
    "duration": 12,
    "start_time": "2022-01-18T17:33:35.981Z"
   },
   {
    "duration": 10,
    "start_time": "2022-01-18T17:33:42.900Z"
   },
   {
    "duration": 32,
    "start_time": "2022-01-18T17:37:29.627Z"
   },
   {
    "duration": 293,
    "start_time": "2022-01-18T17:42:15.620Z"
   },
   {
    "duration": 14,
    "start_time": "2022-01-18T17:45:17.822Z"
   },
   {
    "duration": 15,
    "start_time": "2022-01-18T17:45:25.023Z"
   },
   {
    "duration": 9,
    "start_time": "2022-01-18T17:45:53.733Z"
   },
   {
    "duration": 272,
    "start_time": "2022-01-18T17:46:01.653Z"
   },
   {
    "duration": 7,
    "start_time": "2022-01-18T17:46:08.205Z"
   },
   {
    "duration": 6,
    "start_time": "2022-01-18T17:46:54.062Z"
   },
   {
    "duration": 6,
    "start_time": "2022-01-18T17:47:05.601Z"
   },
   {
    "duration": 10,
    "start_time": "2022-01-18T17:47:41.728Z"
   },
   {
    "duration": 9,
    "start_time": "2022-01-18T17:47:54.320Z"
   },
   {
    "duration": 1905,
    "start_time": "2022-01-18T17:48:05.072Z"
   },
   {
    "duration": 34,
    "start_time": "2022-01-18T17:48:06.979Z"
   },
   {
    "duration": 4,
    "start_time": "2022-01-18T17:48:07.071Z"
   },
   {
    "duration": 25,
    "start_time": "2022-01-18T17:48:07.077Z"
   },
   {
    "duration": 10,
    "start_time": "2022-01-18T17:48:07.104Z"
   },
   {
    "duration": 59,
    "start_time": "2022-01-18T17:48:07.116Z"
   },
   {
    "duration": 7,
    "start_time": "2022-01-18T17:48:07.177Z"
   },
   {
    "duration": 10,
    "start_time": "2022-01-18T17:48:07.188Z"
   },
   {
    "duration": 7,
    "start_time": "2022-01-18T17:48:07.201Z"
   },
   {
    "duration": 61,
    "start_time": "2022-01-18T17:48:07.210Z"
   },
   {
    "duration": 19,
    "start_time": "2022-01-18T17:48:07.273Z"
   },
   {
    "duration": 25,
    "start_time": "2022-01-18T17:48:07.295Z"
   },
   {
    "duration": 14,
    "start_time": "2022-01-18T17:48:49.489Z"
   },
   {
    "duration": 12,
    "start_time": "2022-01-18T17:49:19.199Z"
   },
   {
    "duration": 1510,
    "start_time": "2022-01-18T17:49:56.579Z"
   },
   {
    "duration": 37,
    "start_time": "2022-01-18T17:49:58.092Z"
   },
   {
    "duration": 6,
    "start_time": "2022-01-18T17:49:58.133Z"
   },
   {
    "duration": 45,
    "start_time": "2022-01-18T17:49:58.142Z"
   },
   {
    "duration": 12,
    "start_time": "2022-01-18T17:49:58.189Z"
   },
   {
    "duration": 11,
    "start_time": "2022-01-18T17:49:58.203Z"
   },
   {
    "duration": 12,
    "start_time": "2022-01-18T17:49:58.216Z"
   },
   {
    "duration": 13,
    "start_time": "2022-01-18T17:49:58.231Z"
   },
   {
    "duration": 8,
    "start_time": "2022-01-18T17:49:58.279Z"
   },
   {
    "duration": 11,
    "start_time": "2022-01-18T17:49:58.290Z"
   },
   {
    "duration": 10,
    "start_time": "2022-01-18T17:49:58.303Z"
   },
   {
    "duration": 23,
    "start_time": "2022-01-18T17:49:58.315Z"
   },
   {
    "duration": 417,
    "start_time": "2022-01-18T17:51:01.394Z"
   },
   {
    "duration": 6,
    "start_time": "2022-01-18T17:51:10.724Z"
   },
   {
    "duration": 6,
    "start_time": "2022-01-18T17:51:16.427Z"
   },
   {
    "duration": 8,
    "start_time": "2022-01-18T17:51:17.868Z"
   },
   {
    "duration": 14,
    "start_time": "2022-01-18T17:51:40.769Z"
   },
   {
    "duration": 1431,
    "start_time": "2022-01-18T17:51:50.547Z"
   },
   {
    "duration": 36,
    "start_time": "2022-01-18T17:51:51.980Z"
   },
   {
    "duration": 4,
    "start_time": "2022-01-18T17:51:52.019Z"
   },
   {
    "duration": 21,
    "start_time": "2022-01-18T17:51:52.026Z"
   },
   {
    "duration": 26,
    "start_time": "2022-01-18T17:51:52.049Z"
   },
   {
    "duration": 12,
    "start_time": "2022-01-18T17:51:52.077Z"
   },
   {
    "duration": 9,
    "start_time": "2022-01-18T17:51:52.091Z"
   },
   {
    "duration": 21,
    "start_time": "2022-01-18T17:51:52.103Z"
   },
   {
    "duration": 18,
    "start_time": "2022-01-18T17:51:52.127Z"
   },
   {
    "duration": 27,
    "start_time": "2022-01-18T17:51:52.147Z"
   },
   {
    "duration": 9,
    "start_time": "2022-01-18T17:51:52.177Z"
   },
   {
    "duration": 14,
    "start_time": "2022-01-18T17:51:52.189Z"
   },
   {
    "duration": 24,
    "start_time": "2022-01-18T17:51:52.206Z"
   },
   {
    "duration": 479,
    "start_time": "2022-01-18T17:52:10.424Z"
   },
   {
    "duration": 6,
    "start_time": "2022-01-18T17:53:31.089Z"
   },
   {
    "duration": 7,
    "start_time": "2022-01-18T17:53:32.870Z"
   },
   {
    "duration": 1538,
    "start_time": "2022-01-18T17:53:41.665Z"
   },
   {
    "duration": 34,
    "start_time": "2022-01-18T17:53:43.205Z"
   },
   {
    "duration": 6,
    "start_time": "2022-01-18T17:53:43.242Z"
   },
   {
    "duration": 35,
    "start_time": "2022-01-18T17:53:43.250Z"
   },
   {
    "duration": 9,
    "start_time": "2022-01-18T17:53:43.287Z"
   },
   {
    "duration": 7,
    "start_time": "2022-01-18T17:53:43.299Z"
   },
   {
    "duration": 8,
    "start_time": "2022-01-18T17:53:43.308Z"
   },
   {
    "duration": 12,
    "start_time": "2022-01-18T17:53:43.318Z"
   },
   {
    "duration": 41,
    "start_time": "2022-01-18T17:53:43.333Z"
   },
   {
    "duration": 5,
    "start_time": "2022-01-18T17:53:43.377Z"
   },
   {
    "duration": 12,
    "start_time": "2022-01-18T17:53:43.384Z"
   },
   {
    "duration": 13,
    "start_time": "2022-01-18T17:53:43.398Z"
   },
   {
    "duration": 63,
    "start_time": "2022-01-18T17:53:43.414Z"
   },
   {
    "duration": 421,
    "start_time": "2022-01-18T17:56:07.954Z"
   },
   {
    "duration": 306,
    "start_time": "2022-01-18T17:56:37.621Z"
   },
   {
    "duration": 7,
    "start_time": "2022-01-18T17:56:46.773Z"
   },
   {
    "duration": 8,
    "start_time": "2022-01-18T17:56:49.059Z"
   },
   {
    "duration": 12,
    "start_time": "2022-01-18T17:56:50.657Z"
   },
   {
    "duration": 1400,
    "start_time": "2022-01-18T17:56:58.201Z"
   },
   {
    "duration": 34,
    "start_time": "2022-01-18T17:56:59.604Z"
   },
   {
    "duration": 5,
    "start_time": "2022-01-18T17:56:59.641Z"
   },
   {
    "duration": 41,
    "start_time": "2022-01-18T17:56:59.649Z"
   },
   {
    "duration": 15,
    "start_time": "2022-01-18T17:56:59.695Z"
   },
   {
    "duration": 7,
    "start_time": "2022-01-18T17:56:59.713Z"
   },
   {
    "duration": 9,
    "start_time": "2022-01-18T17:56:59.723Z"
   },
   {
    "duration": 48,
    "start_time": "2022-01-18T17:56:59.735Z"
   },
   {
    "duration": 23,
    "start_time": "2022-01-18T17:56:59.786Z"
   },
   {
    "duration": 11,
    "start_time": "2022-01-18T17:56:59.812Z"
   },
   {
    "duration": 15,
    "start_time": "2022-01-18T17:56:59.825Z"
   },
   {
    "duration": 15,
    "start_time": "2022-01-18T17:56:59.842Z"
   },
   {
    "duration": 24,
    "start_time": "2022-01-18T17:56:59.870Z"
   },
   {
    "duration": 6,
    "start_time": "2022-01-18T17:57:50.731Z"
   },
   {
    "duration": 7,
    "start_time": "2022-01-18T17:57:51.954Z"
   },
   {
    "duration": 11,
    "start_time": "2022-01-18T17:57:53.316Z"
   },
   {
    "duration": 1448,
    "start_time": "2022-01-18T17:58:01.140Z"
   },
   {
    "duration": 35,
    "start_time": "2022-01-18T17:58:02.590Z"
   },
   {
    "duration": 4,
    "start_time": "2022-01-18T17:58:02.628Z"
   },
   {
    "duration": 50,
    "start_time": "2022-01-18T17:58:02.635Z"
   },
   {
    "duration": 10,
    "start_time": "2022-01-18T17:58:02.687Z"
   },
   {
    "duration": 9,
    "start_time": "2022-01-18T17:58:02.699Z"
   },
   {
    "duration": 8,
    "start_time": "2022-01-18T17:58:02.710Z"
   },
   {
    "duration": 14,
    "start_time": "2022-01-18T17:58:02.721Z"
   },
   {
    "duration": 40,
    "start_time": "2022-01-18T17:58:02.738Z"
   },
   {
    "duration": 6,
    "start_time": "2022-01-18T17:58:02.781Z"
   },
   {
    "duration": 12,
    "start_time": "2022-01-18T17:58:02.789Z"
   },
   {
    "duration": 12,
    "start_time": "2022-01-18T17:58:02.803Z"
   },
   {
    "duration": 19,
    "start_time": "2022-01-18T17:58:02.818Z"
   },
   {
    "duration": 9,
    "start_time": "2022-01-18T18:00:01.880Z"
   },
   {
    "duration": 21,
    "start_time": "2022-01-18T18:00:04.550Z"
   },
   {
    "duration": 13,
    "start_time": "2022-01-18T18:00:37.383Z"
   },
   {
    "duration": 839,
    "start_time": "2022-01-18T18:01:36.316Z"
   },
   {
    "duration": 17,
    "start_time": "2022-01-18T18:01:49.722Z"
   },
   {
    "duration": 1440,
    "start_time": "2022-01-18T18:02:09.432Z"
   },
   {
    "duration": 35,
    "start_time": "2022-01-18T18:02:10.875Z"
   },
   {
    "duration": 5,
    "start_time": "2022-01-18T18:02:10.913Z"
   },
   {
    "duration": 24,
    "start_time": "2022-01-18T18:02:10.921Z"
   },
   {
    "duration": 29,
    "start_time": "2022-01-18T18:02:10.947Z"
   },
   {
    "duration": 7,
    "start_time": "2022-01-18T18:02:10.978Z"
   },
   {
    "duration": 11,
    "start_time": "2022-01-18T18:02:10.988Z"
   },
   {
    "duration": 20,
    "start_time": "2022-01-18T18:02:11.001Z"
   },
   {
    "duration": 64,
    "start_time": "2022-01-18T18:02:11.025Z"
   },
   {
    "duration": 1357,
    "start_time": "2022-01-18T18:12:11.116Z"
   },
   {
    "duration": 37,
    "start_time": "2022-01-18T18:12:12.476Z"
   },
   {
    "duration": 4,
    "start_time": "2022-01-18T18:12:12.522Z"
   },
   {
    "duration": 56,
    "start_time": "2022-01-18T18:12:12.529Z"
   },
   {
    "duration": 9,
    "start_time": "2022-01-18T18:12:12.588Z"
   },
   {
    "duration": 9,
    "start_time": "2022-01-18T18:12:12.599Z"
   },
   {
    "duration": 9,
    "start_time": "2022-01-18T18:12:12.610Z"
   },
   {
    "duration": 53,
    "start_time": "2022-01-18T18:12:12.622Z"
   },
   {
    "duration": 20,
    "start_time": "2022-01-18T18:12:12.678Z"
   },
   {
    "duration": 7,
    "start_time": "2022-01-18T18:12:59.925Z"
   },
   {
    "duration": 9,
    "start_time": "2022-01-18T18:19:20.955Z"
   },
   {
    "duration": 1725,
    "start_time": "2022-01-18T18:19:26.155Z"
   },
   {
    "duration": 35,
    "start_time": "2022-01-18T18:19:27.882Z"
   },
   {
    "duration": 6,
    "start_time": "2022-01-18T18:19:27.920Z"
   },
   {
    "duration": 26,
    "start_time": "2022-01-18T18:19:27.928Z"
   },
   {
    "duration": 8,
    "start_time": "2022-01-18T18:19:27.970Z"
   },
   {
    "duration": 10,
    "start_time": "2022-01-18T18:19:27.980Z"
   },
   {
    "duration": 9,
    "start_time": "2022-01-18T18:19:27.993Z"
   },
   {
    "duration": 19,
    "start_time": "2022-01-18T18:19:28.005Z"
   },
   {
    "duration": 46,
    "start_time": "2022-01-18T18:19:28.026Z"
   },
   {
    "duration": 17,
    "start_time": "2022-01-18T18:26:08.682Z"
   },
   {
    "duration": 14,
    "start_time": "2022-01-18T18:28:04.645Z"
   },
   {
    "duration": 15,
    "start_time": "2022-01-18T18:28:15.494Z"
   },
   {
    "duration": 15,
    "start_time": "2022-01-18T18:28:21.009Z"
   },
   {
    "duration": 18,
    "start_time": "2022-01-18T18:28:34.665Z"
   },
   {
    "duration": 423,
    "start_time": "2022-01-18T18:28:39.231Z"
   },
   {
    "duration": 24,
    "start_time": "2022-01-18T18:31:02.972Z"
   },
   {
    "duration": 15049,
    "start_time": "2022-01-18T18:31:29.767Z"
   },
   {
    "duration": 45,
    "start_time": "2022-01-18T18:32:06.912Z"
   },
   {
    "duration": 23,
    "start_time": "2022-01-18T18:32:19.556Z"
   },
   {
    "duration": 7197,
    "start_time": "2022-01-18T18:32:52.593Z"
   },
   {
    "duration": 40,
    "start_time": "2022-01-18T18:34:06.163Z"
   },
   {
    "duration": 33,
    "start_time": "2022-01-18T18:34:23.199Z"
   },
   {
    "duration": 37,
    "start_time": "2022-01-18T18:34:34.856Z"
   },
   {
    "duration": 27,
    "start_time": "2022-01-18T18:34:44.664Z"
   },
   {
    "duration": 33,
    "start_time": "2022-01-18T18:35:20.591Z"
   },
   {
    "duration": 9,
    "start_time": "2022-01-18T18:37:08.390Z"
   },
   {
    "duration": 21,
    "start_time": "2022-01-18T18:39:07.038Z"
   },
   {
    "duration": 28,
    "start_time": "2022-01-18T18:39:19.364Z"
   },
   {
    "duration": 18,
    "start_time": "2022-01-18T18:40:54.174Z"
   },
   {
    "duration": 14,
    "start_time": "2022-01-18T18:41:15.142Z"
   },
   {
    "duration": 13,
    "start_time": "2022-01-18T18:41:19.517Z"
   },
   {
    "duration": 341,
    "start_time": "2022-01-18T18:41:29.711Z"
   },
   {
    "duration": 98,
    "start_time": "2022-01-18T18:42:00.295Z"
   },
   {
    "duration": 21,
    "start_time": "2022-01-18T18:42:09.046Z"
   },
   {
    "duration": 7,
    "start_time": "2022-01-18T18:47:44.064Z"
   },
   {
    "duration": 13,
    "start_time": "2022-01-18T18:48:01.570Z"
   },
   {
    "duration": 10,
    "start_time": "2022-01-18T18:48:31.983Z"
   },
   {
    "duration": 21,
    "start_time": "2022-01-18T18:48:53.417Z"
   },
   {
    "duration": 25,
    "start_time": "2022-01-18T18:49:26.611Z"
   },
   {
    "duration": 1425,
    "start_time": "2022-01-18T18:51:07.167Z"
   },
   {
    "duration": 35,
    "start_time": "2022-01-18T18:51:08.595Z"
   },
   {
    "duration": 5,
    "start_time": "2022-01-18T18:51:08.637Z"
   },
   {
    "duration": 49,
    "start_time": "2022-01-18T18:51:08.644Z"
   },
   {
    "duration": 7,
    "start_time": "2022-01-18T18:51:08.695Z"
   },
   {
    "duration": 7,
    "start_time": "2022-01-18T18:51:08.705Z"
   },
   {
    "duration": 7,
    "start_time": "2022-01-18T18:51:08.715Z"
   },
   {
    "duration": 60,
    "start_time": "2022-01-18T18:51:08.725Z"
   },
   {
    "duration": 10,
    "start_time": "2022-01-18T18:51:08.788Z"
   },
   {
    "duration": 26,
    "start_time": "2022-01-18T18:51:08.801Z"
   },
   {
    "duration": 60,
    "start_time": "2022-01-18T18:51:08.829Z"
   },
   {
    "duration": 25,
    "start_time": "2022-01-18T18:51:08.892Z"
   },
   {
    "duration": 37,
    "start_time": "2022-01-18T18:52:29.066Z"
   },
   {
    "duration": 21,
    "start_time": "2022-01-18T18:53:32.247Z"
   },
   {
    "duration": 22,
    "start_time": "2022-01-18T18:53:36.336Z"
   },
   {
    "duration": 26,
    "start_time": "2022-01-18T18:53:39.695Z"
   },
   {
    "duration": 13,
    "start_time": "2022-01-18T19:10:10.692Z"
   },
   {
    "duration": 109,
    "start_time": "2022-01-18T19:12:43.276Z"
   },
   {
    "duration": 457,
    "start_time": "2022-01-18T19:13:12.773Z"
   },
   {
    "duration": 24,
    "start_time": "2022-01-18T19:15:06.904Z"
   },
   {
    "duration": 23,
    "start_time": "2022-01-18T19:15:18.996Z"
   },
   {
    "duration": 28,
    "start_time": "2022-01-18T19:16:46.546Z"
   },
   {
    "duration": 41,
    "start_time": "2022-01-18T19:16:57.433Z"
   },
   {
    "duration": 1429,
    "start_time": "2022-01-18T19:18:30.661Z"
   },
   {
    "duration": 36,
    "start_time": "2022-01-18T19:18:32.093Z"
   },
   {
    "duration": 4,
    "start_time": "2022-01-18T19:18:32.132Z"
   },
   {
    "duration": 39,
    "start_time": "2022-01-18T19:18:32.139Z"
   },
   {
    "duration": 14,
    "start_time": "2022-01-18T19:18:32.181Z"
   },
   {
    "duration": 9,
    "start_time": "2022-01-18T19:18:32.197Z"
   },
   {
    "duration": 37,
    "start_time": "2022-01-18T19:18:32.208Z"
   },
   {
    "duration": 23,
    "start_time": "2022-01-18T19:18:32.249Z"
   },
   {
    "duration": 18,
    "start_time": "2022-01-18T19:18:32.275Z"
   },
   {
    "duration": 25,
    "start_time": "2022-01-18T19:18:32.296Z"
   },
   {
    "duration": 21,
    "start_time": "2022-01-18T19:18:32.324Z"
   },
   {
    "duration": 41,
    "start_time": "2022-01-18T19:18:32.370Z"
   },
   {
    "duration": 25,
    "start_time": "2022-01-18T19:18:32.413Z"
   },
   {
    "duration": 19,
    "start_time": "2022-01-18T19:20:10.598Z"
   },
   {
    "duration": 53,
    "start_time": "2022-01-18T19:23:43.195Z"
   },
   {
    "duration": 32,
    "start_time": "2022-01-18T19:27:28.591Z"
   },
   {
    "duration": 24,
    "start_time": "2022-01-18T19:27:55.990Z"
   },
   {
    "duration": 24,
    "start_time": "2022-01-18T19:28:01.930Z"
   },
   {
    "duration": 1366,
    "start_time": "2022-01-18T19:34:32.815Z"
   },
   {
    "duration": 34,
    "start_time": "2022-01-18T19:34:34.184Z"
   },
   {
    "duration": 5,
    "start_time": "2022-01-18T19:34:34.221Z"
   },
   {
    "duration": 41,
    "start_time": "2022-01-18T19:34:34.229Z"
   },
   {
    "duration": 7,
    "start_time": "2022-01-18T19:34:34.272Z"
   },
   {
    "duration": 8,
    "start_time": "2022-01-18T19:34:34.282Z"
   },
   {
    "duration": 7,
    "start_time": "2022-01-18T19:34:34.292Z"
   },
   {
    "duration": 19,
    "start_time": "2022-01-18T19:34:34.301Z"
   },
   {
    "duration": 48,
    "start_time": "2022-01-18T19:34:34.324Z"
   },
   {
    "duration": 22,
    "start_time": "2022-01-18T19:34:34.375Z"
   },
   {
    "duration": 20,
    "start_time": "2022-01-18T19:34:34.399Z"
   },
   {
    "duration": 60,
    "start_time": "2022-01-18T19:34:34.422Z"
   },
   {
    "duration": 1446,
    "start_time": "2022-01-18T19:37:18.231Z"
   },
   {
    "duration": 35,
    "start_time": "2022-01-18T19:37:19.680Z"
   },
   {
    "duration": 5,
    "start_time": "2022-01-18T19:37:19.717Z"
   },
   {
    "duration": 22,
    "start_time": "2022-01-18T19:37:19.724Z"
   },
   {
    "duration": 7,
    "start_time": "2022-01-18T19:37:19.769Z"
   },
   {
    "duration": 10,
    "start_time": "2022-01-18T19:37:19.779Z"
   },
   {
    "duration": 8,
    "start_time": "2022-01-18T19:37:19.791Z"
   },
   {
    "duration": 19,
    "start_time": "2022-01-18T19:37:19.804Z"
   },
   {
    "duration": 51,
    "start_time": "2022-01-18T19:37:19.825Z"
   },
   {
    "duration": 28,
    "start_time": "2022-01-18T19:37:19.879Z"
   },
   {
    "duration": 61,
    "start_time": "2022-01-18T19:37:19.910Z"
   },
   {
    "duration": 19,
    "start_time": "2022-01-18T19:37:19.974Z"
   },
   {
    "duration": 1440,
    "start_time": "2022-01-18T19:51:11.357Z"
   },
   {
    "duration": 39,
    "start_time": "2022-01-18T19:51:12.801Z"
   },
   {
    "duration": 5,
    "start_time": "2022-01-18T19:51:12.843Z"
   },
   {
    "duration": 40,
    "start_time": "2022-01-18T19:51:12.850Z"
   },
   {
    "duration": 18,
    "start_time": "2022-01-18T19:51:12.893Z"
   },
   {
    "duration": 10,
    "start_time": "2022-01-18T19:51:12.914Z"
   },
   {
    "duration": 7,
    "start_time": "2022-01-18T19:51:12.926Z"
   },
   {
    "duration": 54,
    "start_time": "2022-01-18T19:51:12.935Z"
   },
   {
    "duration": 7,
    "start_time": "2022-01-18T19:51:12.992Z"
   },
   {
    "duration": 25,
    "start_time": "2022-01-18T19:51:13.001Z"
   },
   {
    "duration": 60,
    "start_time": "2022-01-18T19:51:13.029Z"
   },
   {
    "duration": 21,
    "start_time": "2022-01-18T19:51:13.092Z"
   },
   {
    "duration": 23,
    "start_time": "2022-01-18T19:52:28.963Z"
   },
   {
    "duration": 5,
    "start_time": "2022-01-18T19:53:37.762Z"
   },
   {
    "duration": 11,
    "start_time": "2022-01-18T19:54:16.617Z"
   },
   {
    "duration": 8,
    "start_time": "2022-01-18T19:54:40.456Z"
   },
   {
    "duration": 11,
    "start_time": "2022-01-18T19:55:52.177Z"
   },
   {
    "duration": 35,
    "start_time": "2022-01-18T19:56:02.278Z"
   },
   {
    "duration": 1433,
    "start_time": "2022-01-18T19:56:13.644Z"
   },
   {
    "duration": 36,
    "start_time": "2022-01-18T19:56:15.080Z"
   },
   {
    "duration": 4,
    "start_time": "2022-01-18T19:56:15.125Z"
   },
   {
    "duration": 55,
    "start_time": "2022-01-18T19:56:15.131Z"
   },
   {
    "duration": 7,
    "start_time": "2022-01-18T19:56:15.189Z"
   },
   {
    "duration": 8,
    "start_time": "2022-01-18T19:56:15.198Z"
   },
   {
    "duration": 8,
    "start_time": "2022-01-18T19:56:15.209Z"
   },
   {
    "duration": 56,
    "start_time": "2022-01-18T19:56:15.221Z"
   },
   {
    "duration": 9,
    "start_time": "2022-01-18T19:56:15.280Z"
   },
   {
    "duration": 23,
    "start_time": "2022-01-18T19:56:15.291Z"
   },
   {
    "duration": 19,
    "start_time": "2022-01-18T19:56:15.316Z"
   },
   {
    "duration": 20,
    "start_time": "2022-01-18T19:56:15.369Z"
   },
   {
    "duration": 7,
    "start_time": "2022-01-18T19:56:15.392Z"
   },
   {
    "duration": 28,
    "start_time": "2022-01-18T19:56:15.401Z"
   },
   {
    "duration": 26,
    "start_time": "2022-01-18T19:56:38.765Z"
   },
   {
    "duration": 28,
    "start_time": "2022-01-18T19:56:48.158Z"
   },
   {
    "duration": 27,
    "start_time": "2022-01-18T19:56:51.435Z"
   },
   {
    "duration": 31,
    "start_time": "2022-01-18T19:56:54.870Z"
   },
   {
    "duration": 35,
    "start_time": "2022-01-18T19:56:59.211Z"
   },
   {
    "duration": 22,
    "start_time": "2022-01-18T19:57:41.282Z"
   },
   {
    "duration": 22,
    "start_time": "2022-01-18T19:58:04.366Z"
   },
   {
    "duration": 1449,
    "start_time": "2022-01-18T20:08:05.940Z"
   },
   {
    "duration": 34,
    "start_time": "2022-01-18T20:08:07.392Z"
   },
   {
    "duration": 5,
    "start_time": "2022-01-18T20:08:07.430Z"
   },
   {
    "duration": 42,
    "start_time": "2022-01-18T20:08:07.437Z"
   },
   {
    "duration": 11,
    "start_time": "2022-01-18T20:08:07.481Z"
   },
   {
    "duration": 8,
    "start_time": "2022-01-18T20:08:07.494Z"
   },
   {
    "duration": 12,
    "start_time": "2022-01-18T20:08:07.505Z"
   },
   {
    "duration": 49,
    "start_time": "2022-01-18T20:08:07.520Z"
   },
   {
    "duration": 9,
    "start_time": "2022-01-18T20:08:07.573Z"
   },
   {
    "duration": 25,
    "start_time": "2022-01-18T20:08:07.584Z"
   },
   {
    "duration": 19,
    "start_time": "2022-01-18T20:08:07.612Z"
   },
   {
    "duration": 50,
    "start_time": "2022-01-18T20:08:07.633Z"
   },
   {
    "duration": 19,
    "start_time": "2022-01-18T20:08:07.686Z"
   },
   {
    "duration": 23,
    "start_time": "2022-01-18T20:08:07.707Z"
   },
   {
    "duration": 36,
    "start_time": "2022-01-18T20:10:02.765Z"
   },
   {
    "duration": 18,
    "start_time": "2022-01-18T20:11:13.275Z"
   },
   {
    "duration": 34,
    "start_time": "2022-01-18T20:11:39.406Z"
   },
   {
    "duration": 507,
    "start_time": "2022-01-18T20:12:01.715Z"
   },
   {
    "duration": 518,
    "start_time": "2022-01-18T20:14:37.736Z"
   },
   {
    "duration": 104,
    "start_time": "2022-01-18T20:17:18.237Z"
   },
   {
    "duration": 536,
    "start_time": "2022-01-18T20:17:52.224Z"
   },
   {
    "duration": 740,
    "start_time": "2022-01-18T20:21:45.224Z"
   },
   {
    "duration": 526,
    "start_time": "2022-01-18T20:21:56.426Z"
   },
   {
    "duration": 1040,
    "start_time": "2022-01-18T20:22:11.360Z"
   },
   {
    "duration": 83,
    "start_time": "2022-01-18T20:23:58.870Z"
   },
   {
    "duration": 541,
    "start_time": "2022-01-18T20:24:04.749Z"
   },
   {
    "duration": 546,
    "start_time": "2022-01-18T20:24:10.763Z"
   },
   {
    "duration": 568,
    "start_time": "2022-01-18T20:24:19.906Z"
   },
   {
    "duration": 548,
    "start_time": "2022-01-18T20:24:41.758Z"
   },
   {
    "duration": 582,
    "start_time": "2022-01-18T20:25:36.521Z"
   },
   {
    "duration": 658,
    "start_time": "2022-01-18T20:25:45.479Z"
   },
   {
    "duration": 555,
    "start_time": "2022-01-18T20:26:15.616Z"
   },
   {
    "duration": 651,
    "start_time": "2022-01-18T20:26:21.318Z"
   },
   {
    "duration": 595,
    "start_time": "2022-01-18T20:27:44.882Z"
   },
   {
    "duration": 645,
    "start_time": "2022-01-18T20:28:00.125Z"
   },
   {
    "duration": 843,
    "start_time": "2022-01-18T20:30:32.992Z"
   },
   {
    "duration": 1098,
    "start_time": "2022-01-19T15:09:56.432Z"
   },
   {
    "duration": 22,
    "start_time": "2022-01-19T15:09:57.532Z"
   },
   {
    "duration": 3,
    "start_time": "2022-01-19T15:09:57.556Z"
   },
   {
    "duration": 16,
    "start_time": "2022-01-19T15:09:57.561Z"
   },
   {
    "duration": 14,
    "start_time": "2022-01-19T15:09:57.578Z"
   },
   {
    "duration": 6,
    "start_time": "2022-01-19T15:09:57.594Z"
   },
   {
    "duration": 6,
    "start_time": "2022-01-19T15:09:57.602Z"
   },
   {
    "duration": 12,
    "start_time": "2022-01-19T15:09:57.627Z"
   },
   {
    "duration": 8,
    "start_time": "2022-01-19T15:09:57.640Z"
   },
   {
    "duration": 21,
    "start_time": "2022-01-19T15:09:57.649Z"
   },
   {
    "duration": 11,
    "start_time": "2022-01-19T15:09:57.671Z"
   },
   {
    "duration": 14,
    "start_time": "2022-01-19T15:09:57.683Z"
   },
   {
    "duration": 6,
    "start_time": "2022-01-19T15:09:57.699Z"
   },
   {
    "duration": 27,
    "start_time": "2022-01-19T15:09:57.707Z"
   },
   {
    "duration": 371,
    "start_time": "2022-01-19T15:09:57.736Z"
   },
   {
    "duration": 135,
    "start_time": "2022-01-19T15:10:17.938Z"
   },
   {
    "duration": 176,
    "start_time": "2022-01-19T15:10:53.735Z"
   },
   {
    "duration": 313,
    "start_time": "2022-01-19T15:13:09.263Z"
   },
   {
    "duration": 154,
    "start_time": "2022-01-19T15:13:20.028Z"
   },
   {
    "duration": 10,
    "start_time": "2022-01-19T15:14:00.607Z"
   },
   {
    "duration": 8,
    "start_time": "2022-01-19T15:14:36.369Z"
   },
   {
    "duration": 9,
    "start_time": "2022-01-19T15:14:45.306Z"
   },
   {
    "duration": 23,
    "start_time": "2022-01-19T15:15:01.874Z"
   },
   {
    "duration": 105,
    "start_time": "2022-01-19T15:18:27.980Z"
   },
   {
    "duration": 115,
    "start_time": "2022-01-19T15:18:49.633Z"
   },
   {
    "duration": 1421,
    "start_time": "2022-01-19T15:18:55.620Z"
   },
   {
    "duration": 20,
    "start_time": "2022-01-19T15:18:57.043Z"
   },
   {
    "duration": 3,
    "start_time": "2022-01-19T15:18:57.065Z"
   },
   {
    "duration": 66,
    "start_time": "2022-01-19T15:18:57.070Z"
   },
   {
    "duration": 4,
    "start_time": "2022-01-19T15:18:57.138Z"
   },
   {
    "duration": 9,
    "start_time": "2022-01-19T15:18:57.144Z"
   },
   {
    "duration": 8,
    "start_time": "2022-01-19T15:18:57.154Z"
   },
   {
    "duration": 63,
    "start_time": "2022-01-19T15:18:57.164Z"
   },
   {
    "duration": 4,
    "start_time": "2022-01-19T15:18:57.229Z"
   },
   {
    "duration": 15,
    "start_time": "2022-01-19T15:18:57.235Z"
   },
   {
    "duration": 11,
    "start_time": "2022-01-19T15:18:57.251Z"
   },
   {
    "duration": 67,
    "start_time": "2022-01-19T15:18:57.263Z"
   },
   {
    "duration": 4,
    "start_time": "2022-01-19T15:18:57.332Z"
   },
   {
    "duration": 15,
    "start_time": "2022-01-19T15:18:57.337Z"
   },
   {
    "duration": 401,
    "start_time": "2022-01-19T15:18:57.353Z"
   },
   {
    "duration": 104,
    "start_time": "2022-01-19T15:18:57.756Z"
   },
   {
    "duration": -3496,
    "start_time": "2022-01-19T15:19:01.358Z"
   },
   {
    "duration": 1446,
    "start_time": "2022-01-19T15:19:09.858Z"
   },
   {
    "duration": 15,
    "start_time": "2022-01-19T15:19:40.428Z"
   },
   {
    "duration": 12,
    "start_time": "2022-01-19T15:19:48.644Z"
   },
   {
    "duration": 1242,
    "start_time": "2022-01-19T18:02:09.064Z"
   },
   {
    "duration": 31,
    "start_time": "2022-01-19T18:02:10.308Z"
   },
   {
    "duration": 4,
    "start_time": "2022-01-19T18:02:10.342Z"
   },
   {
    "duration": 19,
    "start_time": "2022-01-19T18:02:10.349Z"
   },
   {
    "duration": 8,
    "start_time": "2022-01-19T18:02:10.370Z"
   },
   {
    "duration": 7,
    "start_time": "2022-01-19T18:02:10.380Z"
   },
   {
    "duration": 38,
    "start_time": "2022-01-19T18:02:10.389Z"
   },
   {
    "duration": 18,
    "start_time": "2022-01-19T18:02:10.431Z"
   },
   {
    "duration": 7,
    "start_time": "2022-01-19T18:02:10.452Z"
   },
   {
    "duration": 23,
    "start_time": "2022-01-19T18:02:10.461Z"
   },
   {
    "duration": 56,
    "start_time": "2022-01-19T18:02:10.485Z"
   },
   {
    "duration": 22,
    "start_time": "2022-01-19T18:02:10.543Z"
   },
   {
    "duration": 8,
    "start_time": "2022-01-19T18:02:10.567Z"
   },
   {
    "duration": 58,
    "start_time": "2022-01-19T18:02:10.578Z"
   },
   {
    "duration": 575,
    "start_time": "2022-01-19T18:02:10.638Z"
   },
   {
    "duration": 22,
    "start_time": "2022-01-19T18:02:11.215Z"
   },
   {
    "duration": 283,
    "start_time": "2022-01-19T18:02:11.240Z"
   },
   {
    "duration": 600,
    "start_time": "2022-01-19T18:02:53.616Z"
   },
   {
    "duration": 582,
    "start_time": "2022-01-19T18:03:03.089Z"
   },
   {
    "duration": 577,
    "start_time": "2022-01-19T18:05:17.541Z"
   },
   {
    "duration": 21,
    "start_time": "2022-01-19T18:11:37.275Z"
   },
   {
    "duration": 20,
    "start_time": "2022-01-19T18:16:00.019Z"
   },
   {
    "duration": 106,
    "start_time": "2022-01-19T18:20:09.894Z"
   },
   {
    "duration": 29,
    "start_time": "2022-01-19T18:20:18.170Z"
   },
   {
    "duration": 19,
    "start_time": "2022-01-19T18:20:35.900Z"
   },
   {
    "duration": 679,
    "start_time": "2022-01-19T18:22:25.354Z"
   },
   {
    "duration": 74,
    "start_time": "2022-01-19T18:27:32.590Z"
   },
   {
    "duration": 5,
    "start_time": "2022-01-19T18:27:46.919Z"
   },
   {
    "duration": 21,
    "start_time": "2022-01-19T18:29:53.692Z"
   },
   {
    "duration": 33,
    "start_time": "2022-01-19T18:30:10.136Z"
   },
   {
    "duration": 11,
    "start_time": "2022-01-19T18:30:24.596Z"
   },
   {
    "duration": 267,
    "start_time": "2022-01-19T18:30:43.307Z"
   },
   {
    "duration": 9,
    "start_time": "2022-01-19T18:31:10.785Z"
   },
   {
    "duration": 26,
    "start_time": "2022-01-19T18:32:46.100Z"
   },
   {
    "duration": 11,
    "start_time": "2022-01-19T18:33:11.959Z"
   },
   {
    "duration": 14,
    "start_time": "2022-01-19T18:33:33.947Z"
   },
   {
    "duration": 24,
    "start_time": "2022-01-19T18:35:40.866Z"
   },
   {
    "duration": 24,
    "start_time": "2022-01-19T18:36:54.421Z"
   },
   {
    "duration": 24,
    "start_time": "2022-01-19T18:37:16.984Z"
   },
   {
    "duration": 23,
    "start_time": "2022-01-19T18:38:17.987Z"
   },
   {
    "duration": 32,
    "start_time": "2022-01-19T18:38:34.297Z"
   },
   {
    "duration": 33,
    "start_time": "2022-01-19T18:45:11.072Z"
   },
   {
    "duration": 42,
    "start_time": "2022-01-19T18:45:30.952Z"
   },
   {
    "duration": 255,
    "start_time": "2022-01-19T18:45:56.315Z"
   },
   {
    "duration": 4979,
    "start_time": "2022-01-19T18:46:09.680Z"
   },
   {
    "duration": 465,
    "start_time": "2022-01-19T18:48:19.435Z"
   },
   {
    "duration": 468,
    "start_time": "2022-01-19T18:48:42.800Z"
   },
   {
    "duration": 531,
    "start_time": "2022-01-19T18:49:32.018Z"
   },
   {
    "duration": 619,
    "start_time": "2022-01-19T18:54:39.761Z"
   },
   {
    "duration": 36,
    "start_time": "2022-01-19T19:05:30.963Z"
   },
   {
    "duration": 16505,
    "start_time": "2022-01-19T19:06:14.221Z"
   },
   {
    "duration": 321,
    "start_time": "2022-01-19T19:07:16.485Z"
   },
   {
    "duration": 313,
    "start_time": "2022-01-19T19:07:35.185Z"
   },
   {
    "duration": 386,
    "start_time": "2022-01-19T19:08:15.616Z"
   },
   {
    "duration": 362,
    "start_time": "2022-01-19T19:08:23.145Z"
   },
   {
    "duration": 333,
    "start_time": "2022-01-19T19:08:33.512Z"
   },
   {
    "duration": 103,
    "start_time": "2022-01-19T19:08:53.317Z"
   },
   {
    "duration": 331,
    "start_time": "2022-01-19T19:08:57.868Z"
   },
   {
    "duration": 103,
    "start_time": "2022-01-19T19:13:47.907Z"
   },
   {
    "duration": 167,
    "start_time": "2022-01-19T19:14:10.781Z"
   },
   {
    "duration": 325,
    "start_time": "2022-01-19T19:14:21.839Z"
   },
   {
    "duration": 479,
    "start_time": "2022-01-19T19:14:56.135Z"
   },
   {
    "duration": 289,
    "start_time": "2022-01-19T19:15:20.084Z"
   },
   {
    "duration": 331,
    "start_time": "2022-01-19T19:15:37.045Z"
   },
   {
    "duration": 317,
    "start_time": "2022-01-19T19:16:48.809Z"
   },
   {
    "duration": 304,
    "start_time": "2022-01-19T19:17:43.092Z"
   },
   {
    "duration": 291,
    "start_time": "2022-01-19T19:18:08.758Z"
   },
   {
    "duration": 295,
    "start_time": "2022-01-19T19:18:34.993Z"
   },
   {
    "duration": 342,
    "start_time": "2022-01-19T19:20:09.248Z"
   },
   {
    "duration": 315,
    "start_time": "2022-01-19T19:20:42.248Z"
   },
   {
    "duration": 320,
    "start_time": "2022-01-19T19:21:35.020Z"
   },
   {
    "duration": 397,
    "start_time": "2022-01-19T19:24:57.776Z"
   },
   {
    "duration": 405,
    "start_time": "2022-01-19T19:25:37.196Z"
   },
   {
    "duration": 327,
    "start_time": "2022-01-19T19:26:04.531Z"
   },
   {
    "duration": 256,
    "start_time": "2022-01-19T19:29:00.965Z"
   },
   {
    "duration": 567,
    "start_time": "2022-01-19T19:29:07.136Z"
   },
   {
    "duration": 38,
    "start_time": "2022-01-19T19:41:49.772Z"
   },
   {
    "duration": 14,
    "start_time": "2022-01-19T19:42:15.772Z"
   },
   {
    "duration": 24,
    "start_time": "2022-01-19T19:43:11.309Z"
   },
   {
    "duration": 34,
    "start_time": "2022-01-19T19:43:43.003Z"
   },
   {
    "duration": 26,
    "start_time": "2022-01-19T19:45:31.412Z"
   },
   {
    "duration": 94,
    "start_time": "2022-01-19T19:48:50.168Z"
   },
   {
    "duration": 314,
    "start_time": "2022-01-19T19:53:23.032Z"
   },
   {
    "duration": 535,
    "start_time": "2022-01-19T19:53:55.156Z"
   },
   {
    "duration": 1419,
    "start_time": "2022-01-19T20:04:13.393Z"
   },
   {
    "duration": 44,
    "start_time": "2022-01-19T20:04:14.815Z"
   },
   {
    "duration": 4,
    "start_time": "2022-01-19T20:04:14.863Z"
   },
   {
    "duration": 24,
    "start_time": "2022-01-19T20:04:14.870Z"
   },
   {
    "duration": 28,
    "start_time": "2022-01-19T20:04:14.897Z"
   },
   {
    "duration": 9,
    "start_time": "2022-01-19T20:04:14.927Z"
   },
   {
    "duration": 7,
    "start_time": "2022-01-19T20:04:14.938Z"
   },
   {
    "duration": 20,
    "start_time": "2022-01-19T20:04:14.947Z"
   },
   {
    "duration": 6,
    "start_time": "2022-01-19T20:04:14.971Z"
   },
   {
    "duration": 65,
    "start_time": "2022-01-19T20:04:14.979Z"
   },
   {
    "duration": 19,
    "start_time": "2022-01-19T20:04:15.046Z"
   },
   {
    "duration": 27,
    "start_time": "2022-01-19T20:04:15.068Z"
   },
   {
    "duration": 7,
    "start_time": "2022-01-19T20:04:15.123Z"
   },
   {
    "duration": 28,
    "start_time": "2022-01-19T20:04:15.132Z"
   },
   {
    "duration": 622,
    "start_time": "2022-01-19T20:04:15.162Z"
   },
   {
    "duration": 19,
    "start_time": "2022-01-19T20:04:15.787Z"
   },
   {
    "duration": 282,
    "start_time": "2022-01-19T20:04:15.824Z"
   },
   {
    "duration": 847,
    "start_time": "2022-01-19T20:04:16.109Z"
   },
   {
    "duration": 556,
    "start_time": "2022-01-19T20:04:16.959Z"
   },
   {
    "duration": 340,
    "start_time": "2022-01-19T20:04:17.523Z"
   },
   {
    "duration": 479,
    "start_time": "2022-01-19T20:04:17.865Z"
   },
   {
    "duration": 472,
    "start_time": "2022-01-19T20:04:18.347Z"
   },
   {
    "duration": 419,
    "start_time": "2022-01-19T20:04:18.824Z"
   },
   {
    "duration": 336,
    "start_time": "2022-01-19T20:04:19.246Z"
   },
   {
    "duration": 133,
    "start_time": "2022-01-19T20:16:27.266Z"
   },
   {
    "duration": 110,
    "start_time": "2022-01-19T20:16:33.408Z"
   },
   {
    "duration": 448,
    "start_time": "2022-01-19T20:16:44.643Z"
   },
   {
    "duration": 11,
    "start_time": "2022-01-19T20:16:59.948Z"
   },
   {
    "duration": 38,
    "start_time": "2022-01-19T20:17:09.715Z"
   },
   {
    "duration": 6,
    "start_time": "2022-01-19T20:17:23.085Z"
   },
   {
    "duration": 537,
    "start_time": "2022-01-19T20:18:54.772Z"
   },
   {
    "duration": 9,
    "start_time": "2022-01-19T20:28:54.264Z"
   },
   {
    "duration": 386,
    "start_time": "2022-01-19T20:28:58.216Z"
   },
   {
    "duration": 958,
    "start_time": "2022-01-19T20:29:59.533Z"
   },
   {
    "duration": 1278,
    "start_time": "2022-01-19T20:30:17.548Z"
   },
   {
    "duration": 1200,
    "start_time": "2022-01-19T20:30:32.233Z"
   },
   {
    "duration": 1135,
    "start_time": "2022-01-19T20:32:08.839Z"
   },
   {
    "duration": 625,
    "start_time": "2022-01-19T20:32:39.438Z"
   },
   {
    "duration": 758,
    "start_time": "2022-01-19T20:34:29.743Z"
   },
   {
    "duration": 722,
    "start_time": "2022-01-19T20:34:51.470Z"
   },
   {
    "duration": 611,
    "start_time": "2022-01-19T20:36:13.842Z"
   },
   {
    "duration": 698,
    "start_time": "2022-01-19T20:36:21.732Z"
   },
   {
    "duration": 865,
    "start_time": "2022-01-19T20:36:41.858Z"
   },
   {
    "duration": 820,
    "start_time": "2022-01-19T20:36:46.616Z"
   },
   {
    "duration": 415,
    "start_time": "2022-01-19T20:38:18.904Z"
   },
   {
    "duration": 814,
    "start_time": "2022-01-19T20:38:26.254Z"
   },
   {
    "duration": 657,
    "start_time": "2022-01-19T20:38:55.570Z"
   },
   {
    "duration": 841,
    "start_time": "2022-01-19T20:39:04.844Z"
   },
   {
    "duration": 34,
    "start_time": "2022-01-19T20:39:37.489Z"
   },
   {
    "duration": 27,
    "start_time": "2022-01-19T20:40:58.054Z"
   },
   {
    "duration": 600,
    "start_time": "2022-01-19T20:43:04.987Z"
   },
   {
    "duration": 1149,
    "start_time": "2022-01-19T20:46:08.925Z"
   },
   {
    "duration": 133,
    "start_time": "2022-01-19T20:46:41.869Z"
   },
   {
    "duration": 676,
    "start_time": "2022-01-19T20:46:47.673Z"
   },
   {
    "duration": 30,
    "start_time": "2022-01-19T20:47:37.123Z"
   },
   {
    "duration": 21,
    "start_time": "2022-01-19T20:47:57.860Z"
   },
   {
    "duration": 429,
    "start_time": "2022-01-19T20:48:16.051Z"
   },
   {
    "duration": 401,
    "start_time": "2022-01-19T20:48:22.691Z"
   },
   {
    "duration": 21,
    "start_time": "2022-01-19T20:48:42.887Z"
   },
   {
    "duration": 32,
    "start_time": "2022-01-19T20:51:54.785Z"
   },
   {
    "duration": 31,
    "start_time": "2022-01-19T20:52:22.758Z"
   },
   {
    "duration": 22,
    "start_time": "2022-01-19T20:59:17.283Z"
   },
   {
    "duration": 1544,
    "start_time": "2022-01-19T21:05:13.526Z"
   },
   {
    "duration": 102,
    "start_time": "2022-01-19T21:05:15.125Z"
   },
   {
    "duration": 8,
    "start_time": "2022-01-19T21:05:15.231Z"
   },
   {
    "duration": 83,
    "start_time": "2022-01-19T21:05:15.242Z"
   },
   {
    "duration": 9,
    "start_time": "2022-01-19T21:05:15.329Z"
   },
   {
    "duration": 9,
    "start_time": "2022-01-19T21:05:15.341Z"
   },
   {
    "duration": 9,
    "start_time": "2022-01-19T21:05:15.353Z"
   },
   {
    "duration": 73,
    "start_time": "2022-01-19T21:05:15.367Z"
   },
   {
    "duration": 10,
    "start_time": "2022-01-19T21:05:15.443Z"
   },
   {
    "duration": 87,
    "start_time": "2022-01-19T21:05:15.456Z"
   },
   {
    "duration": 80,
    "start_time": "2022-01-19T21:05:15.546Z"
   },
   {
    "duration": 31,
    "start_time": "2022-01-19T21:05:15.629Z"
   },
   {
    "duration": 62,
    "start_time": "2022-01-19T21:05:15.663Z"
   },
   {
    "duration": 25,
    "start_time": "2022-01-19T21:05:15.727Z"
   },
   {
    "duration": 918,
    "start_time": "2022-01-19T21:05:15.755Z"
   },
   {
    "duration": 27,
    "start_time": "2022-01-19T21:05:16.676Z"
   },
   {
    "duration": 318,
    "start_time": "2022-01-19T21:05:16.706Z"
   },
   {
    "duration": 578,
    "start_time": "2022-01-19T21:05:17.027Z"
   },
   {
    "duration": 335,
    "start_time": "2022-01-19T21:05:17.608Z"
   },
   {
    "duration": 352,
    "start_time": "2022-01-19T21:05:17.946Z"
   },
   {
    "duration": 346,
    "start_time": "2022-01-19T21:05:18.301Z"
   },
   {
    "duration": 346,
    "start_time": "2022-01-19T21:05:18.650Z"
   },
   {
    "duration": 431,
    "start_time": "2022-01-19T21:05:19.000Z"
   },
   {
    "duration": 340,
    "start_time": "2022-01-19T21:05:19.434Z"
   },
   {
    "duration": 10,
    "start_time": "2022-01-19T21:05:19.777Z"
   },
   {
    "duration": 628,
    "start_time": "2022-01-19T21:05:19.790Z"
   },
   {
    "duration": 22,
    "start_time": "2022-01-19T21:05:20.423Z"
   },
   {
    "duration": 338,
    "start_time": "2022-01-20T07:05:25.856Z"
   },
   {
    "duration": 1486,
    "start_time": "2022-01-20T07:05:30.423Z"
   },
   {
    "duration": 33,
    "start_time": "2022-01-20T07:05:31.912Z"
   },
   {
    "duration": 4,
    "start_time": "2022-01-20T07:05:31.949Z"
   },
   {
    "duration": 27,
    "start_time": "2022-01-20T07:05:31.956Z"
   },
   {
    "duration": 6,
    "start_time": "2022-01-20T07:05:31.986Z"
   },
   {
    "duration": 33,
    "start_time": "2022-01-20T07:05:31.995Z"
   },
   {
    "duration": 7,
    "start_time": "2022-01-20T07:05:32.031Z"
   },
   {
    "duration": 19,
    "start_time": "2022-01-20T07:05:32.042Z"
   },
   {
    "duration": 8,
    "start_time": "2022-01-20T07:05:32.064Z"
   },
   {
    "duration": 65,
    "start_time": "2022-01-20T07:05:32.075Z"
   },
   {
    "duration": 20,
    "start_time": "2022-01-20T07:05:32.143Z"
   },
   {
    "duration": 23,
    "start_time": "2022-01-20T07:05:32.166Z"
   },
   {
    "duration": 37,
    "start_time": "2022-01-20T07:05:32.192Z"
   },
   {
    "duration": 39,
    "start_time": "2022-01-20T07:05:32.233Z"
   },
   {
    "duration": 605,
    "start_time": "2022-01-20T07:05:32.275Z"
   },
   {
    "duration": 19,
    "start_time": "2022-01-20T07:05:32.883Z"
   },
   {
    "duration": 434,
    "start_time": "2022-01-20T07:05:32.923Z"
   },
   {
    "duration": 5911,
    "start_time": "2022-01-20T07:05:33.360Z"
   },
   {
    "duration": 335,
    "start_time": "2022-01-20T07:05:39.275Z"
   },
   {
    "duration": 340,
    "start_time": "2022-01-20T07:05:39.613Z"
   },
   {
    "duration": 333,
    "start_time": "2022-01-20T07:05:39.956Z"
   },
   {
    "duration": 327,
    "start_time": "2022-01-20T07:05:40.292Z"
   },
   {
    "duration": 339,
    "start_time": "2022-01-20T07:05:40.626Z"
   },
   {
    "duration": 337,
    "start_time": "2022-01-20T07:05:40.968Z"
   },
   {
    "duration": 18,
    "start_time": "2022-01-20T07:05:41.308Z"
   },
   {
    "duration": 610,
    "start_time": "2022-01-20T07:05:41.328Z"
   },
   {
    "duration": 21,
    "start_time": "2022-01-20T07:05:41.940Z"
   },
   {
    "duration": 458,
    "start_time": "2022-01-20T10:05:45.471Z"
   },
   {
    "duration": 969,
    "start_time": "2022-01-20T10:07:26.096Z"
   },
   {
    "duration": 466,
    "start_time": "2022-01-20T10:07:55.636Z"
   },
   {
    "duration": 1489,
    "start_time": "2022-01-20T10:08:09.261Z"
   },
   {
    "duration": 75,
    "start_time": "2022-01-20T10:08:10.753Z"
   },
   {
    "duration": 5,
    "start_time": "2022-01-20T10:08:10.831Z"
   },
   {
    "duration": 24,
    "start_time": "2022-01-20T10:08:10.839Z"
   },
   {
    "duration": 60,
    "start_time": "2022-01-20T10:08:10.866Z"
   },
   {
    "duration": 11,
    "start_time": "2022-01-20T10:08:10.928Z"
   },
   {
    "duration": 8,
    "start_time": "2022-01-20T10:08:10.942Z"
   },
   {
    "duration": 78,
    "start_time": "2022-01-20T10:08:10.955Z"
   },
   {
    "duration": 8,
    "start_time": "2022-01-20T10:08:11.037Z"
   },
   {
    "duration": 81,
    "start_time": "2022-01-20T10:08:11.048Z"
   },
   {
    "duration": 28,
    "start_time": "2022-01-20T10:08:11.131Z"
   },
   {
    "duration": 69,
    "start_time": "2022-01-20T10:08:11.161Z"
   },
   {
    "duration": 12,
    "start_time": "2022-01-20T10:08:11.233Z"
   },
   {
    "duration": 86,
    "start_time": "2022-01-20T10:08:11.248Z"
   },
   {
    "duration": 1007,
    "start_time": "2022-01-20T10:08:11.337Z"
   },
   {
    "duration": 19,
    "start_time": "2022-01-20T10:08:12.347Z"
   },
   {
    "duration": 299,
    "start_time": "2022-01-20T10:08:12.368Z"
   },
   {
    "duration": 591,
    "start_time": "2022-01-20T10:08:12.669Z"
   },
   {
    "duration": 451,
    "start_time": "2022-01-20T10:08:13.263Z"
   },
   {
    "duration": 537,
    "start_time": "2022-01-20T10:08:13.724Z"
   },
   {
    "duration": 346,
    "start_time": "2022-01-20T10:08:14.264Z"
   },
   {
    "duration": 350,
    "start_time": "2022-01-20T10:08:14.613Z"
   },
   {
    "duration": 427,
    "start_time": "2022-01-20T10:08:14.967Z"
   },
   {
    "duration": 333,
    "start_time": "2022-01-20T10:08:15.397Z"
   },
   {
    "duration": 9,
    "start_time": "2022-01-20T10:08:15.732Z"
   },
   {
    "duration": 634,
    "start_time": "2022-01-20T10:08:15.743Z"
   },
   {
    "duration": 19,
    "start_time": "2022-01-20T10:08:16.379Z"
   },
   {
    "duration": 329,
    "start_time": "2022-01-20T10:09:24.856Z"
   },
   {
    "duration": 1968,
    "start_time": "2022-01-20T10:09:35.188Z"
   },
   {
    "duration": 73,
    "start_time": "2022-01-20T10:09:37.159Z"
   },
   {
    "duration": 4,
    "start_time": "2022-01-20T10:09:37.235Z"
   },
   {
    "duration": 23,
    "start_time": "2022-01-20T10:09:37.242Z"
   },
   {
    "duration": 8,
    "start_time": "2022-01-20T10:09:37.268Z"
   },
   {
    "duration": 49,
    "start_time": "2022-01-20T10:09:37.278Z"
   },
   {
    "duration": 7,
    "start_time": "2022-01-20T10:09:37.329Z"
   },
   {
    "duration": 21,
    "start_time": "2022-01-20T10:09:37.340Z"
   },
   {
    "duration": 6,
    "start_time": "2022-01-20T10:09:37.364Z"
   },
   {
    "duration": 64,
    "start_time": "2022-01-20T10:09:37.373Z"
   },
   {
    "duration": 20,
    "start_time": "2022-01-20T10:09:37.440Z"
   },
   {
    "duration": 20,
    "start_time": "2022-01-20T10:09:37.463Z"
   },
   {
    "duration": 38,
    "start_time": "2022-01-20T10:09:37.485Z"
   },
   {
    "duration": 23,
    "start_time": "2022-01-20T10:09:37.526Z"
   },
   {
    "duration": 639,
    "start_time": "2022-01-20T10:09:37.551Z"
   },
   {
    "duration": 35,
    "start_time": "2022-01-20T10:09:38.192Z"
   },
   {
    "duration": 303,
    "start_time": "2022-01-20T10:09:38.230Z"
   },
   {
    "duration": 567,
    "start_time": "2022-01-20T10:09:38.536Z"
   },
   {
    "duration": 633,
    "start_time": "2022-01-20T10:09:39.105Z"
   },
   {
    "duration": 322,
    "start_time": "2022-01-20T10:09:39.741Z"
   },
   {
    "duration": 350,
    "start_time": "2022-01-20T10:09:40.066Z"
   },
   {
    "duration": 391,
    "start_time": "2022-01-20T10:09:40.423Z"
   },
   {
    "duration": 328,
    "start_time": "2022-01-20T10:09:40.825Z"
   },
   {
    "duration": 350,
    "start_time": "2022-01-20T10:09:41.157Z"
   },
   {
    "duration": 328,
    "start_time": "2022-01-20T10:09:41.509Z"
   },
   {
    "duration": 8,
    "start_time": "2022-01-20T10:09:41.840Z"
   },
   {
    "duration": 622,
    "start_time": "2022-01-20T10:09:41.850Z"
   },
   {
    "duration": 20,
    "start_time": "2022-01-20T10:09:42.474Z"
   },
   {
    "duration": 332,
    "start_time": "2022-01-20T10:10:35.555Z"
   },
   {
    "duration": 1396,
    "start_time": "2022-01-20T10:10:46.469Z"
   },
   {
    "duration": 58,
    "start_time": "2022-01-20T10:10:47.869Z"
   },
   {
    "duration": 6,
    "start_time": "2022-01-20T10:10:47.931Z"
   },
   {
    "duration": 26,
    "start_time": "2022-01-20T10:10:47.940Z"
   },
   {
    "duration": 8,
    "start_time": "2022-01-20T10:10:48.024Z"
   },
   {
    "duration": 9,
    "start_time": "2022-01-20T10:10:48.035Z"
   },
   {
    "duration": 8,
    "start_time": "2022-01-20T10:10:48.047Z"
   },
   {
    "duration": 82,
    "start_time": "2022-01-20T10:10:48.059Z"
   },
   {
    "duration": 9,
    "start_time": "2022-01-20T10:10:48.144Z"
   },
   {
    "duration": 74,
    "start_time": "2022-01-20T10:10:48.156Z"
   },
   {
    "duration": 22,
    "start_time": "2022-01-20T10:10:48.232Z"
   },
   {
    "duration": 78,
    "start_time": "2022-01-20T10:10:48.257Z"
   },
   {
    "duration": 12,
    "start_time": "2022-01-20T10:10:48.337Z"
   },
   {
    "duration": 78,
    "start_time": "2022-01-20T10:10:48.352Z"
   },
   {
    "duration": 1058,
    "start_time": "2022-01-20T10:10:48.433Z"
   },
   {
    "duration": 37,
    "start_time": "2022-01-20T10:10:49.494Z"
   },
   {
    "duration": 283,
    "start_time": "2022-01-20T10:10:49.534Z"
   },
   {
    "duration": 619,
    "start_time": "2022-01-20T10:10:49.819Z"
   },
   {
    "duration": 573,
    "start_time": "2022-01-20T10:10:50.441Z"
   },
   {
    "duration": 395,
    "start_time": "2022-01-20T10:10:51.023Z"
   },
   {
    "duration": 339,
    "start_time": "2022-01-20T10:10:51.424Z"
   },
   {
    "duration": 505,
    "start_time": "2022-01-20T10:10:51.766Z"
   },
   {
    "duration": 339,
    "start_time": "2022-01-20T10:10:52.275Z"
   },
   {
    "duration": 359,
    "start_time": "2022-01-20T10:10:52.617Z"
   },
   {
    "duration": 382,
    "start_time": "2022-01-20T10:10:52.979Z"
   },
   {
    "duration": 9,
    "start_time": "2022-01-20T10:10:53.365Z"
   },
   {
    "duration": 612,
    "start_time": "2022-01-20T10:10:53.377Z"
   },
   {
    "duration": 37,
    "start_time": "2022-01-20T10:10:53.993Z"
   },
   {
    "duration": 288,
    "start_time": "2022-01-20T10:11:30.669Z"
   },
   {
    "duration": 1683,
    "start_time": "2022-01-20T10:11:45.969Z"
   },
   {
    "duration": 33,
    "start_time": "2022-01-20T10:11:47.654Z"
   },
   {
    "duration": 34,
    "start_time": "2022-01-20T10:11:47.690Z"
   },
   {
    "duration": 21,
    "start_time": "2022-01-20T10:11:47.727Z"
   },
   {
    "duration": 9,
    "start_time": "2022-01-20T10:11:47.751Z"
   },
   {
    "duration": 10,
    "start_time": "2022-01-20T10:11:47.762Z"
   },
   {
    "duration": 24,
    "start_time": "2022-01-20T10:11:47.774Z"
   },
   {
    "duration": 18,
    "start_time": "2022-01-20T10:11:47.826Z"
   },
   {
    "duration": 11,
    "start_time": "2022-01-20T10:11:47.847Z"
   },
   {
    "duration": 22,
    "start_time": "2022-01-20T10:11:47.860Z"
   },
   {
    "duration": 52,
    "start_time": "2022-01-20T10:11:47.884Z"
   },
   {
    "duration": 21,
    "start_time": "2022-01-20T10:11:47.939Z"
   },
   {
    "duration": 6,
    "start_time": "2022-01-20T10:11:47.963Z"
   },
   {
    "duration": 54,
    "start_time": "2022-01-20T10:11:47.971Z"
   },
   {
    "duration": 602,
    "start_time": "2022-01-20T10:11:48.027Z"
   },
   {
    "duration": 19,
    "start_time": "2022-01-20T10:11:48.631Z"
   },
   {
    "duration": 289,
    "start_time": "2022-01-20T10:11:48.653Z"
   },
   {
    "duration": 615,
    "start_time": "2022-01-20T10:11:48.944Z"
   },
   {
    "duration": 616,
    "start_time": "2022-01-20T10:11:49.562Z"
   },
   {
    "duration": 317,
    "start_time": "2022-01-20T10:11:50.180Z"
   },
   {
    "duration": 330,
    "start_time": "2022-01-20T10:11:50.499Z"
   },
   {
    "duration": 417,
    "start_time": "2022-01-20T10:11:50.831Z"
   },
   {
    "duration": 434,
    "start_time": "2022-01-20T10:11:51.252Z"
   },
   {
    "duration": 370,
    "start_time": "2022-01-20T10:11:51.689Z"
   },
   {
    "duration": 335,
    "start_time": "2022-01-20T10:11:52.061Z"
   },
   {
    "duration": 25,
    "start_time": "2022-01-20T10:11:52.398Z"
   },
   {
    "duration": 609,
    "start_time": "2022-01-20T10:11:52.425Z"
   },
   {
    "duration": 20,
    "start_time": "2022-01-20T10:11:53.037Z"
   },
   {
    "duration": 1513,
    "start_time": "2022-01-20T14:54:13.241Z"
   },
   {
    "duration": 35,
    "start_time": "2022-01-20T14:54:14.757Z"
   },
   {
    "duration": 4,
    "start_time": "2022-01-20T14:54:14.795Z"
   },
   {
    "duration": 41,
    "start_time": "2022-01-20T14:54:14.802Z"
   },
   {
    "duration": 9,
    "start_time": "2022-01-20T14:54:14.846Z"
   },
   {
    "duration": 11,
    "start_time": "2022-01-20T14:54:14.858Z"
   },
   {
    "duration": 6,
    "start_time": "2022-01-20T14:54:14.871Z"
   },
   {
    "duration": 51,
    "start_time": "2022-01-20T14:54:14.881Z"
   },
   {
    "duration": 7,
    "start_time": "2022-01-20T14:54:14.935Z"
   },
   {
    "duration": 25,
    "start_time": "2022-01-20T14:54:14.944Z"
   },
   {
    "duration": 23,
    "start_time": "2022-01-20T14:54:14.972Z"
   },
   {
    "duration": 22,
    "start_time": "2022-01-20T14:54:15.033Z"
   },
   {
    "duration": 6,
    "start_time": "2022-01-20T14:54:15.058Z"
   },
   {
    "duration": 30,
    "start_time": "2022-01-20T14:54:15.066Z"
   },
   {
    "duration": 648,
    "start_time": "2022-01-20T14:54:15.098Z"
   },
   {
    "duration": 24,
    "start_time": "2022-01-20T14:54:15.748Z"
   },
   {
    "duration": 861,
    "start_time": "2022-01-20T14:54:15.775Z"
   },
   {
    "duration": 755,
    "start_time": "2022-01-20T14:54:16.639Z"
   },
   {
    "duration": 562,
    "start_time": "2022-01-20T14:54:17.396Z"
   },
   {
    "duration": 343,
    "start_time": "2022-01-20T14:54:17.960Z"
   },
   {
    "duration": 364,
    "start_time": "2022-01-20T14:54:18.305Z"
   },
   {
    "duration": 392,
    "start_time": "2022-01-20T14:54:18.671Z"
   },
   {
    "duration": 342,
    "start_time": "2022-01-20T14:54:19.067Z"
   },
   {
    "duration": 350,
    "start_time": "2022-01-20T14:54:19.412Z"
   },
   {
    "duration": 338,
    "start_time": "2022-01-20T14:54:19.765Z"
   },
   {
    "duration": 8,
    "start_time": "2022-01-20T14:54:20.105Z"
   },
   {
    "duration": 613,
    "start_time": "2022-01-20T14:54:20.116Z"
   },
   {
    "duration": 22,
    "start_time": "2022-01-20T14:54:20.733Z"
   },
   {
    "duration": 1686,
    "start_time": "2022-01-20T15:28:24.747Z"
   },
   {
    "duration": 34,
    "start_time": "2022-01-20T15:28:26.436Z"
   },
   {
    "duration": 4,
    "start_time": "2022-01-20T15:28:26.473Z"
   },
   {
    "duration": 75,
    "start_time": "2022-01-20T15:28:26.479Z"
   },
   {
    "duration": 8,
    "start_time": "2022-01-20T15:28:26.556Z"
   },
   {
    "duration": 8,
    "start_time": "2022-01-20T15:28:26.566Z"
   },
   {
    "duration": 6,
    "start_time": "2022-01-20T15:28:26.576Z"
   },
   {
    "duration": 18,
    "start_time": "2022-01-20T15:28:26.634Z"
   },
   {
    "duration": 10,
    "start_time": "2022-01-20T15:28:26.656Z"
   },
   {
    "duration": 23,
    "start_time": "2022-01-20T15:28:26.669Z"
   },
   {
    "duration": 55,
    "start_time": "2022-01-20T15:28:26.695Z"
   },
   {
    "duration": 22,
    "start_time": "2022-01-20T15:28:26.753Z"
   },
   {
    "duration": 9,
    "start_time": "2022-01-20T15:28:26.778Z"
   },
   {
    "duration": 61,
    "start_time": "2022-01-20T15:28:26.790Z"
   },
   {
    "duration": 619,
    "start_time": "2022-01-20T15:28:26.854Z"
   },
   {
    "duration": 21,
    "start_time": "2022-01-20T15:28:27.476Z"
   },
   {
    "duration": 307,
    "start_time": "2022-01-20T15:28:27.500Z"
   },
   {
    "duration": 665,
    "start_time": "2022-01-20T15:28:27.810Z"
   },
   {
    "duration": 569,
    "start_time": "2022-01-20T15:28:28.478Z"
   },
   {
    "duration": 321,
    "start_time": "2022-01-20T15:28:29.050Z"
   },
   {
    "duration": 351,
    "start_time": "2022-01-20T15:28:29.373Z"
   },
   {
    "duration": 394,
    "start_time": "2022-01-20T15:28:29.726Z"
   },
   {
    "duration": 335,
    "start_time": "2022-01-20T15:28:30.125Z"
   },
   {
    "duration": 348,
    "start_time": "2022-01-20T15:28:30.463Z"
   },
   {
    "duration": 339,
    "start_time": "2022-01-20T15:28:30.814Z"
   },
   {
    "duration": 8,
    "start_time": "2022-01-20T15:28:31.156Z"
   },
   {
    "duration": 622,
    "start_time": "2022-01-20T15:28:31.166Z"
   },
   {
    "duration": 20,
    "start_time": "2022-01-20T15:28:31.790Z"
   },
   {
    "duration": 323,
    "start_time": "2022-01-20T15:30:31.354Z"
   },
   {
    "duration": 1734,
    "start_time": "2022-01-20T15:30:37.422Z"
   },
   {
    "duration": 32,
    "start_time": "2022-01-20T15:30:39.159Z"
   },
   {
    "duration": 5,
    "start_time": "2022-01-20T15:30:39.194Z"
   },
   {
    "duration": 45,
    "start_time": "2022-01-20T15:30:39.201Z"
   },
   {
    "duration": 8,
    "start_time": "2022-01-20T15:30:39.248Z"
   },
   {
    "duration": 12,
    "start_time": "2022-01-20T15:30:39.258Z"
   },
   {
    "duration": 14,
    "start_time": "2022-01-20T15:30:39.273Z"
   },
   {
    "duration": 41,
    "start_time": "2022-01-20T15:30:39.291Z"
   },
   {
    "duration": 7,
    "start_time": "2022-01-20T15:30:39.334Z"
   },
   {
    "duration": 22,
    "start_time": "2022-01-20T15:30:39.343Z"
   },
   {
    "duration": 19,
    "start_time": "2022-01-20T15:30:39.367Z"
   },
   {
    "duration": 57,
    "start_time": "2022-01-20T15:30:39.388Z"
   },
   {
    "duration": 11,
    "start_time": "2022-01-20T15:30:39.448Z"
   },
   {
    "duration": 23,
    "start_time": "2022-01-20T15:30:39.461Z"
   },
   {
    "duration": 623,
    "start_time": "2022-01-20T15:30:39.486Z"
   },
   {
    "duration": 31,
    "start_time": "2022-01-20T15:30:40.111Z"
   },
   {
    "duration": 299,
    "start_time": "2022-01-20T15:30:40.144Z"
   },
   {
    "duration": 637,
    "start_time": "2022-01-20T15:30:40.445Z"
   },
   {
    "duration": 566,
    "start_time": "2022-01-20T15:30:41.085Z"
   },
   {
    "duration": 323,
    "start_time": "2022-01-20T15:30:41.653Z"
   },
   {
    "duration": 456,
    "start_time": "2022-01-20T15:30:41.979Z"
   },
   {
    "duration": 395,
    "start_time": "2022-01-20T15:30:42.437Z"
   },
   {
    "duration": 362,
    "start_time": "2022-01-20T15:30:42.837Z"
   },
   {
    "duration": 364,
    "start_time": "2022-01-20T15:30:43.201Z"
   },
   {
    "duration": 332,
    "start_time": "2022-01-20T15:30:43.568Z"
   },
   {
    "duration": 10,
    "start_time": "2022-01-20T15:30:43.902Z"
   },
   {
    "duration": 627,
    "start_time": "2022-01-20T15:30:43.914Z"
   },
   {
    "duration": 23,
    "start_time": "2022-01-20T15:30:44.544Z"
   },
   {
    "duration": 1720,
    "start_time": "2022-01-20T15:47:40.334Z"
   },
   {
    "duration": 88,
    "start_time": "2022-01-20T15:47:42.057Z"
   },
   {
    "duration": 6,
    "start_time": "2022-01-20T15:47:42.148Z"
   },
   {
    "duration": 75,
    "start_time": "2022-01-20T15:47:42.157Z"
   },
   {
    "duration": 7,
    "start_time": "2022-01-20T15:47:42.235Z"
   },
   {
    "duration": 9,
    "start_time": "2022-01-20T15:47:42.244Z"
   },
   {
    "duration": 7,
    "start_time": "2022-01-20T15:47:42.255Z"
   },
   {
    "duration": 73,
    "start_time": "2022-01-20T15:47:42.266Z"
   },
   {
    "duration": 11,
    "start_time": "2022-01-20T15:47:42.342Z"
   },
   {
    "duration": 25,
    "start_time": "2022-01-20T15:47:42.355Z"
   },
   {
    "duration": 59,
    "start_time": "2022-01-20T15:47:42.383Z"
   },
   {
    "duration": 20,
    "start_time": "2022-01-20T15:47:42.445Z"
   },
   {
    "duration": 6,
    "start_time": "2022-01-20T15:47:42.468Z"
   },
   {
    "duration": 24,
    "start_time": "2022-01-20T15:47:42.476Z"
   },
   {
    "duration": 859,
    "start_time": "2022-01-20T15:47:42.533Z"
   },
   {
    "duration": 40,
    "start_time": "2022-01-20T15:47:43.395Z"
   },
   {
    "duration": 297,
    "start_time": "2022-01-20T15:47:43.438Z"
   },
   {
    "duration": 626,
    "start_time": "2022-01-20T15:47:43.737Z"
   },
   {
    "duration": 576,
    "start_time": "2022-01-20T15:47:44.365Z"
   },
   {
    "duration": 340,
    "start_time": "2022-01-20T15:47:44.944Z"
   },
   {
    "duration": 339,
    "start_time": "2022-01-20T15:47:45.287Z"
   },
   {
    "duration": 394,
    "start_time": "2022-01-20T15:47:45.633Z"
   },
   {
    "duration": 333,
    "start_time": "2022-01-20T15:47:46.035Z"
   },
   {
    "duration": 340,
    "start_time": "2022-01-20T15:47:46.371Z"
   },
   {
    "duration": 321,
    "start_time": "2022-01-20T15:47:46.714Z"
   },
   {
    "duration": 8,
    "start_time": "2022-01-20T15:47:47.038Z"
   },
   {
    "duration": 22,
    "start_time": "2022-01-20T15:47:47.049Z"
   },
   {
    "duration": 641,
    "start_time": "2022-01-20T15:47:47.073Z"
   },
   {
    "duration": 29,
    "start_time": "2022-01-20T15:54:45.356Z"
   },
   {
    "duration": 31,
    "start_time": "2022-01-20T15:54:59.566Z"
   },
   {
    "duration": 30,
    "start_time": "2022-01-20T15:55:07.971Z"
   },
   {
    "duration": 685,
    "start_time": "2022-01-20T16:08:27.033Z"
   },
   {
    "duration": 30,
    "start_time": "2022-01-20T16:15:09.565Z"
   },
   {
    "duration": 601,
    "start_time": "2022-01-20T16:15:27.766Z"
   },
   {
    "duration": 35,
    "start_time": "2022-01-20T16:18:20.132Z"
   },
   {
    "duration": 1859,
    "start_time": "2022-01-20T16:18:43.732Z"
   },
   {
    "duration": 399,
    "start_time": "2022-01-20T16:18:55.939Z"
   },
   {
    "duration": 14,
    "start_time": "2022-01-20T16:19:12.409Z"
   },
   {
    "duration": 2573,
    "start_time": "2022-01-20T16:21:21.202Z"
   },
   {
    "duration": 36,
    "start_time": "2022-01-20T16:21:44.160Z"
   },
   {
    "duration": 274,
    "start_time": "2022-01-20T16:22:21.593Z"
   },
   {
    "duration": 96,
    "start_time": "2022-01-20T16:22:44.166Z"
   },
   {
    "duration": 287,
    "start_time": "2022-01-20T16:22:48.205Z"
   },
   {
    "duration": 260,
    "start_time": "2022-01-20T16:23:07.088Z"
   },
   {
    "duration": 38,
    "start_time": "2022-01-20T16:23:24.610Z"
   },
   {
    "duration": 234,
    "start_time": "2022-01-20T16:24:57.236Z"
   },
   {
    "duration": 253,
    "start_time": "2022-01-20T16:25:47.040Z"
   },
   {
    "duration": 531,
    "start_time": "2022-01-20T16:26:34.717Z"
   },
   {
    "duration": 1464,
    "start_time": "2022-01-20T16:35:27.788Z"
   },
   {
    "duration": 37,
    "start_time": "2022-01-20T16:35:29.255Z"
   },
   {
    "duration": 5,
    "start_time": "2022-01-20T16:35:29.295Z"
   },
   {
    "duration": 44,
    "start_time": "2022-01-20T16:35:29.304Z"
   },
   {
    "duration": 10,
    "start_time": "2022-01-20T16:35:29.351Z"
   },
   {
    "duration": 10,
    "start_time": "2022-01-20T16:35:29.363Z"
   },
   {
    "duration": 33,
    "start_time": "2022-01-20T16:35:29.375Z"
   },
   {
    "duration": 28,
    "start_time": "2022-01-20T16:35:29.411Z"
   },
   {
    "duration": 6,
    "start_time": "2022-01-20T16:35:29.442Z"
   },
   {
    "duration": 31,
    "start_time": "2022-01-20T16:35:29.451Z"
   },
   {
    "duration": 58,
    "start_time": "2022-01-20T16:35:29.485Z"
   },
   {
    "duration": 21,
    "start_time": "2022-01-20T16:35:29.546Z"
   },
   {
    "duration": 8,
    "start_time": "2022-01-20T16:35:29.570Z"
   },
   {
    "duration": 59,
    "start_time": "2022-01-20T16:35:29.581Z"
   },
   {
    "duration": 724,
    "start_time": "2022-01-20T16:35:29.642Z"
   },
   {
    "duration": 18,
    "start_time": "2022-01-20T16:35:30.368Z"
   },
   {
    "duration": 291,
    "start_time": "2022-01-20T16:35:30.389Z"
   },
   {
    "duration": 654,
    "start_time": "2022-01-20T16:35:30.683Z"
   },
   {
    "duration": 566,
    "start_time": "2022-01-20T16:35:31.340Z"
   },
   {
    "duration": 332,
    "start_time": "2022-01-20T16:35:31.909Z"
   },
   {
    "duration": 335,
    "start_time": "2022-01-20T16:35:32.243Z"
   },
   {
    "duration": 395,
    "start_time": "2022-01-20T16:35:32.581Z"
   },
   {
    "duration": 339,
    "start_time": "2022-01-20T16:35:32.980Z"
   },
   {
    "duration": 343,
    "start_time": "2022-01-20T16:35:33.321Z"
   },
   {
    "duration": 335,
    "start_time": "2022-01-20T16:35:33.667Z"
   },
   {
    "duration": 9,
    "start_time": "2022-01-20T16:35:34.004Z"
   },
   {
    "duration": 42,
    "start_time": "2022-01-20T16:35:34.016Z"
   },
   {
    "duration": 619,
    "start_time": "2022-01-20T16:35:34.061Z"
   },
   {
    "duration": 667,
    "start_time": "2022-01-20T16:35:34.683Z"
   },
   {
    "duration": 802,
    "start_time": "2022-01-20T16:36:10.312Z"
   },
   {
    "duration": 92,
    "start_time": "2022-01-20T16:36:31.001Z"
   },
   {
    "duration": 255,
    "start_time": "2022-01-20T16:36:35.738Z"
   },
   {
    "duration": 242,
    "start_time": "2022-01-20T16:37:06.617Z"
   },
   {
    "duration": 263,
    "start_time": "2022-01-20T16:37:17.177Z"
   },
   {
    "duration": 260,
    "start_time": "2022-01-20T16:37:35.630Z"
   },
   {
    "duration": 96,
    "start_time": "2022-01-20T16:37:56.623Z"
   },
   {
    "duration": 85,
    "start_time": "2022-01-20T16:38:04.166Z"
   },
   {
    "duration": 261,
    "start_time": "2022-01-20T16:38:15.214Z"
   },
   {
    "duration": 38,
    "start_time": "2022-01-20T16:39:22.869Z"
   },
   {
    "duration": 42,
    "start_time": "2022-01-20T16:39:41.690Z"
   },
   {
    "duration": 53,
    "start_time": "2022-01-20T16:39:59.101Z"
   },
   {
    "duration": 152,
    "start_time": "2022-01-20T16:40:21.518Z"
   },
   {
    "duration": 40,
    "start_time": "2022-01-20T16:41:57.610Z"
   },
   {
    "duration": 264,
    "start_time": "2022-01-20T16:44:18.466Z"
   },
   {
    "duration": 256,
    "start_time": "2022-01-20T16:44:30.552Z"
   },
   {
    "duration": 252,
    "start_time": "2022-01-20T16:44:43.983Z"
   },
   {
    "duration": 263,
    "start_time": "2022-01-20T16:45:41.134Z"
   },
   {
    "duration": 257,
    "start_time": "2022-01-20T16:45:54.580Z"
   },
   {
    "duration": 254,
    "start_time": "2022-01-20T16:46:14.914Z"
   },
   {
    "duration": 37,
    "start_time": "2022-01-20T16:47:05.171Z"
   },
   {
    "duration": 324,
    "start_time": "2022-01-20T16:48:22.712Z"
   },
   {
    "duration": 535,
    "start_time": "2022-01-20T16:48:34.559Z"
   },
   {
    "duration": 545,
    "start_time": "2022-01-20T16:48:58.926Z"
   },
   {
    "duration": 332,
    "start_time": "2022-01-20T16:49:09.530Z"
   },
   {
    "duration": 261,
    "start_time": "2022-01-20T16:49:35.289Z"
   },
   {
    "duration": 391,
    "start_time": "2022-01-20T16:49:48.827Z"
   },
   {
    "duration": 266,
    "start_time": "2022-01-20T16:50:22.175Z"
   },
   {
    "duration": 1071,
    "start_time": "2022-01-20T18:47:27.710Z"
   },
   {
    "duration": 23,
    "start_time": "2022-01-20T18:47:28.783Z"
   },
   {
    "duration": 53,
    "start_time": "2022-01-20T18:47:28.808Z"
   },
   {
    "duration": 16,
    "start_time": "2022-01-20T18:47:28.863Z"
   },
   {
    "duration": 14,
    "start_time": "2022-01-20T18:47:28.881Z"
   },
   {
    "duration": 15,
    "start_time": "2022-01-20T18:47:28.897Z"
   },
   {
    "duration": 47,
    "start_time": "2022-01-20T18:47:28.913Z"
   },
   {
    "duration": 13,
    "start_time": "2022-01-20T18:47:28.963Z"
   },
   {
    "duration": 4,
    "start_time": "2022-01-20T18:47:28.978Z"
   },
   {
    "duration": 24,
    "start_time": "2022-01-20T18:47:28.984Z"
   },
   {
    "duration": 19,
    "start_time": "2022-01-20T18:47:29.061Z"
   },
   {
    "duration": 16,
    "start_time": "2022-01-20T18:47:29.082Z"
   },
   {
    "duration": 10,
    "start_time": "2022-01-20T18:47:29.099Z"
   },
   {
    "duration": 16,
    "start_time": "2022-01-20T18:47:29.160Z"
   },
   {
    "duration": 435,
    "start_time": "2022-01-20T18:47:29.177Z"
   },
   {
    "duration": 14,
    "start_time": "2022-01-20T18:47:29.614Z"
   },
   {
    "duration": 183,
    "start_time": "2022-01-20T18:47:29.629Z"
   },
   {
    "duration": 381,
    "start_time": "2022-01-20T18:47:29.814Z"
   },
   {
    "duration": 344,
    "start_time": "2022-01-20T18:47:30.197Z"
   },
   {
    "duration": 203,
    "start_time": "2022-01-20T18:47:30.543Z"
   },
   {
    "duration": 212,
    "start_time": "2022-01-20T18:47:30.748Z"
   },
   {
    "duration": 263,
    "start_time": "2022-01-20T18:47:30.962Z"
   },
   {
    "duration": 207,
    "start_time": "2022-01-20T18:47:31.228Z"
   },
   {
    "duration": 211,
    "start_time": "2022-01-20T18:47:31.437Z"
   },
   {
    "duration": 205,
    "start_time": "2022-01-20T18:47:31.650Z"
   },
   {
    "duration": 7,
    "start_time": "2022-01-20T18:47:31.860Z"
   },
   {
    "duration": 22,
    "start_time": "2022-01-20T18:47:31.868Z"
   },
   {
    "duration": 377,
    "start_time": "2022-01-20T18:47:31.891Z"
   },
   {
    "duration": 22,
    "start_time": "2022-01-20T18:47:32.270Z"
   },
   {
    "duration": 191,
    "start_time": "2022-01-20T18:47:32.294Z"
   },
   {
    "duration": 168,
    "start_time": "2022-01-20T18:47:32.487Z"
   },
   {
    "duration": 162,
    "start_time": "2022-01-20T18:47:32.660Z"
   },
   {
    "duration": 97,
    "start_time": "2022-01-20T18:51:30.801Z"
   },
   {
    "duration": 181,
    "start_time": "2022-01-20T18:51:38.245Z"
   },
   {
    "duration": 517,
    "start_time": "2022-01-20T18:51:48.488Z"
   },
   {
    "duration": 159,
    "start_time": "2022-01-20T18:51:54.719Z"
   },
   {
    "duration": 230,
    "start_time": "2022-01-20T18:54:05.647Z"
   },
   {
    "duration": 155,
    "start_time": "2022-01-20T18:54:11.188Z"
   },
   {
    "duration": 158,
    "start_time": "2022-01-20T18:54:17.681Z"
   },
   {
    "duration": 155,
    "start_time": "2022-01-20T18:54:35.843Z"
   },
   {
    "duration": 159,
    "start_time": "2022-01-20T18:57:30.382Z"
   },
   {
    "duration": 1100,
    "start_time": "2022-01-20T19:05:38.570Z"
   },
   {
    "duration": 23,
    "start_time": "2022-01-20T19:05:39.672Z"
   },
   {
    "duration": 4,
    "start_time": "2022-01-20T19:05:39.697Z"
   },
   {
    "duration": 17,
    "start_time": "2022-01-20T19:05:39.703Z"
   },
   {
    "duration": 13,
    "start_time": "2022-01-20T19:05:39.721Z"
   },
   {
    "duration": 8,
    "start_time": "2022-01-20T19:05:39.736Z"
   },
   {
    "duration": 17,
    "start_time": "2022-01-20T19:05:39.746Z"
   },
   {
    "duration": 20,
    "start_time": "2022-01-20T19:05:39.766Z"
   },
   {
    "duration": 5,
    "start_time": "2022-01-20T19:05:39.788Z"
   },
   {
    "duration": 18,
    "start_time": "2022-01-20T19:05:39.794Z"
   },
   {
    "duration": 13,
    "start_time": "2022-01-20T19:05:39.814Z"
   },
   {
    "duration": 40,
    "start_time": "2022-01-20T19:05:39.828Z"
   },
   {
    "duration": 8,
    "start_time": "2022-01-20T19:05:39.870Z"
   },
   {
    "duration": 14,
    "start_time": "2022-01-20T19:05:39.880Z"
   },
   {
    "duration": 380,
    "start_time": "2022-01-20T19:05:39.895Z"
   },
   {
    "duration": 13,
    "start_time": "2022-01-20T19:05:40.277Z"
   },
   {
    "duration": 371,
    "start_time": "2022-01-20T19:05:40.292Z"
   },
   {
    "duration": 462,
    "start_time": "2022-01-20T19:05:40.665Z"
   },
   {
    "duration": 345,
    "start_time": "2022-01-20T19:05:41.129Z"
   },
   {
    "duration": 244,
    "start_time": "2022-01-20T19:05:41.476Z"
   },
   {
    "duration": 293,
    "start_time": "2022-01-20T19:05:41.722Z"
   },
   {
    "duration": 281,
    "start_time": "2022-01-20T19:05:42.017Z"
   },
   {
    "duration": 217,
    "start_time": "2022-01-20T19:05:42.300Z"
   },
   {
    "duration": 224,
    "start_time": "2022-01-20T19:05:42.519Z"
   },
   {
    "duration": 198,
    "start_time": "2022-01-20T19:05:42.745Z"
   },
   {
    "duration": 15,
    "start_time": "2022-01-20T19:05:42.945Z"
   },
   {
    "duration": 32,
    "start_time": "2022-01-20T19:05:42.962Z"
   },
   {
    "duration": 432,
    "start_time": "2022-01-20T19:05:42.995Z"
   },
   {
    "duration": 173,
    "start_time": "2022-01-20T19:05:43.429Z"
   },
   {
    "duration": 167,
    "start_time": "2022-01-20T19:05:43.603Z"
   },
   {
    "duration": 164,
    "start_time": "2022-01-20T19:05:43.772Z"
   },
   {
    "duration": 162,
    "start_time": "2022-01-20T19:08:08.805Z"
   },
   {
    "duration": 158,
    "start_time": "2022-01-20T19:08:15.286Z"
   },
   {
    "duration": 161,
    "start_time": "2022-01-20T19:08:19.845Z"
   },
   {
    "duration": 6,
    "start_time": "2022-01-20T19:10:09.178Z"
   },
   {
    "duration": 20,
    "start_time": "2022-01-20T19:10:16.438Z"
   },
   {
    "duration": 23,
    "start_time": "2022-01-20T19:12:41.512Z"
   },
   {
    "duration": 354,
    "start_time": "2022-01-20T19:12:54.424Z"
   },
   {
    "duration": 314,
    "start_time": "2022-01-20T19:13:02.534Z"
   },
   {
    "duration": 271,
    "start_time": "2022-01-20T19:13:24.381Z"
   },
   {
    "duration": 352,
    "start_time": "2022-01-20T19:13:33.845Z"
   },
   {
    "duration": 409,
    "start_time": "2022-01-20T19:13:53.232Z"
   },
   {
    "duration": 87,
    "start_time": "2022-01-20T19:16:06.703Z"
   },
   {
    "duration": 381,
    "start_time": "2022-01-20T19:16:21.048Z"
   },
   {
    "duration": 7067,
    "start_time": "2022-01-20T19:16:45.343Z"
   },
   {
    "duration": 304,
    "start_time": "2022-01-20T19:17:13.850Z"
   },
   {
    "duration": 284,
    "start_time": "2022-01-20T19:17:19.278Z"
   },
   {
    "duration": 6694,
    "start_time": "2022-01-20T19:17:24.104Z"
   },
   {
    "duration": 1121,
    "start_time": "2022-01-20T19:19:50.287Z"
   },
   {
    "duration": 23,
    "start_time": "2022-01-20T19:19:51.410Z"
   },
   {
    "duration": 3,
    "start_time": "2022-01-20T19:19:51.435Z"
   },
   {
    "duration": 18,
    "start_time": "2022-01-20T19:19:51.440Z"
   },
   {
    "duration": 15,
    "start_time": "2022-01-20T19:19:51.460Z"
   },
   {
    "duration": 11,
    "start_time": "2022-01-20T19:19:51.477Z"
   },
   {
    "duration": 19,
    "start_time": "2022-01-20T19:19:51.491Z"
   },
   {
    "duration": 21,
    "start_time": "2022-01-20T19:19:51.513Z"
   },
   {
    "duration": 6,
    "start_time": "2022-01-20T19:19:51.536Z"
   },
   {
    "duration": 26,
    "start_time": "2022-01-20T19:19:51.544Z"
   },
   {
    "duration": 12,
    "start_time": "2022-01-20T19:19:51.572Z"
   },
   {
    "duration": 18,
    "start_time": "2022-01-20T19:19:51.586Z"
   },
   {
    "duration": 15,
    "start_time": "2022-01-20T19:19:51.606Z"
   },
   {
    "duration": 24,
    "start_time": "2022-01-20T19:19:51.622Z"
   },
   {
    "duration": 397,
    "start_time": "2022-01-20T19:19:51.647Z"
   },
   {
    "duration": 22,
    "start_time": "2022-01-20T19:19:52.046Z"
   },
   {
    "duration": 184,
    "start_time": "2022-01-20T19:19:52.070Z"
   },
   {
    "duration": 402,
    "start_time": "2022-01-20T19:19:52.260Z"
   },
   {
    "duration": 342,
    "start_time": "2022-01-20T19:19:52.664Z"
   },
   {
    "duration": 210,
    "start_time": "2022-01-20T19:19:53.007Z"
   },
   {
    "duration": 226,
    "start_time": "2022-01-20T19:19:53.219Z"
   },
   {
    "duration": 295,
    "start_time": "2022-01-20T19:19:53.448Z"
   },
   {
    "duration": 221,
    "start_time": "2022-01-20T19:19:53.747Z"
   },
   {
    "duration": 228,
    "start_time": "2022-01-20T19:19:53.970Z"
   },
   {
    "duration": 214,
    "start_time": "2022-01-20T19:19:54.200Z"
   },
   {
    "duration": 8,
    "start_time": "2022-01-20T19:19:54.416Z"
   },
   {
    "duration": 39,
    "start_time": "2022-01-20T19:19:54.425Z"
   },
   {
    "duration": 400,
    "start_time": "2022-01-20T19:19:54.465Z"
   },
   {
    "duration": 176,
    "start_time": "2022-01-20T19:19:54.867Z"
   },
   {
    "duration": 172,
    "start_time": "2022-01-20T19:19:55.045Z"
   },
   {
    "duration": 176,
    "start_time": "2022-01-20T19:19:55.219Z"
   },
   {
    "duration": 6,
    "start_time": "2022-01-20T19:19:55.397Z"
   },
   {
    "duration": 393,
    "start_time": "2022-01-20T19:19:55.404Z"
   },
   {
    "duration": 6818,
    "start_time": "2022-01-20T19:19:55.799Z"
   },
   {
    "duration": 351,
    "start_time": "2022-01-20T19:21:00.845Z"
   },
   {
    "duration": 87,
    "start_time": "2022-01-20T19:21:27.141Z"
   },
   {
    "duration": 517,
    "start_time": "2022-01-20T19:21:33.474Z"
   },
   {
    "duration": 1405,
    "start_time": "2022-01-20T19:26:04.576Z"
   },
   {
    "duration": 26,
    "start_time": "2022-01-20T19:26:05.983Z"
   },
   {
    "duration": 64,
    "start_time": "2022-01-20T19:26:06.012Z"
   },
   {
    "duration": 51,
    "start_time": "2022-01-20T19:26:06.078Z"
   },
   {
    "duration": 45,
    "start_time": "2022-01-20T19:26:06.131Z"
   },
   {
    "duration": 30,
    "start_time": "2022-01-20T19:26:06.178Z"
   },
   {
    "duration": 38,
    "start_time": "2022-01-20T19:26:06.210Z"
   },
   {
    "duration": 41,
    "start_time": "2022-01-20T19:26:06.251Z"
   },
   {
    "duration": 35,
    "start_time": "2022-01-20T19:26:06.294Z"
   },
   {
    "duration": 43,
    "start_time": "2022-01-20T19:26:06.331Z"
   },
   {
    "duration": 33,
    "start_time": "2022-01-20T19:26:06.376Z"
   },
   {
    "duration": 38,
    "start_time": "2022-01-20T19:26:06.411Z"
   },
   {
    "duration": 19,
    "start_time": "2022-01-20T19:26:06.451Z"
   },
   {
    "duration": 36,
    "start_time": "2022-01-20T19:26:06.472Z"
   },
   {
    "duration": 391,
    "start_time": "2022-01-20T19:26:06.510Z"
   },
   {
    "duration": 14,
    "start_time": "2022-01-20T19:26:06.902Z"
   },
   {
    "duration": 208,
    "start_time": "2022-01-20T19:26:06.917Z"
   },
   {
    "duration": 388,
    "start_time": "2022-01-20T19:26:07.127Z"
   },
   {
    "duration": 346,
    "start_time": "2022-01-20T19:26:07.516Z"
   },
   {
    "duration": 425,
    "start_time": "2022-01-20T19:26:07.865Z"
   },
   {
    "duration": 411,
    "start_time": "2022-01-20T19:26:08.292Z"
   },
   {
    "duration": 281,
    "start_time": "2022-01-20T19:26:08.705Z"
   },
   {
    "duration": 213,
    "start_time": "2022-01-20T19:26:08.989Z"
   },
   {
    "duration": 203,
    "start_time": "2022-01-20T19:26:09.204Z"
   },
   {
    "duration": 219,
    "start_time": "2022-01-20T19:26:09.409Z"
   },
   {
    "duration": 6,
    "start_time": "2022-01-20T19:26:09.630Z"
   },
   {
    "duration": 33,
    "start_time": "2022-01-20T19:26:09.637Z"
   },
   {
    "duration": 383,
    "start_time": "2022-01-20T19:26:09.671Z"
   },
   {
    "duration": 165,
    "start_time": "2022-01-20T19:26:10.060Z"
   },
   {
    "duration": 167,
    "start_time": "2022-01-20T19:26:10.227Z"
   },
   {
    "duration": 171,
    "start_time": "2022-01-20T19:26:10.395Z"
   },
   {
    "duration": 5,
    "start_time": "2022-01-20T19:26:10.568Z"
   },
   {
    "duration": 375,
    "start_time": "2022-01-20T19:26:10.575Z"
   },
   {
    "duration": 324,
    "start_time": "2022-01-20T19:26:10.952Z"
   },
   {
    "duration": 85,
    "start_time": "2022-01-20T19:28:52.662Z"
   },
   {
    "duration": 387,
    "start_time": "2022-01-20T19:28:58.521Z"
   },
   {
    "duration": 471,
    "start_time": "2022-01-20T19:29:13.978Z"
   },
   {
    "duration": 1125,
    "start_time": "2022-01-20T19:32:29.288Z"
   },
   {
    "duration": 1076,
    "start_time": "2022-01-20T19:32:54.923Z"
   },
   {
    "duration": 24,
    "start_time": "2022-01-20T19:32:56.002Z"
   },
   {
    "duration": 6,
    "start_time": "2022-01-20T19:32:56.028Z"
   },
   {
    "duration": 41,
    "start_time": "2022-01-20T19:32:56.036Z"
   },
   {
    "duration": 47,
    "start_time": "2022-01-20T19:32:56.079Z"
   },
   {
    "duration": 25,
    "start_time": "2022-01-20T19:32:56.128Z"
   },
   {
    "duration": 30,
    "start_time": "2022-01-20T19:32:56.154Z"
   },
   {
    "duration": 50,
    "start_time": "2022-01-20T19:32:56.187Z"
   },
   {
    "duration": 6,
    "start_time": "2022-01-20T19:32:56.240Z"
   },
   {
    "duration": 27,
    "start_time": "2022-01-20T19:32:56.248Z"
   },
   {
    "duration": 16,
    "start_time": "2022-01-20T19:32:56.277Z"
   },
   {
    "duration": 29,
    "start_time": "2022-01-20T19:32:56.295Z"
   },
   {
    "duration": 16,
    "start_time": "2022-01-20T19:32:56.326Z"
   },
   {
    "duration": 34,
    "start_time": "2022-01-20T19:32:56.344Z"
   },
   {
    "duration": 374,
    "start_time": "2022-01-20T19:32:56.380Z"
   },
   {
    "duration": 14,
    "start_time": "2022-01-20T19:32:56.756Z"
   },
   {
    "duration": 186,
    "start_time": "2022-01-20T19:32:56.772Z"
   },
   {
    "duration": 370,
    "start_time": "2022-01-20T19:32:56.960Z"
   },
   {
    "duration": 338,
    "start_time": "2022-01-20T19:32:57.332Z"
   },
   {
    "duration": 201,
    "start_time": "2022-01-20T19:32:57.672Z"
   },
   {
    "duration": 205,
    "start_time": "2022-01-20T19:32:57.875Z"
   },
   {
    "duration": 273,
    "start_time": "2022-01-20T19:32:58.081Z"
   },
   {
    "duration": 205,
    "start_time": "2022-01-20T19:32:58.357Z"
   },
   {
    "duration": 334,
    "start_time": "2022-01-20T19:32:58.564Z"
   },
   {
    "duration": 309,
    "start_time": "2022-01-20T19:32:58.900Z"
   },
   {
    "duration": 6,
    "start_time": "2022-01-20T19:32:59.211Z"
   },
   {
    "duration": 22,
    "start_time": "2022-01-20T19:32:59.218Z"
   },
   {
    "duration": 374,
    "start_time": "2022-01-20T19:32:59.242Z"
   },
   {
    "duration": 169,
    "start_time": "2022-01-20T19:32:59.618Z"
   },
   {
    "duration": 164,
    "start_time": "2022-01-20T19:32:59.788Z"
   },
   {
    "duration": 178,
    "start_time": "2022-01-20T19:32:59.954Z"
   },
   {
    "duration": 412,
    "start_time": "2022-01-20T19:33:00.134Z"
   },
   {
    "duration": 949,
    "start_time": "2022-01-20T19:33:00.548Z"
   },
   {
    "duration": 9,
    "start_time": "2022-01-20T19:36:36.535Z"
   },
   {
    "duration": 7316,
    "start_time": "2022-01-20T19:43:11.406Z"
   },
   {
    "duration": 387,
    "start_time": "2022-01-20T19:43:26.318Z"
   },
   {
    "duration": 427,
    "start_time": "2022-01-20T19:43:56.433Z"
   },
   {
    "duration": 8,
    "start_time": "2022-01-20T19:44:21.642Z"
   },
   {
    "duration": 478,
    "start_time": "2022-01-20T19:58:18.124Z"
   },
   {
    "duration": 6,
    "start_time": "2022-01-20T19:58:42.894Z"
   },
   {
    "duration": 6,
    "start_time": "2022-01-20T19:58:50.992Z"
   },
   {
    "duration": 23,
    "start_time": "2022-01-20T19:58:59.623Z"
   },
   {
    "duration": 10,
    "start_time": "2022-01-20T20:00:03.098Z"
   },
   {
    "duration": 13,
    "start_time": "2022-01-20T20:01:25.446Z"
   },
   {
    "duration": 11,
    "start_time": "2022-01-20T20:02:13.235Z"
   },
   {
    "duration": 23,
    "start_time": "2022-01-20T20:19:06.217Z"
   },
   {
    "duration": 240,
    "start_time": "2022-01-20T20:19:57.687Z"
   },
   {
    "duration": 225,
    "start_time": "2022-01-20T20:22:07.569Z"
   },
   {
    "duration": 226,
    "start_time": "2022-01-20T20:22:34.377Z"
   },
   {
    "duration": 242,
    "start_time": "2022-01-20T20:52:52.967Z"
   },
   {
    "duration": 23,
    "start_time": "2022-01-20T21:17:06.879Z"
   },
   {
    "duration": 13,
    "start_time": "2022-01-20T21:17:19.914Z"
   },
   {
    "duration": 14,
    "start_time": "2022-01-20T21:18:26.247Z"
   },
   {
    "duration": 81,
    "start_time": "2022-01-20T21:18:58.948Z"
   },
   {
    "duration": 255,
    "start_time": "2022-01-20T21:19:02.973Z"
   },
   {
    "duration": 7101,
    "start_time": "2022-01-20T21:19:33.185Z"
   },
   {
    "duration": 14,
    "start_time": "2022-01-20T21:20:05.204Z"
   },
   {
    "duration": 6606,
    "start_time": "2022-01-20T21:20:19.312Z"
   },
   {
    "duration": 274,
    "start_time": "2022-01-20T21:20:45.333Z"
   },
   {
    "duration": 14,
    "start_time": "2022-01-20T21:22:15.871Z"
   },
   {
    "duration": 174,
    "start_time": "2022-01-20T21:22:56.008Z"
   },
   {
    "duration": 257,
    "start_time": "2022-01-20T21:23:08.495Z"
   },
   {
    "duration": 657,
    "start_time": "2022-01-20T21:23:26.208Z"
   },
   {
    "duration": 148,
    "start_time": "2022-01-20T21:23:33.899Z"
   },
   {
    "duration": 146,
    "start_time": "2022-01-20T21:23:46.741Z"
   },
   {
    "duration": 143,
    "start_time": "2022-01-20T21:24:57.477Z"
   },
   {
    "duration": 149,
    "start_time": "2022-01-20T21:26:56.454Z"
   },
   {
    "duration": 94,
    "start_time": "2022-01-20T21:27:09.185Z"
   },
   {
    "duration": 217,
    "start_time": "2022-01-20T21:28:56.453Z"
   },
   {
    "duration": 91,
    "start_time": "2022-01-20T21:29:06.980Z"
   },
   {
    "duration": 265,
    "start_time": "2022-01-20T21:29:36.429Z"
   },
   {
    "duration": 256,
    "start_time": "2022-01-20T21:30:05.832Z"
   },
   {
    "duration": 207,
    "start_time": "2022-01-20T21:30:26.902Z"
   },
   {
    "duration": 195,
    "start_time": "2022-01-20T21:30:38.813Z"
   },
   {
    "duration": 188,
    "start_time": "2022-01-20T21:31:53.476Z"
   },
   {
    "duration": 179,
    "start_time": "2022-01-20T21:32:47.774Z"
   },
   {
    "duration": 305,
    "start_time": "2022-01-20T21:39:41.845Z"
   },
   {
    "duration": 253,
    "start_time": "2022-01-20T21:40:14.025Z"
   },
   {
    "duration": 258,
    "start_time": "2022-01-20T21:40:20.053Z"
   },
   {
    "duration": 24,
    "start_time": "2022-01-20T21:40:33.737Z"
   },
   {
    "duration": 7925,
    "start_time": "2022-01-20T21:40:43.192Z"
   },
   {
    "duration": 214,
    "start_time": "2022-01-20T21:41:03.561Z"
   },
   {
    "duration": 295,
    "start_time": "2022-01-20T21:41:31.605Z"
   },
   {
    "duration": 220,
    "start_time": "2022-01-20T21:41:39.211Z"
   },
   {
    "duration": 209,
    "start_time": "2022-01-20T21:42:19.527Z"
   },
   {
    "duration": 440,
    "start_time": "2022-01-20T21:44:14.672Z"
   },
   {
    "duration": 213,
    "start_time": "2022-01-20T21:45:06.692Z"
   },
   {
    "duration": 214,
    "start_time": "2022-01-20T21:45:14.487Z"
   },
   {
    "duration": 208,
    "start_time": "2022-01-20T21:45:27.802Z"
   },
   {
    "duration": 21,
    "start_time": "2022-01-20T21:50:51.252Z"
   },
   {
    "duration": 6,
    "start_time": "2022-01-20T21:51:18.870Z"
   },
   {
    "duration": 1227,
    "start_time": "2022-01-20T21:57:00.871Z"
   },
   {
    "duration": 25,
    "start_time": "2022-01-20T21:57:02.100Z"
   },
   {
    "duration": 3,
    "start_time": "2022-01-20T21:57:02.127Z"
   },
   {
    "duration": 19,
    "start_time": "2022-01-20T21:57:02.132Z"
   },
   {
    "duration": 13,
    "start_time": "2022-01-20T21:57:02.153Z"
   },
   {
    "duration": 28,
    "start_time": "2022-01-20T21:57:02.168Z"
   },
   {
    "duration": 6,
    "start_time": "2022-01-20T21:57:02.198Z"
   },
   {
    "duration": 17,
    "start_time": "2022-01-20T21:57:02.206Z"
   },
   {
    "duration": 6,
    "start_time": "2022-01-20T21:57:02.225Z"
   },
   {
    "duration": 28,
    "start_time": "2022-01-20T21:57:02.232Z"
   },
   {
    "duration": 14,
    "start_time": "2022-01-20T21:57:02.262Z"
   },
   {
    "duration": 15,
    "start_time": "2022-01-20T21:57:02.278Z"
   },
   {
    "duration": 5,
    "start_time": "2022-01-20T21:57:02.295Z"
   },
   {
    "duration": 21,
    "start_time": "2022-01-20T21:57:02.302Z"
   },
   {
    "duration": 410,
    "start_time": "2022-01-20T21:57:02.325Z"
   },
   {
    "duration": 24,
    "start_time": "2022-01-20T21:57:02.737Z"
   },
   {
    "duration": 187,
    "start_time": "2022-01-20T21:57:02.762Z"
   },
   {
    "duration": 395,
    "start_time": "2022-01-20T21:57:02.951Z"
   },
   {
    "duration": 354,
    "start_time": "2022-01-20T21:57:03.347Z"
   },
   {
    "duration": 204,
    "start_time": "2022-01-20T21:57:03.703Z"
   },
   {
    "duration": 214,
    "start_time": "2022-01-20T21:57:03.909Z"
   },
   {
    "duration": 289,
    "start_time": "2022-01-20T21:57:04.124Z"
   },
   {
    "duration": 208,
    "start_time": "2022-01-20T21:57:04.415Z"
   },
   {
    "duration": 214,
    "start_time": "2022-01-20T21:57:04.625Z"
   },
   {
    "duration": 322,
    "start_time": "2022-01-20T21:57:04.841Z"
   },
   {
    "duration": 6,
    "start_time": "2022-01-20T21:57:05.166Z"
   },
   {
    "duration": 29,
    "start_time": "2022-01-20T21:57:05.174Z"
   },
   {
    "duration": 500,
    "start_time": "2022-01-20T21:57:05.205Z"
   },
   {
    "duration": 172,
    "start_time": "2022-01-20T21:57:05.706Z"
   },
   {
    "duration": 170,
    "start_time": "2022-01-20T21:57:05.880Z"
   },
   {
    "duration": 166,
    "start_time": "2022-01-20T21:57:06.052Z"
   },
   {
    "duration": 442,
    "start_time": "2022-01-20T21:57:06.221Z"
   },
   {
    "duration": 10,
    "start_time": "2022-01-20T21:57:06.665Z"
   },
   {
    "duration": 381,
    "start_time": "2022-01-20T21:57:06.677Z"
   },
   {
    "duration": 9,
    "start_time": "2022-01-20T21:57:07.061Z"
   },
   {
    "duration": 32,
    "start_time": "2022-01-20T21:57:07.073Z"
   },
   {
    "duration": 26,
    "start_time": "2022-01-20T21:57:07.108Z"
   },
   {
    "duration": 264,
    "start_time": "2022-01-20T21:57:07.136Z"
   },
   {
    "duration": 340,
    "start_time": "2022-01-20T21:57:07.401Z"
   },
   {
    "duration": 211,
    "start_time": "2022-01-20T21:57:07.743Z"
   },
   {
    "duration": 206,
    "start_time": "2022-01-20T21:57:07.960Z"
   },
   {
    "duration": 207,
    "start_time": "2022-01-20T21:57:08.167Z"
   },
   {
    "duration": 233,
    "start_time": "2022-01-20T21:57:08.376Z"
   },
   {
    "duration": 213,
    "start_time": "2022-01-20T21:57:08.611Z"
   },
   {
    "duration": 210,
    "start_time": "2022-01-20T21:57:08.826Z"
   },
   {
    "duration": 6,
    "start_time": "2022-01-20T21:57:09.038Z"
   },
   {
    "duration": 156,
    "start_time": "2022-01-20T21:58:49.267Z"
   },
   {
    "duration": 159,
    "start_time": "2022-01-20T22:00:07.383Z"
   },
   {
    "duration": 166,
    "start_time": "2022-01-20T22:00:35.032Z"
   },
   {
    "duration": 159,
    "start_time": "2022-01-20T22:01:31.832Z"
   },
   {
    "duration": 230,
    "start_time": "2022-01-20T22:01:42.744Z"
   },
   {
    "duration": 160,
    "start_time": "2022-01-20T22:01:49.958Z"
   },
   {
    "duration": 156,
    "start_time": "2022-01-20T22:01:55.381Z"
   },
   {
    "duration": 158,
    "start_time": "2022-01-20T22:02:01.387Z"
   },
   {
    "duration": 154,
    "start_time": "2022-01-20T22:02:12.305Z"
   },
   {
    "duration": 176,
    "start_time": "2022-01-20T22:02:18.152Z"
   },
   {
    "duration": 156,
    "start_time": "2022-01-20T22:02:23.040Z"
   },
   {
    "duration": 169,
    "start_time": "2022-01-20T22:02:33.242Z"
   },
   {
    "duration": 177,
    "start_time": "2022-01-20T22:02:40.994Z"
   },
   {
    "duration": 165,
    "start_time": "2022-01-20T22:02:45.352Z"
   },
   {
    "duration": 163,
    "start_time": "2022-01-20T22:03:01.888Z"
   },
   {
    "duration": 1066,
    "start_time": "2022-01-21T19:23:11.919Z"
   },
   {
    "duration": 22,
    "start_time": "2022-01-21T19:23:12.987Z"
   },
   {
    "duration": 26,
    "start_time": "2022-01-21T19:23:13.011Z"
   },
   {
    "duration": 54,
    "start_time": "2022-01-21T19:23:13.040Z"
   },
   {
    "duration": 21,
    "start_time": "2022-01-21T19:23:13.096Z"
   },
   {
    "duration": 26,
    "start_time": "2022-01-21T19:23:13.119Z"
   },
   {
    "duration": 20,
    "start_time": "2022-01-21T19:23:13.147Z"
   },
   {
    "duration": 33,
    "start_time": "2022-01-21T19:23:13.169Z"
   },
   {
    "duration": 19,
    "start_time": "2022-01-21T19:23:13.204Z"
   },
   {
    "duration": 36,
    "start_time": "2022-01-21T19:23:13.225Z"
   },
   {
    "duration": 32,
    "start_time": "2022-01-21T19:23:13.263Z"
   },
   {
    "duration": 18,
    "start_time": "2022-01-21T19:23:13.296Z"
   },
   {
    "duration": 19,
    "start_time": "2022-01-21T19:23:13.316Z"
   },
   {
    "duration": 37,
    "start_time": "2022-01-21T19:23:13.337Z"
   },
   {
    "duration": 361,
    "start_time": "2022-01-21T19:23:13.375Z"
   },
   {
    "duration": 13,
    "start_time": "2022-01-21T19:23:13.738Z"
   },
   {
    "duration": 175,
    "start_time": "2022-01-21T19:23:13.761Z"
   },
   {
    "duration": 464,
    "start_time": "2022-01-21T19:23:13.938Z"
   },
   {
    "duration": 489,
    "start_time": "2022-01-21T19:23:14.404Z"
   },
   {
    "duration": 205,
    "start_time": "2022-01-21T19:23:14.895Z"
   },
   {
    "duration": 206,
    "start_time": "2022-01-21T19:23:15.102Z"
   },
   {
    "duration": 276,
    "start_time": "2022-01-21T19:23:15.310Z"
   },
   {
    "duration": 215,
    "start_time": "2022-01-21T19:23:15.590Z"
   },
   {
    "duration": 224,
    "start_time": "2022-01-21T19:23:15.807Z"
   },
   {
    "duration": 195,
    "start_time": "2022-01-21T19:23:16.033Z"
   },
   {
    "duration": 7,
    "start_time": "2022-01-21T19:23:16.230Z"
   },
   {
    "duration": 53,
    "start_time": "2022-01-21T19:23:16.238Z"
   },
   {
    "duration": 350,
    "start_time": "2022-01-21T19:23:16.293Z"
   },
   {
    "duration": 167,
    "start_time": "2022-01-21T19:23:16.645Z"
   },
   {
    "duration": 164,
    "start_time": "2022-01-21T19:23:16.813Z"
   },
   {
    "duration": 164,
    "start_time": "2022-01-21T19:23:16.979Z"
   },
   {
    "duration": 400,
    "start_time": "2022-01-21T19:23:17.145Z"
   },
   {
    "duration": 15,
    "start_time": "2022-01-21T19:23:17.547Z"
   },
   {
    "duration": 381,
    "start_time": "2022-01-21T19:23:17.564Z"
   },
   {
    "duration": 15,
    "start_time": "2022-01-21T19:23:17.946Z"
   },
   {
    "duration": 15,
    "start_time": "2022-01-21T19:23:17.963Z"
   },
   {
    "duration": 11,
    "start_time": "2022-01-21T19:23:17.980Z"
   },
   {
    "duration": 242,
    "start_time": "2022-01-21T19:23:17.992Z"
   },
   {
    "duration": 315,
    "start_time": "2022-01-21T19:23:18.235Z"
   },
   {
    "duration": 211,
    "start_time": "2022-01-21T19:23:18.552Z"
   },
   {
    "duration": 314,
    "start_time": "2022-01-21T19:23:18.765Z"
   },
   {
    "duration": 193,
    "start_time": "2022-01-21T19:23:19.081Z"
   },
   {
    "duration": 213,
    "start_time": "2022-01-21T19:23:19.276Z"
   },
   {
    "duration": 233,
    "start_time": "2022-01-21T19:23:19.491Z"
   },
   {
    "duration": 214,
    "start_time": "2022-01-21T19:23:19.727Z"
   },
   {
    "duration": 159,
    "start_time": "2022-01-21T19:23:19.943Z"
   },
   {
    "duration": 165,
    "start_time": "2022-01-21T19:23:20.104Z"
   },
   {
    "duration": 162,
    "start_time": "2022-01-21T19:23:20.271Z"
   },
   {
    "duration": 253,
    "start_time": "2022-01-21T19:27:02.425Z"
   },
   {
    "duration": 238,
    "start_time": "2022-01-21T19:27:07.778Z"
   },
   {
    "duration": 103,
    "start_time": "2022-01-21T19:27:15.920Z"
   },
   {
    "duration": 160,
    "start_time": "2022-01-21T19:27:39.577Z"
   },
   {
    "duration": 105,
    "start_time": "2022-01-21T19:34:37.439Z"
   },
   {
    "duration": 10,
    "start_time": "2022-01-21T19:35:34.335Z"
   },
   {
    "duration": 346,
    "start_time": "2022-01-21T19:36:24.985Z"
   },
   {
    "duration": 255,
    "start_time": "2022-01-21T19:36:33.540Z"
   },
   {
    "duration": 103,
    "start_time": "2022-01-21T19:36:49.202Z"
   },
   {
    "duration": 101,
    "start_time": "2022-01-21T19:36:56.195Z"
   },
   {
    "duration": 13,
    "start_time": "2022-01-21T19:38:03.692Z"
   },
   {
    "duration": 277,
    "start_time": "2022-01-21T19:39:33.440Z"
   },
   {
    "duration": 4,
    "start_time": "2022-01-21T19:39:37.370Z"
   },
   {
    "duration": 13,
    "start_time": "2022-01-21T19:39:44.455Z"
   },
   {
    "duration": 99,
    "start_time": "2022-01-21T19:40:26.100Z"
   },
   {
    "duration": 354,
    "start_time": "2022-01-21T19:43:22.300Z"
   },
   {
    "duration": 96,
    "start_time": "2022-01-21T19:43:34.437Z"
   },
   {
    "duration": 95,
    "start_time": "2022-01-21T19:43:44.208Z"
   },
   {
    "duration": 97,
    "start_time": "2022-01-21T19:43:49.210Z"
   },
   {
    "duration": 189,
    "start_time": "2022-01-21T19:44:50.196Z"
   },
   {
    "duration": 95,
    "start_time": "2022-01-21T19:45:16.339Z"
   },
   {
    "duration": 102,
    "start_time": "2022-01-21T19:45:24.704Z"
   },
   {
    "duration": 402,
    "start_time": "2022-01-21T19:50:38.887Z"
   },
   {
    "duration": 115,
    "start_time": "2022-01-21T19:50:49.323Z"
   },
   {
    "duration": 100,
    "start_time": "2022-01-21T19:55:37.519Z"
   },
   {
    "duration": 100,
    "start_time": "2022-01-21T19:55:54.164Z"
   },
   {
    "duration": 103,
    "start_time": "2022-01-21T19:56:00.022Z"
   },
   {
    "duration": 106,
    "start_time": "2022-01-21T19:56:17.263Z"
   },
   {
    "duration": 99,
    "start_time": "2022-01-21T19:56:35.378Z"
   },
   {
    "duration": 102,
    "start_time": "2022-01-21T19:56:51.624Z"
   },
   {
    "duration": 85,
    "start_time": "2022-01-21T19:59:47.893Z"
   },
   {
    "duration": 461,
    "start_time": "2022-01-21T19:59:58.324Z"
   },
   {
    "duration": 105,
    "start_time": "2022-01-21T20:00:06.091Z"
   },
   {
    "duration": 108,
    "start_time": "2022-01-21T20:02:26.390Z"
   },
   {
    "duration": 112,
    "start_time": "2022-01-21T20:02:46.012Z"
   },
   {
    "duration": 113,
    "start_time": "2022-01-21T20:03:14.706Z"
   },
   {
    "duration": 113,
    "start_time": "2022-01-21T20:03:40.182Z"
   },
   {
    "duration": 81,
    "start_time": "2022-01-21T20:03:52.540Z"
   },
   {
    "duration": 104,
    "start_time": "2022-01-21T20:04:07.819Z"
   },
   {
    "duration": 81,
    "start_time": "2022-01-21T20:04:13.495Z"
   },
   {
    "duration": 85,
    "start_time": "2022-01-21T20:09:18.867Z"
   },
   {
    "duration": 83,
    "start_time": "2022-01-21T20:12:55.197Z"
   },
   {
    "duration": 157,
    "start_time": "2022-01-21T20:13:02.920Z"
   },
   {
    "duration": 89,
    "start_time": "2022-01-21T20:20:15.038Z"
   },
   {
    "duration": 82,
    "start_time": "2022-01-21T20:22:12.514Z"
   },
   {
    "duration": 83,
    "start_time": "2022-01-21T20:24:07.776Z"
   },
   {
    "duration": 6852,
    "start_time": "2022-01-21T20:41:12.609Z"
   },
   {
    "duration": 89,
    "start_time": "2022-01-21T20:41:30.002Z"
   },
   {
    "duration": 87,
    "start_time": "2022-01-21T20:42:10.032Z"
   },
   {
    "duration": 87,
    "start_time": "2022-01-21T20:43:34.717Z"
   },
   {
    "duration": 1235,
    "start_time": "2022-01-21T20:54:03.836Z"
   },
   {
    "duration": 23,
    "start_time": "2022-01-21T20:54:05.073Z"
   },
   {
    "duration": 3,
    "start_time": "2022-01-21T20:54:05.098Z"
   },
   {
    "duration": 14,
    "start_time": "2022-01-21T20:54:05.103Z"
   },
   {
    "duration": 13,
    "start_time": "2022-01-21T20:54:05.119Z"
   },
   {
    "duration": 7,
    "start_time": "2022-01-21T20:54:05.134Z"
   },
   {
    "duration": 22,
    "start_time": "2022-01-21T20:54:05.142Z"
   },
   {
    "duration": 16,
    "start_time": "2022-01-21T20:54:05.166Z"
   },
   {
    "duration": 5,
    "start_time": "2022-01-21T20:54:05.184Z"
   },
   {
    "duration": 20,
    "start_time": "2022-01-21T20:54:05.190Z"
   },
   {
    "duration": 13,
    "start_time": "2022-01-21T20:54:05.211Z"
   },
   {
    "duration": 43,
    "start_time": "2022-01-21T20:54:05.225Z"
   },
   {
    "duration": 9,
    "start_time": "2022-01-21T20:54:05.270Z"
   },
   {
    "duration": 15,
    "start_time": "2022-01-21T20:54:05.280Z"
   },
   {
    "duration": 381,
    "start_time": "2022-01-21T20:54:05.297Z"
   },
   {
    "duration": 15,
    "start_time": "2022-01-21T20:54:05.679Z"
   },
   {
    "duration": 191,
    "start_time": "2022-01-21T20:54:05.695Z"
   },
   {
    "duration": 375,
    "start_time": "2022-01-21T20:54:05.887Z"
   },
   {
    "duration": 330,
    "start_time": "2022-01-21T20:54:06.264Z"
   },
   {
    "duration": 325,
    "start_time": "2022-01-21T20:54:06.595Z"
   },
   {
    "duration": 301,
    "start_time": "2022-01-21T20:54:06.923Z"
   },
   {
    "duration": 304,
    "start_time": "2022-01-21T20:54:07.227Z"
   },
   {
    "duration": 218,
    "start_time": "2022-01-21T20:54:07.536Z"
   },
   {
    "duration": 220,
    "start_time": "2022-01-21T20:54:07.756Z"
   },
   {
    "duration": 213,
    "start_time": "2022-01-21T20:54:07.978Z"
   },
   {
    "duration": 7,
    "start_time": "2022-01-21T20:54:08.193Z"
   },
   {
    "duration": 29,
    "start_time": "2022-01-21T20:54:08.202Z"
   },
   {
    "duration": 379,
    "start_time": "2022-01-21T20:54:08.233Z"
   },
   {
    "duration": 181,
    "start_time": "2022-01-21T20:54:08.614Z"
   },
   {
    "duration": 421,
    "start_time": "2022-01-21T20:54:08.797Z"
   },
   {
    "duration": 172,
    "start_time": "2022-01-21T20:54:09.219Z"
   },
   {
    "duration": 369,
    "start_time": "2022-01-21T20:54:09.394Z"
   },
   {
    "duration": 10,
    "start_time": "2022-01-21T20:54:09.765Z"
   },
   {
    "duration": 394,
    "start_time": "2022-01-21T20:54:09.777Z"
   },
   {
    "duration": 9,
    "start_time": "2022-01-21T20:54:10.173Z"
   },
   {
    "duration": 17,
    "start_time": "2022-01-21T20:54:10.184Z"
   },
   {
    "duration": 11,
    "start_time": "2022-01-21T20:54:10.202Z"
   },
   {
    "duration": 263,
    "start_time": "2022-01-21T20:54:10.215Z"
   },
   {
    "duration": 491,
    "start_time": "2022-01-21T20:54:10.480Z"
   },
   {
    "duration": 123,
    "start_time": "2022-01-21T20:54:10.973Z"
   },
   {
    "duration": 191,
    "start_time": "2022-01-21T20:54:11.098Z"
   },
   {
    "duration": 188,
    "start_time": "2022-01-21T20:54:11.291Z"
   },
   {
    "duration": 105,
    "start_time": "2022-01-21T20:54:11.481Z"
   },
   {
    "duration": 109,
    "start_time": "2022-01-21T20:54:11.588Z"
   },
   {
    "duration": 129,
    "start_time": "2022-01-21T20:54:11.700Z"
   },
   {
    "duration": 135,
    "start_time": "2022-01-21T20:54:11.831Z"
   },
   {
    "duration": 103,
    "start_time": "2022-01-21T20:54:11.968Z"
   },
   {
    "duration": 146,
    "start_time": "2022-01-21T20:54:12.073Z"
   },
   {
    "duration": 15,
    "start_time": "2022-01-21T21:10:23.284Z"
   },
   {
    "duration": 28,
    "start_time": "2022-01-21T21:10:51.185Z"
   },
   {
    "duration": 27,
    "start_time": "2022-01-21T21:11:09.960Z"
   },
   {
    "duration": 201,
    "start_time": "2022-01-21T21:12:15.709Z"
   },
   {
    "duration": 266,
    "start_time": "2022-01-21T21:12:27.394Z"
   },
   {
    "duration": 204,
    "start_time": "2022-01-21T21:13:08.925Z"
   },
   {
    "duration": 216,
    "start_time": "2022-01-21T21:13:24.081Z"
   },
   {
    "duration": 202,
    "start_time": "2022-01-21T21:13:36.396Z"
   },
   {
    "duration": 207,
    "start_time": "2022-01-21T21:14:53.944Z"
   },
   {
    "duration": 199,
    "start_time": "2022-01-21T21:15:26.772Z"
   },
   {
    "duration": 88,
    "start_time": "2022-01-21T21:16:51.425Z"
   },
   {
    "duration": 11,
    "start_time": "2022-01-21T21:20:32.895Z"
   },
   {
    "duration": 11,
    "start_time": "2022-01-21T21:23:40.888Z"
   },
   {
    "duration": 12,
    "start_time": "2022-01-21T21:23:47.386Z"
   },
   {
    "duration": 14,
    "start_time": "2022-01-21T21:31:11.916Z"
   },
   {
    "duration": 202,
    "start_time": "2022-01-21T21:32:32.570Z"
   },
   {
    "duration": 193,
    "start_time": "2022-01-21T21:34:22.834Z"
   },
   {
    "duration": 198,
    "start_time": "2022-01-21T21:35:44.903Z"
   },
   {
    "duration": 209,
    "start_time": "2022-01-21T21:35:52.175Z"
   },
   {
    "duration": 189,
    "start_time": "2022-01-21T21:36:01.191Z"
   },
   {
    "duration": 300,
    "start_time": "2022-01-21T21:36:08.587Z"
   },
   {
    "duration": 185,
    "start_time": "2022-01-21T21:36:16.969Z"
   },
   {
    "duration": 209,
    "start_time": "2022-01-21T21:36:21.313Z"
   },
   {
    "duration": 201,
    "start_time": "2022-01-21T21:36:30.429Z"
   },
   {
    "duration": 200,
    "start_time": "2022-01-21T21:37:01.090Z"
   },
   {
    "duration": 12,
    "start_time": "2022-01-21T21:43:02.983Z"
   },
   {
    "duration": 12,
    "start_time": "2022-01-21T21:45:13.823Z"
   },
   {
    "duration": 12,
    "start_time": "2022-01-21T21:45:18.279Z"
   },
   {
    "duration": 13,
    "start_time": "2022-01-21T22:01:12.029Z"
   },
   {
    "duration": 11,
    "start_time": "2022-01-21T22:01:18.411Z"
   },
   {
    "duration": 1214,
    "start_time": "2022-01-21T22:03:06.234Z"
   },
   {
    "duration": 23,
    "start_time": "2022-01-21T22:03:07.450Z"
   },
   {
    "duration": 17,
    "start_time": "2022-01-21T22:03:07.475Z"
   },
   {
    "duration": 47,
    "start_time": "2022-01-21T22:03:07.494Z"
   },
   {
    "duration": 45,
    "start_time": "2022-01-21T22:03:07.543Z"
   },
   {
    "duration": 43,
    "start_time": "2022-01-21T22:03:07.590Z"
   },
   {
    "duration": 18,
    "start_time": "2022-01-21T22:03:07.635Z"
   },
   {
    "duration": 33,
    "start_time": "2022-01-21T22:03:07.656Z"
   },
   {
    "duration": 45,
    "start_time": "2022-01-21T22:03:07.691Z"
   },
   {
    "duration": 40,
    "start_time": "2022-01-21T22:03:07.738Z"
   },
   {
    "duration": 33,
    "start_time": "2022-01-21T22:03:07.780Z"
   },
   {
    "duration": 77,
    "start_time": "2022-01-21T22:03:07.815Z"
   },
   {
    "duration": 29,
    "start_time": "2022-01-21T22:03:07.893Z"
   },
   {
    "duration": 49,
    "start_time": "2022-01-21T22:03:07.924Z"
   },
   {
    "duration": 380,
    "start_time": "2022-01-21T22:03:07.975Z"
   },
   {
    "duration": 13,
    "start_time": "2022-01-21T22:03:08.360Z"
   },
   {
    "duration": 188,
    "start_time": "2022-01-21T22:03:08.375Z"
   },
   {
    "duration": 395,
    "start_time": "2022-01-21T22:03:08.565Z"
   },
   {
    "duration": 348,
    "start_time": "2022-01-21T22:03:08.962Z"
   },
   {
    "duration": 194,
    "start_time": "2022-01-21T22:03:09.312Z"
   },
   {
    "duration": 212,
    "start_time": "2022-01-21T22:03:09.508Z"
   },
   {
    "duration": 294,
    "start_time": "2022-01-21T22:03:09.721Z"
   },
   {
    "duration": 207,
    "start_time": "2022-01-21T22:03:10.018Z"
   },
   {
    "duration": 213,
    "start_time": "2022-01-21T22:03:10.227Z"
   },
   {
    "duration": 201,
    "start_time": "2022-01-21T22:03:10.442Z"
   },
   {
    "duration": 6,
    "start_time": "2022-01-21T22:03:10.645Z"
   },
   {
    "duration": 40,
    "start_time": "2022-01-21T22:03:10.661Z"
   },
   {
    "duration": 408,
    "start_time": "2022-01-21T22:03:10.703Z"
   },
   {
    "duration": 177,
    "start_time": "2022-01-21T22:03:11.112Z"
   },
   {
    "duration": 169,
    "start_time": "2022-01-21T22:03:11.291Z"
   },
   {
    "duration": 184,
    "start_time": "2022-01-21T22:03:11.462Z"
   },
   {
    "duration": 405,
    "start_time": "2022-01-21T22:03:11.647Z"
   },
   {
    "duration": 12,
    "start_time": "2022-01-21T22:03:12.054Z"
   },
   {
    "duration": 375,
    "start_time": "2022-01-21T22:03:12.067Z"
   },
   {
    "duration": 8,
    "start_time": "2022-01-21T22:03:12.444Z"
   },
   {
    "duration": 22,
    "start_time": "2022-01-21T22:03:12.460Z"
   },
   {
    "duration": 38,
    "start_time": "2022-01-21T22:03:12.483Z"
   },
   {
    "duration": 234,
    "start_time": "2022-01-21T22:03:12.523Z"
   },
   {
    "duration": 322,
    "start_time": "2022-01-21T22:03:12.759Z"
   },
   {
    "duration": 95,
    "start_time": "2022-01-21T22:03:13.083Z"
   },
   {
    "duration": 93,
    "start_time": "2022-01-21T22:03:13.180Z"
   },
   {
    "duration": 93,
    "start_time": "2022-01-21T22:03:13.274Z"
   },
   {
    "duration": 84,
    "start_time": "2022-01-21T22:03:13.368Z"
   },
   {
    "duration": 86,
    "start_time": "2022-01-21T22:03:13.460Z"
   },
   {
    "duration": 86,
    "start_time": "2022-01-21T22:03:13.560Z"
   },
   {
    "duration": 82,
    "start_time": "2022-01-21T22:03:13.660Z"
   },
   {
    "duration": 94,
    "start_time": "2022-01-21T22:03:13.744Z"
   },
   {
    "duration": 93,
    "start_time": "2022-01-21T22:03:13.840Z"
   },
   {
    "duration": 209,
    "start_time": "2022-01-21T22:03:13.934Z"
   },
   {
    "duration": 293,
    "start_time": "2022-01-21T22:03:14.145Z"
   },
   {
    "duration": 11,
    "start_time": "2022-01-21T22:03:14.440Z"
   },
   {
    "duration": 208,
    "start_time": "2022-01-21T22:03:14.462Z"
   },
   {
    "duration": 205,
    "start_time": "2022-01-21T22:03:14.672Z"
   },
   {
    "duration": 13,
    "start_time": "2022-01-21T22:03:14.880Z"
   },
   {
    "duration": 1129,
    "start_time": "2022-01-21T22:07:30.907Z"
   },
   {
    "duration": 26,
    "start_time": "2022-01-21T22:07:32.038Z"
   },
   {
    "duration": 11,
    "start_time": "2022-01-21T22:07:32.067Z"
   },
   {
    "duration": 46,
    "start_time": "2022-01-21T22:07:32.080Z"
   },
   {
    "duration": 21,
    "start_time": "2022-01-21T22:07:32.128Z"
   },
   {
    "duration": 24,
    "start_time": "2022-01-21T22:07:32.150Z"
   },
   {
    "duration": 29,
    "start_time": "2022-01-21T22:07:32.176Z"
   },
   {
    "duration": 28,
    "start_time": "2022-01-21T22:07:32.208Z"
   },
   {
    "duration": 10,
    "start_time": "2022-01-21T22:07:32.238Z"
   },
   {
    "duration": 40,
    "start_time": "2022-01-21T22:07:32.250Z"
   },
   {
    "duration": 13,
    "start_time": "2022-01-21T22:07:32.292Z"
   },
   {
    "duration": 37,
    "start_time": "2022-01-21T22:07:32.307Z"
   },
   {
    "duration": 28,
    "start_time": "2022-01-21T22:07:32.345Z"
   },
   {
    "duration": 31,
    "start_time": "2022-01-21T22:07:32.375Z"
   },
   {
    "duration": 363,
    "start_time": "2022-01-21T22:07:32.409Z"
   },
   {
    "duration": 15,
    "start_time": "2022-01-21T22:07:32.774Z"
   },
   {
    "duration": 190,
    "start_time": "2022-01-21T22:07:32.791Z"
   },
   {
    "duration": 389,
    "start_time": "2022-01-21T22:07:32.983Z"
   },
   {
    "duration": 352,
    "start_time": "2022-01-21T22:07:33.373Z"
   },
   {
    "duration": 204,
    "start_time": "2022-01-21T22:07:33.727Z"
   },
   {
    "duration": 219,
    "start_time": "2022-01-21T22:07:33.933Z"
   },
   {
    "duration": 277,
    "start_time": "2022-01-21T22:07:34.154Z"
   },
   {
    "duration": 212,
    "start_time": "2022-01-21T22:07:34.435Z"
   },
   {
    "duration": 216,
    "start_time": "2022-01-21T22:07:34.650Z"
   },
   {
    "duration": 209,
    "start_time": "2022-01-21T22:07:34.868Z"
   },
   {
    "duration": 7,
    "start_time": "2022-01-21T22:07:35.079Z"
   },
   {
    "duration": 21,
    "start_time": "2022-01-21T22:07:35.087Z"
   },
   {
    "duration": 385,
    "start_time": "2022-01-21T22:07:35.110Z"
   },
   {
    "duration": 184,
    "start_time": "2022-01-21T22:07:35.497Z"
   },
   {
    "duration": 176,
    "start_time": "2022-01-21T22:07:35.684Z"
   },
   {
    "duration": 176,
    "start_time": "2022-01-21T22:07:35.863Z"
   },
   {
    "duration": 414,
    "start_time": "2022-01-21T22:07:36.041Z"
   },
   {
    "duration": 10,
    "start_time": "2022-01-21T22:07:36.458Z"
   },
   {
    "duration": 397,
    "start_time": "2022-01-21T22:07:36.470Z"
   },
   {
    "duration": 9,
    "start_time": "2022-01-21T22:07:36.868Z"
   },
   {
    "duration": 12,
    "start_time": "2022-01-21T22:07:36.879Z"
   },
   {
    "duration": 12,
    "start_time": "2022-01-21T22:07:36.893Z"
   },
   {
    "duration": 263,
    "start_time": "2022-01-21T22:07:36.907Z"
   },
   {
    "duration": 343,
    "start_time": "2022-01-21T22:07:37.172Z"
   },
   {
    "duration": 100,
    "start_time": "2022-01-21T22:07:37.517Z"
   },
   {
    "duration": 101,
    "start_time": "2022-01-21T22:07:37.619Z"
   },
   {
    "duration": 94,
    "start_time": "2022-01-21T22:07:37.722Z"
   },
   {
    "duration": 95,
    "start_time": "2022-01-21T22:07:37.818Z"
   },
   {
    "duration": 94,
    "start_time": "2022-01-21T22:07:37.915Z"
   },
   {
    "duration": 94,
    "start_time": "2022-01-21T22:07:38.011Z"
   },
   {
    "duration": 100,
    "start_time": "2022-01-21T22:07:38.107Z"
   },
   {
    "duration": 97,
    "start_time": "2022-01-21T22:07:38.209Z"
   },
   {
    "duration": 98,
    "start_time": "2022-01-21T22:07:38.308Z"
   },
   {
    "duration": 215,
    "start_time": "2022-01-21T22:07:38.408Z"
   },
   {
    "duration": 309,
    "start_time": "2022-01-21T22:07:38.625Z"
   },
   {
    "duration": 11,
    "start_time": "2022-01-21T22:07:38.936Z"
   },
   {
    "duration": 223,
    "start_time": "2022-01-21T22:07:38.949Z"
   },
   {
    "duration": 198,
    "start_time": "2022-01-21T22:07:39.174Z"
   },
   {
    "duration": 11,
    "start_time": "2022-01-21T22:07:39.374Z"
   },
   {
    "duration": 1219,
    "start_time": "2022-01-21T22:52:11.264Z"
   },
   {
    "duration": 23,
    "start_time": "2022-01-21T22:52:12.485Z"
   },
   {
    "duration": 4,
    "start_time": "2022-01-21T22:52:12.510Z"
   },
   {
    "duration": 18,
    "start_time": "2022-01-21T22:52:12.515Z"
   },
   {
    "duration": 8,
    "start_time": "2022-01-21T22:52:12.535Z"
   },
   {
    "duration": 23,
    "start_time": "2022-01-21T22:52:12.545Z"
   },
   {
    "duration": 19,
    "start_time": "2022-01-21T22:52:12.570Z"
   },
   {
    "duration": 33,
    "start_time": "2022-01-21T22:52:12.590Z"
   },
   {
    "duration": 35,
    "start_time": "2022-01-21T22:52:12.626Z"
   },
   {
    "duration": 42,
    "start_time": "2022-01-21T22:52:12.663Z"
   },
   {
    "duration": 23,
    "start_time": "2022-01-21T22:52:12.707Z"
   },
   {
    "duration": 23,
    "start_time": "2022-01-21T22:52:12.732Z"
   },
   {
    "duration": 33,
    "start_time": "2022-01-21T22:52:12.757Z"
   },
   {
    "duration": 29,
    "start_time": "2022-01-21T22:52:12.792Z"
   },
   {
    "duration": 370,
    "start_time": "2022-01-21T22:52:12.822Z"
   },
   {
    "duration": 14,
    "start_time": "2022-01-21T22:52:13.193Z"
   },
   {
    "duration": 183,
    "start_time": "2022-01-21T22:52:13.209Z"
   },
   {
    "duration": 381,
    "start_time": "2022-01-21T22:52:13.394Z"
   },
   {
    "duration": 346,
    "start_time": "2022-01-21T22:52:13.777Z"
   },
   {
    "duration": 206,
    "start_time": "2022-01-21T22:52:14.125Z"
   },
   {
    "duration": 211,
    "start_time": "2022-01-21T22:52:14.333Z"
   },
   {
    "duration": 276,
    "start_time": "2022-01-21T22:52:14.545Z"
   },
   {
    "duration": 202,
    "start_time": "2022-01-21T22:52:14.822Z"
   },
   {
    "duration": 212,
    "start_time": "2022-01-21T22:52:15.026Z"
   },
   {
    "duration": 196,
    "start_time": "2022-01-21T22:52:15.240Z"
   },
   {
    "duration": 6,
    "start_time": "2022-01-21T22:52:15.438Z"
   },
   {
    "duration": 30,
    "start_time": "2022-01-21T22:52:15.448Z"
   },
   {
    "duration": 392,
    "start_time": "2022-01-21T22:52:15.480Z"
   },
   {
    "duration": 313,
    "start_time": "2022-01-21T22:52:15.874Z"
   },
   {
    "duration": 254,
    "start_time": "2022-01-21T22:52:16.189Z"
   },
   {
    "duration": 166,
    "start_time": "2022-01-21T22:52:16.444Z"
   },
   {
    "duration": 484,
    "start_time": "2022-01-21T22:52:16.611Z"
   },
   {
    "duration": 8,
    "start_time": "2022-01-21T22:52:17.097Z"
   },
   {
    "duration": 435,
    "start_time": "2022-01-21T22:52:17.161Z"
   },
   {
    "duration": 8,
    "start_time": "2022-01-21T22:52:17.598Z"
   },
   {
    "duration": 12,
    "start_time": "2022-01-21T22:52:17.608Z"
   },
   {
    "duration": 13,
    "start_time": "2022-01-21T22:52:17.622Z"
   },
   {
    "duration": 254,
    "start_time": "2022-01-21T22:52:17.636Z"
   },
   {
    "duration": 342,
    "start_time": "2022-01-21T22:52:17.891Z"
   },
   {
    "duration": 93,
    "start_time": "2022-01-21T22:52:18.235Z"
   },
   {
    "duration": 102,
    "start_time": "2022-01-21T22:52:18.330Z"
   },
   {
    "duration": 93,
    "start_time": "2022-01-21T22:52:18.434Z"
   },
   {
    "duration": 96,
    "start_time": "2022-01-21T22:52:18.529Z"
   },
   {
    "duration": 93,
    "start_time": "2022-01-21T22:52:18.627Z"
   },
   {
    "duration": 94,
    "start_time": "2022-01-21T22:52:18.722Z"
   },
   {
    "duration": 86,
    "start_time": "2022-01-21T22:52:18.818Z"
   },
   {
    "duration": 98,
    "start_time": "2022-01-21T22:52:18.905Z"
   },
   {
    "duration": 93,
    "start_time": "2022-01-21T22:52:19.005Z"
   },
   {
    "duration": 210,
    "start_time": "2022-01-21T22:52:19.100Z"
   },
   {
    "duration": 277,
    "start_time": "2022-01-21T22:52:19.312Z"
   },
   {
    "duration": 11,
    "start_time": "2022-01-21T22:52:19.591Z"
   },
   {
    "duration": 214,
    "start_time": "2022-01-21T22:52:19.604Z"
   },
   {
    "duration": 197,
    "start_time": "2022-01-21T22:52:19.820Z"
   },
   {
    "duration": 12,
    "start_time": "2022-01-21T22:52:20.019Z"
   },
   {
    "duration": 1096,
    "start_time": "2022-01-21T22:54:43.882Z"
   },
   {
    "duration": 25,
    "start_time": "2022-01-21T22:54:44.980Z"
   },
   {
    "duration": 4,
    "start_time": "2022-01-21T22:54:45.008Z"
   },
   {
    "duration": 23,
    "start_time": "2022-01-21T22:54:45.015Z"
   },
   {
    "duration": 22,
    "start_time": "2022-01-21T22:54:45.040Z"
   },
   {
    "duration": 6,
    "start_time": "2022-01-21T22:54:45.063Z"
   },
   {
    "duration": 5,
    "start_time": "2022-01-21T22:54:45.071Z"
   },
   {
    "duration": 13,
    "start_time": "2022-01-21T22:54:45.079Z"
   },
   {
    "duration": 6,
    "start_time": "2022-01-21T22:54:45.094Z"
   },
   {
    "duration": 16,
    "start_time": "2022-01-21T22:54:45.101Z"
   },
   {
    "duration": 46,
    "start_time": "2022-01-21T22:54:45.119Z"
   },
   {
    "duration": 13,
    "start_time": "2022-01-21T22:54:45.167Z"
   },
   {
    "duration": 9,
    "start_time": "2022-01-21T22:54:45.181Z"
   },
   {
    "duration": 16,
    "start_time": "2022-01-21T22:54:45.191Z"
   },
   {
    "duration": 388,
    "start_time": "2022-01-21T22:54:45.209Z"
   },
   {
    "duration": 13,
    "start_time": "2022-01-21T22:54:45.599Z"
   },
   {
    "duration": 176,
    "start_time": "2022-01-21T22:54:45.614Z"
   },
   {
    "duration": 387,
    "start_time": "2022-01-21T22:54:45.792Z"
   },
   {
    "duration": 328,
    "start_time": "2022-01-21T22:54:46.181Z"
   },
   {
    "duration": 197,
    "start_time": "2022-01-21T22:54:46.511Z"
   },
   {
    "duration": 207,
    "start_time": "2022-01-21T22:54:46.710Z"
   },
   {
    "duration": 279,
    "start_time": "2022-01-21T22:54:46.919Z"
   },
   {
    "duration": 279,
    "start_time": "2022-01-21T22:54:47.202Z"
   },
   {
    "duration": 212,
    "start_time": "2022-01-21T22:54:47.483Z"
   },
   {
    "duration": 195,
    "start_time": "2022-01-21T22:54:47.697Z"
   },
   {
    "duration": 5,
    "start_time": "2022-01-21T22:54:47.894Z"
   },
   {
    "duration": 40,
    "start_time": "2022-01-21T22:54:47.901Z"
   },
   {
    "duration": 381,
    "start_time": "2022-01-21T22:54:47.942Z"
   },
   {
    "duration": 180,
    "start_time": "2022-01-21T22:54:48.325Z"
   },
   {
    "duration": 224,
    "start_time": "2022-01-21T22:54:48.507Z"
   },
   {
    "duration": 246,
    "start_time": "2022-01-21T22:54:48.733Z"
   },
   {
    "duration": 382,
    "start_time": "2022-01-21T22:54:48.981Z"
   },
   {
    "duration": 9,
    "start_time": "2022-01-21T22:54:49.364Z"
   },
   {
    "duration": 389,
    "start_time": "2022-01-21T22:54:49.374Z"
   },
   {
    "duration": 8,
    "start_time": "2022-01-21T22:54:49.765Z"
   },
   {
    "duration": 15,
    "start_time": "2022-01-21T22:54:49.774Z"
   },
   {
    "duration": 11,
    "start_time": "2022-01-21T22:54:49.790Z"
   },
   {
    "duration": 260,
    "start_time": "2022-01-21T22:54:49.803Z"
   },
   {
    "duration": 327,
    "start_time": "2022-01-21T22:54:50.065Z"
   },
   {
    "duration": 93,
    "start_time": "2022-01-21T22:54:50.393Z"
   },
   {
    "duration": 93,
    "start_time": "2022-01-21T22:54:50.488Z"
   },
   {
    "duration": 96,
    "start_time": "2022-01-21T22:54:50.583Z"
   },
   {
    "duration": 90,
    "start_time": "2022-01-21T22:54:50.681Z"
   },
   {
    "duration": 93,
    "start_time": "2022-01-21T22:54:50.773Z"
   },
   {
    "duration": 96,
    "start_time": "2022-01-21T22:54:50.867Z"
   },
   {
    "duration": 98,
    "start_time": "2022-01-21T22:54:50.965Z"
   },
   {
    "duration": 97,
    "start_time": "2022-01-21T22:54:51.065Z"
   },
   {
    "duration": 82,
    "start_time": "2022-01-21T22:54:51.164Z"
   },
   {
    "duration": 218,
    "start_time": "2022-01-21T22:54:51.248Z"
   },
   {
    "duration": 295,
    "start_time": "2022-01-21T22:54:51.468Z"
   },
   {
    "duration": 13,
    "start_time": "2022-01-21T22:54:51.765Z"
   },
   {
    "duration": 315,
    "start_time": "2022-01-21T22:54:51.782Z"
   },
   {
    "duration": 197,
    "start_time": "2022-01-21T22:54:52.099Z"
   },
   {
    "duration": 1592,
    "start_time": "2022-01-21T22:55:11.628Z"
   },
   {
    "duration": 22,
    "start_time": "2022-01-21T22:55:13.222Z"
   },
   {
    "duration": 18,
    "start_time": "2022-01-21T22:55:13.247Z"
   },
   {
    "duration": 52,
    "start_time": "2022-01-21T22:55:13.267Z"
   },
   {
    "duration": 27,
    "start_time": "2022-01-21T22:55:13.321Z"
   },
   {
    "duration": 29,
    "start_time": "2022-01-21T22:55:13.350Z"
   },
   {
    "duration": 48,
    "start_time": "2022-01-21T22:55:13.381Z"
   },
   {
    "duration": 28,
    "start_time": "2022-01-21T22:55:13.432Z"
   },
   {
    "duration": 38,
    "start_time": "2022-01-21T22:55:13.463Z"
   },
   {
    "duration": 20,
    "start_time": "2022-01-21T22:55:13.503Z"
   },
   {
    "duration": 25,
    "start_time": "2022-01-21T22:55:13.525Z"
   },
   {
    "duration": 41,
    "start_time": "2022-01-21T22:55:13.553Z"
   },
   {
    "duration": 16,
    "start_time": "2022-01-21T22:55:13.596Z"
   },
   {
    "duration": 46,
    "start_time": "2022-01-21T22:55:13.614Z"
   },
   {
    "duration": 369,
    "start_time": "2022-01-21T22:55:13.661Z"
   },
   {
    "duration": 13,
    "start_time": "2022-01-21T22:55:14.032Z"
   },
   {
    "duration": 193,
    "start_time": "2022-01-21T22:55:14.046Z"
   },
   {
    "duration": 378,
    "start_time": "2022-01-21T22:55:14.240Z"
   },
   {
    "duration": 336,
    "start_time": "2022-01-21T22:55:14.620Z"
   },
   {
    "duration": 208,
    "start_time": "2022-01-21T22:55:14.961Z"
   },
   {
    "duration": 392,
    "start_time": "2022-01-21T22:55:15.171Z"
   },
   {
    "duration": 335,
    "start_time": "2022-01-21T22:55:15.565Z"
   },
   {
    "duration": 210,
    "start_time": "2022-01-21T22:55:15.904Z"
   },
   {
    "duration": 209,
    "start_time": "2022-01-21T22:55:16.116Z"
   },
   {
    "duration": 203,
    "start_time": "2022-01-21T22:55:16.327Z"
   },
   {
    "duration": 6,
    "start_time": "2022-01-21T22:55:16.532Z"
   },
   {
    "duration": 46,
    "start_time": "2022-01-21T22:55:16.539Z"
   },
   {
    "duration": 367,
    "start_time": "2022-01-21T22:55:16.586Z"
   },
   {
    "duration": 175,
    "start_time": "2022-01-21T22:55:16.954Z"
   },
   {
    "duration": 169,
    "start_time": "2022-01-21T22:55:17.130Z"
   },
   {
    "duration": 165,
    "start_time": "2022-01-21T22:55:17.301Z"
   },
   {
    "duration": 401,
    "start_time": "2022-01-21T22:55:17.468Z"
   },
   {
    "duration": 9,
    "start_time": "2022-01-21T22:55:17.871Z"
   },
   {
    "duration": 372,
    "start_time": "2022-01-21T22:55:17.881Z"
   },
   {
    "duration": 13,
    "start_time": "2022-01-21T22:55:18.254Z"
   },
   {
    "duration": 20,
    "start_time": "2022-01-21T22:55:18.269Z"
   },
   {
    "duration": 22,
    "start_time": "2022-01-21T22:55:18.291Z"
   },
   {
    "duration": 235,
    "start_time": "2022-01-21T22:55:18.314Z"
   },
   {
    "duration": 320,
    "start_time": "2022-01-21T22:55:18.551Z"
   },
   {
    "duration": 91,
    "start_time": "2022-01-21T22:55:18.873Z"
   },
   {
    "duration": 102,
    "start_time": "2022-01-21T22:55:18.966Z"
   },
   {
    "duration": 94,
    "start_time": "2022-01-21T22:55:19.069Z"
   },
   {
    "duration": 83,
    "start_time": "2022-01-21T22:55:19.165Z"
   },
   {
    "duration": 93,
    "start_time": "2022-01-21T22:55:19.250Z"
   },
   {
    "duration": 97,
    "start_time": "2022-01-21T22:55:19.345Z"
   },
   {
    "duration": 98,
    "start_time": "2022-01-21T22:55:19.443Z"
   },
   {
    "duration": 98,
    "start_time": "2022-01-21T22:55:19.543Z"
   },
   {
    "duration": 96,
    "start_time": "2022-01-21T22:55:19.643Z"
   },
   {
    "duration": 211,
    "start_time": "2022-01-21T22:55:19.741Z"
   },
   {
    "duration": 290,
    "start_time": "2022-01-21T22:55:19.953Z"
   },
   {
    "duration": 20,
    "start_time": "2022-01-21T22:55:20.245Z"
   },
   {
    "duration": 228,
    "start_time": "2022-01-21T22:55:20.267Z"
   },
   {
    "duration": 195,
    "start_time": "2022-01-21T22:55:20.497Z"
   },
   {
    "duration": 12,
    "start_time": "2022-01-21T22:55:20.694Z"
   },
   {
    "duration": 1169,
    "start_time": "2022-01-27T07:38:54.381Z"
   },
   {
    "duration": 26,
    "start_time": "2022-01-27T07:38:55.552Z"
   },
   {
    "duration": 3,
    "start_time": "2022-01-27T07:38:55.581Z"
   },
   {
    "duration": 30,
    "start_time": "2022-01-27T07:38:55.586Z"
   },
   {
    "duration": 11,
    "start_time": "2022-01-27T07:38:55.617Z"
   },
   {
    "duration": 6,
    "start_time": "2022-01-27T07:38:55.630Z"
   },
   {
    "duration": 6,
    "start_time": "2022-01-27T07:38:55.638Z"
   },
   {
    "duration": 21,
    "start_time": "2022-01-27T07:38:55.646Z"
   },
   {
    "duration": 5,
    "start_time": "2022-01-27T07:38:55.670Z"
   },
   {
    "duration": 49,
    "start_time": "2022-01-27T07:38:55.677Z"
   },
   {
    "duration": 14,
    "start_time": "2022-01-27T07:38:55.728Z"
   },
   {
    "duration": 18,
    "start_time": "2022-01-27T07:38:55.744Z"
   },
   {
    "duration": 9,
    "start_time": "2022-01-27T07:38:55.764Z"
   },
   {
    "duration": 38,
    "start_time": "2022-01-27T07:38:55.775Z"
   },
   {
    "duration": 428,
    "start_time": "2022-01-27T07:38:55.815Z"
   },
   {
    "duration": 16,
    "start_time": "2022-01-27T07:38:56.244Z"
   },
   {
    "duration": 207,
    "start_time": "2022-01-27T07:38:56.261Z"
   },
   {
    "duration": 424,
    "start_time": "2022-01-27T07:38:56.470Z"
   },
   {
    "duration": 384,
    "start_time": "2022-01-27T07:38:56.896Z"
   },
   {
    "duration": 230,
    "start_time": "2022-01-27T07:38:57.282Z"
   },
   {
    "duration": 238,
    "start_time": "2022-01-27T07:38:57.514Z"
   },
   {
    "duration": 290,
    "start_time": "2022-01-27T07:38:57.754Z"
   },
   {
    "duration": 225,
    "start_time": "2022-01-27T07:38:58.046Z"
   },
   {
    "duration": 338,
    "start_time": "2022-01-27T07:38:58.273Z"
   },
   {
    "duration": 233,
    "start_time": "2022-01-27T07:38:58.613Z"
   },
   {
    "duration": 7,
    "start_time": "2022-01-27T07:38:58.848Z"
   },
   {
    "duration": 101,
    "start_time": "2022-01-27T07:38:58.859Z"
   },
   {
    "duration": 412,
    "start_time": "2022-01-27T07:38:58.963Z"
   },
   {
    "duration": 196,
    "start_time": "2022-01-27T07:38:59.377Z"
   },
   {
    "duration": 186,
    "start_time": "2022-01-27T07:38:59.575Z"
   },
   {
    "duration": 193,
    "start_time": "2022-01-27T07:38:59.763Z"
   },
   {
    "duration": 431,
    "start_time": "2022-01-27T07:38:59.958Z"
   },
   {
    "duration": 19,
    "start_time": "2022-01-27T07:39:00.390Z"
   },
   {
    "duration": 436,
    "start_time": "2022-01-27T07:39:00.411Z"
   },
   {
    "duration": 9,
    "start_time": "2022-01-27T07:39:00.849Z"
   },
   {
    "duration": 25,
    "start_time": "2022-01-27T07:39:00.860Z"
   },
   {
    "duration": 46,
    "start_time": "2022-01-27T07:39:00.887Z"
   },
   {
    "duration": 310,
    "start_time": "2022-01-27T07:39:00.935Z"
   },
   {
    "duration": 364,
    "start_time": "2022-01-27T07:39:01.247Z"
   },
   {
    "duration": 106,
    "start_time": "2022-01-27T07:39:01.613Z"
   },
   {
    "duration": 117,
    "start_time": "2022-01-27T07:39:01.722Z"
   },
   {
    "duration": 108,
    "start_time": "2022-01-27T07:39:01.842Z"
   },
   {
    "duration": 114,
    "start_time": "2022-01-27T07:39:01.953Z"
   },
   {
    "duration": 120,
    "start_time": "2022-01-27T07:39:02.069Z"
   },
   {
    "duration": 99,
    "start_time": "2022-01-27T07:39:02.191Z"
   },
   {
    "duration": 416,
    "start_time": "2022-01-27T07:39:02.292Z"
   },
   {
    "duration": 100,
    "start_time": "2022-01-27T07:39:02.710Z"
   },
   {
    "duration": 106,
    "start_time": "2022-01-27T07:39:02.812Z"
   },
   {
    "duration": 250,
    "start_time": "2022-01-27T07:39:02.920Z"
   },
   {
    "duration": 309,
    "start_time": "2022-01-27T07:39:03.172Z"
   },
   {
    "duration": 12,
    "start_time": "2022-01-27T07:39:03.483Z"
   },
   {
    "duration": 245,
    "start_time": "2022-01-27T07:39:03.508Z"
   },
   {
    "duration": 221,
    "start_time": "2022-01-27T07:39:03.755Z"
   },
   {
    "duration": 12,
    "start_time": "2022-01-27T07:39:03.978Z"
   },
   {
    "duration": 99,
    "start_time": "2022-01-27T09:09:10.269Z"
   },
   {
    "duration": 1538,
    "start_time": "2022-01-27T10:44:57.615Z"
   },
   {
    "duration": 52,
    "start_time": "2022-01-27T10:44:59.156Z"
   },
   {
    "duration": 6,
    "start_time": "2022-01-27T10:44:59.213Z"
   },
   {
    "duration": 49,
    "start_time": "2022-01-27T10:44:59.223Z"
   },
   {
    "duration": 12,
    "start_time": "2022-01-27T10:44:59.275Z"
   },
   {
    "duration": 14,
    "start_time": "2022-01-27T10:44:59.290Z"
   },
   {
    "duration": 14,
    "start_time": "2022-01-27T10:44:59.307Z"
   },
   {
    "duration": 59,
    "start_time": "2022-01-27T10:44:59.327Z"
   },
   {
    "duration": 9,
    "start_time": "2022-01-27T10:44:59.391Z"
   },
   {
    "duration": 42,
    "start_time": "2022-01-27T10:44:59.403Z"
   },
   {
    "duration": 39,
    "start_time": "2022-01-27T10:44:59.448Z"
   },
   {
    "duration": 32,
    "start_time": "2022-01-27T10:44:59.490Z"
   },
   {
    "duration": 28,
    "start_time": "2022-01-27T10:44:59.526Z"
   },
   {
    "duration": 26,
    "start_time": "2022-01-27T10:44:59.556Z"
   },
   {
    "duration": 626,
    "start_time": "2022-01-27T10:44:59.585Z"
   },
   {
    "duration": 80,
    "start_time": "2022-01-27T10:45:00.214Z"
   },
   {
    "duration": 614,
    "start_time": "2022-01-27T10:45:00.298Z"
   },
   {
    "duration": 685,
    "start_time": "2022-01-27T10:45:00.916Z"
   },
   {
    "duration": 589,
    "start_time": "2022-01-27T10:45:01.604Z"
   },
   {
    "duration": 337,
    "start_time": "2022-01-27T10:45:02.196Z"
   },
   {
    "duration": 356,
    "start_time": "2022-01-27T10:45:02.535Z"
   },
   {
    "duration": 430,
    "start_time": "2022-01-27T10:45:02.893Z"
   },
   {
    "duration": 343,
    "start_time": "2022-01-27T10:45:03.329Z"
   },
   {
    "duration": 346,
    "start_time": "2022-01-27T10:45:03.675Z"
   },
   {
    "duration": 353,
    "start_time": "2022-01-27T10:45:04.024Z"
   },
   {
    "duration": 9,
    "start_time": "2022-01-27T10:45:04.379Z"
   },
   {
    "duration": 34,
    "start_time": "2022-01-27T10:45:04.390Z"
   },
   {
    "duration": 644,
    "start_time": "2022-01-27T10:45:04.426Z"
   },
   {
    "duration": 278,
    "start_time": "2022-01-27T10:45:05.072Z"
   },
   {
    "duration": 275,
    "start_time": "2022-01-27T10:45:05.353Z"
   },
   {
    "duration": 287,
    "start_time": "2022-01-27T10:45:05.630Z"
   },
   {
    "duration": 637,
    "start_time": "2022-01-27T10:45:05.920Z"
   },
   {
    "duration": 17,
    "start_time": "2022-01-27T10:45:06.559Z"
   },
   {
    "duration": 551,
    "start_time": "2022-01-27T10:45:06.579Z"
   },
   {
    "duration": 11,
    "start_time": "2022-01-27T10:45:07.133Z"
   },
   {
    "duration": 34,
    "start_time": "2022-01-27T10:45:07.147Z"
   },
   {
    "duration": 18,
    "start_time": "2022-01-27T10:45:07.184Z"
   },
   {
    "duration": 398,
    "start_time": "2022-01-27T10:45:07.205Z"
   },
   {
    "duration": 496,
    "start_time": "2022-01-27T10:45:07.607Z"
   },
   {
    "duration": 164,
    "start_time": "2022-01-27T10:45:08.106Z"
   },
   {
    "duration": 155,
    "start_time": "2022-01-27T10:45:08.272Z"
   },
   {
    "duration": 156,
    "start_time": "2022-01-27T10:45:08.430Z"
   },
   {
    "duration": 147,
    "start_time": "2022-01-27T10:45:08.589Z"
   },
   {
    "duration": 158,
    "start_time": "2022-01-27T10:45:08.738Z"
   },
   {
    "duration": 148,
    "start_time": "2022-01-27T10:45:08.898Z"
   },
   {
    "duration": 146,
    "start_time": "2022-01-27T10:45:09.048Z"
   },
   {
    "duration": 156,
    "start_time": "2022-01-27T10:45:09.196Z"
   },
   {
    "duration": 154,
    "start_time": "2022-01-27T10:45:09.354Z"
   },
   {
    "duration": 161,
    "start_time": "2022-01-27T10:45:09.510Z"
   },
   {
    "duration": 429,
    "start_time": "2022-01-27T10:45:09.674Z"
   },
   {
    "duration": 353,
    "start_time": "2022-01-27T10:45:10.105Z"
   },
   {
    "duration": 21,
    "start_time": "2022-01-27T10:45:10.460Z"
   },
   {
    "duration": 349,
    "start_time": "2022-01-27T10:45:10.483Z"
   },
   {
    "duration": 327,
    "start_time": "2022-01-27T10:45:10.834Z"
   },
   {
    "duration": 17,
    "start_time": "2022-01-27T10:45:11.164Z"
   },
   {
    "duration": 404,
    "start_time": "2022-01-27T10:45:19.128Z"
   },
   {
    "duration": 43,
    "start_time": "2022-01-27T10:47:10.538Z"
   },
   {
    "duration": 2133,
    "start_time": "2022-01-27T11:12:28.632Z"
   },
   {
    "duration": 380,
    "start_time": "2022-01-27T11:13:07.104Z"
   },
   {
    "duration": 1953,
    "start_time": "2022-01-27T11:13:19.867Z"
   },
   {
    "duration": 387,
    "start_time": "2022-01-27T11:13:32.863Z"
   },
   {
    "duration": 265,
    "start_time": "2022-01-27T11:13:47.840Z"
   },
   {
    "duration": 1366,
    "start_time": "2022-01-27T11:23:04.206Z"
   },
   {
    "duration": 35,
    "start_time": "2022-01-27T11:23:05.575Z"
   },
   {
    "duration": 5,
    "start_time": "2022-01-27T11:23:05.616Z"
   },
   {
    "duration": 51,
    "start_time": "2022-01-27T11:23:05.623Z"
   },
   {
    "duration": 20,
    "start_time": "2022-01-27T11:23:05.677Z"
   },
   {
    "duration": 8,
    "start_time": "2022-01-27T11:23:05.700Z"
   },
   {
    "duration": 7,
    "start_time": "2022-01-27T11:23:05.714Z"
   },
   {
    "duration": 58,
    "start_time": "2022-01-27T11:23:05.725Z"
   },
   {
    "duration": 10,
    "start_time": "2022-01-27T11:23:05.785Z"
   },
   {
    "duration": 22,
    "start_time": "2022-01-27T11:23:05.798Z"
   },
   {
    "duration": 49,
    "start_time": "2022-01-27T11:23:05.823Z"
   },
   {
    "duration": 22,
    "start_time": "2022-01-27T11:23:05.875Z"
   },
   {
    "duration": 9,
    "start_time": "2022-01-27T11:23:05.900Z"
   },
   {
    "duration": 68,
    "start_time": "2022-01-27T11:23:05.911Z"
   },
   {
    "duration": 674,
    "start_time": "2022-01-27T11:23:05.982Z"
   },
   {
    "duration": 26,
    "start_time": "2022-01-27T11:23:06.658Z"
   },
   {
    "duration": 298,
    "start_time": "2022-01-27T11:23:06.686Z"
   },
   {
    "duration": 682,
    "start_time": "2022-01-27T11:23:06.987Z"
   },
   {
    "duration": 600,
    "start_time": "2022-01-27T11:23:07.671Z"
   },
   {
    "duration": 355,
    "start_time": "2022-01-27T11:23:08.274Z"
   },
   {
    "duration": 373,
    "start_time": "2022-01-27T11:23:08.631Z"
   },
   {
    "duration": 405,
    "start_time": "2022-01-27T11:23:09.010Z"
   },
   {
    "duration": 350,
    "start_time": "2022-01-27T11:23:09.419Z"
   },
   {
    "duration": 345,
    "start_time": "2022-01-27T11:23:09.772Z"
   },
   {
    "duration": 340,
    "start_time": "2022-01-27T11:23:10.120Z"
   },
   {
    "duration": 12,
    "start_time": "2022-01-27T11:23:10.463Z"
   },
   {
    "duration": 30,
    "start_time": "2022-01-27T11:23:10.478Z"
   },
   {
    "duration": 652,
    "start_time": "2022-01-27T11:23:10.510Z"
   },
   {
    "duration": 284,
    "start_time": "2022-01-27T11:23:11.169Z"
   },
   {
    "duration": 277,
    "start_time": "2022-01-27T11:23:11.456Z"
   },
   {
    "duration": 299,
    "start_time": "2022-01-27T11:23:11.735Z"
   },
   {
    "duration": 589,
    "start_time": "2022-01-27T11:23:12.036Z"
   },
   {
    "duration": 12,
    "start_time": "2022-01-27T11:23:12.627Z"
   },
   {
    "duration": 588,
    "start_time": "2022-01-27T11:23:12.642Z"
   },
   {
    "duration": 12,
    "start_time": "2022-01-27T11:23:13.232Z"
   },
   {
    "duration": 35,
    "start_time": "2022-01-27T11:23:13.246Z"
   },
   {
    "duration": 16,
    "start_time": "2022-01-27T11:23:13.283Z"
   },
   {
    "duration": 401,
    "start_time": "2022-01-27T11:23:13.302Z"
   },
   {
    "duration": 479,
    "start_time": "2022-01-27T11:23:13.705Z"
   },
   {
    "duration": 147,
    "start_time": "2022-01-27T11:23:14.187Z"
   },
   {
    "duration": 176,
    "start_time": "2022-01-27T11:23:14.336Z"
   },
   {
    "duration": 210,
    "start_time": "2022-01-27T11:23:14.515Z"
   },
   {
    "duration": 149,
    "start_time": "2022-01-27T11:23:14.729Z"
   },
   {
    "duration": 162,
    "start_time": "2022-01-27T11:23:14.881Z"
   },
   {
    "duration": 149,
    "start_time": "2022-01-27T11:23:15.046Z"
   },
   {
    "duration": 153,
    "start_time": "2022-01-27T11:23:15.197Z"
   },
   {
    "duration": 154,
    "start_time": "2022-01-27T11:23:15.353Z"
   },
   {
    "duration": 162,
    "start_time": "2022-01-27T11:23:15.510Z"
   },
   {
    "duration": 141,
    "start_time": "2022-01-27T11:23:15.675Z"
   },
   {
    "duration": 445,
    "start_time": "2022-01-27T11:23:15.818Z"
   },
   {
    "duration": 367,
    "start_time": "2022-01-27T11:23:16.269Z"
   },
   {
    "duration": 16,
    "start_time": "2022-01-27T11:23:16.638Z"
   },
   {
    "duration": 345,
    "start_time": "2022-01-27T11:23:16.656Z"
   },
   {
    "duration": 326,
    "start_time": "2022-01-27T11:23:17.003Z"
   },
   {
    "duration": 17,
    "start_time": "2022-01-27T11:23:17.332Z"
   },
   {
    "duration": 1499,
    "start_time": "2022-01-27T11:24:23.689Z"
   },
   {
    "duration": 52,
    "start_time": "2022-01-27T11:24:25.191Z"
   },
   {
    "duration": 5,
    "start_time": "2022-01-27T11:24:25.247Z"
   },
   {
    "duration": 18,
    "start_time": "2022-01-27T11:24:25.270Z"
   },
   {
    "duration": 8,
    "start_time": "2022-01-27T11:24:25.291Z"
   },
   {
    "duration": 8,
    "start_time": "2022-01-27T11:24:25.301Z"
   },
   {
    "duration": 6,
    "start_time": "2022-01-27T11:24:25.312Z"
   },
   {
    "duration": 57,
    "start_time": "2022-01-27T11:24:25.323Z"
   },
   {
    "duration": 6,
    "start_time": "2022-01-27T11:24:25.385Z"
   },
   {
    "duration": 25,
    "start_time": "2022-01-27T11:24:25.393Z"
   },
   {
    "duration": 56,
    "start_time": "2022-01-27T11:24:25.421Z"
   },
   {
    "duration": 20,
    "start_time": "2022-01-27T11:24:25.480Z"
   },
   {
    "duration": 8,
    "start_time": "2022-01-27T11:24:25.502Z"
   },
   {
    "duration": 57,
    "start_time": "2022-01-27T11:24:25.513Z"
   },
   {
    "duration": 656,
    "start_time": "2022-01-27T11:24:25.574Z"
   },
   {
    "duration": 37,
    "start_time": "2022-01-27T11:24:26.233Z"
   },
   {
    "duration": 301,
    "start_time": "2022-01-27T11:24:26.272Z"
   },
   {
    "duration": 672,
    "start_time": "2022-01-27T11:24:26.575Z"
   },
   {
    "duration": 611,
    "start_time": "2022-01-27T11:24:27.250Z"
   },
   {
    "duration": 332,
    "start_time": "2022-01-27T11:24:27.868Z"
   },
   {
    "duration": 368,
    "start_time": "2022-01-27T11:24:28.202Z"
   },
   {
    "duration": 423,
    "start_time": "2022-01-27T11:24:28.573Z"
   },
   {
    "duration": 361,
    "start_time": "2022-01-27T11:24:29.001Z"
   },
   {
    "duration": 474,
    "start_time": "2022-01-27T11:24:29.369Z"
   },
   {
    "duration": 350,
    "start_time": "2022-01-27T11:24:29.845Z"
   },
   {
    "duration": 8,
    "start_time": "2022-01-27T11:24:30.198Z"
   },
   {
    "duration": 30,
    "start_time": "2022-01-27T11:24:30.209Z"
   },
   {
    "duration": 650,
    "start_time": "2022-01-27T11:24:30.242Z"
   },
   {
    "duration": 288,
    "start_time": "2022-01-27T11:24:30.894Z"
   },
   {
    "duration": 394,
    "start_time": "2022-01-27T11:24:31.185Z"
   },
   {
    "duration": 281,
    "start_time": "2022-01-27T11:24:31.581Z"
   },
   {
    "duration": 577,
    "start_time": "2022-01-27T11:24:31.865Z"
   },
   {
    "duration": 13,
    "start_time": "2022-01-27T11:24:32.444Z"
   },
   {
    "duration": 578,
    "start_time": "2022-01-27T11:24:32.469Z"
   },
   {
    "duration": 20,
    "start_time": "2022-01-27T11:24:33.049Z"
   },
   {
    "duration": 20,
    "start_time": "2022-01-27T11:24:33.071Z"
   },
   {
    "duration": 16,
    "start_time": "2022-01-27T11:24:33.094Z"
   },
   {
    "duration": 406,
    "start_time": "2022-01-27T11:24:33.112Z"
   },
   {
    "duration": 493,
    "start_time": "2022-01-27T11:24:33.520Z"
   },
   {
    "duration": 150,
    "start_time": "2022-01-27T11:24:34.015Z"
   },
   {
    "duration": 156,
    "start_time": "2022-01-27T11:24:34.170Z"
   },
   {
    "duration": 162,
    "start_time": "2022-01-27T11:24:34.329Z"
   },
   {
    "duration": 156,
    "start_time": "2022-01-27T11:24:34.494Z"
   },
   {
    "duration": 160,
    "start_time": "2022-01-27T11:24:34.653Z"
   },
   {
    "duration": 159,
    "start_time": "2022-01-27T11:24:34.815Z"
   },
   {
    "duration": 157,
    "start_time": "2022-01-27T11:24:34.977Z"
   },
   {
    "duration": 165,
    "start_time": "2022-01-27T11:24:35.137Z"
   },
   {
    "duration": 164,
    "start_time": "2022-01-27T11:24:35.305Z"
   },
   {
    "duration": 154,
    "start_time": "2022-01-27T11:24:35.472Z"
   },
   {
    "duration": 444,
    "start_time": "2022-01-27T11:24:35.628Z"
   },
   {
    "duration": 373,
    "start_time": "2022-01-27T11:24:36.074Z"
   },
   {
    "duration": 27,
    "start_time": "2022-01-27T11:24:36.449Z"
   },
   {
    "duration": 348,
    "start_time": "2022-01-27T11:24:36.478Z"
   },
   {
    "duration": 346,
    "start_time": "2022-01-27T11:24:36.828Z"
   },
   {
    "duration": 17,
    "start_time": "2022-01-27T11:24:37.176Z"
   },
   {
    "duration": 286,
    "start_time": "2022-01-27T11:33:27.072Z"
   },
   {
    "duration": 286,
    "start_time": "2022-01-27T11:33:38.783Z"
   },
   {
    "duration": 314,
    "start_time": "2022-01-27T11:34:21.414Z"
   },
   {
    "duration": 277,
    "start_time": "2022-01-27T11:34:35.407Z"
   },
   {
    "duration": 109,
    "start_time": "2022-01-27T11:37:25.928Z"
   },
   {
    "duration": 546,
    "start_time": "2022-01-27T11:37:38.661Z"
   },
   {
    "duration": 13,
    "start_time": "2022-01-27T11:37:56.511Z"
   },
   {
    "duration": 25,
    "start_time": "2022-01-27T11:38:12.024Z"
   },
   {
    "duration": 9,
    "start_time": "2022-01-27T11:38:47.841Z"
   },
   {
    "duration": 15,
    "start_time": "2022-01-27T11:39:04.596Z"
   },
   {
    "duration": 8,
    "start_time": "2022-01-27T11:39:06.558Z"
   },
   {
    "duration": 415,
    "start_time": "2022-01-27T11:43:45.437Z"
   },
   {
    "duration": 440,
    "start_time": "2022-01-27T11:44:56.289Z"
   },
   {
    "duration": 498,
    "start_time": "2022-01-27T11:45:26.936Z"
   },
   {
    "duration": 1423,
    "start_time": "2022-01-27T11:45:53.165Z"
   },
   {
    "duration": 34,
    "start_time": "2022-01-27T11:45:54.591Z"
   },
   {
    "duration": 4,
    "start_time": "2022-01-27T11:45:54.628Z"
   },
   {
    "duration": 43,
    "start_time": "2022-01-27T11:45:54.634Z"
   },
   {
    "duration": 10,
    "start_time": "2022-01-27T11:45:54.679Z"
   },
   {
    "duration": 9,
    "start_time": "2022-01-27T11:45:54.691Z"
   },
   {
    "duration": 10,
    "start_time": "2022-01-27T11:45:54.702Z"
   },
   {
    "duration": 18,
    "start_time": "2022-01-27T11:45:54.715Z"
   },
   {
    "duration": 35,
    "start_time": "2022-01-27T11:45:54.736Z"
   },
   {
    "duration": 25,
    "start_time": "2022-01-27T11:45:54.775Z"
   },
   {
    "duration": 21,
    "start_time": "2022-01-27T11:45:54.802Z"
   },
   {
    "duration": 57,
    "start_time": "2022-01-27T11:45:54.826Z"
   },
   {
    "duration": 7,
    "start_time": "2022-01-27T11:45:54.886Z"
   },
   {
    "duration": 31,
    "start_time": "2022-01-27T11:45:54.895Z"
   },
   {
    "duration": 641,
    "start_time": "2022-01-27T11:45:54.928Z"
   },
   {
    "duration": 19,
    "start_time": "2022-01-27T11:45:55.572Z"
   },
   {
    "duration": 307,
    "start_time": "2022-01-27T11:45:55.594Z"
   },
   {
    "duration": 681,
    "start_time": "2022-01-27T11:45:55.904Z"
   },
   {
    "duration": 589,
    "start_time": "2022-01-27T11:45:56.588Z"
   },
   {
    "duration": 337,
    "start_time": "2022-01-27T11:45:57.179Z"
   },
   {
    "duration": 356,
    "start_time": "2022-01-27T11:45:57.519Z"
   },
   {
    "duration": 424,
    "start_time": "2022-01-27T11:45:57.877Z"
   },
   {
    "duration": 339,
    "start_time": "2022-01-27T11:45:58.303Z"
   },
   {
    "duration": 354,
    "start_time": "2022-01-27T11:45:58.645Z"
   },
   {
    "duration": 336,
    "start_time": "2022-01-27T11:45:59.002Z"
   },
   {
    "duration": 613,
    "start_time": "2022-01-27T11:45:59.340Z"
   },
   {
    "duration": 14,
    "start_time": "2022-01-27T11:45:59.959Z"
   },
   {
    "duration": 29,
    "start_time": "2022-01-27T11:45:59.976Z"
   },
   {
    "duration": 651,
    "start_time": "2022-01-27T11:46:00.008Z"
   },
   {
    "duration": 299,
    "start_time": "2022-01-27T11:46:00.662Z"
   },
   {
    "duration": 283,
    "start_time": "2022-01-27T11:46:00.969Z"
   },
   {
    "duration": 282,
    "start_time": "2022-01-27T11:46:01.254Z"
   },
   {
    "duration": 606,
    "start_time": "2022-01-27T11:46:01.538Z"
   },
   {
    "duration": 23,
    "start_time": "2022-01-27T11:46:02.146Z"
   },
   {
    "duration": 546,
    "start_time": "2022-01-27T11:46:02.171Z"
   },
   {
    "duration": 11,
    "start_time": "2022-01-27T11:46:02.719Z"
   },
   {
    "duration": 46,
    "start_time": "2022-01-27T11:46:02.733Z"
   },
   {
    "duration": 17,
    "start_time": "2022-01-27T11:46:02.781Z"
   },
   {
    "duration": 457,
    "start_time": "2022-01-27T11:46:02.800Z"
   },
   {
    "duration": 404,
    "start_time": "2022-01-27T11:46:03.268Z"
   },
   {
    "duration": 151,
    "start_time": "2022-01-27T11:46:03.675Z"
   },
   {
    "duration": 156,
    "start_time": "2022-01-27T11:46:03.829Z"
   },
   {
    "duration": 152,
    "start_time": "2022-01-27T11:46:03.988Z"
   },
   {
    "duration": 148,
    "start_time": "2022-01-27T11:46:04.143Z"
   },
   {
    "duration": 224,
    "start_time": "2022-01-27T11:46:04.294Z"
   },
   {
    "duration": 148,
    "start_time": "2022-01-27T11:46:04.521Z"
   },
   {
    "duration": 146,
    "start_time": "2022-01-27T11:46:04.672Z"
   },
   {
    "duration": 160,
    "start_time": "2022-01-27T11:46:04.820Z"
   },
   {
    "duration": 167,
    "start_time": "2022-01-27T11:46:04.982Z"
   },
   {
    "duration": 219,
    "start_time": "2022-01-27T11:46:05.152Z"
   },
   {
    "duration": 367,
    "start_time": "2022-01-27T11:46:05.374Z"
   },
   {
    "duration": 358,
    "start_time": "2022-01-27T11:46:05.743Z"
   },
   {
    "duration": 16,
    "start_time": "2022-01-27T11:46:06.104Z"
   },
   {
    "duration": 352,
    "start_time": "2022-01-27T11:46:06.123Z"
   },
   {
    "duration": 331,
    "start_time": "2022-01-27T11:46:06.478Z"
   },
   {
    "duration": 16,
    "start_time": "2022-01-27T11:46:06.812Z"
   },
   {
    "duration": 512,
    "start_time": "2022-01-27T11:47:35.692Z"
   },
   {
    "duration": 1485,
    "start_time": "2022-01-27T11:47:49.736Z"
   },
   {
    "duration": 38,
    "start_time": "2022-01-27T11:47:51.224Z"
   },
   {
    "duration": 5,
    "start_time": "2022-01-27T11:47:51.275Z"
   },
   {
    "duration": 22,
    "start_time": "2022-01-27T11:47:51.283Z"
   },
   {
    "duration": 9,
    "start_time": "2022-01-27T11:47:51.308Z"
   },
   {
    "duration": 55,
    "start_time": "2022-01-27T11:47:51.319Z"
   },
   {
    "duration": 7,
    "start_time": "2022-01-27T11:47:51.380Z"
   },
   {
    "duration": 21,
    "start_time": "2022-01-27T11:47:51.391Z"
   },
   {
    "duration": 12,
    "start_time": "2022-01-27T11:47:51.415Z"
   },
   {
    "duration": 65,
    "start_time": "2022-01-27T11:47:51.430Z"
   },
   {
    "duration": 20,
    "start_time": "2022-01-27T11:47:51.498Z"
   },
   {
    "duration": 23,
    "start_time": "2022-01-27T11:47:51.521Z"
   },
   {
    "duration": 7,
    "start_time": "2022-01-27T11:47:51.570Z"
   },
   {
    "duration": 24,
    "start_time": "2022-01-27T11:47:51.579Z"
   },
   {
    "duration": 634,
    "start_time": "2022-01-27T11:47:51.606Z"
   },
   {
    "duration": 29,
    "start_time": "2022-01-27T11:47:52.242Z"
   },
   {
    "duration": 299,
    "start_time": "2022-01-27T11:47:52.273Z"
   },
   {
    "duration": 673,
    "start_time": "2022-01-27T11:47:52.574Z"
   },
   {
    "duration": 590,
    "start_time": "2022-01-27T11:47:53.249Z"
   },
   {
    "duration": 348,
    "start_time": "2022-01-27T11:47:53.842Z"
   },
   {
    "duration": 359,
    "start_time": "2022-01-27T11:47:54.193Z"
   },
   {
    "duration": 443,
    "start_time": "2022-01-27T11:47:54.559Z"
   },
   {
    "duration": 368,
    "start_time": "2022-01-27T11:47:55.005Z"
   },
   {
    "duration": 358,
    "start_time": "2022-01-27T11:47:55.375Z"
   },
   {
    "duration": 439,
    "start_time": "2022-01-27T11:47:55.736Z"
   },
   {
    "duration": 555,
    "start_time": "2022-01-27T11:47:56.177Z"
   },
   {
    "duration": 9,
    "start_time": "2022-01-27T11:47:56.734Z"
   },
   {
    "duration": 45,
    "start_time": "2022-01-27T11:47:56.745Z"
   },
   {
    "duration": 636,
    "start_time": "2022-01-27T11:47:56.792Z"
   },
   {
    "duration": 287,
    "start_time": "2022-01-27T11:47:57.430Z"
   },
   {
    "duration": 285,
    "start_time": "2022-01-27T11:47:57.719Z"
   },
   {
    "duration": 281,
    "start_time": "2022-01-27T11:47:58.006Z"
   },
   {
    "duration": 559,
    "start_time": "2022-01-27T11:47:58.289Z"
   },
   {
    "duration": 25,
    "start_time": "2022-01-27T11:47:58.850Z"
   },
   {
    "duration": 551,
    "start_time": "2022-01-27T11:47:58.878Z"
   },
   {
    "duration": 11,
    "start_time": "2022-01-27T11:47:59.431Z"
   },
   {
    "duration": 38,
    "start_time": "2022-01-27T11:47:59.444Z"
   },
   {
    "duration": 20,
    "start_time": "2022-01-27T11:47:59.485Z"
   },
   {
    "duration": 485,
    "start_time": "2022-01-27T11:47:59.508Z"
   },
   {
    "duration": 433,
    "start_time": "2022-01-27T11:47:59.996Z"
   },
   {
    "duration": 153,
    "start_time": "2022-01-27T11:48:00.431Z"
   },
   {
    "duration": 161,
    "start_time": "2022-01-27T11:48:00.587Z"
   },
   {
    "duration": 158,
    "start_time": "2022-01-27T11:48:00.751Z"
   },
   {
    "duration": 157,
    "start_time": "2022-01-27T11:48:00.912Z"
   },
   {
    "duration": 165,
    "start_time": "2022-01-27T11:48:01.071Z"
   },
   {
    "duration": 159,
    "start_time": "2022-01-27T11:48:01.239Z"
   },
   {
    "duration": 156,
    "start_time": "2022-01-27T11:48:01.400Z"
   },
   {
    "duration": 166,
    "start_time": "2022-01-27T11:48:01.559Z"
   },
   {
    "duration": 156,
    "start_time": "2022-01-27T11:48:01.728Z"
   },
   {
    "duration": 244,
    "start_time": "2022-01-27T11:48:01.886Z"
   },
   {
    "duration": 375,
    "start_time": "2022-01-27T11:48:02.132Z"
   },
   {
    "duration": 378,
    "start_time": "2022-01-27T11:48:02.510Z"
   },
   {
    "duration": 16,
    "start_time": "2022-01-27T11:48:02.891Z"
   },
   {
    "duration": 349,
    "start_time": "2022-01-27T11:48:02.910Z"
   },
   {
    "duration": 338,
    "start_time": "2022-01-27T11:48:03.261Z"
   },
   {
    "duration": 17,
    "start_time": "2022-01-27T11:48:03.602Z"
   },
   {
    "duration": 1418,
    "start_time": "2022-01-27T11:52:58.519Z"
   },
   {
    "duration": 36,
    "start_time": "2022-01-27T11:52:59.940Z"
   },
   {
    "duration": 4,
    "start_time": "2022-01-27T11:52:59.979Z"
   },
   {
    "duration": 28,
    "start_time": "2022-01-27T11:52:59.986Z"
   },
   {
    "duration": 9,
    "start_time": "2022-01-27T11:53:00.017Z"
   },
   {
    "duration": 13,
    "start_time": "2022-01-27T11:53:00.028Z"
   },
   {
    "duration": 7,
    "start_time": "2022-01-27T11:53:00.069Z"
   },
   {
    "duration": 20,
    "start_time": "2022-01-27T11:53:00.080Z"
   },
   {
    "duration": 7,
    "start_time": "2022-01-27T11:53:00.103Z"
   },
   {
    "duration": 67,
    "start_time": "2022-01-27T11:53:00.112Z"
   },
   {
    "duration": 21,
    "start_time": "2022-01-27T11:53:00.181Z"
   },
   {
    "duration": 20,
    "start_time": "2022-01-27T11:53:00.204Z"
   },
   {
    "duration": 10,
    "start_time": "2022-01-27T11:53:00.226Z"
   },
   {
    "duration": 23,
    "start_time": "2022-01-27T11:53:00.270Z"
   },
   {
    "duration": 644,
    "start_time": "2022-01-27T11:53:00.295Z"
   },
   {
    "duration": 33,
    "start_time": "2022-01-27T11:53:00.943Z"
   },
   {
    "duration": 304,
    "start_time": "2022-01-27T11:53:00.978Z"
   },
   {
    "duration": 656,
    "start_time": "2022-01-27T11:53:01.284Z"
   },
   {
    "duration": 587,
    "start_time": "2022-01-27T11:53:01.942Z"
   },
   {
    "duration": 337,
    "start_time": "2022-01-27T11:53:02.532Z"
   },
   {
    "duration": 417,
    "start_time": "2022-01-27T11:53:02.871Z"
   },
   {
    "duration": 737,
    "start_time": "2022-01-27T11:53:03.291Z"
   },
   {
    "duration": 335,
    "start_time": "2022-01-27T11:53:04.034Z"
   },
   {
    "duration": 343,
    "start_time": "2022-01-27T11:53:04.372Z"
   },
   {
    "duration": 341,
    "start_time": "2022-01-27T11:53:04.718Z"
   },
   {
    "duration": 105,
    "start_time": "2022-01-27T11:53:05.068Z"
   },
   {
    "duration": -6012,
    "start_time": "2022-01-27T11:53:11.187Z"
   },
   {
    "duration": -6027,
    "start_time": "2022-01-27T11:53:11.203Z"
   },
   {
    "duration": -6037,
    "start_time": "2022-01-27T11:53:11.214Z"
   },
   {
    "duration": -6041,
    "start_time": "2022-01-27T11:53:11.220Z"
   },
   {
    "duration": -6045,
    "start_time": "2022-01-27T11:53:11.225Z"
   },
   {
    "duration": -6048,
    "start_time": "2022-01-27T11:53:11.229Z"
   },
   {
    "duration": -6051,
    "start_time": "2022-01-27T11:53:11.234Z"
   },
   {
    "duration": -6055,
    "start_time": "2022-01-27T11:53:11.239Z"
   },
   {
    "duration": -6058,
    "start_time": "2022-01-27T11:53:11.244Z"
   },
   {
    "duration": -6061,
    "start_time": "2022-01-27T11:53:11.248Z"
   },
   {
    "duration": -6064,
    "start_time": "2022-01-27T11:53:11.252Z"
   },
   {
    "duration": -6088,
    "start_time": "2022-01-27T11:53:11.278Z"
   },
   {
    "duration": -6092,
    "start_time": "2022-01-27T11:53:11.283Z"
   },
   {
    "duration": -6095,
    "start_time": "2022-01-27T11:53:11.287Z"
   },
   {
    "duration": -6098,
    "start_time": "2022-01-27T11:53:11.292Z"
   },
   {
    "duration": -6101,
    "start_time": "2022-01-27T11:53:11.296Z"
   },
   {
    "duration": -6104,
    "start_time": "2022-01-27T11:53:11.301Z"
   },
   {
    "duration": -6108,
    "start_time": "2022-01-27T11:53:11.306Z"
   },
   {
    "duration": -6111,
    "start_time": "2022-01-27T11:53:11.310Z"
   },
   {
    "duration": -6124,
    "start_time": "2022-01-27T11:53:11.325Z"
   },
   {
    "duration": -6139,
    "start_time": "2022-01-27T11:53:11.341Z"
   },
   {
    "duration": -6141,
    "start_time": "2022-01-27T11:53:11.345Z"
   },
   {
    "duration": -6144,
    "start_time": "2022-01-27T11:53:11.349Z"
   },
   {
    "duration": -6148,
    "start_time": "2022-01-27T11:53:11.354Z"
   },
   {
    "duration": -6151,
    "start_time": "2022-01-27T11:53:11.359Z"
   },
   {
    "duration": -6154,
    "start_time": "2022-01-27T11:53:11.363Z"
   },
   {
    "duration": -6157,
    "start_time": "2022-01-27T11:53:11.368Z"
   },
   {
    "duration": -6160,
    "start_time": "2022-01-27T11:53:11.372Z"
   },
   {
    "duration": -6106,
    "start_time": "2022-01-27T11:53:11.376Z"
   },
   {
    "duration": -6112,
    "start_time": "2022-01-27T11:53:11.383Z"
   },
   {
    "duration": 1764,
    "start_time": "2022-01-27T11:53:22.404Z"
   },
   {
    "duration": 35,
    "start_time": "2022-01-27T11:53:24.171Z"
   },
   {
    "duration": 4,
    "start_time": "2022-01-27T11:53:24.209Z"
   },
   {
    "duration": 19,
    "start_time": "2022-01-27T11:53:24.271Z"
   },
   {
    "duration": 9,
    "start_time": "2022-01-27T11:53:24.292Z"
   },
   {
    "duration": 7,
    "start_time": "2022-01-27T11:53:24.304Z"
   },
   {
    "duration": 7,
    "start_time": "2022-01-27T11:53:24.379Z"
   },
   {
    "duration": 20,
    "start_time": "2022-01-27T11:53:24.389Z"
   },
   {
    "duration": 7,
    "start_time": "2022-01-27T11:53:24.414Z"
   },
   {
    "duration": 72,
    "start_time": "2022-01-27T11:53:24.424Z"
   },
   {
    "duration": 27,
    "start_time": "2022-01-27T11:53:24.499Z"
   },
   {
    "duration": 46,
    "start_time": "2022-01-27T11:53:24.529Z"
   },
   {
    "duration": 19,
    "start_time": "2022-01-27T11:53:24.577Z"
   },
   {
    "duration": 25,
    "start_time": "2022-01-27T11:53:24.599Z"
   },
   {
    "duration": 780,
    "start_time": "2022-01-27T11:53:24.627Z"
   },
   {
    "duration": 25,
    "start_time": "2022-01-27T11:53:25.410Z"
   },
   {
    "duration": 312,
    "start_time": "2022-01-27T11:53:25.437Z"
   },
   {
    "duration": 700,
    "start_time": "2022-01-27T11:53:25.752Z"
   },
   {
    "duration": 597,
    "start_time": "2022-01-27T11:53:26.455Z"
   },
   {
    "duration": 359,
    "start_time": "2022-01-27T11:53:27.055Z"
   },
   {
    "duration": 663,
    "start_time": "2022-01-27T11:53:27.416Z"
   },
   {
    "duration": 639,
    "start_time": "2022-01-27T11:53:28.082Z"
   },
   {
    "duration": 538,
    "start_time": "2022-01-27T11:53:28.724Z"
   },
   {
    "duration": 553,
    "start_time": "2022-01-27T11:53:29.269Z"
   },
   {
    "duration": 529,
    "start_time": "2022-01-27T11:53:29.826Z"
   },
   {
    "duration": 817,
    "start_time": "2022-01-27T11:53:30.359Z"
   },
   {
    "duration": 12,
    "start_time": "2022-01-27T11:53:31.185Z"
   },
   {
    "duration": 68,
    "start_time": "2022-01-27T11:53:31.202Z"
   },
   {
    "duration": 950,
    "start_time": "2022-01-27T11:53:31.273Z"
   },
   {
    "duration": 425,
    "start_time": "2022-01-27T11:53:32.226Z"
   },
   {
    "duration": 414,
    "start_time": "2022-01-27T11:53:32.655Z"
   },
   {
    "duration": 419,
    "start_time": "2022-01-27T11:53:33.072Z"
   },
   {
    "duration": 590,
    "start_time": "2022-01-27T11:53:33.494Z"
   },
   {
    "duration": 12,
    "start_time": "2022-01-27T11:53:34.087Z"
   },
   {
    "duration": 645,
    "start_time": "2022-01-27T11:53:34.102Z"
   },
   {
    "duration": 25,
    "start_time": "2022-01-27T11:53:34.750Z"
   },
   {
    "duration": 24,
    "start_time": "2022-01-27T11:53:34.778Z"
   },
   {
    "duration": 17,
    "start_time": "2022-01-27T11:53:34.804Z"
   },
   {
    "duration": 713,
    "start_time": "2022-01-27T11:53:34.825Z"
   },
   {
    "duration": 417,
    "start_time": "2022-01-27T11:53:35.541Z"
   },
   {
    "duration": 169,
    "start_time": "2022-01-27T11:53:35.960Z"
   },
   {
    "duration": 166,
    "start_time": "2022-01-27T11:53:36.132Z"
   },
   {
    "duration": 155,
    "start_time": "2022-01-27T11:53:36.301Z"
   },
   {
    "duration": 152,
    "start_time": "2022-01-27T11:53:36.459Z"
   },
   {
    "duration": 169,
    "start_time": "2022-01-27T11:53:36.613Z"
   },
   {
    "duration": 165,
    "start_time": "2022-01-27T11:53:36.784Z"
   },
   {
    "duration": 153,
    "start_time": "2022-01-27T11:53:36.952Z"
   },
   {
    "duration": 171,
    "start_time": "2022-01-27T11:53:37.107Z"
   },
   {
    "duration": 168,
    "start_time": "2022-01-27T11:53:37.281Z"
   },
   {
    "duration": 242,
    "start_time": "2022-01-27T11:53:37.451Z"
   },
   {
    "duration": 477,
    "start_time": "2022-01-27T11:53:37.695Z"
   },
   {
    "duration": 382,
    "start_time": "2022-01-27T11:53:38.174Z"
   },
   {
    "duration": 22,
    "start_time": "2022-01-27T11:53:38.560Z"
   },
   {
    "duration": 376,
    "start_time": "2022-01-27T11:53:38.585Z"
   },
   {
    "duration": 345,
    "start_time": "2022-01-27T11:53:38.969Z"
   },
   {
    "duration": 18,
    "start_time": "2022-01-27T11:53:39.317Z"
   },
   {
    "duration": 1419,
    "start_time": "2022-01-27T14:13:17.219Z"
   },
   {
    "duration": 35,
    "start_time": "2022-01-27T14:13:18.641Z"
   },
   {
    "duration": 6,
    "start_time": "2022-01-27T14:13:18.679Z"
   },
   {
    "duration": 56,
    "start_time": "2022-01-27T14:13:18.687Z"
   },
   {
    "duration": 22,
    "start_time": "2022-01-27T14:13:18.747Z"
   },
   {
    "duration": 13,
    "start_time": "2022-01-27T14:13:18.772Z"
   },
   {
    "duration": 7,
    "start_time": "2022-01-27T14:13:18.788Z"
   },
   {
    "duration": 39,
    "start_time": "2022-01-27T14:13:18.799Z"
   },
   {
    "duration": 8,
    "start_time": "2022-01-27T14:13:18.842Z"
   },
   {
    "duration": 30,
    "start_time": "2022-01-27T14:13:18.853Z"
   },
   {
    "duration": 51,
    "start_time": "2022-01-27T14:13:18.887Z"
   },
   {
    "duration": 21,
    "start_time": "2022-01-27T14:13:18.940Z"
   },
   {
    "duration": 8,
    "start_time": "2022-01-27T14:13:18.965Z"
   },
   {
    "duration": 66,
    "start_time": "2022-01-27T14:13:18.976Z"
   },
   {
    "duration": 674,
    "start_time": "2022-01-27T14:13:19.045Z"
   },
   {
    "duration": 26,
    "start_time": "2022-01-27T14:13:19.722Z"
   },
   {
    "duration": 316,
    "start_time": "2022-01-27T14:13:19.752Z"
   },
   {
    "duration": 828,
    "start_time": "2022-01-27T14:13:20.070Z"
   },
   {
    "duration": 859,
    "start_time": "2022-01-27T14:13:20.901Z"
   },
   {
    "duration": 400,
    "start_time": "2022-01-27T14:13:21.762Z"
   },
   {
    "duration": 424,
    "start_time": "2022-01-27T14:13:22.164Z"
   },
   {
    "duration": 449,
    "start_time": "2022-01-27T14:13:22.591Z"
   },
   {
    "duration": 418,
    "start_time": "2022-01-27T14:13:23.048Z"
   },
   {
    "duration": 483,
    "start_time": "2022-01-27T14:13:23.469Z"
   },
   {
    "duration": 485,
    "start_time": "2022-01-27T14:13:23.955Z"
   },
   {
    "duration": 777,
    "start_time": "2022-01-27T14:13:24.443Z"
   },
   {
    "duration": 17,
    "start_time": "2022-01-27T14:13:25.222Z"
   },
   {
    "duration": 53,
    "start_time": "2022-01-27T14:13:25.243Z"
   },
   {
    "duration": 698,
    "start_time": "2022-01-27T14:13:25.299Z"
   },
   {
    "duration": 316,
    "start_time": "2022-01-27T14:13:26.000Z"
   },
   {
    "duration": 317,
    "start_time": "2022-01-27T14:13:26.319Z"
   },
   {
    "duration": 306,
    "start_time": "2022-01-27T14:13:26.640Z"
   },
   {
    "duration": 670,
    "start_time": "2022-01-27T14:13:26.949Z"
   },
   {
    "duration": 24,
    "start_time": "2022-01-27T14:13:27.622Z"
   },
   {
    "duration": 767,
    "start_time": "2022-01-27T14:13:27.649Z"
   },
   {
    "duration": 16,
    "start_time": "2022-01-27T14:13:28.431Z"
   },
   {
    "duration": 31,
    "start_time": "2022-01-27T14:13:28.450Z"
   },
   {
    "duration": 19,
    "start_time": "2022-01-27T14:13:28.484Z"
   },
   {
    "duration": 512,
    "start_time": "2022-01-27T14:13:28.505Z"
   },
   {
    "duration": 597,
    "start_time": "2022-01-27T14:13:29.019Z"
   },
   {
    "duration": 229,
    "start_time": "2022-01-27T14:13:29.619Z"
   },
   {
    "duration": 177,
    "start_time": "2022-01-27T14:13:29.852Z"
   },
   {
    "duration": 148,
    "start_time": "2022-01-27T14:13:30.032Z"
   },
   {
    "duration": 176,
    "start_time": "2022-01-27T14:13:30.183Z"
   },
   {
    "duration": 164,
    "start_time": "2022-01-27T14:13:30.361Z"
   },
   {
    "duration": 167,
    "start_time": "2022-01-27T14:13:30.533Z"
   },
   {
    "duration": 159,
    "start_time": "2022-01-27T14:13:30.702Z"
   },
   {
    "duration": 237,
    "start_time": "2022-01-27T14:13:30.864Z"
   },
   {
    "duration": 238,
    "start_time": "2022-01-27T14:13:31.104Z"
   },
   {
    "duration": 234,
    "start_time": "2022-01-27T14:13:31.347Z"
   },
   {
    "duration": 587,
    "start_time": "2022-01-27T14:13:31.585Z"
   },
   {
    "duration": 579,
    "start_time": "2022-01-27T14:13:32.175Z"
   },
   {
    "duration": 21,
    "start_time": "2022-01-27T14:13:32.758Z"
   },
   {
    "duration": 665,
    "start_time": "2022-01-27T14:13:32.782Z"
   },
   {
    "duration": 519,
    "start_time": "2022-01-27T14:13:33.451Z"
   },
   {
    "duration": 24,
    "start_time": "2022-01-27T14:13:33.974Z"
   },
   {
    "duration": 423,
    "start_time": "2022-01-27T14:40:28.032Z"
   },
   {
    "duration": 1410,
    "start_time": "2022-01-27T14:52:08.253Z"
   },
   {
    "duration": 33,
    "start_time": "2022-01-27T14:52:09.666Z"
   },
   {
    "duration": 5,
    "start_time": "2022-01-27T14:52:09.702Z"
   },
   {
    "duration": 38,
    "start_time": "2022-01-27T14:52:09.710Z"
   },
   {
    "duration": 7,
    "start_time": "2022-01-27T14:52:09.750Z"
   },
   {
    "duration": 9,
    "start_time": "2022-01-27T14:52:09.759Z"
   },
   {
    "duration": 11,
    "start_time": "2022-01-27T14:52:09.770Z"
   },
   {
    "duration": 56,
    "start_time": "2022-01-27T14:52:09.785Z"
   },
   {
    "duration": 10,
    "start_time": "2022-01-27T14:52:09.844Z"
   },
   {
    "duration": 29,
    "start_time": "2022-01-27T14:52:09.857Z"
   },
   {
    "duration": 53,
    "start_time": "2022-01-27T14:52:09.889Z"
   },
   {
    "duration": 29,
    "start_time": "2022-01-27T14:52:09.946Z"
   },
   {
    "duration": 7,
    "start_time": "2022-01-27T14:52:09.978Z"
   },
   {
    "duration": 24,
    "start_time": "2022-01-27T14:52:09.987Z"
   },
   {
    "duration": 688,
    "start_time": "2022-01-27T14:52:10.034Z"
   },
   {
    "duration": 28,
    "start_time": "2022-01-27T14:52:10.725Z"
   },
   {
    "duration": 333,
    "start_time": "2022-01-27T14:52:10.755Z"
   },
   {
    "duration": 671,
    "start_time": "2022-01-27T14:52:11.090Z"
   },
   {
    "duration": 623,
    "start_time": "2022-01-27T14:52:11.763Z"
   },
   {
    "duration": 346,
    "start_time": "2022-01-27T14:52:12.388Z"
   },
   {
    "duration": 387,
    "start_time": "2022-01-27T14:52:12.737Z"
   },
   {
    "duration": 460,
    "start_time": "2022-01-27T14:52:13.131Z"
   },
   {
    "duration": 358,
    "start_time": "2022-01-27T14:52:13.596Z"
   },
   {
    "duration": 393,
    "start_time": "2022-01-27T14:52:13.958Z"
   },
   {
    "duration": 371,
    "start_time": "2022-01-27T14:52:14.354Z"
   },
   {
    "duration": 601,
    "start_time": "2022-01-27T14:52:14.732Z"
   },
   {
    "duration": 12,
    "start_time": "2022-01-27T14:52:15.336Z"
   },
   {
    "duration": 32,
    "start_time": "2022-01-27T14:52:15.351Z"
   },
   {
    "duration": 670,
    "start_time": "2022-01-27T14:52:15.386Z"
   },
   {
    "duration": 297,
    "start_time": "2022-01-27T14:52:16.059Z"
   },
   {
    "duration": 291,
    "start_time": "2022-01-27T14:52:16.359Z"
   },
   {
    "duration": 296,
    "start_time": "2022-01-27T14:52:16.654Z"
   },
   {
    "duration": 566,
    "start_time": "2022-01-27T14:52:16.952Z"
   },
   {
    "duration": 18,
    "start_time": "2022-01-27T14:52:17.520Z"
   },
   {
    "duration": 596,
    "start_time": "2022-01-27T14:52:17.542Z"
   },
   {
    "duration": 18,
    "start_time": "2022-01-27T14:52:18.142Z"
   },
   {
    "duration": 19,
    "start_time": "2022-01-27T14:52:18.163Z"
   },
   {
    "duration": 48,
    "start_time": "2022-01-27T14:52:18.185Z"
   },
   {
    "duration": 597,
    "start_time": "2022-01-27T14:52:18.236Z"
   },
   {
    "duration": 604,
    "start_time": "2022-01-27T14:52:18.837Z"
   },
   {
    "duration": 231,
    "start_time": "2022-01-27T14:52:19.444Z"
   },
   {
    "duration": 181,
    "start_time": "2022-01-27T14:52:19.679Z"
   },
   {
    "duration": 166,
    "start_time": "2022-01-27T14:52:19.863Z"
   },
   {
    "duration": 213,
    "start_time": "2022-01-27T14:52:20.032Z"
   },
   {
    "duration": 201,
    "start_time": "2022-01-27T14:52:20.249Z"
   },
   {
    "duration": 170,
    "start_time": "2022-01-27T14:52:20.453Z"
   },
   {
    "duration": 166,
    "start_time": "2022-01-27T14:52:20.626Z"
   },
   {
    "duration": 163,
    "start_time": "2022-01-27T14:52:20.795Z"
   },
   {
    "duration": 183,
    "start_time": "2022-01-27T14:52:20.962Z"
   },
   {
    "duration": 235,
    "start_time": "2022-01-27T14:52:21.148Z"
   },
   {
    "duration": 409,
    "start_time": "2022-01-27T14:52:21.386Z"
   },
   {
    "duration": 378,
    "start_time": "2022-01-27T14:52:21.798Z"
   },
   {
    "duration": 16,
    "start_time": "2022-01-27T14:52:22.180Z"
   },
   {
    "duration": 362,
    "start_time": "2022-01-27T14:52:22.199Z"
   },
   {
    "duration": 335,
    "start_time": "2022-01-27T14:52:22.564Z"
   },
   {
    "duration": 15,
    "start_time": "2022-01-27T14:52:22.902Z"
   },
   {
    "duration": 1056,
    "start_time": "2022-01-31T17:40:50.908Z"
   },
   {
    "duration": 21,
    "start_time": "2022-01-31T17:40:51.966Z"
   },
   {
    "duration": 3,
    "start_time": "2022-01-31T17:40:51.989Z"
   },
   {
    "duration": 11,
    "start_time": "2022-01-31T17:40:51.993Z"
   },
   {
    "duration": 4,
    "start_time": "2022-01-31T17:40:52.006Z"
   },
   {
    "duration": 5,
    "start_time": "2022-01-31T17:40:52.011Z"
   },
   {
    "duration": 4,
    "start_time": "2022-01-31T17:40:52.017Z"
   },
   {
    "duration": 11,
    "start_time": "2022-01-31T17:40:52.024Z"
   },
   {
    "duration": 35,
    "start_time": "2022-01-31T17:40:52.037Z"
   },
   {
    "duration": 13,
    "start_time": "2022-01-31T17:40:52.074Z"
   },
   {
    "duration": 11,
    "start_time": "2022-01-31T17:40:52.089Z"
   },
   {
    "duration": 11,
    "start_time": "2022-01-31T17:40:52.101Z"
   },
   {
    "duration": 7,
    "start_time": "2022-01-31T17:40:52.113Z"
   },
   {
    "duration": 15,
    "start_time": "2022-01-31T17:40:52.121Z"
   },
   {
    "duration": 349,
    "start_time": "2022-01-31T17:40:52.137Z"
   },
   {
    "duration": 11,
    "start_time": "2022-01-31T17:40:52.488Z"
   },
   {
    "duration": 159,
    "start_time": "2022-01-31T17:40:52.500Z"
   },
   {
    "duration": 349,
    "start_time": "2022-01-31T17:40:52.660Z"
   },
   {
    "duration": 303,
    "start_time": "2022-01-31T17:40:53.010Z"
   },
   {
    "duration": 172,
    "start_time": "2022-01-31T17:40:53.314Z"
   },
   {
    "duration": 197,
    "start_time": "2022-01-31T17:40:53.487Z"
   },
   {
    "duration": 242,
    "start_time": "2022-01-31T17:40:53.687Z"
   },
   {
    "duration": 182,
    "start_time": "2022-01-31T17:40:53.932Z"
   },
   {
    "duration": 189,
    "start_time": "2022-01-31T17:40:54.116Z"
   },
   {
    "duration": 173,
    "start_time": "2022-01-31T17:40:54.307Z"
   },
   {
    "duration": 290,
    "start_time": "2022-01-31T17:40:54.482Z"
   },
   {
    "duration": 5,
    "start_time": "2022-01-31T17:40:54.774Z"
   },
   {
    "duration": 16,
    "start_time": "2022-01-31T17:40:54.781Z"
   },
   {
    "duration": 342,
    "start_time": "2022-01-31T17:40:54.799Z"
   },
   {
    "duration": 151,
    "start_time": "2022-01-31T17:40:55.143Z"
   },
   {
    "duration": 157,
    "start_time": "2022-01-31T17:40:55.296Z"
   },
   {
    "duration": 157,
    "start_time": "2022-01-31T17:40:55.454Z"
   },
   {
    "duration": 346,
    "start_time": "2022-01-31T17:40:55.612Z"
   },
   {
    "duration": 12,
    "start_time": "2022-01-31T17:40:55.959Z"
   },
   {
    "duration": 391,
    "start_time": "2022-01-31T17:40:55.973Z"
   },
   {
    "duration": 10,
    "start_time": "2022-01-31T17:40:56.365Z"
   },
   {
    "duration": 11,
    "start_time": "2022-01-31T17:40:56.376Z"
   },
   {
    "duration": 9,
    "start_time": "2022-01-31T17:40:56.389Z"
   },
   {
    "duration": 334,
    "start_time": "2022-01-31T17:40:56.400Z"
   },
   {
    "duration": 247,
    "start_time": "2022-01-31T17:40:56.736Z"
   },
   {
    "duration": 88,
    "start_time": "2022-01-31T17:40:56.985Z"
   },
   {
    "duration": 76,
    "start_time": "2022-01-31T17:40:57.075Z"
   },
   {
    "duration": 86,
    "start_time": "2022-01-31T17:40:57.153Z"
   },
   {
    "duration": 88,
    "start_time": "2022-01-31T17:40:57.240Z"
   },
   {
    "duration": 92,
    "start_time": "2022-01-31T17:40:57.330Z"
   },
   {
    "duration": 85,
    "start_time": "2022-01-31T17:40:57.423Z"
   },
   {
    "duration": 92,
    "start_time": "2022-01-31T17:40:57.510Z"
   },
   {
    "duration": 87,
    "start_time": "2022-01-31T17:40:57.604Z"
   },
   {
    "duration": 93,
    "start_time": "2022-01-31T17:40:57.693Z"
   },
   {
    "duration": 154,
    "start_time": "2022-01-31T17:40:57.788Z"
   },
   {
    "duration": 193,
    "start_time": "2022-01-31T17:40:57.943Z"
   },
   {
    "duration": 201,
    "start_time": "2022-01-31T17:40:58.138Z"
   },
   {
    "duration": 10,
    "start_time": "2022-01-31T17:40:58.340Z"
   },
   {
    "duration": 183,
    "start_time": "2022-01-31T17:40:58.351Z"
   },
   {
    "duration": 177,
    "start_time": "2022-01-31T17:40:58.535Z"
   },
   {
    "duration": 10,
    "start_time": "2022-01-31T17:40:58.713Z"
   },
   {
    "duration": 6,
    "start_time": "2022-01-31T17:42:01.743Z"
   },
   {
    "duration": 90,
    "start_time": "2022-01-31T17:42:35.403Z"
   },
   {
    "duration": 5,
    "start_time": "2022-01-31T17:42:39.111Z"
   }
  ],
  "kernelspec": {
   "display_name": "Python 3 (ipykernel)",
   "language": "python",
   "name": "python3"
  },
  "language_info": {
   "codemirror_mode": {
    "name": "ipython",
    "version": 3
   },
   "file_extension": ".py",
   "mimetype": "text/x-python",
   "name": "python",
   "nbconvert_exporter": "python",
   "pygments_lexer": "ipython3",
   "version": "3.7.8"
  },
  "toc": {
   "base_numbering": 1,
   "nav_menu": {},
   "number_sections": false,
   "sideBar": true,
   "skip_h1_title": false,
   "title_cell": "Table of Contents",
   "title_sidebar": "Contents",
   "toc_cell": false,
   "toc_position": {
    "height": "calc(100% - 180px)",
    "left": "10px",
    "top": "150px",
    "width": "379.006px"
   },
   "toc_section_display": true,
   "toc_window_display": false
  }
 },
 "nbformat": 4,
 "nbformat_minor": 2
}
